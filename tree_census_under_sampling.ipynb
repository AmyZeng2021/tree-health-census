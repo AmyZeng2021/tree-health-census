{
  "nbformat": 4,
  "nbformat_minor": 0,
  "metadata": {
    "kernelspec": {
      "display_name": "Python 3",
      "language": "python",
      "name": "python3"
    },
    "language_info": {
      "codemirror_mode": {
        "name": "ipython",
        "version": 3
      },
      "file_extension": ".py",
      "mimetype": "text/x-python",
      "name": "python",
      "nbconvert_exporter": "python",
      "pygments_lexer": "ipython3",
      "version": "3.7.4"
    },
    "colab": {
      "name": "tree_census_under_sampling.ipynb",
      "provenance": [],
      "collapsed_sections": [],
      "toc_visible": true
    }
  },
  "cells": [
    {
      "cell_type": "markdown",
      "metadata": {
        "id": "aUfsWZiLq2eO",
        "colab_type": "text"
      },
      "source": [
        "# General Overview - Under Sampling Methods"
      ]
    },
    {
      "cell_type": "code",
      "metadata": {
        "id": "4vLC8Rx8JFk0",
        "colab_type": "code",
        "colab": {
          "base_uri": "https://localhost:8080/",
          "height": 122
        },
        "outputId": "a7a9da0d-79bd-4c5e-d735-f333693c56fe"
      },
      "source": [
        "from google.colab import drive\n",
        "drive.mount('/content/drive')"
      ],
      "execution_count": 1,
      "outputs": [
        {
          "output_type": "stream",
          "text": [
            "Go to this URL in a browser: https://accounts.google.com/o/oauth2/auth?client_id=947318989803-6bn6qk8qdgf4n4g3pfee6491hc0brc4i.apps.googleusercontent.com&redirect_uri=urn%3aietf%3awg%3aoauth%3a2.0%3aoob&scope=email%20https%3a%2f%2fwww.googleapis.com%2fauth%2fdocs.test%20https%3a%2f%2fwww.googleapis.com%2fauth%2fdrive%20https%3a%2f%2fwww.googleapis.com%2fauth%2fdrive.photos.readonly%20https%3a%2f%2fwww.googleapis.com%2fauth%2fpeopleapi.readonly&response_type=code\n",
            "\n",
            "Enter your authorization code:\n",
            "··········\n",
            "Mounted at /content/drive\n"
          ],
          "name": "stdout"
        }
      ]
    },
    {
      "cell_type": "code",
      "metadata": {
        "id": "TbHba98bq2eP",
        "colab_type": "code",
        "colab": {
          "base_uri": "https://localhost:8080/",
          "height": 105
        },
        "outputId": "167867f1-a297-4014-eed1-d4c8b45ae69a"
      },
      "source": [
        "import numpy as np\n",
        "import pandas as pd\n",
        "import matplotlib.pyplot as plt\n",
        "import sklearn\n",
        "from sklearn import datasets\n",
        "from sklearn import metrics\n",
        "from collections import Counter\n",
        "\n",
        "from sklearn.model_selection import (KFold, cross_val_score, GridSearchCV, train_test_split)\n",
        "from sklearn.metrics import classification_report\n",
        "\n",
        "from sklearn.dummy import DummyClassifier\n",
        "from sklearn.linear_model import LogisticRegression\n",
        "from sklearn.neighbors import KNeighborsClassifier\n",
        "from sklearn.tree import DecisionTreeClassifier\n",
        "from sklearn.ensemble import RandomForestClassifier\n",
        "\n",
        "import imblearn\n",
        "from imblearn.under_sampling import (RandomUnderSampler, TomekLinks, EditedNearestNeighbours, NearMiss)"
      ],
      "execution_count": 2,
      "outputs": [
        {
          "output_type": "stream",
          "text": [
            "/usr/local/lib/python3.6/dist-packages/sklearn/externals/six.py:31: FutureWarning: The module is deprecated in version 0.21 and will be removed in version 0.23 since we've dropped support for Python 2.7. Please rely on the official version of six (https://pypi.org/project/six/).\n",
            "  \"(https://pypi.org/project/six/).\", FutureWarning)\n",
            "/usr/local/lib/python3.6/dist-packages/sklearn/utils/deprecation.py:144: FutureWarning: The sklearn.neighbors.base module is  deprecated in version 0.22 and will be removed in version 0.24. The corresponding classes / functions should instead be imported from sklearn.neighbors. Anything that cannot be imported from sklearn.neighbors is now part of the private API.\n",
            "  warnings.warn(message, FutureWarning)\n"
          ],
          "name": "stderr"
        }
      ]
    },
    {
      "cell_type": "code",
      "metadata": {
        "id": "VrcLVB2Vq2eW",
        "colab_type": "code",
        "colab": {}
      },
      "source": [
        "np.random.seed(42)"
      ],
      "execution_count": 3,
      "outputs": []
    },
    {
      "cell_type": "code",
      "metadata": {
        "id": "xUSSirEfq2eb",
        "colab_type": "code",
        "colab": {}
      },
      "source": [
        "# import data\n",
        "data = pd.read_csv('/content/drive/My Drive/Colab Notebooks/tree_ml.csv', index_col=0)\n",
        "\n",
        "tree = data.copy()"
      ],
      "execution_count": 4,
      "outputs": []
    },
    {
      "cell_type": "code",
      "metadata": {
        "id": "xyedN82nq2ee",
        "colab_type": "code",
        "colab": {
          "base_uri": "https://localhost:8080/",
          "height": 241
        },
        "outputId": "8d9874e4-2e44-4b2e-ae63-cb10744bfc7b"
      },
      "source": [
        "tree.head()"
      ],
      "execution_count": 5,
      "outputs": [
        {
          "output_type": "execute_result",
          "data": {
            "text/html": [
              "<div>\n",
              "<style scoped>\n",
              "    .dataframe tbody tr th:only-of-type {\n",
              "        vertical-align: middle;\n",
              "    }\n",
              "\n",
              "    .dataframe tbody tr th {\n",
              "        vertical-align: top;\n",
              "    }\n",
              "\n",
              "    .dataframe thead th {\n",
              "        text-align: right;\n",
              "    }\n",
              "</style>\n",
              "<table border=\"1\" class=\"dataframe\">\n",
              "  <thead>\n",
              "    <tr style=\"text-align: right;\">\n",
              "      <th></th>\n",
              "      <th>tree_dbh</th>\n",
              "      <th>curb_loc</th>\n",
              "      <th>health</th>\n",
              "      <th>sidewalk</th>\n",
              "      <th>root_stone</th>\n",
              "      <th>root_grate</th>\n",
              "      <th>root_other</th>\n",
              "      <th>trunk_wire</th>\n",
              "      <th>trnk_light</th>\n",
              "      <th>trnk_other</th>\n",
              "      <th>brch_light</th>\n",
              "      <th>brch_shoe</th>\n",
              "      <th>brch_other</th>\n",
              "      <th>longitude</th>\n",
              "      <th>latitude</th>\n",
              "      <th>num_problems</th>\n",
              "      <th>1or2</th>\n",
              "      <th>3or4</th>\n",
              "      <th>4orMore</th>\n",
              "      <th>Stew_N</th>\n",
              "      <th>Guard_N</th>\n",
              "      <th>Harmful</th>\n",
              "      <th>Helpful</th>\n",
              "      <th>Unsure</th>\n",
              "      <th>Bronx</th>\n",
              "      <th>Brooklyn</th>\n",
              "      <th>Manhattan</th>\n",
              "      <th>Queens</th>\n",
              "      <th>Staten Island</th>\n",
              "    </tr>\n",
              "  </thead>\n",
              "  <tbody>\n",
              "    <tr>\n",
              "      <th>0</th>\n",
              "      <td>3</td>\n",
              "      <td>1</td>\n",
              "      <td>Fair</td>\n",
              "      <td>0</td>\n",
              "      <td>0</td>\n",
              "      <td>0</td>\n",
              "      <td>0</td>\n",
              "      <td>0</td>\n",
              "      <td>0</td>\n",
              "      <td>0</td>\n",
              "      <td>0</td>\n",
              "      <td>0</td>\n",
              "      <td>0</td>\n",
              "      <td>-73.844215</td>\n",
              "      <td>40.723092</td>\n",
              "      <td>0</td>\n",
              "      <td>0</td>\n",
              "      <td>0</td>\n",
              "      <td>0</td>\n",
              "      <td>1</td>\n",
              "      <td>1</td>\n",
              "      <td>0</td>\n",
              "      <td>0</td>\n",
              "      <td>0</td>\n",
              "      <td>0</td>\n",
              "      <td>0</td>\n",
              "      <td>0</td>\n",
              "      <td>1</td>\n",
              "      <td>0</td>\n",
              "    </tr>\n",
              "    <tr>\n",
              "      <th>1</th>\n",
              "      <td>21</td>\n",
              "      <td>1</td>\n",
              "      <td>Fair</td>\n",
              "      <td>1</td>\n",
              "      <td>1</td>\n",
              "      <td>0</td>\n",
              "      <td>0</td>\n",
              "      <td>0</td>\n",
              "      <td>0</td>\n",
              "      <td>0</td>\n",
              "      <td>0</td>\n",
              "      <td>0</td>\n",
              "      <td>0</td>\n",
              "      <td>-73.818679</td>\n",
              "      <td>40.794111</td>\n",
              "      <td>1</td>\n",
              "      <td>0</td>\n",
              "      <td>0</td>\n",
              "      <td>0</td>\n",
              "      <td>1</td>\n",
              "      <td>1</td>\n",
              "      <td>0</td>\n",
              "      <td>0</td>\n",
              "      <td>0</td>\n",
              "      <td>0</td>\n",
              "      <td>0</td>\n",
              "      <td>0</td>\n",
              "      <td>1</td>\n",
              "      <td>0</td>\n",
              "    </tr>\n",
              "    <tr>\n",
              "      <th>2</th>\n",
              "      <td>3</td>\n",
              "      <td>1</td>\n",
              "      <td>Good</td>\n",
              "      <td>1</td>\n",
              "      <td>0</td>\n",
              "      <td>0</td>\n",
              "      <td>0</td>\n",
              "      <td>0</td>\n",
              "      <td>0</td>\n",
              "      <td>0</td>\n",
              "      <td>0</td>\n",
              "      <td>0</td>\n",
              "      <td>0</td>\n",
              "      <td>-73.936608</td>\n",
              "      <td>40.717581</td>\n",
              "      <td>0</td>\n",
              "      <td>1</td>\n",
              "      <td>0</td>\n",
              "      <td>0</td>\n",
              "      <td>0</td>\n",
              "      <td>1</td>\n",
              "      <td>0</td>\n",
              "      <td>0</td>\n",
              "      <td>0</td>\n",
              "      <td>0</td>\n",
              "      <td>1</td>\n",
              "      <td>0</td>\n",
              "      <td>0</td>\n",
              "      <td>0</td>\n",
              "    </tr>\n",
              "    <tr>\n",
              "      <th>3</th>\n",
              "      <td>10</td>\n",
              "      <td>1</td>\n",
              "      <td>Good</td>\n",
              "      <td>1</td>\n",
              "      <td>1</td>\n",
              "      <td>0</td>\n",
              "      <td>0</td>\n",
              "      <td>0</td>\n",
              "      <td>0</td>\n",
              "      <td>0</td>\n",
              "      <td>0</td>\n",
              "      <td>0</td>\n",
              "      <td>0</td>\n",
              "      <td>-73.934456</td>\n",
              "      <td>40.713537</td>\n",
              "      <td>1</td>\n",
              "      <td>0</td>\n",
              "      <td>0</td>\n",
              "      <td>0</td>\n",
              "      <td>1</td>\n",
              "      <td>1</td>\n",
              "      <td>0</td>\n",
              "      <td>0</td>\n",
              "      <td>0</td>\n",
              "      <td>0</td>\n",
              "      <td>1</td>\n",
              "      <td>0</td>\n",
              "      <td>0</td>\n",
              "      <td>0</td>\n",
              "    </tr>\n",
              "    <tr>\n",
              "      <th>4</th>\n",
              "      <td>21</td>\n",
              "      <td>1</td>\n",
              "      <td>Good</td>\n",
              "      <td>1</td>\n",
              "      <td>1</td>\n",
              "      <td>0</td>\n",
              "      <td>0</td>\n",
              "      <td>0</td>\n",
              "      <td>0</td>\n",
              "      <td>0</td>\n",
              "      <td>0</td>\n",
              "      <td>0</td>\n",
              "      <td>0</td>\n",
              "      <td>-73.975979</td>\n",
              "      <td>40.666778</td>\n",
              "      <td>1</td>\n",
              "      <td>0</td>\n",
              "      <td>0</td>\n",
              "      <td>0</td>\n",
              "      <td>1</td>\n",
              "      <td>1</td>\n",
              "      <td>0</td>\n",
              "      <td>0</td>\n",
              "      <td>0</td>\n",
              "      <td>0</td>\n",
              "      <td>1</td>\n",
              "      <td>0</td>\n",
              "      <td>0</td>\n",
              "      <td>0</td>\n",
              "    </tr>\n",
              "  </tbody>\n",
              "</table>\n",
              "</div>"
            ],
            "text/plain": [
              "   tree_dbh  curb_loc health  ...  Manhattan  Queens  Staten Island\n",
              "0         3         1   Fair  ...          0       1              0\n",
              "1        21         1   Fair  ...          0       1              0\n",
              "2         3         1   Good  ...          0       0              0\n",
              "3        10         1   Good  ...          0       0              0\n",
              "4        21         1   Good  ...          0       0              0\n",
              "\n",
              "[5 rows x 29 columns]"
            ]
          },
          "metadata": {
            "tags": []
          },
          "execution_count": 5
        }
      ]
    },
    {
      "cell_type": "code",
      "metadata": {
        "id": "9jhrPqi8q2ei",
        "colab_type": "code",
        "colab": {
          "base_uri": "https://localhost:8080/",
          "height": 34
        },
        "outputId": "10e0fb18-6292-44a9-95f1-fb954a6071ef"
      },
      "source": [
        "tree.shape"
      ],
      "execution_count": 6,
      "outputs": [
        {
          "output_type": "execute_result",
          "data": {
            "text/plain": [
              "(651535, 29)"
            ]
          },
          "metadata": {
            "tags": []
          },
          "execution_count": 6
        }
      ]
    },
    {
      "cell_type": "markdown",
      "metadata": {
        "id": "prW1wnrkq2el",
        "colab_type": "text"
      },
      "source": [
        "##  separate variables using train test split"
      ]
    },
    {
      "cell_type": "code",
      "metadata": {
        "id": "4X223Edgq2et",
        "colab_type": "code",
        "colab": {
          "base_uri": "https://localhost:8080/",
          "height": 51
        },
        "outputId": "c8abe27f-2c81-4fb9-b8b4-3ae05674ee82"
      },
      "source": [
        "y = tree['health'].values\n",
        "X = tree.drop('health', axis=1).values\n",
        "\n",
        "X_train, X_test, y_train, y_test = train_test_split(X, y, test_size=0.25, random_state=42, stratify=y)\n",
        "\n",
        "print(X_train.shape, y_train.shape)\n",
        "print(X_test.shape, y_test.shape)"
      ],
      "execution_count": 7,
      "outputs": [
        {
          "output_type": "stream",
          "text": [
            "(488651, 28) (488651,)\n",
            "(162884, 28) (162884,)\n"
          ],
          "name": "stdout"
        }
      ]
    },
    {
      "cell_type": "markdown",
      "metadata": {
        "id": "rCMH2Vstq2ex",
        "colab_type": "text"
      },
      "source": [
        "## baseline - DummyClassifier"
      ]
    },
    {
      "cell_type": "markdown",
      "metadata": {
        "id": "0jAdUAXkq2ey",
        "colab_type": "text"
      },
      "source": [
        "The dummy classifier is our baseline, it makes predictions based on simply guessing. We use these results as comparisons to real classifiers."
      ]
    },
    {
      "cell_type": "code",
      "metadata": {
        "id": "0Pym33o6q2ez",
        "colab_type": "code",
        "colab": {
          "base_uri": "https://localhost:8080/",
          "height": 85
        },
        "outputId": "d250c223-3547-43f7-d191-0f30c07c5ed0"
      },
      "source": [
        "strategies = ['most_frequent', 'stratified', 'uniform', 'constant']\n",
        "  \n",
        "for s in strategies: \n",
        "    if s =='constant': \n",
        "        dummy_classifier = DummyClassifier(strategy=s, random_state=42, constant='Good') \n",
        "    else: \n",
        "        dummy_classifier = DummyClassifier(strategy=s, random_state=42) \n",
        "    dummy_classifier.fit(X_train, y_train) \n",
        "    score = dummy_classifier.score(X_test, y_test) \n",
        "    print(s, score.round(2))"
      ],
      "execution_count": 8,
      "outputs": [
        {
          "output_type": "stream",
          "text": [
            "most_frequent 0.81\n",
            "stratified 0.68\n",
            "uniform 0.33\n",
            "constant 0.81\n"
          ],
          "name": "stdout"
        }
      ]
    },
    {
      "cell_type": "markdown",
      "metadata": {
        "id": "olg0n5MKq2e2",
        "colab_type": "text"
      },
      "source": [
        "# Algorithm Functions"
      ]
    },
    {
      "cell_type": "code",
      "metadata": {
        "id": "Lo4ECBrFq2e2",
        "colab_type": "code",
        "colab": {}
      },
      "source": [
        "# logistic regression\n",
        "def logreg(X_train, X_test, y_train, y_test):\n",
        "    logreg = LogisticRegression(random_state=42).fit(X_train, y_train)\n",
        "    y_pred = logreg.predict(X_test)\n",
        "    \n",
        "    print('Logistic Regression \\n')\n",
        "    \n",
        "    # accuracy scores\n",
        "    print('Accuracy Score, Training Set: ', logreg.score(X_train, y_train))\n",
        "    print('Accuracy Score, Test Set: ', logreg.score(X_test, y_test))\n",
        "    \n",
        "    # classification report\n",
        "    print('Classification Report \\n')\n",
        "    print(classification_report(y_test, y_pred))"
      ],
      "execution_count": 9,
      "outputs": []
    },
    {
      "cell_type": "code",
      "metadata": {
        "id": "PoSF_KDmq2e6",
        "colab_type": "code",
        "colab": {}
      },
      "source": [
        "# KNN classifier\n",
        "def knn(X_train, X_test, y_train, y_test):\n",
        "    knn = KNeighborsClassifier(n_neighbors=15).fit(X_train, y_train)\n",
        "    y_pred = knn.predict(X_test)\n",
        "    \n",
        "    print('KNN Classifier \\n')\n",
        "    \n",
        "    # accuracy scores\n",
        "    print('Accuracy Score, Training Set: ', knn.score(X_train, y_train))\n",
        "    print('Accuracy Score, Test Set: ', knn.score(X_test, y_test))\n",
        "    \n",
        "    # classificatin report\n",
        "    print('Classification Report \\n')\n",
        "    print(classification_report(y_test, y_pred))"
      ],
      "execution_count": 10,
      "outputs": []
    },
    {
      "cell_type": "code",
      "metadata": {
        "id": "t_3O8De3q2e9",
        "colab_type": "code",
        "colab": {}
      },
      "source": [
        "# decision tree classifier\n",
        "def decision_tree(X_train, X_test, y_train, y_test):\n",
        "    decision_tree = DecisionTreeClassifier(random_state=42).fit(X_train, y_train)\n",
        "    y_pred = decision_tree.predict(X_test)\n",
        "    \n",
        "    print('Decision Tree Classifier \\n')\n",
        "    \n",
        "    # accuracy scores\n",
        "    print('Accuracy Score, Training Set:', decision_tree.score(X_train, y_train))\n",
        "    print('Accuracy Score, Test Set:', decision_tree.score(X_test, y_test))\n",
        "    \n",
        "    # classification report\n",
        "    print('Classification Report \\n')\n",
        "    print(classification_report(y_test, y_pred))"
      ],
      "execution_count": 11,
      "outputs": []
    },
    {
      "cell_type": "code",
      "metadata": {
        "id": "2LXTDcUuq2fB",
        "colab_type": "code",
        "colab": {}
      },
      "source": [
        "# random forest classifier\n",
        "def random_forest(X_train, X_test, y_train, y_test):\n",
        "    rf = RandomForestClassifier(random_state=42).fit(X_train, y_train)\n",
        "    y_pred = rf.predict(X_test)\n",
        "    \n",
        "    print('Random Forest Classifier \\n')\n",
        "    \n",
        "    # accuracy scores\n",
        "    print('Accuracy Score, Training Set:', rf.score(X_train, y_train))\n",
        "    print('Accuracy Score, Test Set:', rf.score(X_test, y_test))\n",
        "    \n",
        "    # classification report\n",
        "    print('Classification Report \\n')\n",
        "    print(classification_report(y_test, y_pred))"
      ],
      "execution_count": 12,
      "outputs": []
    },
    {
      "cell_type": "code",
      "metadata": {
        "id": "nNT9bzKpq2fD",
        "colab_type": "code",
        "colab": {}
      },
      "source": [
        "# Gaussian naive bayes\n",
        "def gaussian(X_train, X_test, y_train, y_test):\n",
        "    gaussian = GaussianNB().fit(X_train, y_train)\n",
        "    y_pred = gaussian.predict(X_test)\n",
        "    \n",
        "    print('Gaussian Naive Bayes \\n')\n",
        "    \n",
        "    # accuracy scores\n",
        "    print('Accuracy Score, Training Set:', gaussian.score(X_train, y_train))\n",
        "    print('Accuracy Score, Test Set:', gaussian.score(X_test, y_test))\n",
        "    \n",
        "    # classification report\n",
        "    print('Classification Report \\n')\n",
        "    print(classification_report(y_test, y_pred))"
      ],
      "execution_count": 13,
      "outputs": []
    },
    {
      "cell_type": "markdown",
      "metadata": {
        "id": "lkqX6f09q2fG",
        "colab_type": "text"
      },
      "source": [
        "# Random Under Sampler"
      ]
    },
    {
      "cell_type": "code",
      "metadata": {
        "id": "tpYpDIaFq2fH",
        "colab_type": "code",
        "colab": {
          "base_uri": "https://localhost:8080/",
          "height": 122
        },
        "outputId": "df3916de-2885-4ca7-d259-92cba42a7b6a"
      },
      "source": [
        "random_under = RandomUnderSampler(random_state=42)\n",
        "X_rs, y_rs = random_under.fit_sample(X, y)\n",
        "\n",
        "print('Random undersampling:', Counter(y_rs))\n",
        "\n",
        "X_train_rs, X_test_rs, y_train_rs, y_test_rs = train_test_split(X_rs, y_rs, test_size=0.25, random_state=42)\n",
        "\n",
        "print(X_train_rs.shape, y_train_rs.shape)\n",
        "print(X_test_rs.shape, y_test_rs.shape)"
      ],
      "execution_count": 14,
      "outputs": [
        {
          "output_type": "stream",
          "text": [
            "Random undersampling: Counter({'Fair': 26781, 'Good': 26781, 'Poor': 26781})\n",
            "(60257, 28) (60257,)\n",
            "(20086, 28) (20086,)\n"
          ],
          "name": "stdout"
        },
        {
          "output_type": "stream",
          "text": [
            "/usr/local/lib/python3.6/dist-packages/sklearn/utils/deprecation.py:87: FutureWarning: Function safe_indexing is deprecated; safe_indexing is deprecated in version 0.22 and will be removed in version 0.24.\n",
            "  warnings.warn(msg, category=FutureWarning)\n"
          ],
          "name": "stderr"
        }
      ]
    },
    {
      "cell_type": "markdown",
      "metadata": {
        "id": "tf6kcFvaq2fK",
        "colab_type": "text"
      },
      "source": [
        "## Logistic Regression"
      ]
    },
    {
      "cell_type": "code",
      "metadata": {
        "id": "KK9U_5nfq2fL",
        "colab_type": "code",
        "colab": {
          "base_uri": "https://localhost:8080/",
          "height": 445
        },
        "outputId": "dc2e0337-fb7a-4c3a-beb2-381654739076"
      },
      "source": [
        "logreg(X_train_rs, X_test_rs, y_train_rs, y_test_rs)"
      ],
      "execution_count": 15,
      "outputs": [
        {
          "output_type": "stream",
          "text": [
            "/usr/local/lib/python3.6/dist-packages/sklearn/linear_model/_logistic.py:940: ConvergenceWarning: lbfgs failed to converge (status=1):\n",
            "STOP: TOTAL NO. of ITERATIONS REACHED LIMIT.\n",
            "\n",
            "Increase the number of iterations (max_iter) or scale the data as shown in:\n",
            "    https://scikit-learn.org/stable/modules/preprocessing.html\n",
            "Please also refer to the documentation for alternative solver options:\n",
            "    https://scikit-learn.org/stable/modules/linear_model.html#logistic-regression\n",
            "  extra_warning_msg=_LOGISTIC_SOLVER_CONVERGENCE_MSG)\n"
          ],
          "name": "stderr"
        },
        {
          "output_type": "stream",
          "text": [
            "Logistic Regression \n",
            "\n",
            "Accuracy Score, Training Set:  0.41802612144647094\n",
            "Accuracy Score, Test Set:  0.4101364134222842\n",
            "Classification Report \n",
            "\n",
            "              precision    recall  f1-score   support\n",
            "\n",
            "        Fair       0.38      0.18      0.25      6648\n",
            "        Good       0.41      0.52      0.46      6744\n",
            "        Poor       0.42      0.52      0.46      6694\n",
            "\n",
            "    accuracy                           0.41     20086\n",
            "   macro avg       0.40      0.41      0.39     20086\n",
            "weighted avg       0.40      0.41      0.39     20086\n",
            "\n"
          ],
          "name": "stdout"
        }
      ]
    },
    {
      "cell_type": "markdown",
      "metadata": {
        "id": "p8nebgJEq2fP",
        "colab_type": "text"
      },
      "source": [
        "## KNN Classifier"
      ]
    },
    {
      "cell_type": "code",
      "metadata": {
        "id": "q9i3dtpYq2fP",
        "colab_type": "code",
        "colab": {
          "base_uri": "https://localhost:8080/",
          "height": 289
        },
        "outputId": "547454ec-ae08-48a9-a585-b156e3650ccc"
      },
      "source": [
        "knn(X_train_rs, X_test_rs, y_train_rs, y_test_rs)"
      ],
      "execution_count": 16,
      "outputs": [
        {
          "output_type": "stream",
          "text": [
            "KNN Classifier \n",
            "\n",
            "Accuracy Score, Training Set:  0.5229931792156928\n",
            "Accuracy Score, Test Set:  0.4206412426565767\n",
            "Classification Report \n",
            "\n",
            "              precision    recall  f1-score   support\n",
            "\n",
            "        Fair       0.37      0.39      0.38      6648\n",
            "        Good       0.45      0.47      0.46      6744\n",
            "        Poor       0.45      0.40      0.42      6694\n",
            "\n",
            "    accuracy                           0.42     20086\n",
            "   macro avg       0.42      0.42      0.42     20086\n",
            "weighted avg       0.42      0.42      0.42     20086\n",
            "\n"
          ],
          "name": "stdout"
        }
      ]
    },
    {
      "cell_type": "markdown",
      "metadata": {
        "id": "_n20osxwq2fT",
        "colab_type": "text"
      },
      "source": [
        "## Decision Tree Classifier"
      ]
    },
    {
      "cell_type": "code",
      "metadata": {
        "id": "9TWXgzDUq2fT",
        "colab_type": "code",
        "colab": {
          "base_uri": "https://localhost:8080/",
          "height": 289
        },
        "outputId": "377db658-8593-45e0-ea62-e69fe80c305a"
      },
      "source": [
        "decision_tree(X_train_rs, X_test_rs, y_train_rs, y_test_rs)"
      ],
      "execution_count": 17,
      "outputs": [
        {
          "output_type": "stream",
          "text": [
            "Decision Tree Classifier \n",
            "\n",
            "Accuracy Score, Training Set: 0.999983404417744\n",
            "Accuracy Score, Test Set: 0.4332370805536194\n",
            "Classification Report \n",
            "\n",
            "              precision    recall  f1-score   support\n",
            "\n",
            "        Fair       0.39      0.39      0.39      6648\n",
            "        Good       0.46      0.45      0.45      6744\n",
            "        Poor       0.45      0.46      0.45      6694\n",
            "\n",
            "    accuracy                           0.43     20086\n",
            "   macro avg       0.43      0.43      0.43     20086\n",
            "weighted avg       0.43      0.43      0.43     20086\n",
            "\n"
          ],
          "name": "stdout"
        }
      ]
    },
    {
      "cell_type": "markdown",
      "metadata": {
        "id": "7vdOXp1-q2fW",
        "colab_type": "text"
      },
      "source": [
        "## Random Forest Classifier"
      ]
    },
    {
      "cell_type": "code",
      "metadata": {
        "id": "V6E7HJjRq2fX",
        "colab_type": "code",
        "colab": {
          "base_uri": "https://localhost:8080/",
          "height": 289
        },
        "outputId": "c7aa86f5-28a6-485f-c6ee-ed31efcd0501"
      },
      "source": [
        "random_forest(X_train_rs, X_test_rs, y_train_rs, y_test_rs)"
      ],
      "execution_count": 18,
      "outputs": [
        {
          "output_type": "stream",
          "text": [
            "Random Forest Classifier \n",
            "\n",
            "Accuracy Score, Training Set: 0.999983404417744\n",
            "Accuracy Score, Test Set: 0.45688539281091306\n",
            "Classification Report \n",
            "\n",
            "              precision    recall  f1-score   support\n",
            "\n",
            "        Fair       0.40      0.40      0.40      6648\n",
            "        Good       0.48      0.50      0.49      6744\n",
            "        Poor       0.49      0.47      0.48      6694\n",
            "\n",
            "    accuracy                           0.46     20086\n",
            "   macro avg       0.46      0.46      0.46     20086\n",
            "weighted avg       0.46      0.46      0.46     20086\n",
            "\n"
          ],
          "name": "stdout"
        }
      ]
    },
    {
      "cell_type": "markdown",
      "metadata": {
        "id": "isWT-Bscq2fd",
        "colab_type": "text"
      },
      "source": [
        "# Tomek Links"
      ]
    },
    {
      "cell_type": "code",
      "metadata": {
        "id": "NCY_zkVoq2fd",
        "colab_type": "code",
        "colab": {
          "base_uri": "https://localhost:8080/",
          "height": 122
        },
        "outputId": "870c2d35-97e8-4c66-e340-acd3b2ae8531"
      },
      "source": [
        "tomek = TomekLinks()\n",
        "X_tomek, y_tomek = tomek.fit_resample(X, y)\n",
        "\n",
        "print('TomekLinks undersampling:', Counter(y_tomek))\n",
        "\n",
        "X_train_tl, X_test_tl, y_train_tl, y_test_tl = train_test_split(X_tomek, y_tomek, test_size=0.25, random_state=42)\n",
        "\n",
        "print(X_train_tl.shape, y_train_tl.shape)\n",
        "print(X_test_tl.shape, y_test_tl.shape)"
      ],
      "execution_count": 19,
      "outputs": [
        {
          "output_type": "stream",
          "text": [
            "TomekLinks undersampling: Counter({'Good': 483315, 'Fair': 55899, 'Poor': 26781})\n",
            "(424496, 28) (424496,)\n",
            "(141499, 28) (141499,)\n"
          ],
          "name": "stdout"
        },
        {
          "output_type": "stream",
          "text": [
            "/usr/local/lib/python3.6/dist-packages/sklearn/utils/deprecation.py:87: FutureWarning: Function safe_indexing is deprecated; safe_indexing is deprecated in version 0.22 and will be removed in version 0.24.\n",
            "  warnings.warn(msg, category=FutureWarning)\n"
          ],
          "name": "stderr"
        }
      ]
    },
    {
      "cell_type": "markdown",
      "metadata": {
        "id": "nkYTgzlGq2fg",
        "colab_type": "text"
      },
      "source": [
        "## Logistic Regression"
      ]
    },
    {
      "cell_type": "code",
      "metadata": {
        "id": "EhPDJ6mqq2fh",
        "colab_type": "code",
        "colab": {
          "base_uri": "https://localhost:8080/",
          "height": 445
        },
        "outputId": "f90ae2c5-34e3-4acb-e9a1-6a941f0172db"
      },
      "source": [
        "logreg(X_train_tl, X_test_tl, y_train_tl, y_test_tl)"
      ],
      "execution_count": 20,
      "outputs": [
        {
          "output_type": "stream",
          "text": [
            "/usr/local/lib/python3.6/dist-packages/sklearn/linear_model/_logistic.py:940: ConvergenceWarning: lbfgs failed to converge (status=1):\n",
            "STOP: TOTAL NO. of ITERATIONS REACHED LIMIT.\n",
            "\n",
            "Increase the number of iterations (max_iter) or scale the data as shown in:\n",
            "    https://scikit-learn.org/stable/modules/preprocessing.html\n",
            "Please also refer to the documentation for alternative solver options:\n",
            "    https://scikit-learn.org/stable/modules/linear_model.html#logistic-regression\n",
            "  extra_warning_msg=_LOGISTIC_SOLVER_CONVERGENCE_MSG)\n"
          ],
          "name": "stderr"
        },
        {
          "output_type": "stream",
          "text": [
            "Logistic Regression \n",
            "\n",
            "Accuracy Score, Training Set:  0.8542341977309562\n",
            "Accuracy Score, Test Set:  0.852733941582626\n",
            "Classification Report \n",
            "\n",
            "              precision    recall  f1-score   support\n",
            "\n",
            "        Fair       0.31      0.02      0.03     14059\n",
            "        Good       0.86      1.00      0.92    120672\n",
            "        Poor       0.63      0.01      0.02      6768\n",
            "\n",
            "    accuracy                           0.85    141499\n",
            "   macro avg       0.60      0.34      0.32    141499\n",
            "weighted avg       0.79      0.85      0.79    141499\n",
            "\n"
          ],
          "name": "stdout"
        }
      ]
    },
    {
      "cell_type": "markdown",
      "metadata": {
        "id": "qxqQWWHcq2fl",
        "colab_type": "text"
      },
      "source": [
        "## KNN Classifier"
      ]
    },
    {
      "cell_type": "code",
      "metadata": {
        "id": "S7s68Qs3q2fl",
        "colab_type": "code",
        "colab": {
          "base_uri": "https://localhost:8080/",
          "height": 289
        },
        "outputId": "219289d0-f4bb-407b-986d-9d6d7a330e7b"
      },
      "source": [
        "knn(X_train_tl, X_test_tl, y_train_tl, y_test_tl)"
      ],
      "execution_count": 21,
      "outputs": [
        {
          "output_type": "stream",
          "text": [
            "KNN Classifier \n",
            "\n",
            "Accuracy Score, Training Set:  0.8603025705778147\n",
            "Accuracy Score, Test Set:  0.8534618619212857\n",
            "Classification Report \n",
            "\n",
            "              precision    recall  f1-score   support\n",
            "\n",
            "        Fair       0.40      0.06      0.10     14059\n",
            "        Good       0.86      0.99      0.92    120672\n",
            "        Poor       0.48      0.05      0.09      6768\n",
            "\n",
            "    accuracy                           0.85    141499\n",
            "   macro avg       0.58      0.37      0.37    141499\n",
            "weighted avg       0.80      0.85      0.80    141499\n",
            "\n"
          ],
          "name": "stdout"
        }
      ]
    },
    {
      "cell_type": "markdown",
      "metadata": {
        "id": "Bq-7oVCfq2fo",
        "colab_type": "text"
      },
      "source": [
        "## Decision Tree Classifier"
      ]
    },
    {
      "cell_type": "code",
      "metadata": {
        "id": "Yk48pbUhq2fp",
        "colab_type": "code",
        "colab": {
          "base_uri": "https://localhost:8080/",
          "height": 289
        },
        "outputId": "86a975d6-7ea7-443e-c6a2-d493856ed837"
      },
      "source": [
        "decision_tree(X_train_tl, X_test_tl, y_train_tl, y_test_tl)"
      ],
      "execution_count": 22,
      "outputs": [
        {
          "output_type": "stream",
          "text": [
            "Decision Tree Classifier \n",
            "\n",
            "Accuracy Score, Training Set: 0.9999858655911952\n",
            "Accuracy Score, Test Set: 0.8075251415204348\n",
            "Classification Report \n",
            "\n",
            "              precision    recall  f1-score   support\n",
            "\n",
            "        Fair       0.32      0.32      0.32     14059\n",
            "        Good       0.90      0.90      0.90    120672\n",
            "        Poor       0.23      0.23      0.23      6768\n",
            "\n",
            "    accuracy                           0.81    141499\n",
            "   macro avg       0.48      0.48      0.48    141499\n",
            "weighted avg       0.81      0.81      0.81    141499\n",
            "\n"
          ],
          "name": "stdout"
        }
      ]
    },
    {
      "cell_type": "markdown",
      "metadata": {
        "id": "fackB4wSq2ft",
        "colab_type": "text"
      },
      "source": [
        "## Random Forest Classifier"
      ]
    },
    {
      "cell_type": "code",
      "metadata": {
        "id": "27wuRXhTq2fu",
        "colab_type": "code",
        "colab": {
          "base_uri": "https://localhost:8080/",
          "height": 289
        },
        "outputId": "9631d6fc-3c84-4e69-b825-628ad9e63865"
      },
      "source": [
        "random_forest(X_train_tl, X_test_tl, y_train_tl, y_test_tl)"
      ],
      "execution_count": 23,
      "outputs": [
        {
          "output_type": "stream",
          "text": [
            "Random Forest Classifier \n",
            "\n",
            "Accuracy Score, Training Set: 0.9999246164863744\n",
            "Accuracy Score, Test Set: 0.8700202828288539\n",
            "Classification Report \n",
            "\n",
            "              precision    recall  f1-score   support\n",
            "\n",
            "        Fair       0.61      0.24      0.35     14059\n",
            "        Good       0.89      0.98      0.93    120672\n",
            "        Poor       0.52      0.16      0.24      6768\n",
            "\n",
            "    accuracy                           0.87    141499\n",
            "   macro avg       0.67      0.46      0.51    141499\n",
            "weighted avg       0.84      0.87      0.84    141499\n",
            "\n"
          ],
          "name": "stdout"
        }
      ]
    },
    {
      "cell_type": "markdown",
      "metadata": {
        "id": "HXlvrJb9q2f0",
        "colab_type": "text"
      },
      "source": [
        "# Edited Nearest Neighbors"
      ]
    },
    {
      "cell_type": "code",
      "metadata": {
        "id": "aJAXcmCmq2f0",
        "colab_type": "code",
        "colab": {
          "base_uri": "https://localhost:8080/",
          "height": 190
        },
        "outputId": "1a14a0cc-0dae-4a07-b551-ec97f663109e"
      },
      "source": [
        "enn = EditedNearestNeighbours()\n",
        "X_enn, y_enn = enn.fit_resample(X, y)\n",
        "\n",
        "print('Resampled dataset shape:', Counter(y_enn))\n",
        "\n",
        "X_train_enn, X_test_enn, y_train_enn, y_test_enn = train_test_split(X_enn, y_enn, test_size=0.25, random_state=42)\n",
        "\n",
        "print(X_train_enn.shape, y_train_enn.shape)\n",
        "print(X_test_enn.shape, y_test_enn.shape)"
      ],
      "execution_count": 24,
      "outputs": [
        {
          "output_type": "stream",
          "text": [
            "/usr/local/lib/python3.6/dist-packages/sklearn/utils/deprecation.py:87: FutureWarning: Function safe_indexing is deprecated; safe_indexing is deprecated in version 0.22 and will be removed in version 0.24.\n",
            "  warnings.warn(msg, category=FutureWarning)\n",
            "/usr/local/lib/python3.6/dist-packages/sklearn/utils/deprecation.py:87: FutureWarning: Function safe_indexing is deprecated; safe_indexing is deprecated in version 0.22 and will be removed in version 0.24.\n",
            "  warnings.warn(msg, category=FutureWarning)\n"
          ],
          "name": "stderr"
        },
        {
          "output_type": "stream",
          "text": [
            "Resampled dataset shape: Counter({'Good': 339374, 'Poor': 26781, 'Fair': 3713})\n",
            "(277401, 28) (277401,)\n",
            "(92467, 28) (92467,)\n"
          ],
          "name": "stdout"
        },
        {
          "output_type": "stream",
          "text": [
            "/usr/local/lib/python3.6/dist-packages/sklearn/utils/deprecation.py:87: FutureWarning: Function safe_indexing is deprecated; safe_indexing is deprecated in version 0.22 and will be removed in version 0.24.\n",
            "  warnings.warn(msg, category=FutureWarning)\n"
          ],
          "name": "stderr"
        }
      ]
    },
    {
      "cell_type": "markdown",
      "metadata": {
        "id": "Ri3pFWA-q2f3",
        "colab_type": "text"
      },
      "source": [
        "## Logistic Regression"
      ]
    },
    {
      "cell_type": "code",
      "metadata": {
        "id": "H453fKEjq2f3",
        "colab_type": "code",
        "colab": {
          "base_uri": "https://localhost:8080/",
          "height": 479
        },
        "outputId": "87b7923c-be7e-450e-c86c-bdce6b3f8d7e"
      },
      "source": [
        "logreg(X_train_enn, X_test_enn, y_train_enn, y_test_enn)"
      ],
      "execution_count": 25,
      "outputs": [
        {
          "output_type": "stream",
          "text": [
            "/usr/local/lib/python3.6/dist-packages/sklearn/linear_model/_logistic.py:940: ConvergenceWarning: lbfgs failed to converge (status=1):\n",
            "STOP: TOTAL NO. of ITERATIONS REACHED LIMIT.\n",
            "\n",
            "Increase the number of iterations (max_iter) or scale the data as shown in:\n",
            "    https://scikit-learn.org/stable/modules/preprocessing.html\n",
            "Please also refer to the documentation for alternative solver options:\n",
            "    https://scikit-learn.org/stable/modules/linear_model.html#logistic-regression\n",
            "  extra_warning_msg=_LOGISTIC_SOLVER_CONVERGENCE_MSG)\n"
          ],
          "name": "stderr"
        },
        {
          "output_type": "stream",
          "text": [
            "Logistic Regression \n",
            "\n",
            "Accuracy Score, Training Set:  0.9213593317976503\n",
            "Accuracy Score, Test Set:  0.9212043215417393\n",
            "Classification Report \n",
            "\n"
          ],
          "name": "stdout"
        },
        {
          "output_type": "stream",
          "text": [
            "/usr/local/lib/python3.6/dist-packages/sklearn/metrics/_classification.py:1272: UndefinedMetricWarning: Precision and F-score are ill-defined and being set to 0.0 in labels with no predicted samples. Use `zero_division` parameter to control this behavior.\n",
            "  _warn_prf(average, modifier, msg_start, len(result))\n"
          ],
          "name": "stderr"
        },
        {
          "output_type": "stream",
          "text": [
            "              precision    recall  f1-score   support\n",
            "\n",
            "        Fair       0.00      0.00      0.00       943\n",
            "        Good       0.92      1.00      0.96     84805\n",
            "        Poor       0.68      0.09      0.15      6719\n",
            "\n",
            "    accuracy                           0.92     92467\n",
            "   macro avg       0.54      0.36      0.37     92467\n",
            "weighted avg       0.90      0.92      0.89     92467\n",
            "\n"
          ],
          "name": "stdout"
        }
      ]
    },
    {
      "cell_type": "markdown",
      "metadata": {
        "id": "uqRaN7cGq2f6",
        "colab_type": "text"
      },
      "source": [
        "## KNN Classifier"
      ]
    },
    {
      "cell_type": "code",
      "metadata": {
        "id": "ZUaKeGnNq2f7",
        "colab_type": "code",
        "colab": {
          "base_uri": "https://localhost:8080/",
          "height": 289
        },
        "outputId": "e7f0f713-0d31-46d3-8abf-ceabe4bb8cf5"
      },
      "source": [
        "knn(X_train_enn, X_test_enn, y_train_enn, y_test_enn)"
      ],
      "execution_count": 26,
      "outputs": [
        {
          "output_type": "stream",
          "text": [
            "KNN Classifier \n",
            "\n",
            "Accuracy Score, Training Set:  0.9271019210457064\n",
            "Accuracy Score, Test Set:  0.9240485794932246\n",
            "Classification Report \n",
            "\n",
            "              precision    recall  f1-score   support\n",
            "\n",
            "        Fair       0.50      0.09      0.16       943\n",
            "        Good       0.93      1.00      0.96     84805\n",
            "        Poor       0.68      0.13      0.22      6719\n",
            "\n",
            "    accuracy                           0.92     92467\n",
            "   macro avg       0.70      0.41      0.45     92467\n",
            "weighted avg       0.91      0.92      0.90     92467\n",
            "\n"
          ],
          "name": "stdout"
        }
      ]
    },
    {
      "cell_type": "markdown",
      "metadata": {
        "id": "gDxmRDzKq2f-",
        "colab_type": "text"
      },
      "source": [
        "## Decision Tree Classifier"
      ]
    },
    {
      "cell_type": "code",
      "metadata": {
        "id": "zvIupXUkq2f-",
        "colab_type": "code",
        "colab": {
          "base_uri": "https://localhost:8080/",
          "height": 289
        },
        "outputId": "b69e029a-ae48-4f9d-e817-e979b24791a5"
      },
      "source": [
        "decision_tree(X_train_enn, X_test_enn, y_train_enn, y_test_enn)"
      ],
      "execution_count": 27,
      "outputs": [
        {
          "output_type": "stream",
          "text": [
            "Decision Tree Classifier \n",
            "\n",
            "Accuracy Score, Training Set: 1.0\n",
            "Accuracy Score, Test Set: 0.9090270042285356\n",
            "Classification Report \n",
            "\n",
            "              precision    recall  f1-score   support\n",
            "\n",
            "        Fair       0.56      0.61      0.58       943\n",
            "        Good       0.95      0.95      0.95     84805\n",
            "        Poor       0.41      0.40      0.40      6719\n",
            "\n",
            "    accuracy                           0.91     92467\n",
            "   macro avg       0.64      0.65      0.64     92467\n",
            "weighted avg       0.91      0.91      0.91     92467\n",
            "\n"
          ],
          "name": "stdout"
        }
      ]
    },
    {
      "cell_type": "markdown",
      "metadata": {
        "id": "G-WnoQYJq2gB",
        "colab_type": "text"
      },
      "source": [
        "## Random Forest Classifier"
      ]
    },
    {
      "cell_type": "code",
      "metadata": {
        "id": "1pph31W6q2gB",
        "colab_type": "code",
        "colab": {
          "base_uri": "https://localhost:8080/",
          "height": 289
        },
        "outputId": "65eac258-145f-4b3a-d640-cf538d4f2433"
      },
      "source": [
        "random_forest(X_train_enn, X_test_enn, y_train_enn, y_test_enn)"
      ],
      "execution_count": 28,
      "outputs": [
        {
          "output_type": "stream",
          "text": [
            "Random Forest Classifier \n",
            "\n",
            "Accuracy Score, Training Set: 0.9999603462136041\n",
            "Accuracy Score, Test Set: 0.9420766327446548\n",
            "Classification Report \n",
            "\n",
            "              precision    recall  f1-score   support\n",
            "\n",
            "        Fair       0.89      0.68      0.77       943\n",
            "        Good       0.95      1.00      0.97     84805\n",
            "        Poor       0.82      0.30      0.44      6719\n",
            "\n",
            "    accuracy                           0.94     92467\n",
            "   macro avg       0.89      0.66      0.73     92467\n",
            "weighted avg       0.94      0.94      0.93     92467\n",
            "\n"
          ],
          "name": "stdout"
        }
      ]
    },
    {
      "cell_type": "markdown",
      "metadata": {
        "id": "24-Ffr9Wq2gH",
        "colab_type": "text"
      },
      "source": [
        "# Near Miss"
      ]
    },
    {
      "cell_type": "code",
      "metadata": {
        "id": "ChoZihtDq2gH",
        "colab_type": "code",
        "colab": {
          "base_uri": "https://localhost:8080/",
          "height": 224
        },
        "outputId": "a73ee056-0edf-47b4-9a41-68e6da6993b8"
      },
      "source": [
        "nm = NearMiss()\n",
        "X_nm, y_nm = nm.fit_resample(X, y)\n",
        "print('Resampled dataset shape:', Counter(y_nm))\n",
        "\n",
        "X_train_nm, X_test_nm, y_train_nm, y_test_nm = train_test_split(X_nm, y_nm, test_size=0.25, random_state=42)\n",
        "\n",
        "print(X_train_nm.shape, y_train_nm.shape)\n",
        "print(X_test_nm.shape, y_test_nm.shape)"
      ],
      "execution_count": 29,
      "outputs": [
        {
          "output_type": "stream",
          "text": [
            "/usr/local/lib/python3.6/dist-packages/sklearn/utils/deprecation.py:87: FutureWarning: Function safe_indexing is deprecated; safe_indexing is deprecated in version 0.22 and will be removed in version 0.24.\n",
            "  warnings.warn(msg, category=FutureWarning)\n",
            "/usr/local/lib/python3.6/dist-packages/sklearn/utils/deprecation.py:87: FutureWarning: Function safe_indexing is deprecated; safe_indexing is deprecated in version 0.22 and will be removed in version 0.24.\n",
            "  warnings.warn(msg, category=FutureWarning)\n",
            "/usr/local/lib/python3.6/dist-packages/sklearn/utils/deprecation.py:87: FutureWarning: Function safe_indexing is deprecated; safe_indexing is deprecated in version 0.22 and will be removed in version 0.24.\n",
            "  warnings.warn(msg, category=FutureWarning)\n",
            "/usr/local/lib/python3.6/dist-packages/sklearn/utils/deprecation.py:87: FutureWarning: Function safe_indexing is deprecated; safe_indexing is deprecated in version 0.22 and will be removed in version 0.24.\n",
            "  warnings.warn(msg, category=FutureWarning)\n"
          ],
          "name": "stderr"
        },
        {
          "output_type": "stream",
          "text": [
            "Resampled dataset shape: Counter({'Fair': 26781, 'Good': 26781, 'Poor': 26781})\n",
            "(60257, 28) (60257,)\n",
            "(20086, 28) (20086,)\n"
          ],
          "name": "stdout"
        }
      ]
    },
    {
      "cell_type": "markdown",
      "metadata": {
        "id": "UJSD6hxSq2gJ",
        "colab_type": "text"
      },
      "source": [
        "## Logistic Regression"
      ]
    },
    {
      "cell_type": "code",
      "metadata": {
        "id": "k-dxZ4S_q2gK",
        "colab_type": "code",
        "colab": {
          "base_uri": "https://localhost:8080/",
          "height": 445
        },
        "outputId": "29633f2e-9ca4-44fc-ab3f-cdd6dbb8ab9f"
      },
      "source": [
        "logreg(X_train_nm, X_test_nm, y_train_nm, y_test_nm)"
      ],
      "execution_count": 30,
      "outputs": [
        {
          "output_type": "stream",
          "text": [
            "/usr/local/lib/python3.6/dist-packages/sklearn/linear_model/_logistic.py:940: ConvergenceWarning: lbfgs failed to converge (status=1):\n",
            "STOP: TOTAL NO. of ITERATIONS REACHED LIMIT.\n",
            "\n",
            "Increase the number of iterations (max_iter) or scale the data as shown in:\n",
            "    https://scikit-learn.org/stable/modules/preprocessing.html\n",
            "Please also refer to the documentation for alternative solver options:\n",
            "    https://scikit-learn.org/stable/modules/linear_model.html#logistic-regression\n",
            "  extra_warning_msg=_LOGISTIC_SOLVER_CONVERGENCE_MSG)\n"
          ],
          "name": "stderr"
        },
        {
          "output_type": "stream",
          "text": [
            "Logistic Regression \n",
            "\n",
            "Accuracy Score, Training Set:  0.5622749224156529\n",
            "Accuracy Score, Test Set:  0.563974907896047\n",
            "Classification Report \n",
            "\n",
            "              precision    recall  f1-score   support\n",
            "\n",
            "        Fair       0.47      0.34      0.39      6648\n",
            "        Good       0.51      0.78      0.62      6744\n",
            "        Poor       0.77      0.57      0.66      6694\n",
            "\n",
            "    accuracy                           0.56     20086\n",
            "   macro avg       0.58      0.56      0.55     20086\n",
            "weighted avg       0.58      0.56      0.56     20086\n",
            "\n"
          ],
          "name": "stdout"
        }
      ]
    },
    {
      "cell_type": "markdown",
      "metadata": {
        "id": "6FHcSDFoq2gN",
        "colab_type": "text"
      },
      "source": [
        "## KNN Classifier"
      ]
    },
    {
      "cell_type": "code",
      "metadata": {
        "id": "eoTHFiNuq2gN",
        "colab_type": "code",
        "colab": {
          "base_uri": "https://localhost:8080/",
          "height": 289
        },
        "outputId": "866b6605-1a1a-4e2c-a00c-e3af13679130"
      },
      "source": [
        "knn(X_train_nm, X_test_nm, y_train_nm, y_test_nm)"
      ],
      "execution_count": 31,
      "outputs": [
        {
          "output_type": "stream",
          "text": [
            "KNN Classifier \n",
            "\n",
            "Accuracy Score, Training Set:  0.6927161989478401\n",
            "Accuracy Score, Test Set:  0.656526934183013\n",
            "Classification Report \n",
            "\n",
            "              precision    recall  f1-score   support\n",
            "\n",
            "        Fair       0.58      0.58      0.58      6648\n",
            "        Good       0.62      0.85      0.72      6744\n",
            "        Poor       0.84      0.54      0.66      6694\n",
            "\n",
            "    accuracy                           0.66     20086\n",
            "   macro avg       0.68      0.66      0.65     20086\n",
            "weighted avg       0.68      0.66      0.65     20086\n",
            "\n"
          ],
          "name": "stdout"
        }
      ]
    },
    {
      "cell_type": "markdown",
      "metadata": {
        "id": "_3C0lpuaq2gR",
        "colab_type": "text"
      },
      "source": [
        "## Decision Tree Classifier"
      ]
    },
    {
      "cell_type": "code",
      "metadata": {
        "id": "orWh7Oqgq2gR",
        "colab_type": "code",
        "colab": {
          "base_uri": "https://localhost:8080/",
          "height": 289
        },
        "outputId": "5c9b570d-1ca6-4bd8-bcd7-04046e2773e5"
      },
      "source": [
        "decision_tree(X_train_nm, X_test_nm, y_train_nm, y_test_nm)"
      ],
      "execution_count": 32,
      "outputs": [
        {
          "output_type": "stream",
          "text": [
            "Decision Tree Classifier \n",
            "\n",
            "Accuracy Score, Training Set: 0.9999668088354879\n",
            "Accuracy Score, Test Set: 0.6423877327491785\n",
            "Classification Report \n",
            "\n",
            "              precision    recall  f1-score   support\n",
            "\n",
            "        Fair       0.58      0.57      0.58      6648\n",
            "        Good       0.70      0.71      0.70      6744\n",
            "        Poor       0.65      0.64      0.64      6694\n",
            "\n",
            "    accuracy                           0.64     20086\n",
            "   macro avg       0.64      0.64      0.64     20086\n",
            "weighted avg       0.64      0.64      0.64     20086\n",
            "\n"
          ],
          "name": "stdout"
        }
      ]
    },
    {
      "cell_type": "markdown",
      "metadata": {
        "id": "xNUb6Co_q2gU",
        "colab_type": "text"
      },
      "source": [
        "## Random Forest Classifier"
      ]
    },
    {
      "cell_type": "code",
      "metadata": {
        "id": "yFlA9KqUq2gU",
        "colab_type": "code",
        "colab": {
          "base_uri": "https://localhost:8080/",
          "height": 289
        },
        "outputId": "8fdeec4f-2ba7-4087-e5f5-e5bfe454dd55"
      },
      "source": [
        "random_forest(X_train_nm, X_test_nm, y_train_nm, y_test_nm)"
      ],
      "execution_count": 33,
      "outputs": [
        {
          "output_type": "stream",
          "text": [
            "Random Forest Classifier \n",
            "\n",
            "Accuracy Score, Training Set: 0.9999004265064639\n",
            "Accuracy Score, Test Set: 0.6968037439012247\n",
            "Classification Report \n",
            "\n",
            "              precision    recall  f1-score   support\n",
            "\n",
            "        Fair       0.64      0.64      0.64      6648\n",
            "        Good       0.72      0.80      0.76      6744\n",
            "        Poor       0.73      0.64      0.68      6694\n",
            "\n",
            "    accuracy                           0.70     20086\n",
            "   macro avg       0.70      0.70      0.70     20086\n",
            "weighted avg       0.70      0.70      0.70     20086\n",
            "\n"
          ],
          "name": "stdout"
        }
      ]
    },
    {
      "cell_type": "code",
      "metadata": {
        "id": "p5cR0PxmeUQc",
        "colab_type": "code",
        "colab": {}
      },
      "source": [
        ""
      ],
      "execution_count": null,
      "outputs": []
    }
  ]
}