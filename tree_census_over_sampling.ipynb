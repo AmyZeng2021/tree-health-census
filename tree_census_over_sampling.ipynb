{
  "nbformat": 4,
  "nbformat_minor": 0,
  "metadata": {
    "kernelspec": {
      "name": "python3",
      "display_name": "Python 3"
    },
    "colab": {
      "name": "tree_census_over_sampling.ipynb",
      "provenance": [],
      "collapsed_sections": [
        "svtiWS2WDYzU",
        "FjCgJmaUDYzZ",
        "gfjrnsYlDYzd",
        "vP9gmGt2DYzh",
        "TFdmc6gUDYzo",
        "RbGoLbhqDYzr",
        "VoHCYM7sDYzu",
        "erSZ7Fb8DYzx",
        "YicZsdzADYz9",
        "0lg85aCJDY0A",
        "lyRxgs3IDY0E",
        "-Biqg-fDDY0N",
        "_QHd1_o2DY0Q"
      ]
    }
  },
  "cells": [
    {
      "cell_type": "markdown",
      "metadata": {
        "id": "Am2X3KzODYyZ",
        "colab_type": "text"
      },
      "source": [
        "# General Overview - Over Sampling Methods"
      ]
    },
    {
      "cell_type": "code",
      "metadata": {
        "id": "8Qbubov8DYyg",
        "colab_type": "code",
        "colab": {
          "base_uri": "https://localhost:8080/",
          "height": 105
        },
        "outputId": "0176c979-29bc-4691-9b96-a108cc44894d"
      },
      "source": [
        "import numpy as np\n",
        "import pandas as pd\n",
        "import matplotlib.pyplot as plt\n",
        "import sklearn\n",
        "from sklearn import datasets\n",
        "from sklearn import metrics\n",
        "from collections import Counter\n",
        "\n",
        "from sklearn.model_selection import (cross_val_score, train_test_split)\n",
        "from sklearn.metrics import classification_report\n",
        "\n",
        "from sklearn.dummy import DummyClassifier\n",
        "from sklearn.linear_model import LogisticRegression\n",
        "from sklearn.neighbors import KNeighborsClassifier\n",
        "from sklearn.tree import DecisionTreeClassifier\n",
        "from sklearn.ensemble import RandomForestClassifier\n",
        "\n",
        "import imblearn\n",
        "from imblearn.over_sampling import (RandomOverSampler, SMOTE, ADASYN, BorderlineSMOTE)"
      ],
      "execution_count": 1,
      "outputs": [
        {
          "output_type": "stream",
          "text": [
            "/usr/local/lib/python3.6/dist-packages/sklearn/externals/six.py:31: FutureWarning: The module is deprecated in version 0.21 and will be removed in version 0.23 since we've dropped support for Python 2.7. Please rely on the official version of six (https://pypi.org/project/six/).\n",
            "  \"(https://pypi.org/project/six/).\", FutureWarning)\n",
            "/usr/local/lib/python3.6/dist-packages/sklearn/utils/deprecation.py:144: FutureWarning: The sklearn.neighbors.base module is  deprecated in version 0.22 and will be removed in version 0.24. The corresponding classes / functions should instead be imported from sklearn.neighbors. Anything that cannot be imported from sklearn.neighbors is now part of the private API.\n",
            "  warnings.warn(message, FutureWarning)\n"
          ],
          "name": "stderr"
        }
      ]
    },
    {
      "cell_type": "code",
      "metadata": {
        "id": "PbrNrDKGDYyj",
        "colab_type": "code",
        "colab": {}
      },
      "source": [
        "np.random.seed(42)"
      ],
      "execution_count": 2,
      "outputs": []
    },
    {
      "cell_type": "code",
      "metadata": {
        "id": "X792PB3iDYyn",
        "colab_type": "code",
        "colab": {}
      },
      "source": [
        "# import data\n",
        "data = pd.read_csv('/tree_ml.csv', index_col=0)\n",
        "\n",
        "tree = data.copy()"
      ],
      "execution_count": 3,
      "outputs": []
    },
    {
      "cell_type": "code",
      "metadata": {
        "id": "3bmLybvUDYyq",
        "colab_type": "code",
        "colab": {
          "base_uri": "https://localhost:8080/",
          "height": 241
        },
        "outputId": "6a6b54ff-b4c5-4bed-ad7e-5ffd8bfd3992"
      },
      "source": [
        "tree.head()"
      ],
      "execution_count": 4,
      "outputs": [
        {
          "output_type": "execute_result",
          "data": {
            "text/html": [
              "<div>\n",
              "<style scoped>\n",
              "    .dataframe tbody tr th:only-of-type {\n",
              "        vertical-align: middle;\n",
              "    }\n",
              "\n",
              "    .dataframe tbody tr th {\n",
              "        vertical-align: top;\n",
              "    }\n",
              "\n",
              "    .dataframe thead th {\n",
              "        text-align: right;\n",
              "    }\n",
              "</style>\n",
              "<table border=\"1\" class=\"dataframe\">\n",
              "  <thead>\n",
              "    <tr style=\"text-align: right;\">\n",
              "      <th></th>\n",
              "      <th>tree_dbh</th>\n",
              "      <th>curb_loc</th>\n",
              "      <th>health</th>\n",
              "      <th>sidewalk</th>\n",
              "      <th>root_stone</th>\n",
              "      <th>root_grate</th>\n",
              "      <th>root_other</th>\n",
              "      <th>trunk_wire</th>\n",
              "      <th>trnk_light</th>\n",
              "      <th>trnk_other</th>\n",
              "      <th>brch_light</th>\n",
              "      <th>brch_shoe</th>\n",
              "      <th>brch_other</th>\n",
              "      <th>longitude</th>\n",
              "      <th>latitude</th>\n",
              "      <th>num_problems</th>\n",
              "      <th>1or2</th>\n",
              "      <th>3or4</th>\n",
              "      <th>4orMore</th>\n",
              "      <th>Stew_N</th>\n",
              "      <th>Guard_N</th>\n",
              "      <th>Harmful</th>\n",
              "      <th>Helpful</th>\n",
              "      <th>Unsure</th>\n",
              "      <th>Bronx</th>\n",
              "      <th>Brooklyn</th>\n",
              "      <th>Manhattan</th>\n",
              "      <th>Queens</th>\n",
              "      <th>Staten Island</th>\n",
              "    </tr>\n",
              "  </thead>\n",
              "  <tbody>\n",
              "    <tr>\n",
              "      <th>0</th>\n",
              "      <td>3</td>\n",
              "      <td>1</td>\n",
              "      <td>Fair</td>\n",
              "      <td>0</td>\n",
              "      <td>0</td>\n",
              "      <td>0</td>\n",
              "      <td>0</td>\n",
              "      <td>0</td>\n",
              "      <td>0</td>\n",
              "      <td>0</td>\n",
              "      <td>0</td>\n",
              "      <td>0</td>\n",
              "      <td>0</td>\n",
              "      <td>-73.844215</td>\n",
              "      <td>40.723092</td>\n",
              "      <td>0</td>\n",
              "      <td>0</td>\n",
              "      <td>0</td>\n",
              "      <td>0</td>\n",
              "      <td>1</td>\n",
              "      <td>1</td>\n",
              "      <td>0</td>\n",
              "      <td>0</td>\n",
              "      <td>0</td>\n",
              "      <td>0</td>\n",
              "      <td>0</td>\n",
              "      <td>0</td>\n",
              "      <td>1</td>\n",
              "      <td>0</td>\n",
              "    </tr>\n",
              "    <tr>\n",
              "      <th>1</th>\n",
              "      <td>21</td>\n",
              "      <td>1</td>\n",
              "      <td>Fair</td>\n",
              "      <td>1</td>\n",
              "      <td>1</td>\n",
              "      <td>0</td>\n",
              "      <td>0</td>\n",
              "      <td>0</td>\n",
              "      <td>0</td>\n",
              "      <td>0</td>\n",
              "      <td>0</td>\n",
              "      <td>0</td>\n",
              "      <td>0</td>\n",
              "      <td>-73.818679</td>\n",
              "      <td>40.794111</td>\n",
              "      <td>1</td>\n",
              "      <td>0</td>\n",
              "      <td>0</td>\n",
              "      <td>0</td>\n",
              "      <td>1</td>\n",
              "      <td>1</td>\n",
              "      <td>0</td>\n",
              "      <td>0</td>\n",
              "      <td>0</td>\n",
              "      <td>0</td>\n",
              "      <td>0</td>\n",
              "      <td>0</td>\n",
              "      <td>1</td>\n",
              "      <td>0</td>\n",
              "    </tr>\n",
              "    <tr>\n",
              "      <th>2</th>\n",
              "      <td>3</td>\n",
              "      <td>1</td>\n",
              "      <td>Good</td>\n",
              "      <td>1</td>\n",
              "      <td>0</td>\n",
              "      <td>0</td>\n",
              "      <td>0</td>\n",
              "      <td>0</td>\n",
              "      <td>0</td>\n",
              "      <td>0</td>\n",
              "      <td>0</td>\n",
              "      <td>0</td>\n",
              "      <td>0</td>\n",
              "      <td>-73.936608</td>\n",
              "      <td>40.717581</td>\n",
              "      <td>0</td>\n",
              "      <td>1</td>\n",
              "      <td>0</td>\n",
              "      <td>0</td>\n",
              "      <td>0</td>\n",
              "      <td>1</td>\n",
              "      <td>0</td>\n",
              "      <td>0</td>\n",
              "      <td>0</td>\n",
              "      <td>0</td>\n",
              "      <td>1</td>\n",
              "      <td>0</td>\n",
              "      <td>0</td>\n",
              "      <td>0</td>\n",
              "    </tr>\n",
              "    <tr>\n",
              "      <th>3</th>\n",
              "      <td>10</td>\n",
              "      <td>1</td>\n",
              "      <td>Good</td>\n",
              "      <td>1</td>\n",
              "      <td>1</td>\n",
              "      <td>0</td>\n",
              "      <td>0</td>\n",
              "      <td>0</td>\n",
              "      <td>0</td>\n",
              "      <td>0</td>\n",
              "      <td>0</td>\n",
              "      <td>0</td>\n",
              "      <td>0</td>\n",
              "      <td>-73.934456</td>\n",
              "      <td>40.713537</td>\n",
              "      <td>1</td>\n",
              "      <td>0</td>\n",
              "      <td>0</td>\n",
              "      <td>0</td>\n",
              "      <td>1</td>\n",
              "      <td>1</td>\n",
              "      <td>0</td>\n",
              "      <td>0</td>\n",
              "      <td>0</td>\n",
              "      <td>0</td>\n",
              "      <td>1</td>\n",
              "      <td>0</td>\n",
              "      <td>0</td>\n",
              "      <td>0</td>\n",
              "    </tr>\n",
              "    <tr>\n",
              "      <th>4</th>\n",
              "      <td>21</td>\n",
              "      <td>1</td>\n",
              "      <td>Good</td>\n",
              "      <td>1</td>\n",
              "      <td>1</td>\n",
              "      <td>0</td>\n",
              "      <td>0</td>\n",
              "      <td>0</td>\n",
              "      <td>0</td>\n",
              "      <td>0</td>\n",
              "      <td>0</td>\n",
              "      <td>0</td>\n",
              "      <td>0</td>\n",
              "      <td>-73.975979</td>\n",
              "      <td>40.666778</td>\n",
              "      <td>1</td>\n",
              "      <td>0</td>\n",
              "      <td>0</td>\n",
              "      <td>0</td>\n",
              "      <td>1</td>\n",
              "      <td>1</td>\n",
              "      <td>0</td>\n",
              "      <td>0</td>\n",
              "      <td>0</td>\n",
              "      <td>0</td>\n",
              "      <td>1</td>\n",
              "      <td>0</td>\n",
              "      <td>0</td>\n",
              "      <td>0</td>\n",
              "    </tr>\n",
              "  </tbody>\n",
              "</table>\n",
              "</div>"
            ],
            "text/plain": [
              "   tree_dbh  curb_loc health  ...  Manhattan  Queens  Staten Island\n",
              "0         3         1   Fair  ...          0       1              0\n",
              "1        21         1   Fair  ...          0       1              0\n",
              "2         3         1   Good  ...          0       0              0\n",
              "3        10         1   Good  ...          0       0              0\n",
              "4        21         1   Good  ...          0       0              0\n",
              "\n",
              "[5 rows x 29 columns]"
            ]
          },
          "metadata": {
            "tags": []
          },
          "execution_count": 4
        }
      ]
    },
    {
      "cell_type": "code",
      "metadata": {
        "id": "d5ko4OsZDYyu",
        "colab_type": "code",
        "colab": {
          "base_uri": "https://localhost:8080/",
          "height": 34
        },
        "outputId": "8dabd8e4-c0b0-47fc-a344-69db1ac7c45a"
      },
      "source": [
        "tree.shape"
      ],
      "execution_count": 5,
      "outputs": [
        {
          "output_type": "execute_result",
          "data": {
            "text/plain": [
              "(651535, 29)"
            ]
          },
          "metadata": {
            "tags": []
          },
          "execution_count": 5
        }
      ]
    },
    {
      "cell_type": "markdown",
      "metadata": {
        "id": "XuE5SSgIDYyz",
        "colab_type": "text"
      },
      "source": [
        "## separate variables using train test split"
      ]
    },
    {
      "cell_type": "code",
      "metadata": {
        "id": "mg6NmoY9DYy0",
        "colab_type": "code",
        "colab": {
          "base_uri": "https://localhost:8080/",
          "height": 51
        },
        "outputId": "3f11d378-acb0-4262-b097-d67179904b8c"
      },
      "source": [
        "# target variable = health\n",
        "y = tree['health'].values\n",
        "X = tree.drop('health', axis=1).values\n",
        "\n",
        "# train test split\n",
        "X_train, X_test, y_train, y_test = train_test_split(X, y, test_size=0.25, random_state=42, stratify=y)\n",
        "\n",
        "print(X_train.shape, y_train.shape)\n",
        "print(X_test.shape, y_test.shape)"
      ],
      "execution_count": 6,
      "outputs": [
        {
          "output_type": "stream",
          "text": [
            "(488651, 28) (488651,)\n",
            "(162884, 28) (162884,)\n"
          ],
          "name": "stdout"
        }
      ]
    },
    {
      "cell_type": "markdown",
      "metadata": {
        "id": "MFjrTp8lDYy5",
        "colab_type": "text"
      },
      "source": [
        "## algorithm functions"
      ]
    },
    {
      "cell_type": "code",
      "metadata": {
        "id": "6LjXONdDDYy6",
        "colab_type": "code",
        "colab": {}
      },
      "source": [
        "# logistic regression\n",
        "\n",
        "def logreg(X_train, X_test, y_train, y_test):\n",
        "    logreg = LogisticRegression(random_state=42)\n",
        "    logreg.fit(X_train, y_train)\n",
        "    y_pred = logreg.predict(X_test)\n",
        "    \n",
        "    print('Logistic Regression \\n')\n",
        "    \n",
        "    # accuracy scores\n",
        "    print('Accuracy Score, Training Set: ', logreg.score(X_train, y_train))\n",
        "    print('Accuracy Score, Test Set: ', logreg.score(X_test, y_test))\n",
        "    \n",
        "    # classification report\n",
        "    print('Classification Report \\n')\n",
        "    print(classification_report(y_test, y_pred))"
      ],
      "execution_count": 7,
      "outputs": []
    },
    {
      "cell_type": "code",
      "metadata": {
        "id": "BL6m9YavDYzB",
        "colab_type": "code",
        "colab": {}
      },
      "source": [
        "# k-nearest neighbors\n",
        "\n",
        "def knn(X_train, X_test, y_train, y_test):\n",
        "    knn = KNeighborsClassifier(n_neighbors=5)\n",
        "    knn.fit(X_train, y_train)\n",
        "    y_pred = knn.predict(X_test)\n",
        "    \n",
        "    print('KNN Classifier \\n')\n",
        "    \n",
        "    # accuracy scores\n",
        "    print('Accuracy Score, Training Set: ', knn.score(X_train, y_train))\n",
        "    print('Accuracy Score, Test Set: ', knn.score(X_test, y_test))\n",
        "    \n",
        "    # classificatin report\n",
        "    print('Classification Report \\n')\n",
        "    print(classification_report(y_test, y_pred))"
      ],
      "execution_count": 8,
      "outputs": []
    },
    {
      "cell_type": "code",
      "metadata": {
        "id": "GIGVixNbDYzE",
        "colab_type": "code",
        "colab": {}
      },
      "source": [
        "# decision tree classifier\n",
        "\n",
        "def decision_tree(X_train, X_test, y_train, y_test):\n",
        "    decision_tree = DecisionTreeClassifier(random_state=42)\n",
        "    decision_tree.fit(X_train, y_train)\n",
        "    y_pred = decision_tree.predict(X_test)\n",
        "    \n",
        "    print('Decision Tree Classifier \\n')\n",
        "    \n",
        "    # accuracy scores\n",
        "    print('Accuracy Score, Training Set:', decision_tree.score(X_train, y_train))\n",
        "    print('Accuracy Score, Test Set:', decision_tree.score(X_test, y_test))\n",
        "    \n",
        "    # classification report\n",
        "    print('Classification Report \\n')\n",
        "    print(classification_report(y_test, y_pred))"
      ],
      "execution_count": 9,
      "outputs": []
    },
    {
      "cell_type": "code",
      "metadata": {
        "id": "re3RBurhDYzI",
        "colab_type": "code",
        "colab": {}
      },
      "source": [
        "# random forest classifier\n",
        "\n",
        "def random_forest(X_train, X_test, y_train, y_test):\n",
        "    rf = RandomForestClassifier(random_state=42)\n",
        "    rf.fit(X_train, y_train)\n",
        "    y_pred = rf.predict(X_test)\n",
        "    \n",
        "    print('Random Forest Classifier \\n')\n",
        "    \n",
        "    # accuracy scores\n",
        "    print('Accuracy Score, Training Set:', rf.score(X_train, y_train))\n",
        "    print('Accuracy Score, Test Set:', rf.score(X_test, y_test))\n",
        "    \n",
        "    # classification report\n",
        "    print('Classification Report \\n')\n",
        "    print(classification_report(y_test, y_pred))"
      ],
      "execution_count": 10,
      "outputs": []
    },
    {
      "cell_type": "markdown",
      "metadata": {
        "id": "YNwGz_lbDYzL",
        "colab_type": "text"
      },
      "source": [
        "# Baseline - DummyClassifier"
      ]
    },
    {
      "cell_type": "markdown",
      "metadata": {
        "id": "2lfYWiIIDYzM",
        "colab_type": "text"
      },
      "source": [
        "This is the control for our models. The accuracy scores show the success rates we should expect based on the strategies used for simple guessing."
      ]
    },
    {
      "cell_type": "code",
      "metadata": {
        "id": "W1RAjgDaDYzN",
        "colab_type": "code",
        "colab": {
          "base_uri": "https://localhost:8080/",
          "height": 85
        },
        "outputId": "abe8d1d5-823f-41c0-b9fc-5185653c2830"
      },
      "source": [
        "strategies = ['most_frequent', 'stratified', 'uniform', 'constant'] # strategies available\n",
        "  \n",
        "for s in strategies: \n",
        "    if s =='constant': \n",
        "        dummy_classifier = DummyClassifier(strategy=s, random_state=42, constant='Good') \n",
        "    else: \n",
        "        dummy_classifier = DummyClassifier(strategy=s, random_state=42) \n",
        "    dummy_classifier.fit(X_train, y_train) \n",
        "    score = dummy_classifier.score(X_test, y_test) \n",
        "    print(s, score.round(2))"
      ],
      "execution_count": 11,
      "outputs": [
        {
          "output_type": "stream",
          "text": [
            "most_frequent 0.81\n",
            "stratified 0.68\n",
            "uniform 0.33\n",
            "constant 0.81\n"
          ],
          "name": "stdout"
        }
      ]
    },
    {
      "cell_type": "markdown",
      "metadata": {
        "id": "LcYypfBpDYzQ",
        "colab_type": "text"
      },
      "source": [
        "# Random Over Sampler"
      ]
    },
    {
      "cell_type": "markdown",
      "metadata": {
        "id": "RCCHBMhfDYzQ",
        "colab_type": "text"
      },
      "source": [
        "This standard method of over sampling selects minority samples and replicates them until they match the number of samples of the majority class."
      ]
    },
    {
      "cell_type": "code",
      "metadata": {
        "id": "pMy1uSIbDYzR",
        "colab_type": "code",
        "colab": {
          "base_uri": "https://localhost:8080/",
          "height": 122
        },
        "outputId": "62107cbb-f8a3-400e-d331-ebe0ac547262"
      },
      "source": [
        "# initialize\n",
        "ros = RandomOverSampler(random_state=42)\n",
        "X_ros, y_ros = ros.fit_resample(X, y)\n",
        "\n",
        "print('Resampled dataset:', Counter(y_ros))\n",
        "\n",
        "# train test split\n",
        "X_train_rs, X_test_rs, y_train_rs, y_test_rs = train_test_split(X_ros, y_ros, test_size=0.25, random_state=42)\n",
        "\n",
        "print(X_train_rs.shape, y_train_rs.shape)\n",
        "print(X_test_rs.shape, y_test_rs.shape)"
      ],
      "execution_count": 12,
      "outputs": [
        {
          "output_type": "stream",
          "text": [
            "/usr/local/lib/python3.6/dist-packages/sklearn/utils/deprecation.py:87: FutureWarning: Function safe_indexing is deprecated; safe_indexing is deprecated in version 0.22 and will be removed in version 0.24.\n",
            "  warnings.warn(msg, category=FutureWarning)\n"
          ],
          "name": "stderr"
        },
        {
          "output_type": "stream",
          "text": [
            "Resampled dataset: Counter({'Fair': 528327, 'Good': 528327, 'Poor': 528327})\n",
            "(1188735, 28) (1188735,)\n",
            "(396246, 28) (396246,)\n"
          ],
          "name": "stdout"
        }
      ]
    },
    {
      "cell_type": "markdown",
      "metadata": {
        "id": "svtiWS2WDYzU",
        "colab_type": "text"
      },
      "source": [
        "## Logistic Regression"
      ]
    },
    {
      "cell_type": "code",
      "metadata": {
        "id": "C43NPkgFDYzV",
        "colab_type": "code",
        "colab": {
          "base_uri": "https://localhost:8080/",
          "height": 425
        },
        "outputId": "3c518ff6-9089-4108-b02e-deea57d55cc6"
      },
      "source": [
        "logreg(X_train_rs, X_test_rs, y_train_rs, y_test_rs)"
      ],
      "execution_count": 13,
      "outputs": [
        {
          "output_type": "stream",
          "text": [
            "/usr/local/lib/python3.6/dist-packages/sklearn/linear_model/_logistic.py:940: ConvergenceWarning: lbfgs failed to converge (status=1):\n",
            "STOP: TOTAL NO. of ITERATIONS REACHED LIMIT.\n",
            "\n",
            "Increase the number of iterations (max_iter) or scale the data as shown in:\n",
            "    https://scikit-learn.org/stable/modules/preprocessing.html\n",
            "Please also refer to the documentation for alternative solver options:\n",
            "    https://scikit-learn.org/stable/modules/linear_model.html#logistic-regression\n",
            "  extra_warning_msg=_LOGISTIC_SOLVER_CONVERGENCE_MSG)\n"
          ],
          "name": "stderr"
        },
        {
          "output_type": "stream",
          "text": [
            "Logistic Regression \n",
            "\n",
            "Accuracy Score, Training Set:  0.4163938977147977\n",
            "Accuracy Score, Test Set:  0.41573668882461906\n",
            "Classification Report \n",
            "\n",
            "              precision    recall  f1-score   support\n",
            "\n",
            "        Fair       0.39      0.17      0.24    132500\n",
            "        Good       0.41      0.55      0.47    131527\n",
            "        Poor       0.43      0.53      0.47    132219\n",
            "\n",
            "    accuracy                           0.42    396246\n",
            "   macro avg       0.41      0.42      0.39    396246\n",
            "weighted avg       0.41      0.42      0.39    396246\n",
            "\n"
          ],
          "name": "stdout"
        }
      ]
    },
    {
      "cell_type": "markdown",
      "metadata": {
        "id": "FjCgJmaUDYzZ",
        "colab_type": "text"
      },
      "source": [
        "## KNN Classifier"
      ]
    },
    {
      "cell_type": "code",
      "metadata": {
        "id": "ro1bo-IHDYza",
        "colab_type": "code",
        "colab": {
          "base_uri": "https://localhost:8080/",
          "height": 289
        },
        "outputId": "b9e8a009-a5e9-414d-9a5a-be40003b5cbc"
      },
      "source": [
        "knn(X_train_rs, X_test_rs, y_train_rs, y_test_rs)"
      ],
      "execution_count": 14,
      "outputs": [
        {
          "output_type": "stream",
          "text": [
            "KNN Classifier \n",
            "\n",
            "Accuracy Score, Training Set:  0.8925647852549138\n",
            "Accuracy Score, Test Set:  0.8357686891476507\n",
            "Classification Report \n",
            "\n",
            "              precision    recall  f1-score   support\n",
            "\n",
            "        Fair       0.75      0.90      0.82    132500\n",
            "        Good       0.88      0.61      0.72    131527\n",
            "        Poor       0.90      1.00      0.95    132219\n",
            "\n",
            "    accuracy                           0.84    396246\n",
            "   macro avg       0.84      0.84      0.83    396246\n",
            "weighted avg       0.84      0.84      0.83    396246\n",
            "\n"
          ],
          "name": "stdout"
        }
      ]
    },
    {
      "cell_type": "markdown",
      "metadata": {
        "id": "gfjrnsYlDYzd",
        "colab_type": "text"
      },
      "source": [
        "## Decision Tree Classifier"
      ]
    },
    {
      "cell_type": "code",
      "metadata": {
        "id": "hGZ1sjUxDYze",
        "colab_type": "code",
        "colab": {
          "base_uri": "https://localhost:8080/",
          "height": 289
        },
        "outputId": "0bb8138e-96ca-429d-a62d-1cf74aac16bb"
      },
      "source": [
        "decision_tree(X_train_rs, X_test_rs, y_train_rs, y_test_rs)"
      ],
      "execution_count": 15,
      "outputs": [
        {
          "output_type": "stream",
          "text": [
            "Decision Tree Classifier \n",
            "\n",
            "Accuracy Score, Training Set: 0.9999882227746302\n",
            "Accuracy Score, Test Set: 0.9386214624248573\n",
            "Classification Report \n",
            "\n",
            "              precision    recall  f1-score   support\n",
            "\n",
            "        Fair       0.88      0.99      0.93    132500\n",
            "        Good       0.99      0.82      0.90    131527\n",
            "        Poor       0.97      1.00      0.98    132219\n",
            "\n",
            "    accuracy                           0.94    396246\n",
            "   macro avg       0.94      0.94      0.94    396246\n",
            "weighted avg       0.94      0.94      0.94    396246\n",
            "\n"
          ],
          "name": "stdout"
        }
      ]
    },
    {
      "cell_type": "markdown",
      "metadata": {
        "id": "vP9gmGt2DYzh",
        "colab_type": "text"
      },
      "source": [
        "## Random Forest Classifier"
      ]
    },
    {
      "cell_type": "code",
      "metadata": {
        "id": "s1StL-GtDYzi",
        "colab_type": "code",
        "colab": {
          "base_uri": "https://localhost:8080/",
          "height": 289
        },
        "outputId": "09f91a51-9862-4a8c-f443-46b060eb8684"
      },
      "source": [
        "random_forest(X_train_rs, X_test_rs, y_train_rs, y_test_rs)"
      ],
      "execution_count": 16,
      "outputs": [
        {
          "output_type": "stream",
          "text": [
            "Random Forest Classifier \n",
            "\n",
            "Accuracy Score, Training Set: 0.9999747630884932\n",
            "Accuracy Score, Test Set: 0.9533597815498454\n",
            "Classification Report \n",
            "\n",
            "              precision    recall  f1-score   support\n",
            "\n",
            "        Fair       0.90      0.99      0.94    132500\n",
            "        Good       0.99      0.87      0.93    131527\n",
            "        Poor       0.98      1.00      0.99    132219\n",
            "\n",
            "    accuracy                           0.95    396246\n",
            "   macro avg       0.96      0.95      0.95    396246\n",
            "weighted avg       0.96      0.95      0.95    396246\n",
            "\n"
          ],
          "name": "stdout"
        }
      ]
    },
    {
      "cell_type": "markdown",
      "metadata": {
        "id": "t668V_A1DYzk",
        "colab_type": "text"
      },
      "source": [
        "# SMOTE - Synthetic Minority Over-sampling Technique"
      ]
    },
    {
      "cell_type": "markdown",
      "metadata": {
        "id": "vJHe3H2oDYzl",
        "colab_type": "text"
      },
      "source": [
        "The over sampling method SMOTE, or Synthetic Minority Over-sampling Technique, selects minority samples and increases them randomly to match the majority classes."
      ]
    },
    {
      "cell_type": "code",
      "metadata": {
        "id": "760SsZCbDYzl",
        "colab_type": "code",
        "colab": {
          "base_uri": "https://localhost:8080/",
          "height": 156
        },
        "outputId": "e4c937b9-1a86-47ce-9395-0ca45c0aa057"
      },
      "source": [
        "# initialize\n",
        "sm = SMOTE(random_state=42)\n",
        "X_sm, y_sm = sm.fit_resample(X, y)\n",
        "\n",
        "print('Resampled dataset:', Counter(y_sm))\n",
        "\n",
        "# train test split\n",
        "X_train_sm, X_test_sm, y_train_sm, y_test_sm = train_test_split(X_sm, y_sm, test_size=0.25, random_state=42)\n",
        "\n",
        "print(X_train_sm.shape, y_train_sm.shape)\n",
        "print(X_test_sm.shape, y_test_sm.shape)"
      ],
      "execution_count": 17,
      "outputs": [
        {
          "output_type": "stream",
          "text": [
            "/usr/local/lib/python3.6/dist-packages/sklearn/utils/deprecation.py:87: FutureWarning: Function safe_indexing is deprecated; safe_indexing is deprecated in version 0.22 and will be removed in version 0.24.\n",
            "  warnings.warn(msg, category=FutureWarning)\n",
            "/usr/local/lib/python3.6/dist-packages/sklearn/utils/deprecation.py:87: FutureWarning: Function safe_indexing is deprecated; safe_indexing is deprecated in version 0.22 and will be removed in version 0.24.\n",
            "  warnings.warn(msg, category=FutureWarning)\n"
          ],
          "name": "stderr"
        },
        {
          "output_type": "stream",
          "text": [
            "Resampled dataset: Counter({'Fair': 528327, 'Good': 528327, 'Poor': 528327})\n",
            "(1188735, 28) (1188735,)\n",
            "(396246, 28) (396246,)\n"
          ],
          "name": "stdout"
        }
      ]
    },
    {
      "cell_type": "markdown",
      "metadata": {
        "id": "TFdmc6gUDYzo",
        "colab_type": "text"
      },
      "source": [
        "## Logistic Regression"
      ]
    },
    {
      "cell_type": "code",
      "metadata": {
        "id": "yH45ExXADYzo",
        "colab_type": "code",
        "colab": {
          "base_uri": "https://localhost:8080/",
          "height": 425
        },
        "outputId": "711714c1-fbdd-413f-c224-5bc56e04a04a"
      },
      "source": [
        "logreg(X_train_sm, X_test_sm, y_train_sm, y_test_sm)"
      ],
      "execution_count": 18,
      "outputs": [
        {
          "output_type": "stream",
          "text": [
            "/usr/local/lib/python3.6/dist-packages/sklearn/linear_model/_logistic.py:940: ConvergenceWarning: lbfgs failed to converge (status=1):\n",
            "STOP: TOTAL NO. of ITERATIONS REACHED LIMIT.\n",
            "\n",
            "Increase the number of iterations (max_iter) or scale the data as shown in:\n",
            "    https://scikit-learn.org/stable/modules/preprocessing.html\n",
            "Please also refer to the documentation for alternative solver options:\n",
            "    https://scikit-learn.org/stable/modules/linear_model.html#logistic-regression\n",
            "  extra_warning_msg=_LOGISTIC_SOLVER_CONVERGENCE_MSG)\n"
          ],
          "name": "stderr"
        },
        {
          "output_type": "stream",
          "text": [
            "Logistic Regression \n",
            "\n",
            "Accuracy Score, Training Set:  0.41613143383512724\n",
            "Accuracy Score, Test Set:  0.4153959913790928\n",
            "Classification Report \n",
            "\n",
            "              precision    recall  f1-score   support\n",
            "\n",
            "        Fair       0.40      0.16      0.23    132500\n",
            "        Good       0.41      0.54      0.47    131527\n",
            "        Poor       0.42      0.54      0.48    132219\n",
            "\n",
            "    accuracy                           0.42    396246\n",
            "   macro avg       0.41      0.42      0.39    396246\n",
            "weighted avg       0.41      0.42      0.39    396246\n",
            "\n"
          ],
          "name": "stdout"
        }
      ]
    },
    {
      "cell_type": "markdown",
      "metadata": {
        "id": "RbGoLbhqDYzr",
        "colab_type": "text"
      },
      "source": [
        "## KNN Classifier"
      ]
    },
    {
      "cell_type": "code",
      "metadata": {
        "id": "NAz8umRXDYzr",
        "colab_type": "code",
        "colab": {
          "base_uri": "https://localhost:8080/",
          "height": 0
        },
        "outputId": "93f16211-eea7-47af-d81d-f5fae8755167"
      },
      "source": [
        "knn(X_train_sm, X_test_sm, y_train_sm, y_test_sm)"
      ],
      "execution_count": 19,
      "outputs": [
        {
          "output_type": "stream",
          "text": [
            "KNN Classifier \n",
            "\n",
            "Accuracy Score, Training Set:  0.8157949416817036\n",
            "Accuracy Score, Test Set:  0.723179539982738\n",
            "Classification Report \n",
            "\n",
            "              precision    recall  f1-score   support\n",
            "\n",
            "        Fair       0.67      0.74      0.71    132500\n",
            "        Good       0.71      0.62      0.66    131527\n",
            "        Poor       0.79      0.80      0.80    132219\n",
            "\n",
            "    accuracy                           0.72    396246\n",
            "   macro avg       0.72      0.72      0.72    396246\n",
            "weighted avg       0.72      0.72      0.72    396246\n",
            "\n"
          ],
          "name": "stdout"
        }
      ]
    },
    {
      "cell_type": "markdown",
      "metadata": {
        "id": "VoHCYM7sDYzu",
        "colab_type": "text"
      },
      "source": [
        "## Decision Tree Classifier"
      ]
    },
    {
      "cell_type": "code",
      "metadata": {
        "id": "3_OQGF7sDYzu",
        "colab_type": "code",
        "colab": {
          "base_uri": "https://localhost:8080/",
          "height": 0
        },
        "outputId": "b062b87b-eb0b-4099-fc3c-66f693390d38"
      },
      "source": [
        "decision_tree(X_train_sm, X_test_sm, y_train_sm, y_test_sm)"
      ],
      "execution_count": 20,
      "outputs": [
        {
          "output_type": "stream",
          "text": [
            "Decision Tree Classifier \n",
            "\n",
            "Accuracy Score, Training Set: 0.9998704505209319\n",
            "Accuracy Score, Test Set: 0.6994796161980184\n",
            "Classification Report \n",
            "\n",
            "              precision    recall  f1-score   support\n",
            "\n",
            "        Fair       0.67      0.67      0.67    132500\n",
            "        Good       0.67      0.66      0.66    131527\n",
            "        Poor       0.76      0.77      0.76    132219\n",
            "\n",
            "    accuracy                           0.70    396246\n",
            "   macro avg       0.70      0.70      0.70    396246\n",
            "weighted avg       0.70      0.70      0.70    396246\n",
            "\n"
          ],
          "name": "stdout"
        }
      ]
    },
    {
      "cell_type": "markdown",
      "metadata": {
        "id": "erSZ7Fb8DYzx",
        "colab_type": "text"
      },
      "source": [
        "## Random Forest Classifier"
      ]
    },
    {
      "cell_type": "code",
      "metadata": {
        "id": "aXTKX6XNDYzx",
        "colab_type": "code",
        "colab": {
          "base_uri": "https://localhost:8080/",
          "height": 0
        },
        "outputId": "4b4aed61-5eb7-4164-a436-4e4b1d2f163b"
      },
      "source": [
        "random_forest(X_train_sm, X_test_sm, y_train_sm, y_test_sm)"
      ],
      "execution_count": 21,
      "outputs": [
        {
          "output_type": "stream",
          "text": [
            "Random Forest Classifier \n",
            "\n",
            "Accuracy Score, Training Set: 0.9998595145259457\n",
            "Accuracy Score, Test Set: 0.7749680753875118\n",
            "Classification Report \n",
            "\n",
            "              precision    recall  f1-score   support\n",
            "\n",
            "        Fair       0.75      0.75      0.75    132500\n",
            "        Good       0.75      0.73      0.74    131527\n",
            "        Poor       0.82      0.85      0.84    132219\n",
            "\n",
            "    accuracy                           0.77    396246\n",
            "   macro avg       0.77      0.77      0.77    396246\n",
            "weighted avg       0.77      0.77      0.77    396246\n",
            "\n"
          ],
          "name": "stdout"
        }
      ]
    },
    {
      "cell_type": "markdown",
      "metadata": {
        "id": "lFnyCBJpDYz1",
        "colab_type": "text"
      },
      "source": [
        "# ADASYN - Adaptive Synthetic"
      ]
    },
    {
      "cell_type": "markdown",
      "metadata": {
        "id": "V8v2mIE9DYz1",
        "colab_type": "text"
      },
      "source": [
        "The Adaptive Synthetic method, or ADASYN, is similar to SMOTE over sampling. However, ADASYN selectively generates sample points around minority samples using a density distributor and does not create uniform weights like SMOTE."
      ]
    },
    {
      "cell_type": "code",
      "metadata": {
        "id": "HVTM2yTVDYz2",
        "colab_type": "code",
        "colab": {
          "base_uri": "https://localhost:8080/",
          "height": 156
        },
        "outputId": "2c17f5fc-da31-4a53-a41c-234183c56089"
      },
      "source": [
        "# initialize\n",
        "ada = ADASYN(random_state=42)\n",
        "X_ada, y_ada = ada.fit_resample(X, y)\n",
        "\n",
        "print('Resampled dataset:', Counter(y_ada))\n",
        "\n",
        "# train test split\n",
        "X_train_ada, X_test_ada, y_train_ada, y_test_ada = train_test_split(X_ada, y_ada, test_size=0.25, random_state=42)\n",
        "\n",
        "print(X_train_ada.shape, y_train_ada.shape)\n",
        "print(X_test_ada.shape, y_test_ada.shape)"
      ],
      "execution_count": 22,
      "outputs": [
        {
          "output_type": "stream",
          "text": [
            "/usr/local/lib/python3.6/dist-packages/sklearn/utils/deprecation.py:87: FutureWarning: Function safe_indexing is deprecated; safe_indexing is deprecated in version 0.22 and will be removed in version 0.24.\n",
            "  warnings.warn(msg, category=FutureWarning)\n",
            "/usr/local/lib/python3.6/dist-packages/sklearn/utils/deprecation.py:87: FutureWarning: Function safe_indexing is deprecated; safe_indexing is deprecated in version 0.22 and will be removed in version 0.24.\n",
            "  warnings.warn(msg, category=FutureWarning)\n"
          ],
          "name": "stderr"
        },
        {
          "output_type": "stream",
          "text": [
            "Resampled dataset: Counter({'Fair': 534448, 'Good': 528327, 'Poor': 523028})\n",
            "(1189352, 28) (1189352,)\n",
            "(396451, 28) (396451,)\n"
          ],
          "name": "stdout"
        }
      ]
    },
    {
      "cell_type": "markdown",
      "metadata": {
        "id": "IuheyssSDYz5",
        "colab_type": "text"
      },
      "source": [
        "## Logistic Regression"
      ]
    },
    {
      "cell_type": "code",
      "metadata": {
        "id": "w6BqCihKDYz6",
        "colab_type": "code",
        "colab": {
          "base_uri": "https://localhost:8080/",
          "height": 425
        },
        "outputId": "21a3eb7d-61bc-45a9-a87b-9049db897759"
      },
      "source": [
        "logreg(X_train_ada, X_test_ada, y_train_ada, y_test_ada)"
      ],
      "execution_count": 23,
      "outputs": [
        {
          "output_type": "stream",
          "text": [
            "/usr/local/lib/python3.6/dist-packages/sklearn/linear_model/_logistic.py:940: ConvergenceWarning: lbfgs failed to converge (status=1):\n",
            "STOP: TOTAL NO. of ITERATIONS REACHED LIMIT.\n",
            "\n",
            "Increase the number of iterations (max_iter) or scale the data as shown in:\n",
            "    https://scikit-learn.org/stable/modules/preprocessing.html\n",
            "Please also refer to the documentation for alternative solver options:\n",
            "    https://scikit-learn.org/stable/modules/linear_model.html#logistic-regression\n",
            "  extra_warning_msg=_LOGISTIC_SOLVER_CONVERGENCE_MSG)\n"
          ],
          "name": "stderr"
        },
        {
          "output_type": "stream",
          "text": [
            "Logistic Regression \n",
            "\n",
            "Accuracy Score, Training Set:  0.40702416105576816\n",
            "Accuracy Score, Test Set:  0.40713732592426305\n",
            "Classification Report \n",
            "\n",
            "              precision    recall  f1-score   support\n",
            "\n",
            "        Fair       0.39      0.20      0.26    133988\n",
            "        Good       0.40      0.52      0.45    131343\n",
            "        Poor       0.42      0.50      0.46    131120\n",
            "\n",
            "    accuracy                           0.41    396451\n",
            "   macro avg       0.40      0.41      0.39    396451\n",
            "weighted avg       0.40      0.41      0.39    396451\n",
            "\n"
          ],
          "name": "stdout"
        }
      ]
    },
    {
      "cell_type": "markdown",
      "metadata": {
        "id": "YicZsdzADYz9",
        "colab_type": "text"
      },
      "source": [
        "## KNN Classifier"
      ]
    },
    {
      "cell_type": "code",
      "metadata": {
        "id": "NNuGrmTlDYz9",
        "colab_type": "code",
        "colab": {
          "base_uri": "https://localhost:8080/",
          "height": 289
        },
        "outputId": "3d405b4b-84b2-4165-d029-1eaa5c5442d6"
      },
      "source": [
        "knn(X_train_ada, X_test_ada, y_train_ada, y_test_ada)"
      ],
      "execution_count": 24,
      "outputs": [
        {
          "output_type": "stream",
          "text": [
            "KNN Classifier \n",
            "\n",
            "Accuracy Score, Training Set:  0.8057925660359591\n",
            "Accuracy Score, Test Set:  0.7083977591177725\n",
            "Classification Report \n",
            "\n",
            "              precision    recall  f1-score   support\n",
            "\n",
            "        Fair       0.65      0.74      0.69    133988\n",
            "        Good       0.70      0.59      0.64    131343\n",
            "        Poor       0.78      0.80      0.79    131120\n",
            "\n",
            "    accuracy                           0.71    396451\n",
            "   macro avg       0.71      0.71      0.71    396451\n",
            "weighted avg       0.71      0.71      0.71    396451\n",
            "\n"
          ],
          "name": "stdout"
        }
      ]
    },
    {
      "cell_type": "markdown",
      "metadata": {
        "id": "0lg85aCJDY0A",
        "colab_type": "text"
      },
      "source": [
        "## Decision Tree Classifier"
      ]
    },
    {
      "cell_type": "code",
      "metadata": {
        "id": "mVZjGL-UDY0B",
        "colab_type": "code",
        "colab": {
          "base_uri": "https://localhost:8080/",
          "height": 289
        },
        "outputId": "b7fe1ed9-dba1-491c-f2f7-457666dd560f"
      },
      "source": [
        "decision_tree(X_train_ada, X_test_ada, y_train_ada, y_test_ada)"
      ],
      "execution_count": 25,
      "outputs": [
        {
          "output_type": "stream",
          "text": [
            "Decision Tree Classifier \n",
            "\n",
            "Accuracy Score, Training Set: 0.9999268509238645\n",
            "Accuracy Score, Test Set: 0.6851842976811763\n",
            "Classification Report \n",
            "\n",
            "              precision    recall  f1-score   support\n",
            "\n",
            "        Fair       0.65      0.65      0.65    133988\n",
            "        Good       0.65      0.65      0.65    131343\n",
            "        Poor       0.75      0.76      0.75    131120\n",
            "\n",
            "    accuracy                           0.69    396451\n",
            "   macro avg       0.69      0.69      0.69    396451\n",
            "weighted avg       0.68      0.69      0.68    396451\n",
            "\n"
          ],
          "name": "stdout"
        }
      ]
    },
    {
      "cell_type": "markdown",
      "metadata": {
        "id": "lyRxgs3IDY0E",
        "colab_type": "text"
      },
      "source": [
        "## Random Forest Classifier"
      ]
    },
    {
      "cell_type": "code",
      "metadata": {
        "id": "J0HLPv2TDY0E",
        "colab_type": "code",
        "colab": {
          "base_uri": "https://localhost:8080/",
          "height": 289
        },
        "outputId": "cffa8d0d-fdfa-40a6-bc12-64595d77faed"
      },
      "source": [
        "random_forest(X_train_ada, X_test_ada, y_train_ada, y_test_ada)"
      ],
      "execution_count": 26,
      "outputs": [
        {
          "output_type": "stream",
          "text": [
            "Random Forest Classifier \n",
            "\n",
            "Accuracy Score, Training Set: 0.9999066718683788\n",
            "Accuracy Score, Test Set: 0.7627928798262584\n",
            "Classification Report \n",
            "\n",
            "              precision    recall  f1-score   support\n",
            "\n",
            "        Fair       0.74      0.74      0.74    133988\n",
            "        Good       0.74      0.71      0.72    131343\n",
            "        Poor       0.81      0.84      0.83    131120\n",
            "\n",
            "    accuracy                           0.76    396451\n",
            "   macro avg       0.76      0.76      0.76    396451\n",
            "weighted avg       0.76      0.76      0.76    396451\n",
            "\n"
          ],
          "name": "stdout"
        }
      ]
    },
    {
      "cell_type": "markdown",
      "metadata": {
        "id": "Zq65zVqVDY0H",
        "colab_type": "text"
      },
      "source": [
        "# SMOTE Extensions - Borderline SMOTE"
      ]
    },
    {
      "cell_type": "markdown",
      "metadata": {
        "id": "0Z1sKvtxDY0J",
        "colab_type": "text"
      },
      "source": [
        "[Borderline SMOTE](https://link.springer.com/chapter/10.1007/11538059_91) is an over sampling method in which the minority samples on the cusp of being in the majority pile are oversampled. "
      ]
    },
    {
      "cell_type": "code",
      "metadata": {
        "id": "qQloFeH6DY0K",
        "colab_type": "code",
        "colab": {
          "base_uri": "https://localhost:8080/",
          "height": 258
        },
        "outputId": "91ce1ede-7d81-44b8-cad6-242c2e91f6d2"
      },
      "source": [
        "# initialize\n",
        "bsmt = BorderlineSMOTE(random_state=42)\n",
        "X_bsmt, y_bsmt = bsmt.fit_resample(X, y)\n",
        "\n",
        "print('Resampled dataset shape: {}'.format(Counter(y_bsmt)))\n",
        "\n",
        "# train test split\n",
        "X_train_bsmt, X_test_bsmt, y_train_bsmt, y_test_bsmt = train_test_split(X_bsmt, y_bsmt, test_size=0.2, random_state=42)\n",
        "\n",
        "print(X_train_bsmt.shape, y_train_bsmt.shape)\n",
        "print(X_test_bsmt.shape, y_test_bsmt.shape)"
      ],
      "execution_count": 27,
      "outputs": [
        {
          "output_type": "stream",
          "text": [
            "/usr/local/lib/python3.6/dist-packages/sklearn/utils/deprecation.py:87: FutureWarning: Function safe_indexing is deprecated; safe_indexing is deprecated in version 0.22 and will be removed in version 0.24.\n",
            "  warnings.warn(msg, category=FutureWarning)\n",
            "/usr/local/lib/python3.6/dist-packages/sklearn/utils/deprecation.py:87: FutureWarning: Function safe_indexing is deprecated; safe_indexing is deprecated in version 0.22 and will be removed in version 0.24.\n",
            "  warnings.warn(msg, category=FutureWarning)\n",
            "/usr/local/lib/python3.6/dist-packages/sklearn/utils/deprecation.py:87: FutureWarning: Function safe_indexing is deprecated; safe_indexing is deprecated in version 0.22 and will be removed in version 0.24.\n",
            "  warnings.warn(msg, category=FutureWarning)\n",
            "/usr/local/lib/python3.6/dist-packages/sklearn/utils/deprecation.py:87: FutureWarning: Function safe_indexing is deprecated; safe_indexing is deprecated in version 0.22 and will be removed in version 0.24.\n",
            "  warnings.warn(msg, category=FutureWarning)\n",
            "/usr/local/lib/python3.6/dist-packages/sklearn/utils/deprecation.py:87: FutureWarning: Function safe_indexing is deprecated; safe_indexing is deprecated in version 0.22 and will be removed in version 0.24.\n",
            "  warnings.warn(msg, category=FutureWarning)\n"
          ],
          "name": "stderr"
        },
        {
          "output_type": "stream",
          "text": [
            "Resampled dataset shape: Counter({'Fair': 528327, 'Good': 528327, 'Poor': 528327})\n",
            "(1267984, 28) (1267984,)\n",
            "(316997, 28) (316997,)\n"
          ],
          "name": "stdout"
        }
      ]
    },
    {
      "cell_type": "markdown",
      "metadata": {
        "id": "-Biqg-fDDY0N",
        "colab_type": "text"
      },
      "source": [
        "## Logistic Regression"
      ]
    },
    {
      "cell_type": "code",
      "metadata": {
        "id": "TXg15igHDY0N",
        "colab_type": "code",
        "colab": {
          "base_uri": "https://localhost:8080/",
          "height": 0
        },
        "outputId": "bec50033-3073-40bd-e477-c8de270e95af"
      },
      "source": [
        "logreg(X_train_bsmt, X_test_bsmt, y_train_bsmt, y_test_bsmt)"
      ],
      "execution_count": 28,
      "outputs": [
        {
          "output_type": "stream",
          "text": [
            "/usr/local/lib/python3.6/dist-packages/sklearn/linear_model/_logistic.py:940: ConvergenceWarning: lbfgs failed to converge (status=1):\n",
            "STOP: TOTAL NO. of ITERATIONS REACHED LIMIT.\n",
            "\n",
            "Increase the number of iterations (max_iter) or scale the data as shown in:\n",
            "    https://scikit-learn.org/stable/modules/preprocessing.html\n",
            "Please also refer to the documentation for alternative solver options:\n",
            "    https://scikit-learn.org/stable/modules/linear_model.html#logistic-regression\n",
            "  extra_warning_msg=_LOGISTIC_SOLVER_CONVERGENCE_MSG)\n"
          ],
          "name": "stderr"
        },
        {
          "output_type": "stream",
          "text": [
            "Logistic Regression \n",
            "\n",
            "Accuracy Score, Training Set:  0.4567462996378503\n",
            "Accuracy Score, Test Set:  0.4576131635315161\n",
            "Classification Report \n",
            "\n",
            "              precision    recall  f1-score   support\n",
            "\n",
            "        Fair       0.42      0.22      0.29    106019\n",
            "        Good       0.45      0.56      0.50    105078\n",
            "        Poor       0.49      0.59      0.53    105900\n",
            "\n",
            "    accuracy                           0.46    316997\n",
            "   macro avg       0.45      0.46      0.44    316997\n",
            "weighted avg       0.45      0.46      0.44    316997\n",
            "\n"
          ],
          "name": "stdout"
        }
      ]
    },
    {
      "cell_type": "markdown",
      "metadata": {
        "id": "_QHd1_o2DY0Q",
        "colab_type": "text"
      },
      "source": [
        "## KNN Classifier"
      ]
    },
    {
      "cell_type": "code",
      "metadata": {
        "id": "b8QdfLjoDY0R",
        "colab_type": "code",
        "colab": {
          "base_uri": "https://localhost:8080/",
          "height": 0
        },
        "outputId": "59ea0aa2-70fa-4eb4-b874-6395ce722cd9"
      },
      "source": [
        "knn(X_train_bsmt, X_test_bsmt, y_train_bsmt, y_test_bsmt)"
      ],
      "execution_count": 29,
      "outputs": [
        {
          "output_type": "stream",
          "text": [
            "KNN Classifier \n",
            "\n",
            "Accuracy Score, Training Set:  0.8736987217504322\n",
            "Accuracy Score, Test Set:  0.8221434272248633\n",
            "Classification Report \n",
            "\n",
            "              precision    recall  f1-score   support\n",
            "\n",
            "        Fair       0.76      0.82      0.79    106019\n",
            "        Good       0.82      0.72      0.77    105078\n",
            "        Poor       0.88      0.93      0.90    105900\n",
            "\n",
            "    accuracy                           0.82    316997\n",
            "   macro avg       0.82      0.82      0.82    316997\n",
            "weighted avg       0.82      0.82      0.82    316997\n",
            "\n"
          ],
          "name": "stdout"
        }
      ]
    },
    {
      "cell_type": "markdown",
      "metadata": {
        "id": "PVk44kqNDY0T",
        "colab_type": "text"
      },
      "source": [
        "## Decision Tree Classifier"
      ]
    },
    {
      "cell_type": "code",
      "metadata": {
        "id": "QZkxEDUPDY0T",
        "colab_type": "code",
        "colab": {
          "base_uri": "https://localhost:8080/",
          "height": 289
        },
        "outputId": "91627a08-1ebd-46fe-8acf-f6530adc2c93"
      },
      "source": [
        "decision_tree(X_train_bsmt, X_test_bsmt, y_train_bsmt, y_test_bsmt)"
      ],
      "execution_count": 30,
      "outputs": [
        {
          "output_type": "stream",
          "text": [
            "Decision Tree Classifier \n",
            "\n",
            "Accuracy Score, Training Set: 0.9997870635591616\n",
            "Accuracy Score, Test Set: 0.7964649507724048\n",
            "Classification Report \n",
            "\n",
            "              precision    recall  f1-score   support\n",
            "\n",
            "        Fair       0.75      0.76      0.76    106019\n",
            "        Good       0.76      0.73      0.74    105078\n",
            "        Poor       0.88      0.90      0.89    105900\n",
            "\n",
            "    accuracy                           0.80    316997\n",
            "   macro avg       0.80      0.80      0.80    316997\n",
            "weighted avg       0.80      0.80      0.80    316997\n",
            "\n"
          ],
          "name": "stdout"
        }
      ]
    },
    {
      "cell_type": "markdown",
      "metadata": {
        "id": "_Jk1kTSCDY0W",
        "colab_type": "text"
      },
      "source": [
        "## Random Forest Classifier"
      ]
    },
    {
      "cell_type": "code",
      "metadata": {
        "id": "_3ETseb1DY0W",
        "colab_type": "code",
        "colab": {
          "base_uri": "https://localhost:8080/",
          "height": 289
        },
        "outputId": "c662687c-16b3-4283-998f-6b1d57b5bc8b"
      },
      "source": [
        "random_forest(X_train_bsmt, X_test_bsmt, y_train_bsmt, y_test_bsmt)"
      ],
      "execution_count": 31,
      "outputs": [
        {
          "output_type": "stream",
          "text": [
            "Random Forest Classifier \n",
            "\n",
            "Accuracy Score, Training Set: 0.9997618266476549\n",
            "Accuracy Score, Test Set: 0.8541090294229914\n",
            "Classification Report \n",
            "\n",
            "              precision    recall  f1-score   support\n",
            "\n",
            "        Fair       0.82      0.82      0.82    106019\n",
            "        Good       0.82      0.80      0.81    105078\n",
            "        Poor       0.91      0.93      0.92    105900\n",
            "\n",
            "    accuracy                           0.85    316997\n",
            "   macro avg       0.85      0.85      0.85    316997\n",
            "weighted avg       0.85      0.85      0.85    316997\n",
            "\n"
          ],
          "name": "stdout"
        }
      ]
    }
  ]
}