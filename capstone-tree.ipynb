{
 "cells": [
  {
   "cell_type": "markdown",
   "metadata": {},
   "source": [
    "# 2015 Tree Census - NYC"
   ]
  },
  {
   "cell_type": "markdown",
   "metadata": {},
   "source": [
    "The 2015 Tree Census dataset for New York City is collected by volunteers and staff members from NYC Parks & Rec."
   ]
  },
  {
   "cell_type": "markdown",
   "metadata": {},
   "source": [
    "Source: https://catalog.data.gov/dataset/2015-street-tree-census-tree-data\n",
    "<br>\n",
    "Source: https://data.cityofnewyork.us/Environment/2015-Street-Tree-Census-Tree-Data/uvpi-gqnh"
   ]
  },
  {
   "cell_type": "markdown",
   "metadata": {},
   "source": [
    "# Data Wrangling"
   ]
  },
  {
   "cell_type": "code",
   "execution_count": 1,
   "metadata": {},
   "outputs": [],
   "source": [
    "import pandas as pd\n",
    "import numpy as np\n",
    "from numpy.random import seed\n",
    "import matplotlib.pyplot as plt\n",
    "import seaborn as sns\n",
    "\n",
    "%matplotlib inline"
   ]
  },
  {
   "cell_type": "code",
   "execution_count": 2,
   "metadata": {},
   "outputs": [],
   "source": [
    "data = pd.read_csv('2015-tree-census.csv') # import data\n",
    "tree = data # save a copy of data as tree"
   ]
  },
  {
   "cell_type": "code",
   "execution_count": 3,
   "metadata": {
    "scrolled": true
   },
   "outputs": [
    {
     "name": "stdout",
     "output_type": "stream",
     "text": [
      "<class 'pandas.core.frame.DataFrame'>\n",
      "RangeIndex: 683788 entries, 0 to 683787\n",
      "Data columns (total 45 columns):\n",
      "tree_id             683788 non-null int64\n",
      "block_id            683788 non-null int64\n",
      "created_at          683788 non-null object\n",
      "tree_dbh            683788 non-null int64\n",
      "stump_diam          683788 non-null int64\n",
      "curb_loc            683788 non-null object\n",
      "status              683788 non-null object\n",
      "health              652172 non-null object\n",
      "spc_latin           652169 non-null object\n",
      "spc_common          652169 non-null object\n",
      "steward             652173 non-null object\n",
      "guards              652172 non-null object\n",
      "sidewalk            652172 non-null object\n",
      "user_type           683788 non-null object\n",
      "problems            652124 non-null object\n",
      "root_stone          683788 non-null object\n",
      "root_grate          683788 non-null object\n",
      "root_other          683788 non-null object\n",
      "trunk_wire          683788 non-null object\n",
      "trnk_light          683788 non-null object\n",
      "trnk_other          683788 non-null object\n",
      "brch_light          683788 non-null object\n",
      "brch_shoe           683788 non-null object\n",
      "brch_other          683788 non-null object\n",
      "address             683788 non-null object\n",
      "postcode            683788 non-null int64\n",
      "zip_city            683788 non-null object\n",
      "community board     683788 non-null int64\n",
      "borocode            683788 non-null int64\n",
      "borough             683788 non-null object\n",
      "cncldist            683788 non-null int64\n",
      "st_assem            683788 non-null int64\n",
      "st_senate           683788 non-null int64\n",
      "nta                 683788 non-null object\n",
      "nta_name            683788 non-null object\n",
      "boro_ct             683788 non-null int64\n",
      "state               683788 non-null object\n",
      "latitude            683788 non-null float64\n",
      "longitude           683788 non-null float64\n",
      "x_sp                683788 non-null float64\n",
      "y_sp                683788 non-null float64\n",
      "council district    677269 non-null float64\n",
      "census tract        677269 non-null float64\n",
      "bin                 674229 non-null float64\n",
      "bbl                 674229 non-null float64\n",
      "dtypes: float64(8), int64(11), object(26)\n",
      "memory usage: 234.8+ MB\n"
     ]
    }
   ],
   "source": [
    "tree.info()"
   ]
  },
  {
   "cell_type": "code",
   "execution_count": 4,
   "metadata": {},
   "outputs": [
    {
     "data": {
      "text/plain": [
       "(683788, 45)"
      ]
     },
     "execution_count": 4,
     "metadata": {},
     "output_type": "execute_result"
    }
   ],
   "source": [
    "tree.shape"
   ]
  },
  {
   "cell_type": "code",
   "execution_count": 5,
   "metadata": {},
   "outputs": [
    {
     "data": {
      "text/html": [
       "<div>\n",
       "<style scoped>\n",
       "    .dataframe tbody tr th:only-of-type {\n",
       "        vertical-align: middle;\n",
       "    }\n",
       "\n",
       "    .dataframe tbody tr th {\n",
       "        vertical-align: top;\n",
       "    }\n",
       "\n",
       "    .dataframe thead th {\n",
       "        text-align: right;\n",
       "    }\n",
       "</style>\n",
       "<table border=\"1\" class=\"dataframe\">\n",
       "  <thead>\n",
       "    <tr style=\"text-align: right;\">\n",
       "      <th></th>\n",
       "      <th>tree_id</th>\n",
       "      <th>block_id</th>\n",
       "      <th>created_at</th>\n",
       "      <th>tree_dbh</th>\n",
       "      <th>stump_diam</th>\n",
       "      <th>curb_loc</th>\n",
       "      <th>status</th>\n",
       "      <th>health</th>\n",
       "      <th>spc_latin</th>\n",
       "      <th>spc_common</th>\n",
       "      <th>...</th>\n",
       "      <th>boro_ct</th>\n",
       "      <th>state</th>\n",
       "      <th>latitude</th>\n",
       "      <th>longitude</th>\n",
       "      <th>x_sp</th>\n",
       "      <th>y_sp</th>\n",
       "      <th>council district</th>\n",
       "      <th>census tract</th>\n",
       "      <th>bin</th>\n",
       "      <th>bbl</th>\n",
       "    </tr>\n",
       "  </thead>\n",
       "  <tbody>\n",
       "    <tr>\n",
       "      <th>0</th>\n",
       "      <td>180683</td>\n",
       "      <td>348711</td>\n",
       "      <td>08/27/2015</td>\n",
       "      <td>3</td>\n",
       "      <td>0</td>\n",
       "      <td>OnCurb</td>\n",
       "      <td>Alive</td>\n",
       "      <td>Fair</td>\n",
       "      <td>Acer rubrum</td>\n",
       "      <td>red maple</td>\n",
       "      <td>...</td>\n",
       "      <td>4073900</td>\n",
       "      <td>New York</td>\n",
       "      <td>40.723092</td>\n",
       "      <td>-73.844215</td>\n",
       "      <td>1027431.148</td>\n",
       "      <td>202756.7687</td>\n",
       "      <td>29.0</td>\n",
       "      <td>739.0</td>\n",
       "      <td>4052307.0</td>\n",
       "      <td>4.022210e+09</td>\n",
       "    </tr>\n",
       "    <tr>\n",
       "      <th>1</th>\n",
       "      <td>200540</td>\n",
       "      <td>315986</td>\n",
       "      <td>09/03/2015</td>\n",
       "      <td>21</td>\n",
       "      <td>0</td>\n",
       "      <td>OnCurb</td>\n",
       "      <td>Alive</td>\n",
       "      <td>Fair</td>\n",
       "      <td>Quercus palustris</td>\n",
       "      <td>pin oak</td>\n",
       "      <td>...</td>\n",
       "      <td>4097300</td>\n",
       "      <td>New York</td>\n",
       "      <td>40.794111</td>\n",
       "      <td>-73.818679</td>\n",
       "      <td>1034455.701</td>\n",
       "      <td>228644.8374</td>\n",
       "      <td>19.0</td>\n",
       "      <td>973.0</td>\n",
       "      <td>4101931.0</td>\n",
       "      <td>4.044750e+09</td>\n",
       "    </tr>\n",
       "    <tr>\n",
       "      <th>2</th>\n",
       "      <td>204026</td>\n",
       "      <td>218365</td>\n",
       "      <td>09/05/2015</td>\n",
       "      <td>3</td>\n",
       "      <td>0</td>\n",
       "      <td>OnCurb</td>\n",
       "      <td>Alive</td>\n",
       "      <td>Good</td>\n",
       "      <td>Gleditsia triacanthos var. inermis</td>\n",
       "      <td>honeylocust</td>\n",
       "      <td>...</td>\n",
       "      <td>3044900</td>\n",
       "      <td>New York</td>\n",
       "      <td>40.717581</td>\n",
       "      <td>-73.936608</td>\n",
       "      <td>1001822.831</td>\n",
       "      <td>200716.8913</td>\n",
       "      <td>34.0</td>\n",
       "      <td>449.0</td>\n",
       "      <td>3338310.0</td>\n",
       "      <td>3.028870e+09</td>\n",
       "    </tr>\n",
       "    <tr>\n",
       "      <th>3</th>\n",
       "      <td>204337</td>\n",
       "      <td>217969</td>\n",
       "      <td>09/05/2015</td>\n",
       "      <td>10</td>\n",
       "      <td>0</td>\n",
       "      <td>OnCurb</td>\n",
       "      <td>Alive</td>\n",
       "      <td>Good</td>\n",
       "      <td>Gleditsia triacanthos var. inermis</td>\n",
       "      <td>honeylocust</td>\n",
       "      <td>...</td>\n",
       "      <td>3044900</td>\n",
       "      <td>New York</td>\n",
       "      <td>40.713537</td>\n",
       "      <td>-73.934456</td>\n",
       "      <td>1002420.358</td>\n",
       "      <td>199244.2531</td>\n",
       "      <td>34.0</td>\n",
       "      <td>449.0</td>\n",
       "      <td>3338342.0</td>\n",
       "      <td>3.029250e+09</td>\n",
       "    </tr>\n",
       "    <tr>\n",
       "      <th>4</th>\n",
       "      <td>189565</td>\n",
       "      <td>223043</td>\n",
       "      <td>08/30/2015</td>\n",
       "      <td>21</td>\n",
       "      <td>0</td>\n",
       "      <td>OnCurb</td>\n",
       "      <td>Alive</td>\n",
       "      <td>Good</td>\n",
       "      <td>Tilia americana</td>\n",
       "      <td>American linden</td>\n",
       "      <td>...</td>\n",
       "      <td>3016500</td>\n",
       "      <td>New York</td>\n",
       "      <td>40.666778</td>\n",
       "      <td>-73.975979</td>\n",
       "      <td>990913.775</td>\n",
       "      <td>182202.4260</td>\n",
       "      <td>39.0</td>\n",
       "      <td>165.0</td>\n",
       "      <td>3025654.0</td>\n",
       "      <td>3.010850e+09</td>\n",
       "    </tr>\n",
       "  </tbody>\n",
       "</table>\n",
       "<p>5 rows × 45 columns</p>\n",
       "</div>"
      ],
      "text/plain": [
       "   tree_id  block_id  created_at  tree_dbh  stump_diam curb_loc status health  \\\n",
       "0   180683    348711  08/27/2015         3           0   OnCurb  Alive   Fair   \n",
       "1   200540    315986  09/03/2015        21           0   OnCurb  Alive   Fair   \n",
       "2   204026    218365  09/05/2015         3           0   OnCurb  Alive   Good   \n",
       "3   204337    217969  09/05/2015        10           0   OnCurb  Alive   Good   \n",
       "4   189565    223043  08/30/2015        21           0   OnCurb  Alive   Good   \n",
       "\n",
       "                            spc_latin       spc_common  ...  boro_ct  \\\n",
       "0                         Acer rubrum        red maple  ...  4073900   \n",
       "1                   Quercus palustris          pin oak  ...  4097300   \n",
       "2  Gleditsia triacanthos var. inermis      honeylocust  ...  3044900   \n",
       "3  Gleditsia triacanthos var. inermis      honeylocust  ...  3044900   \n",
       "4                     Tilia americana  American linden  ...  3016500   \n",
       "\n",
       "      state   latitude  longitude         x_sp         y_sp council district  \\\n",
       "0  New York  40.723092 -73.844215  1027431.148  202756.7687             29.0   \n",
       "1  New York  40.794111 -73.818679  1034455.701  228644.8374             19.0   \n",
       "2  New York  40.717581 -73.936608  1001822.831  200716.8913             34.0   \n",
       "3  New York  40.713537 -73.934456  1002420.358  199244.2531             34.0   \n",
       "4  New York  40.666778 -73.975979   990913.775  182202.4260             39.0   \n",
       "\n",
       "  census tract        bin           bbl  \n",
       "0        739.0  4052307.0  4.022210e+09  \n",
       "1        973.0  4101931.0  4.044750e+09  \n",
       "2        449.0  3338310.0  3.028870e+09  \n",
       "3        449.0  3338342.0  3.029250e+09  \n",
       "4        165.0  3025654.0  3.010850e+09  \n",
       "\n",
       "[5 rows x 45 columns]"
      ]
     },
     "execution_count": 5,
     "metadata": {},
     "output_type": "execute_result"
    }
   ],
   "source": [
    "tree.head()"
   ]
  },
  {
   "cell_type": "code",
   "execution_count": 6,
   "metadata": {},
   "outputs": [
    {
     "data": {
      "text/plain": [
       "Index(['tree_id', 'block_id', 'created_at', 'tree_dbh', 'stump_diam',\n",
       "       'curb_loc', 'status', 'health', 'spc_latin', 'spc_common', 'steward',\n",
       "       'guards', 'sidewalk', 'user_type', 'problems', 'root_stone',\n",
       "       'root_grate', 'root_other', 'trunk_wire', 'trnk_light', 'trnk_other',\n",
       "       'brch_light', 'brch_shoe', 'brch_other', 'address', 'postcode',\n",
       "       'zip_city', 'community board', 'borocode', 'borough', 'cncldist',\n",
       "       'st_assem', 'st_senate', 'nta', 'nta_name', 'boro_ct', 'state',\n",
       "       'latitude', 'longitude', 'x_sp', 'y_sp', 'council district',\n",
       "       'census tract', 'bin', 'bbl'],\n",
       "      dtype='object')"
      ]
     },
     "execution_count": 6,
     "metadata": {},
     "output_type": "execute_result"
    }
   ],
   "source": [
    "tree.columns"
   ]
  },
  {
   "cell_type": "code",
   "execution_count": 7,
   "metadata": {},
   "outputs": [
    {
     "data": {
      "text/plain": [
       "(683788, 45)"
      ]
     },
     "execution_count": 7,
     "metadata": {},
     "output_type": "execute_result"
    }
   ],
   "source": [
    "# drop duplicates\n",
    "\n",
    "tree = tree.drop_duplicates()\n",
    "\n",
    "tree.shape # there does not appear to be any duplicates"
   ]
  },
  {
   "cell_type": "code",
   "execution_count": 8,
   "metadata": {},
   "outputs": [
    {
     "data": {
      "text/plain": [
       "tree_id                 0\n",
       "block_id                0\n",
       "created_at              0\n",
       "tree_dbh                0\n",
       "stump_diam              0\n",
       "curb_loc                0\n",
       "status                  0\n",
       "health              31616\n",
       "spc_latin           31619\n",
       "spc_common          31619\n",
       "steward             31615\n",
       "guards              31616\n",
       "sidewalk            31616\n",
       "user_type               0\n",
       "problems            31664\n",
       "root_stone              0\n",
       "root_grate              0\n",
       "root_other              0\n",
       "trunk_wire              0\n",
       "trnk_light              0\n",
       "trnk_other              0\n",
       "brch_light              0\n",
       "brch_shoe               0\n",
       "brch_other              0\n",
       "address                 0\n",
       "postcode                0\n",
       "zip_city                0\n",
       "community board         0\n",
       "borocode                0\n",
       "borough                 0\n",
       "cncldist                0\n",
       "st_assem                0\n",
       "st_senate               0\n",
       "nta                     0\n",
       "nta_name                0\n",
       "boro_ct                 0\n",
       "state                   0\n",
       "latitude                0\n",
       "longitude               0\n",
       "x_sp                    0\n",
       "y_sp                    0\n",
       "council district     6519\n",
       "census tract         6519\n",
       "bin                  9559\n",
       "bbl                  9559\n",
       "dtype: int64"
      ]
     },
     "execution_count": 8,
     "metadata": {},
     "output_type": "execute_result"
    }
   ],
   "source": [
    "# display null values\n",
    "\n",
    "tree.isnull().sum() # looks like quite a bit of null values"
   ]
  },
  {
   "cell_type": "code",
   "execution_count": 9,
   "metadata": {},
   "outputs": [],
   "source": [
    "# drop columns that are not needed for analysis\n",
    "\n",
    "drop_list = ['block_id', 'created_at', 'state', 'spc_latin','borocode', 'postcode', 'zip_city', 'user_type','community board', 'cncldist', 'st_assem', 'st_senate', 'nta', 'nta_name', 'boro_ct', 'state', 'latitude', 'longitude', 'x_sp', 'y_sp', 'council district', 'census tract', 'bin', 'bbl']\n",
    "\n",
    "# we are dropping 'spc_latin' since we are using 'spc_common' to account for the types of trees grown in NYC"
   ]
  },
  {
   "cell_type": "code",
   "execution_count": 10,
   "metadata": {},
   "outputs": [],
   "source": [
    "tree.drop(drop_list, axis='columns', inplace=True)"
   ]
  },
  {
   "cell_type": "code",
   "execution_count": 11,
   "metadata": {},
   "outputs": [
    {
     "data": {
      "text/plain": [
       "tree_id           0\n",
       "tree_dbh          0\n",
       "stump_diam        0\n",
       "curb_loc          0\n",
       "status            0\n",
       "health        31616\n",
       "spc_common    31619\n",
       "steward       31615\n",
       "guards        31616\n",
       "sidewalk      31616\n",
       "problems      31664\n",
       "root_stone        0\n",
       "root_grate        0\n",
       "root_other        0\n",
       "trunk_wire        0\n",
       "trnk_light        0\n",
       "trnk_other        0\n",
       "brch_light        0\n",
       "brch_shoe         0\n",
       "brch_other        0\n",
       "address           0\n",
       "borough           0\n",
       "dtype: int64"
      ]
     },
     "execution_count": 11,
     "metadata": {},
     "output_type": "execute_result"
    }
   ],
   "source": [
    "tree.isnull().sum() # new remaining columns"
   ]
  },
  {
   "cell_type": "code",
   "execution_count": 12,
   "metadata": {},
   "outputs": [
    {
     "name": "stdout",
     "output_type": "stream",
     "text": [
      "<class 'pandas.core.frame.DataFrame'>\n",
      "Int64Index: 683788 entries, 0 to 683787\n",
      "Data columns (total 22 columns):\n",
      "tree_id       683788 non-null int64\n",
      "tree_dbh      683788 non-null int64\n",
      "stump_diam    683788 non-null int64\n",
      "curb_loc      683788 non-null object\n",
      "status        683788 non-null object\n",
      "health        652172 non-null object\n",
      "spc_common    652169 non-null object\n",
      "steward       652173 non-null object\n",
      "guards        652172 non-null object\n",
      "sidewalk      652172 non-null object\n",
      "problems      652124 non-null object\n",
      "root_stone    683788 non-null object\n",
      "root_grate    683788 non-null object\n",
      "root_other    683788 non-null object\n",
      "trunk_wire    683788 non-null object\n",
      "trnk_light    683788 non-null object\n",
      "trnk_other    683788 non-null object\n",
      "brch_light    683788 non-null object\n",
      "brch_shoe     683788 non-null object\n",
      "brch_other    683788 non-null object\n",
      "address       683788 non-null object\n",
      "borough       683788 non-null object\n",
      "dtypes: int64(3), object(19)\n",
      "memory usage: 120.0+ MB\n"
     ]
    }
   ],
   "source": [
    "tree.info()"
   ]
  },
  {
   "cell_type": "markdown",
   "metadata": {},
   "source": [
    "Since there are several rows with missing data, we must look into possible reasons why they are absent. Perhaps it is because the tree is listed as 'Stump' or 'Dead' under 'status', which is why the remaining fields lack data."
   ]
  },
  {
   "cell_type": "code",
   "execution_count": 13,
   "metadata": {},
   "outputs": [
    {
     "data": {
      "text/plain": [
       "Alive    652173\n",
       "Stump     17654\n",
       "Dead      13961\n",
       "Name: status, dtype: int64"
      ]
     },
     "execution_count": 13,
     "metadata": {},
     "output_type": "execute_result"
    }
   ],
   "source": [
    "tree.status.value_counts(dropna=False) # show any missing data"
   ]
  },
  {
   "cell_type": "code",
   "execution_count": 14,
   "metadata": {},
   "outputs": [
    {
     "data": {
      "text/plain": [
       "Good    528850\n",
       "Fair     96504\n",
       "NaN      31616\n",
       "Poor     26818\n",
       "Name: health, dtype: int64"
      ]
     },
     "execution_count": 14,
     "metadata": {},
     "output_type": "execute_result"
    }
   ],
   "source": [
    "tree.health.value_counts(dropna=False) # show any missing data\n",
    "\n",
    "# looks like the number of 'NaN' under 'health' is roughly the same as 'Stump / Dead' under 'status'"
   ]
  },
  {
   "cell_type": "markdown",
   "metadata": {},
   "source": [
    "Since 31616 rows lack 'health' data and 31615 rows are classified as 'Stump' or 'Dead' in terms of 'status', there may be a row that does not contain 'health' data and is marked as 'Alive.'"
   ]
  },
  {
   "cell_type": "code",
   "execution_count": 15,
   "metadata": {},
   "outputs": [
    {
     "data": {
      "text/html": [
       "<div>\n",
       "<style scoped>\n",
       "    .dataframe tbody tr th:only-of-type {\n",
       "        vertical-align: middle;\n",
       "    }\n",
       "\n",
       "    .dataframe tbody tr th {\n",
       "        vertical-align: top;\n",
       "    }\n",
       "\n",
       "    .dataframe thead th {\n",
       "        text-align: right;\n",
       "    }\n",
       "</style>\n",
       "<table border=\"1\" class=\"dataframe\">\n",
       "  <thead>\n",
       "    <tr style=\"text-align: right;\">\n",
       "      <th></th>\n",
       "      <th>tree_id</th>\n",
       "      <th>tree_dbh</th>\n",
       "      <th>stump_diam</th>\n",
       "      <th>curb_loc</th>\n",
       "      <th>status</th>\n",
       "      <th>health</th>\n",
       "      <th>spc_common</th>\n",
       "      <th>steward</th>\n",
       "      <th>guards</th>\n",
       "      <th>sidewalk</th>\n",
       "      <th>...</th>\n",
       "      <th>root_grate</th>\n",
       "      <th>root_other</th>\n",
       "      <th>trunk_wire</th>\n",
       "      <th>trnk_light</th>\n",
       "      <th>trnk_other</th>\n",
       "      <th>brch_light</th>\n",
       "      <th>brch_shoe</th>\n",
       "      <th>brch_other</th>\n",
       "      <th>address</th>\n",
       "      <th>borough</th>\n",
       "    </tr>\n",
       "  </thead>\n",
       "  <tbody>\n",
       "    <tr>\n",
       "      <th>32864</th>\n",
       "      <td>245041</td>\n",
       "      <td>16</td>\n",
       "      <td>0</td>\n",
       "      <td>OnCurb</td>\n",
       "      <td>Alive</td>\n",
       "      <td>NaN</td>\n",
       "      <td>green ash</td>\n",
       "      <td>None</td>\n",
       "      <td>None</td>\n",
       "      <td>Damage</td>\n",
       "      <td>...</td>\n",
       "      <td>No</td>\n",
       "      <td>No</td>\n",
       "      <td>No</td>\n",
       "      <td>No</td>\n",
       "      <td>No</td>\n",
       "      <td>No</td>\n",
       "      <td>No</td>\n",
       "      <td>No</td>\n",
       "      <td>84 LUCILLE AVENUE</td>\n",
       "      <td>Staten Island</td>\n",
       "    </tr>\n",
       "  </tbody>\n",
       "</table>\n",
       "<p>1 rows × 22 columns</p>\n",
       "</div>"
      ],
      "text/plain": [
       "       tree_id  tree_dbh  stump_diam curb_loc status health spc_common  \\\n",
       "32864   245041        16           0   OnCurb  Alive    NaN  green ash   \n",
       "\n",
       "      steward guards sidewalk  ... root_grate root_other trunk_wire  \\\n",
       "32864    None   None   Damage  ...         No         No         No   \n",
       "\n",
       "      trnk_light trnk_other brch_light brch_shoe brch_other  \\\n",
       "32864         No         No         No        No         No   \n",
       "\n",
       "                 address        borough  \n",
       "32864  84 LUCILLE AVENUE  Staten Island  \n",
       "\n",
       "[1 rows x 22 columns]"
      ]
     },
     "execution_count": 15,
     "metadata": {},
     "output_type": "execute_result"
    }
   ],
   "source": [
    "# filter for row with missing health data and 'Alive' as 'status'\n",
    "\n",
    "miss_health = tree[(tree.health.isnull()) & (tree.status == 'Alive')]\n",
    "miss_health\n",
    "\n",
    "# located the row!\n",
    "# this row can be removed since the health is unknown, despite the tree being alive"
   ]
  },
  {
   "cell_type": "code",
   "execution_count": 16,
   "metadata": {},
   "outputs": [],
   "source": [
    "# removing the row\n",
    "\n",
    "tree = tree.drop(tree.index[32864])"
   ]
  },
  {
   "cell_type": "markdown",
   "metadata": {},
   "source": [
    "The City of New York mentions that dead trees and stumps do not have data recorded for the following fields:\n",
    "- steward (31615)\n",
    "- guards (31616)\n",
    "- sidewalk (31616)"
   ]
  },
  {
   "cell_type": "markdown",
   "metadata": {},
   "source": [
    "Let's investigate and locate any rows that lack data or may be incorrectly labeled."
   ]
  },
  {
   "cell_type": "code",
   "execution_count": 17,
   "metadata": {},
   "outputs": [
    {
     "data": {
      "text/plain": [
       "(31615, 22)"
      ]
     },
     "execution_count": 17,
     "metadata": {},
     "output_type": "execute_result"
    }
   ],
   "source": [
    "# locate rows with missing 'guards' and 'sidewalk' data\n",
    "\n",
    "guards_sidewalk = tree[(tree.guards.isnull())  & (tree.sidewalk.isnull())]\n",
    "guards_sidewalk.shape\n",
    "\n",
    "# this is consistent with the count for 'steward'"
   ]
  },
  {
   "cell_type": "code",
   "execution_count": 18,
   "metadata": {},
   "outputs": [
    {
     "data": {
      "text/html": [
       "<div>\n",
       "<style scoped>\n",
       "    .dataframe tbody tr th:only-of-type {\n",
       "        vertical-align: middle;\n",
       "    }\n",
       "\n",
       "    .dataframe tbody tr th {\n",
       "        vertical-align: top;\n",
       "    }\n",
       "\n",
       "    .dataframe thead th {\n",
       "        text-align: right;\n",
       "    }\n",
       "</style>\n",
       "<table border=\"1\" class=\"dataframe\">\n",
       "  <thead>\n",
       "    <tr style=\"text-align: right;\">\n",
       "      <th></th>\n",
       "      <th>tree_id</th>\n",
       "      <th>tree_dbh</th>\n",
       "      <th>stump_diam</th>\n",
       "      <th>curb_loc</th>\n",
       "      <th>status</th>\n",
       "      <th>health</th>\n",
       "      <th>spc_common</th>\n",
       "      <th>steward</th>\n",
       "      <th>guards</th>\n",
       "      <th>sidewalk</th>\n",
       "      <th>...</th>\n",
       "      <th>root_grate</th>\n",
       "      <th>root_other</th>\n",
       "      <th>trunk_wire</th>\n",
       "      <th>trnk_light</th>\n",
       "      <th>trnk_other</th>\n",
       "      <th>brch_light</th>\n",
       "      <th>brch_shoe</th>\n",
       "      <th>brch_other</th>\n",
       "      <th>address</th>\n",
       "      <th>borough</th>\n",
       "    </tr>\n",
       "  </thead>\n",
       "  <tbody>\n",
       "    <tr>\n",
       "      <th>427537</th>\n",
       "      <td>630814</td>\n",
       "      <td>11</td>\n",
       "      <td>0</td>\n",
       "      <td>OnCurb</td>\n",
       "      <td>Alive</td>\n",
       "      <td>Poor</td>\n",
       "      <td>NaN</td>\n",
       "      <td>None</td>\n",
       "      <td>NaN</td>\n",
       "      <td>Damage</td>\n",
       "      <td>...</td>\n",
       "      <td>No</td>\n",
       "      <td>No</td>\n",
       "      <td>No</td>\n",
       "      <td>No</td>\n",
       "      <td>No</td>\n",
       "      <td>No</td>\n",
       "      <td>No</td>\n",
       "      <td>No</td>\n",
       "      <td>38-028 CEDAR LANE</td>\n",
       "      <td>Queens</td>\n",
       "    </tr>\n",
       "  </tbody>\n",
       "</table>\n",
       "<p>1 rows × 22 columns</p>\n",
       "</div>"
      ],
      "text/plain": [
       "        tree_id  tree_dbh  stump_diam curb_loc status health spc_common  \\\n",
       "427537   630814        11           0   OnCurb  Alive   Poor        NaN   \n",
       "\n",
       "       steward guards sidewalk  ... root_grate root_other trunk_wire  \\\n",
       "427537    None    NaN   Damage  ...         No         No         No   \n",
       "\n",
       "       trnk_light trnk_other brch_light brch_shoe brch_other  \\\n",
       "427537         No         No         No        No         No   \n",
       "\n",
       "                  address borough  \n",
       "427537  38-028 CEDAR LANE  Queens  \n",
       "\n",
       "[1 rows x 22 columns]"
      ]
     },
     "execution_count": 18,
     "metadata": {},
     "output_type": "execute_result"
    }
   ],
   "source": [
    "# check when guards is null and sidewalk is not\n",
    "\n",
    "guards_null = tree[(tree.guards.isnull()) & (~tree.sidewalk.isnull())]\n",
    "guards_null\n",
    "\n",
    "# tree is alive and in poor health and is not indentified (species)\n",
    "# delete this row"
   ]
  },
  {
   "cell_type": "code",
   "execution_count": 19,
   "metadata": {},
   "outputs": [],
   "source": [
    "# dropping the row\n",
    "\n",
    "tree = tree.drop(index=427537)"
   ]
  },
  {
   "cell_type": "code",
   "execution_count": 20,
   "metadata": {},
   "outputs": [
    {
     "data": {
      "text/html": [
       "<div>\n",
       "<style scoped>\n",
       "    .dataframe tbody tr th:only-of-type {\n",
       "        vertical-align: middle;\n",
       "    }\n",
       "\n",
       "    .dataframe tbody tr th {\n",
       "        vertical-align: top;\n",
       "    }\n",
       "\n",
       "    .dataframe thead th {\n",
       "        text-align: right;\n",
       "    }\n",
       "</style>\n",
       "<table border=\"1\" class=\"dataframe\">\n",
       "  <thead>\n",
       "    <tr style=\"text-align: right;\">\n",
       "      <th></th>\n",
       "      <th>tree_id</th>\n",
       "      <th>tree_dbh</th>\n",
       "      <th>stump_diam</th>\n",
       "      <th>curb_loc</th>\n",
       "      <th>status</th>\n",
       "      <th>health</th>\n",
       "      <th>spc_common</th>\n",
       "      <th>steward</th>\n",
       "      <th>guards</th>\n",
       "      <th>sidewalk</th>\n",
       "      <th>...</th>\n",
       "      <th>root_grate</th>\n",
       "      <th>root_other</th>\n",
       "      <th>trunk_wire</th>\n",
       "      <th>trnk_light</th>\n",
       "      <th>trnk_other</th>\n",
       "      <th>brch_light</th>\n",
       "      <th>brch_shoe</th>\n",
       "      <th>brch_other</th>\n",
       "      <th>address</th>\n",
       "      <th>borough</th>\n",
       "    </tr>\n",
       "  </thead>\n",
       "  <tbody>\n",
       "    <tr>\n",
       "      <th>346236</th>\n",
       "      <td>540677</td>\n",
       "      <td>7</td>\n",
       "      <td>0</td>\n",
       "      <td>OffsetFromCurb</td>\n",
       "      <td>Alive</td>\n",
       "      <td>Good</td>\n",
       "      <td>honeylocust</td>\n",
       "      <td>None</td>\n",
       "      <td>None</td>\n",
       "      <td>NaN</td>\n",
       "      <td>...</td>\n",
       "      <td>No</td>\n",
       "      <td>No</td>\n",
       "      <td>No</td>\n",
       "      <td>No</td>\n",
       "      <td>No</td>\n",
       "      <td>No</td>\n",
       "      <td>No</td>\n",
       "      <td>No</td>\n",
       "      <td>1220 LIBERTY AVENUE</td>\n",
       "      <td>Brooklyn</td>\n",
       "    </tr>\n",
       "  </tbody>\n",
       "</table>\n",
       "<p>1 rows × 22 columns</p>\n",
       "</div>"
      ],
      "text/plain": [
       "        tree_id  tree_dbh  stump_diam        curb_loc status health  \\\n",
       "346236   540677         7           0  OffsetFromCurb  Alive   Good   \n",
       "\n",
       "         spc_common steward guards sidewalk  ... root_grate root_other  \\\n",
       "346236  honeylocust    None   None      NaN  ...         No         No   \n",
       "\n",
       "       trunk_wire trnk_light trnk_other brch_light brch_shoe brch_other  \\\n",
       "346236         No         No         No         No        No         No   \n",
       "\n",
       "                    address   borough  \n",
       "346236  1220 LIBERTY AVENUE  Brooklyn  \n",
       "\n",
       "[1 rows x 22 columns]"
      ]
     },
     "execution_count": 20,
     "metadata": {},
     "output_type": "execute_result"
    }
   ],
   "source": [
    "# check when guards is not null and sidewalk is\n",
    "\n",
    "sidewalk_null = tree[(~tree.guards.isnull()) & (tree.sidewalk.isnull())]\n",
    "sidewalk_null\n",
    "\n",
    "# tree is alive, in good health, and is identified\n",
    "# delete this row"
   ]
  },
  {
   "cell_type": "code",
   "execution_count": 21,
   "metadata": {},
   "outputs": [],
   "source": [
    "# dropping the row\n",
    "\n",
    "tree = tree.drop(index=346236)"
   ]
  },
  {
   "cell_type": "markdown",
   "metadata": {},
   "source": [
    "It looks like there is a row without 'guard' data and another row without 'sidewalk' data. Put together, they consistently show 31615 rows that lack data, same as steward."
   ]
  },
  {
   "cell_type": "code",
   "execution_count": 22,
   "metadata": {},
   "outputs": [],
   "source": [
    "# look for row with sidewalk, without steward\n",
    "\n",
    "steward_sidewalk_null = tree[(~tree.steward.isnull()) & (tree.sidewalk.isnull())] # none\n",
    "\n",
    "# look for row with guards, without steward\n",
    "\n",
    "guards_guards_null = tree[(~tree.steward.isnull()) & (tree.guards.isnull())] # none\n",
    "\n",
    "# look for row with steward\n",
    "\n",
    "steward_null_sidewalk = tree[(tree.steward.isnull()) & (~tree.sidewalk.isnull())] # none\n",
    "steward_null_guards = tree[(tree.steward.isnull()) & (~tree.guards.isnull())] # none"
   ]
  },
  {
   "cell_type": "code",
   "execution_count": 23,
   "metadata": {},
   "outputs": [
    {
     "data": {
      "text/plain": [
       "tree_id           0\n",
       "tree_dbh          0\n",
       "stump_diam        0\n",
       "curb_loc          0\n",
       "status            0\n",
       "health        31615\n",
       "spc_common    31618\n",
       "steward       31615\n",
       "guards        31615\n",
       "sidewalk      31615\n",
       "problems      31663\n",
       "root_stone        0\n",
       "root_grate        0\n",
       "root_other        0\n",
       "trunk_wire        0\n",
       "trnk_light        0\n",
       "trnk_other        0\n",
       "brch_light        0\n",
       "brch_shoe         0\n",
       "brch_other        0\n",
       "address           0\n",
       "borough           0\n",
       "dtype: int64"
      ]
     },
     "execution_count": 23,
     "metadata": {},
     "output_type": "execute_result"
    }
   ],
   "source": [
    "tree.isnull().sum()"
   ]
  },
  {
   "cell_type": "code",
   "execution_count": 24,
   "metadata": {},
   "outputs": [
    {
     "data": {
      "text/plain": [
       "(683785, 22)"
      ]
     },
     "execution_count": 24,
     "metadata": {},
     "output_type": "execute_result"
    }
   ],
   "source": [
    "tree.shape"
   ]
  },
  {
   "cell_type": "code",
   "execution_count": 25,
   "metadata": {},
   "outputs": [
    {
     "data": {
      "text/plain": [
       "(652170, 22)"
      ]
     },
     "execution_count": 25,
     "metadata": {},
     "output_type": "execute_result"
    }
   ],
   "source": [
    "# remove all rows where the 'status' of the tree is 'Stump'\n",
    "# dropping rows that contain a specific value\n",
    "\n",
    "tree = tree[tree.status != 'Stump']\n",
    "\n",
    "# drop rows where 'status' is 'Dead'\n",
    "\n",
    "tree = tree[tree.status != 'Dead']\n",
    "\n",
    "# new tree dataframe includes all rows where 'status' is NOT 'Stump' or 'Dead'\n",
    "\n",
    "tree.shape"
   ]
  },
  {
   "cell_type": "code",
   "execution_count": 26,
   "metadata": {},
   "outputs": [],
   "source": [
    "# removing the column 'stump_diam' since all trees that are 'Alive' have a diameter of 0\n",
    "\n",
    "tree.drop('stump_diam', axis='columns', inplace=True)"
   ]
  },
  {
   "cell_type": "code",
   "execution_count": 27,
   "metadata": {},
   "outputs": [
    {
     "data": {
      "text/plain": [
       "tree_id        0\n",
       "tree_dbh       0\n",
       "curb_loc       0\n",
       "status         0\n",
       "health         0\n",
       "spc_common     4\n",
       "steward        0\n",
       "guards         0\n",
       "sidewalk       0\n",
       "problems      48\n",
       "root_stone     0\n",
       "root_grate     0\n",
       "root_other     0\n",
       "trunk_wire     0\n",
       "trnk_light     0\n",
       "trnk_other     0\n",
       "brch_light     0\n",
       "brch_shoe      0\n",
       "brch_other     0\n",
       "address        0\n",
       "borough        0\n",
       "dtype: int64"
      ]
     },
     "execution_count": 27,
     "metadata": {},
     "output_type": "execute_result"
    }
   ],
   "source": [
    "# check for null values again\n",
    "\n",
    "tree.isnull().sum()"
   ]
  },
  {
   "cell_type": "code",
   "execution_count": 28,
   "metadata": {},
   "outputs": [],
   "source": [
    "# remove the 'status' column too since all trees are 'Alive'\n",
    "\n",
    "tree.drop('status', axis='columns', inplace=True)"
   ]
  },
  {
   "cell_type": "markdown",
   "metadata": {},
   "source": [
    "After removing the rows where the tree is 'Dead' or 'Stump', most columns no longer contain missing data. For the 'problems' column, the empty ones will be removed since there is no way to discern whether or not the tree had any problems due to lack of knowledge. The same will be done for the 'spc_latin' and 'spc_common' columns. Since the sample size is large, removing these columns is okay."
   ]
  },
  {
   "cell_type": "code",
   "execution_count": 29,
   "metadata": {},
   "outputs": [],
   "source": [
    "# locate rows with empty 'spc_common' column\n",
    "\n",
    "null_spc = tree[tree.spc_common.isnull()] # 4 rows × 21 columns"
   ]
  },
  {
   "cell_type": "code",
   "execution_count": 30,
   "metadata": {},
   "outputs": [],
   "source": [
    "# locate rows where problems is NaN\n",
    "\n",
    "problems_null = tree[tree.problems.isnull()]"
   ]
  },
  {
   "cell_type": "code",
   "execution_count": 31,
   "metadata": {},
   "outputs": [
    {
     "data": {
      "text/plain": [
       "tree_id       0\n",
       "tree_dbh      0\n",
       "curb_loc      0\n",
       "health        0\n",
       "spc_common    0\n",
       "steward       0\n",
       "guards        0\n",
       "sidewalk      0\n",
       "problems      0\n",
       "root_stone    0\n",
       "root_grate    0\n",
       "root_other    0\n",
       "trunk_wire    0\n",
       "trnk_light    0\n",
       "trnk_other    0\n",
       "brch_light    0\n",
       "brch_shoe     0\n",
       "brch_other    0\n",
       "address       0\n",
       "borough       0\n",
       "dtype: int64"
      ]
     },
     "execution_count": 31,
     "metadata": {},
     "output_type": "execute_result"
    }
   ],
   "source": [
    "# drop rows where data is missing\n",
    "\n",
    "tree = tree.dropna()\n",
    "\n",
    "# final check for missing values \n",
    "\n",
    "tree.isnull().sum()"
   ]
  },
  {
   "cell_type": "code",
   "execution_count": 32,
   "metadata": {},
   "outputs": [
    {
     "data": {
      "text/html": [
       "<div>\n",
       "<style scoped>\n",
       "    .dataframe tbody tr th:only-of-type {\n",
       "        vertical-align: middle;\n",
       "    }\n",
       "\n",
       "    .dataframe tbody tr th {\n",
       "        vertical-align: top;\n",
       "    }\n",
       "\n",
       "    .dataframe thead th {\n",
       "        text-align: right;\n",
       "    }\n",
       "</style>\n",
       "<table border=\"1\" class=\"dataframe\">\n",
       "  <thead>\n",
       "    <tr style=\"text-align: right;\">\n",
       "      <th></th>\n",
       "      <th>tree_id</th>\n",
       "      <th>tree_dbh</th>\n",
       "      <th>curb_loc</th>\n",
       "      <th>health</th>\n",
       "      <th>spc_common</th>\n",
       "      <th>steward</th>\n",
       "      <th>guards</th>\n",
       "      <th>sidewalk</th>\n",
       "      <th>problems</th>\n",
       "      <th>root_stone</th>\n",
       "      <th>root_grate</th>\n",
       "      <th>root_other</th>\n",
       "      <th>trunk_wire</th>\n",
       "      <th>trnk_light</th>\n",
       "      <th>trnk_other</th>\n",
       "      <th>brch_light</th>\n",
       "      <th>brch_shoe</th>\n",
       "      <th>brch_other</th>\n",
       "      <th>address</th>\n",
       "      <th>borough</th>\n",
       "    </tr>\n",
       "  </thead>\n",
       "  <tbody>\n",
       "    <tr>\n",
       "      <th>0</th>\n",
       "      <td>180683</td>\n",
       "      <td>3</td>\n",
       "      <td>OnCurb</td>\n",
       "      <td>Fair</td>\n",
       "      <td>red maple</td>\n",
       "      <td>None</td>\n",
       "      <td>None</td>\n",
       "      <td>NoDamage</td>\n",
       "      <td>None</td>\n",
       "      <td>No</td>\n",
       "      <td>No</td>\n",
       "      <td>No</td>\n",
       "      <td>No</td>\n",
       "      <td>No</td>\n",
       "      <td>No</td>\n",
       "      <td>No</td>\n",
       "      <td>No</td>\n",
       "      <td>No</td>\n",
       "      <td>108-005 70 AVENUE</td>\n",
       "      <td>Queens</td>\n",
       "    </tr>\n",
       "    <tr>\n",
       "      <th>1</th>\n",
       "      <td>200540</td>\n",
       "      <td>21</td>\n",
       "      <td>OnCurb</td>\n",
       "      <td>Fair</td>\n",
       "      <td>pin oak</td>\n",
       "      <td>None</td>\n",
       "      <td>None</td>\n",
       "      <td>Damage</td>\n",
       "      <td>Stones</td>\n",
       "      <td>Yes</td>\n",
       "      <td>No</td>\n",
       "      <td>No</td>\n",
       "      <td>No</td>\n",
       "      <td>No</td>\n",
       "      <td>No</td>\n",
       "      <td>No</td>\n",
       "      <td>No</td>\n",
       "      <td>No</td>\n",
       "      <td>147-074 7 AVENUE</td>\n",
       "      <td>Queens</td>\n",
       "    </tr>\n",
       "    <tr>\n",
       "      <th>2</th>\n",
       "      <td>204026</td>\n",
       "      <td>3</td>\n",
       "      <td>OnCurb</td>\n",
       "      <td>Good</td>\n",
       "      <td>honeylocust</td>\n",
       "      <td>1or2</td>\n",
       "      <td>None</td>\n",
       "      <td>Damage</td>\n",
       "      <td>None</td>\n",
       "      <td>No</td>\n",
       "      <td>No</td>\n",
       "      <td>No</td>\n",
       "      <td>No</td>\n",
       "      <td>No</td>\n",
       "      <td>No</td>\n",
       "      <td>No</td>\n",
       "      <td>No</td>\n",
       "      <td>No</td>\n",
       "      <td>390 MORGAN AVENUE</td>\n",
       "      <td>Brooklyn</td>\n",
       "    </tr>\n",
       "    <tr>\n",
       "      <th>3</th>\n",
       "      <td>204337</td>\n",
       "      <td>10</td>\n",
       "      <td>OnCurb</td>\n",
       "      <td>Good</td>\n",
       "      <td>honeylocust</td>\n",
       "      <td>None</td>\n",
       "      <td>None</td>\n",
       "      <td>Damage</td>\n",
       "      <td>Stones</td>\n",
       "      <td>Yes</td>\n",
       "      <td>No</td>\n",
       "      <td>No</td>\n",
       "      <td>No</td>\n",
       "      <td>No</td>\n",
       "      <td>No</td>\n",
       "      <td>No</td>\n",
       "      <td>No</td>\n",
       "      <td>No</td>\n",
       "      <td>1027 GRAND STREET</td>\n",
       "      <td>Brooklyn</td>\n",
       "    </tr>\n",
       "    <tr>\n",
       "      <th>4</th>\n",
       "      <td>189565</td>\n",
       "      <td>21</td>\n",
       "      <td>OnCurb</td>\n",
       "      <td>Good</td>\n",
       "      <td>American linden</td>\n",
       "      <td>None</td>\n",
       "      <td>None</td>\n",
       "      <td>Damage</td>\n",
       "      <td>Stones</td>\n",
       "      <td>Yes</td>\n",
       "      <td>No</td>\n",
       "      <td>No</td>\n",
       "      <td>No</td>\n",
       "      <td>No</td>\n",
       "      <td>No</td>\n",
       "      <td>No</td>\n",
       "      <td>No</td>\n",
       "      <td>No</td>\n",
       "      <td>603 6 STREET</td>\n",
       "      <td>Brooklyn</td>\n",
       "    </tr>\n",
       "    <tr>\n",
       "      <th>5</th>\n",
       "      <td>190422</td>\n",
       "      <td>11</td>\n",
       "      <td>OnCurb</td>\n",
       "      <td>Good</td>\n",
       "      <td>honeylocust</td>\n",
       "      <td>1or2</td>\n",
       "      <td>Helpful</td>\n",
       "      <td>NoDamage</td>\n",
       "      <td>None</td>\n",
       "      <td>No</td>\n",
       "      <td>No</td>\n",
       "      <td>No</td>\n",
       "      <td>No</td>\n",
       "      <td>No</td>\n",
       "      <td>No</td>\n",
       "      <td>No</td>\n",
       "      <td>No</td>\n",
       "      <td>No</td>\n",
       "      <td>8 COLUMBUS AVENUE</td>\n",
       "      <td>Manhattan</td>\n",
       "    </tr>\n",
       "    <tr>\n",
       "      <th>6</th>\n",
       "      <td>190426</td>\n",
       "      <td>11</td>\n",
       "      <td>OnCurb</td>\n",
       "      <td>Good</td>\n",
       "      <td>honeylocust</td>\n",
       "      <td>1or2</td>\n",
       "      <td>Helpful</td>\n",
       "      <td>NoDamage</td>\n",
       "      <td>None</td>\n",
       "      <td>No</td>\n",
       "      <td>No</td>\n",
       "      <td>No</td>\n",
       "      <td>No</td>\n",
       "      <td>No</td>\n",
       "      <td>No</td>\n",
       "      <td>No</td>\n",
       "      <td>No</td>\n",
       "      <td>No</td>\n",
       "      <td>120 WEST 60 STREET</td>\n",
       "      <td>Manhattan</td>\n",
       "    </tr>\n",
       "    <tr>\n",
       "      <th>7</th>\n",
       "      <td>208649</td>\n",
       "      <td>9</td>\n",
       "      <td>OnCurb</td>\n",
       "      <td>Good</td>\n",
       "      <td>American linden</td>\n",
       "      <td>None</td>\n",
       "      <td>None</td>\n",
       "      <td>NoDamage</td>\n",
       "      <td>MetalGrates</td>\n",
       "      <td>No</td>\n",
       "      <td>Yes</td>\n",
       "      <td>No</td>\n",
       "      <td>No</td>\n",
       "      <td>No</td>\n",
       "      <td>No</td>\n",
       "      <td>No</td>\n",
       "      <td>No</td>\n",
       "      <td>No</td>\n",
       "      <td>311 WEST 50 STREET</td>\n",
       "      <td>Manhattan</td>\n",
       "    </tr>\n",
       "    <tr>\n",
       "      <th>8</th>\n",
       "      <td>209610</td>\n",
       "      <td>6</td>\n",
       "      <td>OnCurb</td>\n",
       "      <td>Good</td>\n",
       "      <td>honeylocust</td>\n",
       "      <td>None</td>\n",
       "      <td>None</td>\n",
       "      <td>NoDamage</td>\n",
       "      <td>None</td>\n",
       "      <td>No</td>\n",
       "      <td>No</td>\n",
       "      <td>No</td>\n",
       "      <td>No</td>\n",
       "      <td>No</td>\n",
       "      <td>No</td>\n",
       "      <td>No</td>\n",
       "      <td>No</td>\n",
       "      <td>No</td>\n",
       "      <td>65 JEROME AVENUE</td>\n",
       "      <td>Staten Island</td>\n",
       "    </tr>\n",
       "    <tr>\n",
       "      <th>9</th>\n",
       "      <td>192755</td>\n",
       "      <td>21</td>\n",
       "      <td>OffsetFromCurb</td>\n",
       "      <td>Fair</td>\n",
       "      <td>London planetree</td>\n",
       "      <td>None</td>\n",
       "      <td>None</td>\n",
       "      <td>NoDamage</td>\n",
       "      <td>None</td>\n",
       "      <td>No</td>\n",
       "      <td>No</td>\n",
       "      <td>No</td>\n",
       "      <td>No</td>\n",
       "      <td>No</td>\n",
       "      <td>No</td>\n",
       "      <td>No</td>\n",
       "      <td>No</td>\n",
       "      <td>No</td>\n",
       "      <td>638 AVENUE Z</td>\n",
       "      <td>Brooklyn</td>\n",
       "    </tr>\n",
       "  </tbody>\n",
       "</table>\n",
       "</div>"
      ],
      "text/plain": [
       "   tree_id  tree_dbh        curb_loc health        spc_common steward  \\\n",
       "0   180683         3          OnCurb   Fair         red maple    None   \n",
       "1   200540        21          OnCurb   Fair           pin oak    None   \n",
       "2   204026         3          OnCurb   Good       honeylocust    1or2   \n",
       "3   204337        10          OnCurb   Good       honeylocust    None   \n",
       "4   189565        21          OnCurb   Good   American linden    None   \n",
       "5   190422        11          OnCurb   Good       honeylocust    1or2   \n",
       "6   190426        11          OnCurb   Good       honeylocust    1or2   \n",
       "7   208649         9          OnCurb   Good   American linden    None   \n",
       "8   209610         6          OnCurb   Good       honeylocust    None   \n",
       "9   192755        21  OffsetFromCurb   Fair  London planetree    None   \n",
       "\n",
       "    guards  sidewalk     problems root_stone root_grate root_other trunk_wire  \\\n",
       "0     None  NoDamage         None         No         No         No         No   \n",
       "1     None    Damage       Stones        Yes         No         No         No   \n",
       "2     None    Damage         None         No         No         No         No   \n",
       "3     None    Damage       Stones        Yes         No         No         No   \n",
       "4     None    Damage       Stones        Yes         No         No         No   \n",
       "5  Helpful  NoDamage         None         No         No         No         No   \n",
       "6  Helpful  NoDamage         None         No         No         No         No   \n",
       "7     None  NoDamage  MetalGrates         No        Yes         No         No   \n",
       "8     None  NoDamage         None         No         No         No         No   \n",
       "9     None  NoDamage         None         No         No         No         No   \n",
       "\n",
       "  trnk_light trnk_other brch_light brch_shoe brch_other             address  \\\n",
       "0         No         No         No        No         No   108-005 70 AVENUE   \n",
       "1         No         No         No        No         No    147-074 7 AVENUE   \n",
       "2         No         No         No        No         No   390 MORGAN AVENUE   \n",
       "3         No         No         No        No         No   1027 GRAND STREET   \n",
       "4         No         No         No        No         No        603 6 STREET   \n",
       "5         No         No         No        No         No   8 COLUMBUS AVENUE   \n",
       "6         No         No         No        No         No  120 WEST 60 STREET   \n",
       "7         No         No         No        No         No  311 WEST 50 STREET   \n",
       "8         No         No         No        No         No    65 JEROME AVENUE   \n",
       "9         No         No         No        No         No        638 AVENUE Z   \n",
       "\n",
       "         borough  \n",
       "0         Queens  \n",
       "1         Queens  \n",
       "2       Brooklyn  \n",
       "3       Brooklyn  \n",
       "4       Brooklyn  \n",
       "5      Manhattan  \n",
       "6      Manhattan  \n",
       "7      Manhattan  \n",
       "8  Staten Island  \n",
       "9       Brooklyn  "
      ]
     },
     "execution_count": 32,
     "metadata": {},
     "output_type": "execute_result"
    }
   ],
   "source": [
    "# take a sample of the cleaned data\n",
    "\n",
    "tree.head(10)"
   ]
  },
  {
   "cell_type": "markdown",
   "metadata": {},
   "source": [
    "To recap, we've narrowed down our data to use specific columns that help us in our analysis and removed any rows that contain missing data. The next step is to discover and analyze any relationships that exist between columns by plotting our data to tell a story."
   ]
  },
  {
   "cell_type": "markdown",
   "metadata": {},
   "source": [
    "# Data Storytelling"
   ]
  },
  {
   "cell_type": "markdown",
   "metadata": {},
   "source": [
    "- Can you count something interesting?\n",
    "- Can you find trends (e.g. high, low, increasing, decreasing, anomalies)?\n",
    "- Can you make a bar plot or a histogram?\n",
    "- Can you compare two related quantities?\n",
    "- Can you make a scatterplot?\n",
    "- Can you make a time-series plot?\n",
    "- Looking at the plots, what are some insights you can make? Do you see any correlations? Is there a hypothesis you’d like to investigate further? What other questions do the insights lead you to ask?\n",
    "- Now that you’ve asked questions, hopefully you’ve found some interesting insights. Is there a narrative or a way of presenting the insights using text and plots that tells a compelling story? What are some other trends/relationships you think will make the story more complete?"
   ]
  },
  {
   "cell_type": "code",
   "execution_count": 33,
   "metadata": {},
   "outputs": [
    {
     "data": {
      "text/plain": [
       "Good    528805\n",
       "Fair     96497\n",
       "Poor     26816\n",
       "Name: health, dtype: int64"
      ]
     },
     "execution_count": 33,
     "metadata": {},
     "output_type": "execute_result"
    }
   ],
   "source": [
    "# let's take a look at the health of the trees, overall\n",
    "\n",
    "tree.health.value_counts()"
   ]
  },
  {
   "cell_type": "code",
   "execution_count": 34,
   "metadata": {},
   "outputs": [
    {
     "data": {
      "text/plain": [
       "Good    0.810904\n",
       "Fair    0.147975\n",
       "Poor    0.041121\n",
       "Name: health, dtype: float64"
      ]
     },
     "execution_count": 34,
     "metadata": {},
     "output_type": "execute_result"
    }
   ],
   "source": [
    "tree.health.value_counts(normalize=True)"
   ]
  },
  {
   "cell_type": "markdown",
   "metadata": {},
   "source": [
    "Trees in NYC are mostly in good condition, only 4.11% are in poor condition."
   ]
  },
  {
   "cell_type": "markdown",
   "metadata": {},
   "source": [
    "## Distribution of Tree Diameters"
   ]
  },
  {
   "cell_type": "markdown",
   "metadata": {},
   "source": [
    "Let's look at the distribution of the diameters of trees grown in NYC. The column we are looking at is 'tree_dbh,' which is described by the NYC Parks & Rec as \"diameter of the tree, measured at approximately 54\" / 137cm above the ground.\""
   ]
  },
  {
   "cell_type": "code",
   "execution_count": 35,
   "metadata": {},
   "outputs": [
    {
     "data": {
      "image/png": "[encoded data removed]",
      "text/plain": [
       "<Figure size 432x288 with 1 Axes>"
      ]
     },
     "metadata": {
      "needs_background": "light"
     },
     "output_type": "display_data"
    }
   ],
   "source": [
    "# plotting the distribution of tree diameters\n",
    "\n",
    "tree['tree_dbh'].plot(kind='hist', title='Diameters of Trees in NYC', color='violet', edgecolor='black')\n",
    "_ = plt.xlabel('Tree Diameter')\n",
    "_ = plt.ylabel('Prevalence in Population')"
   ]
  },
  {
   "cell_type": "markdown",
   "metadata": {},
   "source": [
    "Observe that the diameters greatly skew to the right. It also appears that some exceed 400, which is extreme for trees grown in the city. Let's look into these outliers and remove them from the dataset."
   ]
  },
  {
   "cell_type": "code",
   "execution_count": 36,
   "metadata": {},
   "outputs": [
    {
     "data": {
      "text/plain": [
       "count    652118.000000\n",
       "mean         11.709684\n",
       "std           8.634257\n",
       "min           0.000000\n",
       "25%           5.000000\n",
       "50%          10.000000\n",
       "75%          16.000000\n",
       "max         425.000000\n",
       "Name: tree_dbh, dtype: float64"
      ]
     },
     "execution_count": 36,
     "metadata": {},
     "output_type": "execute_result"
    }
   ],
   "source": [
    "tree['tree_dbh'].describe()"
   ]
  },
  {
   "cell_type": "markdown",
   "metadata": {},
   "source": [
    "Here, we see that the max value is 425 and the min value is 0, both of which are not realistic for diameters of a tree. Referencing the average diameter of a tree, http://biorefinery.utk.edu/technical_reviews/Tree%20Size.pdf, we set the max at 100 and remove any trees whose diameter falls out of this range."
   ]
  },
  {
   "cell_type": "code",
   "execution_count": 37,
   "metadata": {},
   "outputs": [],
   "source": [
    "# all trees must have a diameter: 0 < n <= 100, where n = tree\n",
    "\n",
    "# locate how many trees have a diameter of 0\n",
    "\n",
    "tree_null_diam = tree[tree.tree_dbh == 0] # shape: (222, 25)\n",
    "\n",
    "# remove trees with 0 as diameter\n",
    "\n",
    "tree = tree[tree.tree_dbh != 0]\n",
    "\n",
    "# remove trees with a diameter over 100\n",
    "\n",
    "tree = tree[tree.tree_dbh < 101]"
   ]
  },
  {
   "cell_type": "code",
   "execution_count": 38,
   "metadata": {},
   "outputs": [
    {
     "data": {
      "text/plain": [
       "count    651829.000000\n",
       "mean         11.696164\n",
       "std           8.428281\n",
       "min           1.000000\n",
       "25%           5.000000\n",
       "50%          10.000000\n",
       "75%          16.000000\n",
       "max         100.000000\n",
       "Name: tree_dbh, dtype: float64"
      ]
     },
     "execution_count": 38,
     "metadata": {},
     "output_type": "execute_result"
    }
   ],
   "source": [
    "# another look at 'tree_dbh'\n",
    "\n",
    "tree.tree_dbh.describe()"
   ]
  },
  {
   "cell_type": "code",
   "execution_count": 39,
   "metadata": {
    "scrolled": true
   },
   "outputs": [
    {
     "data": {
      "image/png": "[encoded data removed]",
      "text/plain": [
       "<Figure size 432x288 with 1 Axes>"
      ]
     },
     "metadata": {
      "needs_background": "light"
     },
     "output_type": "display_data"
    }
   ],
   "source": [
    "# plot the new distribution\n",
    "\n",
    "tree['tree_dbh'].plot(kind='hist', title='Diameters of Trees in NYC (After Cleaning)', color='skyblue', edgecolor='black')\n",
    "_ = plt.xlabel('Tree Diameter')\n",
    "_ = plt.ylabel('Prevalence in Population')"
   ]
  },
  {
   "cell_type": "markdown",
   "metadata": {},
   "source": [
    "After removing the extreme values from the dataset, the data is still skewed to the right. It appears that the majority of trees are less than 60 in diameter.\n",
    "<br />\n",
    "For kicks, let's make one last histogram where the maximum diameter is 50."
   ]
  },
  {
   "cell_type": "code",
   "execution_count": 40,
   "metadata": {},
   "outputs": [
    {
     "data": {
      "image/png": "[encoded data removed]",
      "text/plain": [
       "<Figure size 432x288 with 1 Axes>"
      ]
     },
     "metadata": {
      "needs_background": "light"
     },
     "output_type": "display_data"
    }
   ],
   "source": [
    "tree[tree.tree_dbh < 51].tree_dbh.plot(kind='hist', color='orange', edgecolor='black', title='Diameters of Trees, A Closer Look')\n",
    "_ = plt.xlabel('Tree Diameter')\n",
    "_ = plt.ylabel('Prevalence in Population')"
   ]
  },
  {
   "cell_type": "markdown",
   "metadata": {},
   "source": [
    "## Which Boroughs Have the Healthiest / Unhealthiest Trees?"
   ]
  },
  {
   "cell_type": "markdown",
   "metadata": {},
   "source": [
    "Let's look at which boroughs of NYC have the highest proportion of 'good' trees, 'fair' trees, and 'poor' trees."
   ]
  },
  {
   "cell_type": "code",
   "execution_count": 41,
   "metadata": {},
   "outputs": [
    {
     "data": {
      "text/plain": [
       "Queens           237850\n",
       "Brooklyn         169672\n",
       "Staten Island    101353\n",
       "Bronx             80548\n",
       "Manhattan         62406\n",
       "Name: borough, dtype: int64"
      ]
     },
     "execution_count": 41,
     "metadata": {},
     "output_type": "execute_result"
    }
   ],
   "source": [
    "# how many trees are in each borough\n",
    "\n",
    "tree.borough.value_counts()"
   ]
  },
  {
   "cell_type": "code",
   "execution_count": 42,
   "metadata": {},
   "outputs": [
    {
     "data": {
      "image/png": "[encoded data removed]",
      "text/plain": [
       "<Figure size 432x288 with 1 Axes>"
      ]
     },
     "metadata": {
      "needs_background": "light"
     },
     "output_type": "display_data"
    }
   ],
   "source": [
    "# plotting trees by borough\n",
    "\n",
    "boroughs = ['Queens', 'Brooklyn', 'Staten Island', 'Bronx', 'Manhattan']\n",
    "bor_num_trees = tree.borough.value_counts()\n",
    "\n",
    "plt.bar(boroughs, bor_num_trees, color='pink')\n",
    "plt.title('Overview of Trees By Borough')\n",
    "plt.show()"
   ]
  },
  {
   "cell_type": "markdown",
   "metadata": {},
   "source": [
    "The majority of trees are in Queens."
   ]
  },
  {
   "cell_type": "code",
   "execution_count": 43,
   "metadata": {},
   "outputs": [],
   "source": [
    "# separate trees by borough\n",
    "\n",
    "queens = tree[tree.borough == 'Queens']['health'].value_counts()\n",
    "brooklyn = tree[tree.borough == 'Brooklyn']['health'].value_counts()\n",
    "staten_island = tree[tree.borough == 'Staten Island']['health'].value_counts()\n",
    "bronx = tree[tree.borough == 'Bronx']['health'].value_counts()\n",
    "manhattan = tree[tree.borough == 'Manhattan']['health'].value_counts()"
   ]
  },
  {
   "cell_type": "code",
   "execution_count": 44,
   "metadata": {},
   "outputs": [
    {
     "data": {
      "image/png": "[encoded data removed]",
      "text/plain": [
       "<Figure size 1080x1080 with 5 Axes>"
      ]
     },
     "metadata": {
      "needs_background": "light"
     },
     "output_type": "display_data"
    }
   ],
   "source": [
    "# plotting the categorical data\n",
    "\n",
    "health_quality = ['Good', 'Fair', 'Poor']\n",
    "\n",
    "plt.figure(figsize=(15,15))\n",
    "\n",
    "plt.subplot(321)\n",
    "plt.title('Queens')\n",
    "plt.bar(health_quality, queens)\n",
    "plt.subplot(322)\n",
    "plt.title('Brooklyn')\n",
    "plt.bar(health_quality, brooklyn)\n",
    "plt.subplot(323)\n",
    "plt.title('Staten Island')\n",
    "plt.bar(health_quality, staten_island)\n",
    "plt.subplot(324)\n",
    "plt.title('The Bronx')\n",
    "plt.bar(health_quality, bronx)\n",
    "plt.subplot(325)\n",
    "plt.title('Manhattan')\n",
    "plt.bar(health_quality, manhattan)\n",
    "\n",
    "plt.show()"
   ]
  },
  {
   "cell_type": "markdown",
   "metadata": {},
   "source": [
    "Let's plot the percentage of 'good', 'fair', and 'poor' trees by borough."
   ]
  },
  {
   "cell_type": "code",
   "execution_count": 45,
   "metadata": {},
   "outputs": [
    {
     "data": {
      "text/plain": [
       "borough        health\n",
       "Bronx          Good       66572\n",
       "               Fair       10882\n",
       "               Poor        3094\n",
       "Brooklyn       Good      138154\n",
       "               Fair       25062\n",
       "               Poor        6456\n",
       "Manhattan      Good       47343\n",
       "               Fair       11456\n",
       "               Poor        3607\n",
       "Queens         Good      193919\n",
       "               Fair       34524\n",
       "               Poor        9407\n",
       "Staten Island  Good       82594\n",
       "               Fair       14527\n",
       "               Poor        4232\n",
       "Name: health, dtype: int64"
      ]
     },
     "execution_count": 45,
     "metadata": {},
     "output_type": "execute_result"
    }
   ],
   "source": [
    "tree.groupby('borough')['health'].value_counts()"
   ]
  },
  {
   "cell_type": "code",
   "execution_count": 46,
   "metadata": {},
   "outputs": [
    {
     "data": {
      "text/plain": [
       "borough        health\n",
       "Bronx          Good      0.826489\n",
       "               Fair      0.135100\n",
       "               Poor      0.038412\n",
       "Brooklyn       Good      0.814242\n",
       "               Fair      0.147709\n",
       "               Poor      0.038050\n",
       "Manhattan      Good      0.758629\n",
       "               Fair      0.183572\n",
       "               Poor      0.057799\n",
       "Queens         Good      0.815300\n",
       "               Fair      0.145150\n",
       "               Poor      0.039550\n",
       "Staten Island  Good      0.814914\n",
       "               Fair      0.143331\n",
       "               Poor      0.041755\n",
       "Name: health, dtype: float64"
      ]
     },
     "execution_count": 46,
     "metadata": {},
     "output_type": "execute_result"
    }
   ],
   "source": [
    "tree.groupby('borough')['health'].value_counts(normalize=True)"
   ]
  },
  {
   "cell_type": "markdown",
   "metadata": {},
   "source": [
    "After isolating trees to each borough, we see that the distributions of 'good', 'fair', and 'poor' trees are fairly similar. The Bronx has the highest proportion of 'Good' trees and Manhattan has the highest proportion of 'Fair' trees and 'Poor' trees."
   ]
  },
  {
   "cell_type": "markdown",
   "metadata": {},
   "source": [
    "## Are Trees With More Stewards Healthier Than Those Without / Less Stewards?"
   ]
  },
  {
   "cell_type": "markdown",
   "metadata": {},
   "source": [
    "Let's take a look at trees and their steward, which indicates the number of unique signs of stewardship observed for a tree, and see if we can determine if trees with a steward (or more) are healthier than trees without.\n",
    "<br />\n",
    "The Parks & Rec website define 'steward' as \"Indicates the number of unique signs of stewardship observed for this tree. Not recorded for stumps or dead trees.\""
   ]
  },
  {
   "cell_type": "code",
   "execution_count": 47,
   "metadata": {},
   "outputs": [
    {
     "data": {
      "text/plain": [
       "None       487624\n",
       "1or2       143424\n",
       "3or4        19172\n",
       "4orMore      1609\n",
       "Name: steward, dtype: int64"
      ]
     },
     "execution_count": 47,
     "metadata": {},
     "output_type": "execute_result"
    }
   ],
   "source": [
    "# look at stewardship\n",
    "\n",
    "tree.steward.value_counts()"
   ]
  },
  {
   "cell_type": "code",
   "execution_count": 48,
   "metadata": {},
   "outputs": [
    {
     "data": {
      "image/png": "[encoded data removed]",
      "text/plain": [
       "<Figure size 432x288 with 1 Axes>"
      ]
     },
     "metadata": {
      "needs_background": "light"
     },
     "output_type": "display_data"
    }
   ],
   "source": [
    "# visualizing stewardship\n",
    "\n",
    "ste_count = ['None', '1or2', '3or4', '4orMore']\n",
    "ste_trees = tree.steward.value_counts()\n",
    "\n",
    "plt.bar(ste_count, ste_trees, color='salmon')\n",
    "plt.title('Stewardships per Tree')\n",
    "\n",
    "plt.show()"
   ]
  },
  {
   "cell_type": "code",
   "execution_count": 49,
   "metadata": {},
   "outputs": [],
   "source": [
    "# separate trees by number of stewardships\n",
    "\n",
    "steward_none = tree[tree.steward == 'None']['health'].value_counts()\n",
    "steward_one_two = tree[tree.steward == '1or2']['health'].value_counts()\n",
    "steward_three_four = tree[tree.steward == '3or4']['health'].value_counts()\n",
    "steward_four_more = tree[tree.steward == '4orMore']['health'].value_counts()"
   ]
  },
  {
   "cell_type": "code",
   "execution_count": 50,
   "metadata": {},
   "outputs": [
    {
     "data": {
      "image/png": "[encoded data removed]",
      "text/plain": [
       "<Figure size 432x288 with 1 Axes>"
      ]
     },
     "metadata": {
      "needs_background": "light"
     },
     "output_type": "display_data"
    }
   ],
   "source": [
    "_ = plt.bar(health_quality, steward_none, label='None')\n",
    "_ = plt.bar(health_quality, steward_one_two, label='1or2')\n",
    "_ = plt.bar(health_quality, steward_three_four, label='3or4')\n",
    "_ = plt.bar(health_quality, steward_four_more, label='4orMore')\n",
    "_ = plt.title('Stewardships Per Tree')\n",
    "_ = plt.legend()"
   ]
  },
  {
   "cell_type": "code",
   "execution_count": 51,
   "metadata": {},
   "outputs": [
    {
     "data": {
      "image/png": "[encoded data removed]",
      "text/plain": [
       "<Figure size 792x792 with 4 Axes>"
      ]
     },
     "metadata": {
      "needs_background": "light"
     },
     "output_type": "display_data"
    }
   ],
   "source": [
    "# plot the representation\n",
    "\n",
    "health_quality = ['Good', 'Fair', 'Poor']\n",
    "\n",
    "plt.figure(figsize=(11,11))\n",
    "\n",
    "plt.subplot(221)\n",
    "plt.title('No Stewards')\n",
    "plt.bar(health_quality, steward_none)\n",
    "plt.subplot(222)\n",
    "plt.title('1 or 2 Stewards')\n",
    "plt.bar(health_quality, steward_one_two)\n",
    "plt.subplot(223)\n",
    "plt.title('3 or 4 Stewards')\n",
    "plt.bar(health_quality, steward_three_four)\n",
    "plt.subplot(224)\n",
    "plt.title('4 or More Stewards')\n",
    "plt.bar(health_quality, steward_four_more)\n",
    "\n",
    "plt.show()"
   ]
  },
  {
   "cell_type": "code",
   "execution_count": 52,
   "metadata": {},
   "outputs": [
    {
     "data": {
      "text/plain": [
       "steward  health\n",
       "1or2     Good      115261\n",
       "         Fair       21885\n",
       "         Poor        6278\n",
       "3or4     Good       15596\n",
       "         Fair        2829\n",
       "         Poor         747\n",
       "4orMore  Good        1360\n",
       "         Fair         200\n",
       "         Poor          49\n",
       "None     Good      396365\n",
       "         Fair       71537\n",
       "         Poor       19722\n",
       "Name: health, dtype: int64"
      ]
     },
     "execution_count": 52,
     "metadata": {},
     "output_type": "execute_result"
    }
   ],
   "source": [
    "tree.groupby('steward')['health'].value_counts()"
   ]
  },
  {
   "cell_type": "code",
   "execution_count": 53,
   "metadata": {},
   "outputs": [
    {
     "data": {
      "text/plain": [
       "steward  health\n",
       "1or2     Good      0.803638\n",
       "         Fair      0.152590\n",
       "         Poor      0.043772\n",
       "3or4     Good      0.813478\n",
       "         Fair      0.147559\n",
       "         Poor      0.038963\n",
       "4orMore  Good      0.845245\n",
       "         Fair      0.124301\n",
       "         Poor      0.030454\n",
       "None     Good      0.812850\n",
       "         Fair      0.146705\n",
       "         Poor      0.040445\n",
       "Name: health, dtype: float64"
      ]
     },
     "execution_count": 53,
     "metadata": {},
     "output_type": "execute_result"
    }
   ],
   "source": [
    "tree.groupby('steward')['health'].value_counts(normalize=True)"
   ]
  },
  {
   "cell_type": "markdown",
   "metadata": {},
   "source": [
    "The more stewardships a tree has, the less likely it is to be in poor health. In fact, trees with at least 3 stewardships are mostly in 'Good' health."
   ]
  },
  {
   "cell_type": "markdown",
   "metadata": {},
   "source": [
    "## How Do Guards Affect the Health of a Tree?"
   ]
  },
  {
   "cell_type": "markdown",
   "metadata": {},
   "source": [
    "Next, we'll observe if the health of the tree changes based on the condition of the guards present.\n",
    "<br />\n",
    "The Parks & Rec site describes 'guards' as \"indicates whether a guard is present, and if the user felt it was a helpful or harmful guard. Not recorded for dead trees and stumps.\""
   ]
  },
  {
   "cell_type": "code",
   "execution_count": 54,
   "metadata": {},
   "outputs": [
    {
     "data": {
      "text/plain": [
       "None       572012\n",
       "Helpful     51830\n",
       "Harmful     20242\n",
       "Unsure       7745\n",
       "Name: guards, dtype: int64"
      ]
     },
     "execution_count": 54,
     "metadata": {},
     "output_type": "execute_result"
    }
   ],
   "source": [
    "tree.guards.value_counts()"
   ]
  },
  {
   "cell_type": "code",
   "execution_count": 55,
   "metadata": {},
   "outputs": [
    {
     "data": {
      "image/png": "[encoded data removed]",
      "text/plain": [
       "<Figure size 432x288 with 1 Axes>"
      ]
     },
     "metadata": {
      "needs_background": "light"
     },
     "output_type": "display_data"
    }
   ],
   "source": [
    "# plotting guards\n",
    "\n",
    "guards = ['None', 'Helpful', 'Harmful', 'Unsure']\n",
    "tree_guards = tree.guards.value_counts()\n",
    "\n",
    "plt.bar(guards, tree_guards, color='thistle')\n",
    "plt.title('Guards and Tree Health')\n",
    "plt.show()"
   ]
  },
  {
   "cell_type": "code",
   "execution_count": 56,
   "metadata": {},
   "outputs": [],
   "source": [
    "# separate the trees based on guardship\n",
    "\n",
    "guard_none = tree[tree.guards == 'None']['health'].value_counts()\n",
    "guard_helpful = tree[tree.guards == 'Helpful']['health'].value_counts()\n",
    "guard_harmful = tree[tree.guards == 'Harmful']['health'].value_counts()\n",
    "guard_unsure = tree[tree.guards == 'Unsure']['health'].value_counts()"
   ]
  },
  {
   "cell_type": "code",
   "execution_count": 57,
   "metadata": {},
   "outputs": [
    {
     "data": {
      "image/png": "[encoded data removed]",
      "text/plain": [
       "<Figure size 1440x720 with 4 Axes>"
      ]
     },
     "metadata": {
      "needs_background": "light"
     },
     "output_type": "display_data"
    }
   ],
   "source": [
    "health_quality = ['Good', 'Fair', 'Poor']\n",
    "\n",
    "plt.figure(figsize=(20, 10))\n",
    "\n",
    "plt.subplot(2,2,1)\n",
    "plt.title('No Guards')\n",
    "plt.bar(health_quality, guard_none)\n",
    "plt.subplot(2,2,2)\n",
    "plt.title('Helpful Guards')\n",
    "plt.bar(health_quality, guard_helpful)\n",
    "plt.subplot(2,2,3)\n",
    "plt.title('Harmful Guards')\n",
    "plt.bar(health_quality, guard_harmful)\n",
    "plt.subplot(2,2,4)\n",
    "plt.title('Unsure Guards')\n",
    "plt.bar(health_quality, guard_unsure)\n",
    "\n",
    "plt.show()"
   ]
  },
  {
   "cell_type": "code",
   "execution_count": 58,
   "metadata": {},
   "outputs": [
    {
     "data": {
      "image/png": "[encoded data removed]",
      "text/plain": [
       "<Figure size 432x288 with 1 Axes>"
      ]
     },
     "metadata": {
      "needs_background": "light"
     },
     "output_type": "display_data"
    }
   ],
   "source": [
    "_ = plt.bar(health_quality, guard_none, label='No Guards')\n",
    "_ = plt.bar(health_quality, guard_helpful, label='Helpful')\n",
    "_ = plt.bar(health_quality, guard_harmful, label='Harmful')\n",
    "_ = plt.bar(health_quality, guard_unsure, label='Unsure')\n",
    "_ = plt.title('Tree Guardships')\n",
    "_ = plt.legend()"
   ]
  },
  {
   "cell_type": "code",
   "execution_count": 59,
   "metadata": {},
   "outputs": [
    {
     "data": {
      "text/plain": [
       "guards   health\n",
       "Harmful  Good       15315\n",
       "         Fair        3836\n",
       "         Poor        1091\n",
       "Helpful  Good       42610\n",
       "         Fair        7159\n",
       "         Poor        2061\n",
       "None     Good      464747\n",
       "         Fair       84081\n",
       "         Poor       23184\n",
       "Unsure   Good        5910\n",
       "         Fair        1375\n",
       "         Poor         460\n",
       "Name: health, dtype: int64"
      ]
     },
     "execution_count": 59,
     "metadata": {},
     "output_type": "execute_result"
    }
   ],
   "source": [
    "tree.groupby('guards')['health'].value_counts()"
   ]
  },
  {
   "cell_type": "code",
   "execution_count": 60,
   "metadata": {},
   "outputs": [
    {
     "data": {
      "text/plain": [
       "guards   health\n",
       "Harmful  Good      0.756595\n",
       "         Fair      0.189507\n",
       "         Poor      0.053898\n",
       "Helpful  Good      0.822111\n",
       "         Fair      0.138125\n",
       "         Poor      0.039765\n",
       "None     Good      0.812478\n",
       "         Fair      0.146992\n",
       "         Poor      0.040531\n",
       "Unsure   Good      0.763073\n",
       "         Fair      0.177534\n",
       "         Poor      0.059393\n",
       "Name: health, dtype: float64"
      ]
     },
     "execution_count": 60,
     "metadata": {},
     "output_type": "execute_result"
    }
   ],
   "source": [
    "tree.groupby('guards')['health'].value_counts(normalize=True)"
   ]
  },
  {
   "cell_type": "markdown",
   "metadata": {},
   "source": [
    "Trees with helpful guards are the ones with the largest proportion of good health while harmful guards have the biggest proportion of trees with fair health and unsure guards have the most trees with poor health."
   ]
  },
  {
   "cell_type": "markdown",
   "metadata": {},
   "source": [
    "## Do Sidewalks Impact a Tree’s Health?"
   ]
  },
  {
   "cell_type": "markdown",
   "metadata": {},
   "source": [
    "Finally, we'll look at the impact of sidewalks on a tree's health. The Parks & Rec site \"indicates whether one of the sidewalk flags immediately adjacent to the tree was damaged, cracked, or lifted. Not recorded for dead trees and stumps.\""
   ]
  },
  {
   "cell_type": "code",
   "execution_count": 61,
   "metadata": {},
   "outputs": [
    {
     "data": {
      "text/plain": [
       "NoDamage    464699\n",
       "Damage      187130\n",
       "Name: sidewalk, dtype: int64"
      ]
     },
     "execution_count": 61,
     "metadata": {},
     "output_type": "execute_result"
    }
   ],
   "source": [
    "tree.sidewalk.value_counts()"
   ]
  },
  {
   "cell_type": "code",
   "execution_count": 62,
   "metadata": {},
   "outputs": [
    {
     "data": {
      "image/png": "[encoded data removed]",
      "text/plain": [
       "<Figure size 432x288 with 1 Axes>"
      ]
     },
     "metadata": {
      "needs_background": "light"
     },
     "output_type": "display_data"
    }
   ],
   "source": [
    "tree.sidewalk.value_counts().plot(kind='bar', color=['peru', 'skyblue'], title='Not Damaged vs Damaged Trees')\n",
    "plt.show()"
   ]
  },
  {
   "cell_type": "code",
   "execution_count": 63,
   "metadata": {},
   "outputs": [
    {
     "data": {
      "image/png": "[encoded data removed]",
      "text/plain": [
       "<Figure size 1080x360 with 2 Axes>"
      ]
     },
     "metadata": {
      "needs_background": "light"
     },
     "output_type": "display_data"
    }
   ],
   "source": [
    "sidewalk_null = tree[tree.sidewalk == 'NoDamage']['health'].value_counts()\n",
    "sidewalk_damage = tree[tree.sidewalk == 'Damage']['health'].value_counts()\n",
    "\n",
    "health_quality = ['Good', 'Fair', 'Poor']\n",
    "\n",
    "plt.figure(figsize=(15, 5))\n",
    "\n",
    "plt.subplot(121)\n",
    "plt.title('No Damage on Sidewalks')\n",
    "plt.bar(health_quality, sidewalk_null)\n",
    "plt.subplot(122)\n",
    "plt.title('Damaged Sidewalks')\n",
    "plt.bar(health_quality, sidewalk_damage)\n",
    "\n",
    "plt.show()"
   ]
  },
  {
   "cell_type": "code",
   "execution_count": 64,
   "metadata": {},
   "outputs": [
    {
     "data": {
      "text/plain": [
       "sidewalk  health\n",
       "Damage    Good      151844\n",
       "          Fair       28688\n",
       "          Poor        6598\n",
       "NoDamage  Good      376738\n",
       "          Fair       67763\n",
       "          Poor       20198\n",
       "Name: health, dtype: int64"
      ]
     },
     "execution_count": 64,
     "metadata": {},
     "output_type": "execute_result"
    }
   ],
   "source": [
    "tree.groupby('sidewalk')['health'].value_counts()"
   ]
  },
  {
   "cell_type": "code",
   "execution_count": 65,
   "metadata": {},
   "outputs": [
    {
     "data": {
      "text/plain": [
       "sidewalk  health\n",
       "Damage    Good      0.811436\n",
       "          Fair      0.153305\n",
       "          Poor      0.035259\n",
       "NoDamage  Good      0.810714\n",
       "          Fair      0.145821\n",
       "          Poor      0.043465\n",
       "Name: health, dtype: float64"
      ]
     },
     "execution_count": 65,
     "metadata": {},
     "output_type": "execute_result"
    }
   ],
   "source": [
    "tree.groupby('sidewalk')['health'].value_counts(normalize=True)"
   ]
  },
  {
   "cell_type": "markdown",
   "metadata": {},
   "source": [
    "The distribution of good, fair, and poor trees is similar between sidewalks with and without damage."
   ]
  },
  {
   "cell_type": "markdown",
   "metadata": {},
   "source": [
    "## Are Trees on the Curb Healthier Than Those off the Curb?"
   ]
  },
  {
   "cell_type": "markdown",
   "metadata": {},
   "source": [
    "We'll investigate if trees that are on the curb are healthier than trees off the curb. The Parks & Rec describes this as \"location of tree bed in relationship to the curb; trees are either along the curb (OnCurb) or offset from the curb (OffsetFromCurb).\""
   ]
  },
  {
   "cell_type": "code",
   "execution_count": 66,
   "metadata": {},
   "outputs": [
    {
     "data": {
      "text/plain": [
       "OnCurb            625973\n",
       "OffsetFromCurb     25856\n",
       "Name: curb_loc, dtype: int64"
      ]
     },
     "execution_count": 66,
     "metadata": {},
     "output_type": "execute_result"
    }
   ],
   "source": [
    "tree.curb_loc.value_counts()"
   ]
  },
  {
   "cell_type": "code",
   "execution_count": 67,
   "metadata": {},
   "outputs": [
    {
     "data": {
      "image/png": "[encoded data removed]",
      "text/plain": [
       "<Figure size 432x288 with 1 Axes>"
      ]
     },
     "metadata": {
      "needs_background": "light"
     },
     "output_type": "display_data"
    }
   ],
   "source": [
    "tree.curb_loc.value_counts().plot(kind='bar', title='Curbs and Trees', color=['orange', 'brown'])\n",
    "plt.show()"
   ]
  },
  {
   "cell_type": "code",
   "execution_count": 68,
   "metadata": {},
   "outputs": [
    {
     "data": {
      "image/png": "[encoded data removed]",
      "text/plain": [
       "<Figure size 1080x360 with 2 Axes>"
      ]
     },
     "metadata": {
      "needs_background": "light"
     },
     "output_type": "display_data"
    }
   ],
   "source": [
    "curb_on = tree[tree.curb_loc == 'OnCurb']['health'].value_counts()\n",
    "curb_off = tree[tree.curb_loc == 'OffsetFromCurb']['health'].value_counts()\n",
    "\n",
    "health_quality = ['Good', 'Fair', 'Poor']\n",
    "\n",
    "plt.figure(figsize=(15, 5))\n",
    "\n",
    "plt.subplot(121)\n",
    "plt.title('Tree Health on the Curb')\n",
    "plt.bar(health_quality, curb_on)\n",
    "plt.subplot(122)\n",
    "plt.title('Tree Health off the Curb')\n",
    "plt.bar(health_quality, curb_off)\n",
    "\n",
    "plt.show()"
   ]
  },
  {
   "cell_type": "code",
   "execution_count": 69,
   "metadata": {},
   "outputs": [
    {
     "data": {
      "text/plain": [
       "curb_loc        health\n",
       "OffsetFromCurb  Good       20863\n",
       "                Fair        4030\n",
       "                Poor         963\n",
       "OnCurb          Good      507719\n",
       "                Fair       92421\n",
       "                Poor       25833\n",
       "Name: health, dtype: int64"
      ]
     },
     "execution_count": 69,
     "metadata": {},
     "output_type": "execute_result"
    }
   ],
   "source": [
    "tree.groupby('curb_loc')['health'].value_counts()"
   ]
  },
  {
   "cell_type": "code",
   "execution_count": 70,
   "metadata": {},
   "outputs": [
    {
     "data": {
      "text/plain": [
       "curb_loc        health\n",
       "OffsetFromCurb  Good      0.806892\n",
       "                Fair      0.155863\n",
       "                Poor      0.037245\n",
       "OnCurb          Good      0.811088\n",
       "                Fair      0.147644\n",
       "                Poor      0.041269\n",
       "Name: health, dtype: float64"
      ]
     },
     "execution_count": 70,
     "metadata": {},
     "output_type": "execute_result"
    }
   ],
   "source": [
    "tree.groupby('curb_loc')['health'].value_counts(normalize=True)"
   ]
  },
  {
   "cell_type": "markdown",
   "metadata": {},
   "source": [
    "The proportion of good trees on the curb is slightly greater than trees that are offset from the curb. The difference is marginal. Interesingly, there are more poor trees on the curb in proportion to offset from the curb."
   ]
  },
  {
   "cell_type": "markdown",
   "metadata": {},
   "source": [
    "## Is the Diameter of Healthy Trees Bigger or Smaller Than Unhealthy Trees?"
   ]
  },
  {
   "cell_type": "code",
   "execution_count": 71,
   "metadata": {},
   "outputs": [
    {
     "data": {
      "text/plain": [
       "health\n",
       "Fair    10.966263\n",
       "Good    11.965186\n",
       "Poor     9.016644\n",
       "Name: tree_dbh, dtype: float64"
      ]
     },
     "execution_count": 71,
     "metadata": {},
     "output_type": "execute_result"
    }
   ],
   "source": [
    "tree.groupby('health').mean()['tree_dbh']"
   ]
  },
  {
   "cell_type": "code",
   "execution_count": 72,
   "metadata": {},
   "outputs": [
    {
     "data": {
      "text/html": [
       "<div>\n",
       "<style scoped>\n",
       "    .dataframe tbody tr th:only-of-type {\n",
       "        vertical-align: middle;\n",
       "    }\n",
       "\n",
       "    .dataframe tbody tr th {\n",
       "        vertical-align: top;\n",
       "    }\n",
       "\n",
       "    .dataframe thead th {\n",
       "        text-align: right;\n",
       "    }\n",
       "</style>\n",
       "<table border=\"1\" class=\"dataframe\">\n",
       "  <thead>\n",
       "    <tr style=\"text-align: right;\">\n",
       "      <th></th>\n",
       "      <th>health</th>\n",
       "      <th>tree_dbh</th>\n",
       "    </tr>\n",
       "  </thead>\n",
       "  <tbody>\n",
       "    <tr>\n",
       "      <th>0</th>\n",
       "      <td>Fair</td>\n",
       "      <td>10.966263</td>\n",
       "    </tr>\n",
       "    <tr>\n",
       "      <th>1</th>\n",
       "      <td>Good</td>\n",
       "      <td>11.965186</td>\n",
       "    </tr>\n",
       "    <tr>\n",
       "      <th>2</th>\n",
       "      <td>Poor</td>\n",
       "      <td>9.016644</td>\n",
       "    </tr>\n",
       "  </tbody>\n",
       "</table>\n",
       "</div>"
      ],
      "text/plain": [
       "  health   tree_dbh\n",
       "0   Fair  10.966263\n",
       "1   Good  11.965186\n",
       "2   Poor   9.016644"
      ]
     },
     "execution_count": 72,
     "metadata": {},
     "output_type": "execute_result"
    }
   ],
   "source": [
    "tree[['health', 'tree_dbh']].groupby('health', as_index=False).mean()"
   ]
  },
  {
   "cell_type": "markdown",
   "metadata": {},
   "source": [
    "The healthiest trees, labeled 'good', have the largest diameters while the 'poor' trees have the smallest diameters, on average."
   ]
  },
  {
   "cell_type": "code",
   "execution_count": 73,
   "metadata": {},
   "outputs": [
    {
     "data": {
      "text/html": [
       "<div>\n",
       "<style scoped>\n",
       "    .dataframe tbody tr th:only-of-type {\n",
       "        vertical-align: middle;\n",
       "    }\n",
       "\n",
       "    .dataframe tbody tr th {\n",
       "        vertical-align: top;\n",
       "    }\n",
       "\n",
       "    .dataframe thead th {\n",
       "        text-align: right;\n",
       "    }\n",
       "</style>\n",
       "<table border=\"1\" class=\"dataframe\">\n",
       "  <thead>\n",
       "    <tr style=\"text-align: right;\">\n",
       "      <th></th>\n",
       "      <th>health</th>\n",
       "      <th>tree_dbh</th>\n",
       "    </tr>\n",
       "  </thead>\n",
       "  <tbody>\n",
       "    <tr>\n",
       "      <th>0</th>\n",
       "      <td>Fair</td>\n",
       "      <td>9</td>\n",
       "    </tr>\n",
       "    <tr>\n",
       "      <th>1</th>\n",
       "      <td>Good</td>\n",
       "      <td>10</td>\n",
       "    </tr>\n",
       "    <tr>\n",
       "      <th>2</th>\n",
       "      <td>Poor</td>\n",
       "      <td>7</td>\n",
       "    </tr>\n",
       "  </tbody>\n",
       "</table>\n",
       "</div>"
      ],
      "text/plain": [
       "  health  tree_dbh\n",
       "0   Fair         9\n",
       "1   Good        10\n",
       "2   Poor         7"
      ]
     },
     "execution_count": 73,
     "metadata": {},
     "output_type": "execute_result"
    }
   ],
   "source": [
    "# for good measure, let's see if the same is true if we take the median instead of the mean\n",
    "\n",
    "tree[['health', 'tree_dbh']].groupby('health', as_index=False).median()"
   ]
  },
  {
   "cell_type": "markdown",
   "metadata": {},
   "source": [
    "## What Kinds of Trees Are Grown in the City?"
   ]
  },
  {
   "cell_type": "code",
   "execution_count": 74,
   "metadata": {},
   "outputs": [
    {
     "data": {
      "text/plain": [
       "array(['red maple', 'pin oak', 'honeylocust', 'American linden',\n",
       "       'London planetree', 'ginkgo', 'willow oak', 'sycamore maple',\n",
       "       'Amur maple', 'hedge maple', 'American elm', 'ash', 'crab apple',\n",
       "       'silver maple', 'Turkish hazelnut', 'black cherry',\n",
       "       'eastern redcedar', 'Norway maple', 'tulip-poplar', 'sawtooth oak',\n",
       "       'swamp white oak', 'Sophora', 'Chinese fringetree',\n",
       "       'southern magnolia', 'sweetgum', 'Callery pear', 'scarlet oak',\n",
       "       'Atlantic white cedar', 'black oak', 'Japanese zelkova',\n",
       "       'white oak', 'Ohio buckeye', 'northern red oak', 'silver linden',\n",
       "       'pignut hickory', 'Kentucky yellowwood', 'mulberry', 'Douglas-fir',\n",
       "       'crepe myrtle', 'sassafras', 'cherry', 'spruce', 'Chinese elm',\n",
       "       'horse chestnut', 'holly', 'littleleaf linden', 'white pine',\n",
       "       'blackgum', 'Japanese tree lilac', 'hardy rubber tree',\n",
       "       'green ash', 'English oak', 'white ash', 'golden raintree',\n",
       "       \"Schumard's oak\", 'Siberian elm', 'black walnut', 'weeping willow',\n",
       "       'katsura tree', 'black locust', 'Persian ironwood',\n",
       "       'Cornelian cherry', 'Chinese chestnut', 'southern red oak',\n",
       "       'purple-leaf plum', 'crimson king maple', 'Kentucky coffeetree',\n",
       "       'Japanese snowbell', 'sugar maple', 'arborvitae',\n",
       "       'Oklahoma redbud', 'tree of heaven', 'Chinese tree lilac',\n",
       "       'American hornbeam', 'eastern cottonwood', 'eastern hemlock',\n",
       "       'silver birch', 'Atlas cedar', 'empress tree', 'hawthorn',\n",
       "       \"'Schubert' chokecherry\", 'catalpa', 'river birch', 'boxelder',\n",
       "       'European beech', 'Norway spruce', 'Himalayan cedar',\n",
       "       'Amur cork tree', 'Japanese maple', 'shingle oak', 'magnolia',\n",
       "       'smoketree', 'paper birch', 'American beech',\n",
       "       'American hophornbeam', 'American larch', 'pond cypress',\n",
       "       'cockspur hawthorn', 'dawn redwood', 'common hackberry',\n",
       "       'flowering dogwood', 'maple', 'kousa dogwood', 'eastern redbud',\n",
       "       'bald cypress', 'cucumber magnolia', 'serviceberry',\n",
       "       'Osage-orange', 'paperbark maple', 'red pine', 'Scots pine',\n",
       "       'tartar maple', 'black maple', 'blue spruce', 'quaking aspen',\n",
       "       'red horse chestnut', 'black pine', 'Shantung maple',\n",
       "       'European alder', 'Amur maackia', 'European hornbeam', 'bur oak',\n",
       "       'bigtooth aspen', 'trident maple', 'Virginia pine',\n",
       "       'two-winged silverbell', 'pagoda dogwood', 'Japanese hornbeam',\n",
       "       'pine', 'false cypress', 'pitch pine', 'mimosa'], dtype=object)"
      ]
     },
     "execution_count": 74,
     "metadata": {},
     "output_type": "execute_result"
    }
   ],
   "source": [
    "# take a look at all the different trees grown in NYC\n",
    "\n",
    "tree.spc_common.unique()"
   ]
  },
  {
   "cell_type": "markdown",
   "metadata": {},
   "source": [
    "There are numerous different types of trees grown in NYC. Let's take a look at the top 10."
   ]
  },
  {
   "cell_type": "code",
   "execution_count": 75,
   "metadata": {},
   "outputs": [
    {
     "data": {
      "text/plain": [
       "London planetree     86997\n",
       "honeylocust          64246\n",
       "Callery pear         58898\n",
       "pin oak              53167\n",
       "Norway maple         34179\n",
       "littleleaf linden    29733\n",
       "Japanese zelkova     29251\n",
       "cherry               29248\n",
       "ginkgo               21012\n",
       "Sophora              19332\n",
       "Name: spc_common, dtype: int64"
      ]
     },
     "execution_count": 75,
     "metadata": {},
     "output_type": "execute_result"
    }
   ],
   "source": [
    "tree.spc_common.value_counts().head(10)"
   ]
  },
  {
   "cell_type": "code",
   "execution_count": 76,
   "metadata": {},
   "outputs": [
    {
     "data": {
      "image/png": "[encoded data removed]",
      "text/plain": [
       "<Figure size 720x360 with 1 Axes>"
      ]
     },
     "metadata": {
      "needs_background": "light"
     },
     "output_type": "display_data"
    }
   ],
   "source": [
    "tree.spc_common.value_counts().head(10).plot(x='Tree', y='Population', kind='bar', figsize=(10, 5), title='Top 10 Most Popular Trees in NYC')\n",
    "plt.show()\n",
    "\n",
    "### for different colors, create a legend"
   ]
  },
  {
   "cell_type": "code",
   "execution_count": 77,
   "metadata": {},
   "outputs": [
    {
     "data": {
      "image/png": "[encoded data removed]",
      "text/plain": [
       "<Figure size 1800x360 with 1 Axes>"
      ]
     },
     "metadata": {
      "needs_background": "light"
     },
     "output_type": "display_data"
    }
   ],
   "source": [
    "tree.spc_common.value_counts().plot(kind='bar', figsize=(25, 5))\n",
    "plt.show()"
   ]
  },
  {
   "cell_type": "markdown",
   "metadata": {},
   "source": [
    "## What Kinds of Problems Do the Trees Have?"
   ]
  },
  {
   "cell_type": "code",
   "execution_count": 78,
   "metadata": {},
   "outputs": [],
   "source": [
    "# locate overall problems\n",
    "\n",
    "tree_problems = tree.problems # pandas.core.series.Series"
   ]
  },
  {
   "cell_type": "code",
   "execution_count": 79,
   "metadata": {},
   "outputs": [
    {
     "data": {
      "text/plain": [
       "0                         None\n",
       "1                       Stones\n",
       "2                         None\n",
       "3                       Stones\n",
       "4                       Stones\n",
       "5                         None\n",
       "6                         None\n",
       "7                  MetalGrates\n",
       "8                         None\n",
       "9                         None\n",
       "10                        None\n",
       "11                        None\n",
       "12                      Stones\n",
       "13                   RootOther\n",
       "14          Stones,BranchOther\n",
       "15                        None\n",
       "16                        None\n",
       "17                        None\n",
       "18    TrunkLights,BranchLights\n",
       "19                      Stones\n",
       "Name: problems, dtype: object"
      ]
     },
     "execution_count": 79,
     "metadata": {},
     "output_type": "execute_result"
    }
   ],
   "source": [
    "# sample display\n",
    "\n",
    "tree_problems[:20]"
   ]
  },
  {
   "cell_type": "code",
   "execution_count": 80,
   "metadata": {},
   "outputs": [],
   "source": [
    "# split strings by ',' and add into new array 'problems'\n",
    "\n",
    "problems = []\n",
    "\n",
    "for item in tree_problems:\n",
    "    if ',' in item:\n",
    "        split_str = item.split(',')\n",
    "        problems.append(split_str)\n",
    "    else:\n",
    "        problems.append(item)"
   ]
  },
  {
   "cell_type": "code",
   "execution_count": 81,
   "metadata": {},
   "outputs": [
    {
     "data": {
      "text/plain": [
       "['None',\n",
       " 'Stones',\n",
       " 'None',\n",
       " 'Stones',\n",
       " 'Stones',\n",
       " 'None',\n",
       " 'None',\n",
       " 'MetalGrates',\n",
       " 'None',\n",
       " 'None',\n",
       " 'None',\n",
       " 'None',\n",
       " 'Stones',\n",
       " 'RootOther',\n",
       " ['Stones', 'BranchOther'],\n",
       " 'None',\n",
       " 'None',\n",
       " 'None',\n",
       " ['TrunkLights', 'BranchLights'],\n",
       " 'Stones']"
      ]
     },
     "execution_count": 81,
     "metadata": {},
     "output_type": "execute_result"
    }
   ],
   "source": [
    "problems[:20] # sample display list, it's a list of lists"
   ]
  },
  {
   "cell_type": "code",
   "execution_count": 82,
   "metadata": {},
   "outputs": [],
   "source": [
    "# separate the strings in the list of lists and combine them all into one list\n",
    "\n",
    "flat_problems = []\n",
    "\n",
    "for x in range(len(problems)):\n",
    "    if isinstance(problems[x], list) == True:\n",
    "        for subitem in problems[x]:\n",
    "            flat_problems.append(subitem)\n",
    "    else:\n",
    "        flat_problems.append(problems[x])\n",
    "        "
   ]
  },
  {
   "cell_type": "code",
   "execution_count": 83,
   "metadata": {},
   "outputs": [
    {
     "data": {
      "text/plain": [
       "733828"
      ]
     },
     "execution_count": 83,
     "metadata": {},
     "output_type": "execute_result"
    }
   ],
   "source": [
    "len(flat_problems) # list made from list with list of lists"
   ]
  },
  {
   "cell_type": "code",
   "execution_count": 84,
   "metadata": {},
   "outputs": [
    {
     "data": {
      "text/plain": [
       "Counter({'None': 426046,\n",
       "         'Stones': 139965,\n",
       "         'MetalGrates': 3536,\n",
       "         'RootOther': 30311,\n",
       "         'BranchOther': 24347,\n",
       "         'TrunkLights': 1031,\n",
       "         'BranchLights': 62351,\n",
       "         'TrunkOther': 32565,\n",
       "         'WiresRope': 13267,\n",
       "         'Sneakers': 409})"
      ]
     },
     "execution_count": 84,
     "metadata": {},
     "output_type": "execute_result"
    }
   ],
   "source": [
    "# count how often each value occurs in the list\n",
    "\n",
    "from collections import Counter\n",
    "\n",
    "Counter(flat_problems)"
   ]
  },
  {
   "cell_type": "code",
   "execution_count": 85,
   "metadata": {},
   "outputs": [
    {
     "data": {
      "text/plain": [
       "None            426046\n",
       "Stones          139965\n",
       "BranchLights     62351\n",
       "TrunkOther       32565\n",
       "RootOther        30311\n",
       "BranchOther      24347\n",
       "WiresRope        13267\n",
       "MetalGrates       3536\n",
       "TrunkLights       1031\n",
       "Sneakers           409\n",
       "dtype: int64"
      ]
     },
     "execution_count": 85,
     "metadata": {},
     "output_type": "execute_result"
    }
   ],
   "source": [
    "# convert to series\n",
    "\n",
    "series_problems = pd.Series(flat_problems)\n",
    "\n",
    "series_problems.value_counts()"
   ]
  },
  {
   "cell_type": "code",
   "execution_count": 86,
   "metadata": {},
   "outputs": [
    {
     "data": {
      "text/plain": [
       "<matplotlib.axes._subplots.AxesSubplot at 0x1a2022fd30>"
      ]
     },
     "execution_count": 86,
     "metadata": {},
     "output_type": "execute_result"
    },
    {
     "data": {
      "image/png": "[encoded data removed]",
      "text/plain": [
       "<Figure size 432x288 with 1 Axes>"
      ]
     },
     "metadata": {
      "needs_background": "light"
     },
     "output_type": "display_data"
    }
   ],
   "source": [
    "series_problems.value_counts().plot(kind='bar', title='Tree Problems')"
   ]
  },
  {
   "cell_type": "markdown",
   "metadata": {},
   "source": [
    "The majority of trees do not have any problems, which is understandable since most trees are in good health."
   ]
  }
 ],
 "metadata": {
  "kernelspec": {
   "display_name": "Python 3",
   "language": "python",
   "name": "python3"
  },
  "language_info": {
   "codemirror_mode": {
    "name": "ipython",
    "version": 3
   },
   "file_extension": ".py",
   "mimetype": "text/x-python",
   "name": "python",
   "nbconvert_exporter": "python",
   "pygments_lexer": "ipython3",
   "version": "3.7.3"
  }
 },
 "nbformat": 4,
 "nbformat_minor": 2
}
