{
  "nbformat": 4,
  "nbformat_minor": 0,
  "metadata": {
    "kernelspec": {
      "display_name": "Python 3",
      "language": "python",
      "name": "python3"
    },
    "language_info": {
      "codemirror_mode": {
        "name": "ipython",
        "version": 3
      },
      "file_extension": ".py",
      "mimetype": "text/x-python",
      "name": "python",
      "nbconvert_exporter": "python",
      "pygments_lexer": "ipython3",
      "version": "3.7.4"
    },
    "colab": {
      "name": "tree_census_combination_sampling.ipynb",
      "provenance": [],
      "collapsed_sections": []
    }
  },
  "cells": [
    {
      "cell_type": "markdown",
      "metadata": {
        "id": "8f8CfXJHhCRu",
        "colab_type": "text"
      },
      "source": [
        "# General Overview - Combination Under and Over Sampling"
      ]
    },
    {
      "cell_type": "code",
      "metadata": {
        "id": "YOX44RWkqIle",
        "colab_type": "code",
        "colab": {}
      },
      "source": [
        "# from google.colab import drive\n",
        "# drive.mount('/content/drive')"
      ],
      "execution_count": 19,
      "outputs": []
    },
    {
      "cell_type": "code",
      "metadata": {
        "id": "N4RR7j-AhCRw",
        "colab_type": "code",
        "colab": {
          "base_uri": "https://localhost:8080/",
          "height": 105
        },
        "outputId": "07663f65-5c74-4f6d-f96d-bf119f15bf05"
      },
      "source": [
        "import numpy as np\n",
        "import pandas as pd\n",
        "import matplotlib.pyplot as plt\n",
        "import sklearn\n",
        "from sklearn import datasets\n",
        "from sklearn import metrics\n",
        "from collections import Counter\n",
        "\n",
        "from sklearn.dummy import DummyClassifier\n",
        "from sklearn.linear_model import LogisticRegression\n",
        "from sklearn.neighbors import KNeighborsClassifier\n",
        "from sklearn.tree import DecisionTreeClassifier\n",
        "from sklearn.ensemble import RandomForestClassifier\n",
        "\n",
        "from sklearn.model_selection import train_test_split\n",
        "from sklearn.metrics import classification_report\n",
        "\n",
        "import imblearn\n",
        "from imblearn.combine import (SMOTETomek, SMOTEENN)"
      ],
      "execution_count": 2,
      "outputs": [
        {
          "output_type": "stream",
          "text": [
            "/usr/local/lib/python3.6/dist-packages/sklearn/externals/six.py:31: FutureWarning: The module is deprecated in version 0.21 and will be removed in version 0.23 since we've dropped support for Python 2.7. Please rely on the official version of six (https://pypi.org/project/six/).\n",
            "  \"(https://pypi.org/project/six/).\", FutureWarning)\n",
            "/usr/local/lib/python3.6/dist-packages/sklearn/utils/deprecation.py:144: FutureWarning: The sklearn.neighbors.base module is  deprecated in version 0.22 and will be removed in version 0.24. The corresponding classes / functions should instead be imported from sklearn.neighbors. Anything that cannot be imported from sklearn.neighbors is now part of the private API.\n",
            "  warnings.warn(message, FutureWarning)\n"
          ],
          "name": "stderr"
        }
      ]
    },
    {
      "cell_type": "code",
      "metadata": {
        "id": "nq2ROTDNhCSG",
        "colab_type": "code",
        "colab": {}
      },
      "source": [
        "np.random.seed(42)"
      ],
      "execution_count": 3,
      "outputs": []
    },
    {
      "cell_type": "code",
      "metadata": {
        "id": "WAuVzHP_hCR4",
        "colab_type": "code",
        "colab": {}
      },
      "source": [
        "# import data\n",
        "data = pd.read_csv('/content/drive/My Drive/Colab Notebooks/tree_ml.csv', index_col=0)\n",
        "\n",
        "tree = data.copy()"
      ],
      "execution_count": 4,
      "outputs": []
    },
    {
      "cell_type": "code",
      "metadata": {
        "id": "M0iOmup8hCR-",
        "colab_type": "code",
        "colab": {
          "base_uri": "https://localhost:8080/",
          "height": 241
        },
        "outputId": "75246b11-b16d-4d95-9310-28cf85c48d9c"
      },
      "source": [
        "tree.head()"
      ],
      "execution_count": 5,
      "outputs": [
        {
          "output_type": "execute_result",
          "data": {
            "text/html": [
              "<div>\n",
              "<style scoped>\n",
              "    .dataframe tbody tr th:only-of-type {\n",
              "        vertical-align: middle;\n",
              "    }\n",
              "\n",
              "    .dataframe tbody tr th {\n",
              "        vertical-align: top;\n",
              "    }\n",
              "\n",
              "    .dataframe thead th {\n",
              "        text-align: right;\n",
              "    }\n",
              "</style>\n",
              "<table border=\"1\" class=\"dataframe\">\n",
              "  <thead>\n",
              "    <tr style=\"text-align: right;\">\n",
              "      <th></th>\n",
              "      <th>tree_dbh</th>\n",
              "      <th>curb_loc</th>\n",
              "      <th>health</th>\n",
              "      <th>sidewalk</th>\n",
              "      <th>root_stone</th>\n",
              "      <th>root_grate</th>\n",
              "      <th>root_other</th>\n",
              "      <th>trunk_wire</th>\n",
              "      <th>trnk_light</th>\n",
              "      <th>trnk_other</th>\n",
              "      <th>brch_light</th>\n",
              "      <th>brch_shoe</th>\n",
              "      <th>brch_other</th>\n",
              "      <th>longitude</th>\n",
              "      <th>latitude</th>\n",
              "      <th>num_problems</th>\n",
              "      <th>1or2</th>\n",
              "      <th>3or4</th>\n",
              "      <th>4orMore</th>\n",
              "      <th>Stew_N</th>\n",
              "      <th>Guard_N</th>\n",
              "      <th>Harmful</th>\n",
              "      <th>Helpful</th>\n",
              "      <th>Unsure</th>\n",
              "      <th>Bronx</th>\n",
              "      <th>Brooklyn</th>\n",
              "      <th>Manhattan</th>\n",
              "      <th>Queens</th>\n",
              "      <th>Staten Island</th>\n",
              "    </tr>\n",
              "  </thead>\n",
              "  <tbody>\n",
              "    <tr>\n",
              "      <th>0</th>\n",
              "      <td>3</td>\n",
              "      <td>1</td>\n",
              "      <td>Fair</td>\n",
              "      <td>0</td>\n",
              "      <td>0</td>\n",
              "      <td>0</td>\n",
              "      <td>0</td>\n",
              "      <td>0</td>\n",
              "      <td>0</td>\n",
              "      <td>0</td>\n",
              "      <td>0</td>\n",
              "      <td>0</td>\n",
              "      <td>0</td>\n",
              "      <td>-73.844215</td>\n",
              "      <td>40.723092</td>\n",
              "      <td>0</td>\n",
              "      <td>0</td>\n",
              "      <td>0</td>\n",
              "      <td>0</td>\n",
              "      <td>1</td>\n",
              "      <td>1</td>\n",
              "      <td>0</td>\n",
              "      <td>0</td>\n",
              "      <td>0</td>\n",
              "      <td>0</td>\n",
              "      <td>0</td>\n",
              "      <td>0</td>\n",
              "      <td>1</td>\n",
              "      <td>0</td>\n",
              "    </tr>\n",
              "    <tr>\n",
              "      <th>1</th>\n",
              "      <td>21</td>\n",
              "      <td>1</td>\n",
              "      <td>Fair</td>\n",
              "      <td>1</td>\n",
              "      <td>1</td>\n",
              "      <td>0</td>\n",
              "      <td>0</td>\n",
              "      <td>0</td>\n",
              "      <td>0</td>\n",
              "      <td>0</td>\n",
              "      <td>0</td>\n",
              "      <td>0</td>\n",
              "      <td>0</td>\n",
              "      <td>-73.818679</td>\n",
              "      <td>40.794111</td>\n",
              "      <td>1</td>\n",
              "      <td>0</td>\n",
              "      <td>0</td>\n",
              "      <td>0</td>\n",
              "      <td>1</td>\n",
              "      <td>1</td>\n",
              "      <td>0</td>\n",
              "      <td>0</td>\n",
              "      <td>0</td>\n",
              "      <td>0</td>\n",
              "      <td>0</td>\n",
              "      <td>0</td>\n",
              "      <td>1</td>\n",
              "      <td>0</td>\n",
              "    </tr>\n",
              "    <tr>\n",
              "      <th>2</th>\n",
              "      <td>3</td>\n",
              "      <td>1</td>\n",
              "      <td>Good</td>\n",
              "      <td>1</td>\n",
              "      <td>0</td>\n",
              "      <td>0</td>\n",
              "      <td>0</td>\n",
              "      <td>0</td>\n",
              "      <td>0</td>\n",
              "      <td>0</td>\n",
              "      <td>0</td>\n",
              "      <td>0</td>\n",
              "      <td>0</td>\n",
              "      <td>-73.936608</td>\n",
              "      <td>40.717581</td>\n",
              "      <td>0</td>\n",
              "      <td>1</td>\n",
              "      <td>0</td>\n",
              "      <td>0</td>\n",
              "      <td>0</td>\n",
              "      <td>1</td>\n",
              "      <td>0</td>\n",
              "      <td>0</td>\n",
              "      <td>0</td>\n",
              "      <td>0</td>\n",
              "      <td>1</td>\n",
              "      <td>0</td>\n",
              "      <td>0</td>\n",
              "      <td>0</td>\n",
              "    </tr>\n",
              "    <tr>\n",
              "      <th>3</th>\n",
              "      <td>10</td>\n",
              "      <td>1</td>\n",
              "      <td>Good</td>\n",
              "      <td>1</td>\n",
              "      <td>1</td>\n",
              "      <td>0</td>\n",
              "      <td>0</td>\n",
              "      <td>0</td>\n",
              "      <td>0</td>\n",
              "      <td>0</td>\n",
              "      <td>0</td>\n",
              "      <td>0</td>\n",
              "      <td>0</td>\n",
              "      <td>-73.934456</td>\n",
              "      <td>40.713537</td>\n",
              "      <td>1</td>\n",
              "      <td>0</td>\n",
              "      <td>0</td>\n",
              "      <td>0</td>\n",
              "      <td>1</td>\n",
              "      <td>1</td>\n",
              "      <td>0</td>\n",
              "      <td>0</td>\n",
              "      <td>0</td>\n",
              "      <td>0</td>\n",
              "      <td>1</td>\n",
              "      <td>0</td>\n",
              "      <td>0</td>\n",
              "      <td>0</td>\n",
              "    </tr>\n",
              "    <tr>\n",
              "      <th>4</th>\n",
              "      <td>21</td>\n",
              "      <td>1</td>\n",
              "      <td>Good</td>\n",
              "      <td>1</td>\n",
              "      <td>1</td>\n",
              "      <td>0</td>\n",
              "      <td>0</td>\n",
              "      <td>0</td>\n",
              "      <td>0</td>\n",
              "      <td>0</td>\n",
              "      <td>0</td>\n",
              "      <td>0</td>\n",
              "      <td>0</td>\n",
              "      <td>-73.975979</td>\n",
              "      <td>40.666778</td>\n",
              "      <td>1</td>\n",
              "      <td>0</td>\n",
              "      <td>0</td>\n",
              "      <td>0</td>\n",
              "      <td>1</td>\n",
              "      <td>1</td>\n",
              "      <td>0</td>\n",
              "      <td>0</td>\n",
              "      <td>0</td>\n",
              "      <td>0</td>\n",
              "      <td>1</td>\n",
              "      <td>0</td>\n",
              "      <td>0</td>\n",
              "      <td>0</td>\n",
              "    </tr>\n",
              "  </tbody>\n",
              "</table>\n",
              "</div>"
            ],
            "text/plain": [
              "   tree_dbh  curb_loc health  ...  Manhattan  Queens  Staten Island\n",
              "0         3         1   Fair  ...          0       1              0\n",
              "1        21         1   Fair  ...          0       1              0\n",
              "2         3         1   Good  ...          0       0              0\n",
              "3        10         1   Good  ...          0       0              0\n",
              "4        21         1   Good  ...          0       0              0\n",
              "\n",
              "[5 rows x 29 columns]"
            ]
          },
          "metadata": {
            "tags": []
          },
          "execution_count": 5
        }
      ]
    },
    {
      "cell_type": "code",
      "metadata": {
        "id": "xtgnJBLDhCSD",
        "colab_type": "code",
        "colab": {
          "base_uri": "https://localhost:8080/",
          "height": 34
        },
        "outputId": "d0716488-56a0-4136-c8b9-66939375c9eb"
      },
      "source": [
        "tree.shape"
      ],
      "execution_count": 6,
      "outputs": [
        {
          "output_type": "execute_result",
          "data": {
            "text/plain": [
              "(651535, 29)"
            ]
          },
          "metadata": {
            "tags": []
          },
          "execution_count": 6
        }
      ]
    },
    {
      "cell_type": "markdown",
      "metadata": {
        "id": "ItSZMIWahCSK",
        "colab_type": "text"
      },
      "source": [
        "## separate variables using train test split"
      ]
    },
    {
      "cell_type": "code",
      "metadata": {
        "id": "p2X7MV85hCSO",
        "colab_type": "code",
        "colab": {
          "base_uri": "https://localhost:8080/",
          "height": 51
        },
        "outputId": "e266d379-1ede-440c-b5f0-c0f3f54e29fc"
      },
      "source": [
        "y = tree['health'].values\n",
        "X = tree.drop('health', axis=1).values\n",
        "\n",
        "X_train, X_test, y_train, y_test = train_test_split(X, y, test_size=0.25, random_state=42, stratify=y)\n",
        "\n",
        "print(X_train.shape, y_train.shape)\n",
        "print(X_test.shape, y_test.shape)"
      ],
      "execution_count": 7,
      "outputs": [
        {
          "output_type": "stream",
          "text": [
            "(488651, 28) (488651,)\n",
            "(162884, 28) (162884,)\n"
          ],
          "name": "stdout"
        }
      ]
    },
    {
      "cell_type": "markdown",
      "metadata": {
        "id": "priJKn51hCST",
        "colab_type": "text"
      },
      "source": [
        "# Baseline - DummyClassifier"
      ]
    },
    {
      "cell_type": "markdown",
      "metadata": {
        "id": "etisb-9jhCSU",
        "colab_type": "text"
      },
      "source": [
        "This is the control for our models. The accuracy scores show the success rates we should expect based on the strategies used for simple guessing."
      ]
    },
    {
      "cell_type": "code",
      "metadata": {
        "id": "Sd2nwO9khCSV",
        "colab_type": "code",
        "colab": {
          "base_uri": "https://localhost:8080/",
          "height": 85
        },
        "outputId": "de0cc139-2b85-4781-e092-4f8a4280c5e3"
      },
      "source": [
        "strategies = ['most_frequent', 'stratified', 'uniform', 'constant']\n",
        "  \n",
        "for s in strategies: \n",
        "    if s =='constant': \n",
        "        dummy_classifier = DummyClassifier(strategy=s, random_state=42, constant='Good') \n",
        "    else: \n",
        "        dummy_classifier = DummyClassifier(strategy=s, random_state=42) \n",
        "    dummy_classifier.fit(X_train, y_train) \n",
        "    score = dummy_classifier.score(X_test, y_test) \n",
        "    print(s, score.round(2))"
      ],
      "execution_count": 8,
      "outputs": [
        {
          "output_type": "stream",
          "text": [
            "most_frequent 0.81\n",
            "stratified 0.68\n",
            "uniform 0.33\n",
            "constant 0.81\n"
          ],
          "name": "stdout"
        }
      ]
    },
    {
      "cell_type": "markdown",
      "metadata": {
        "id": "jip8wuCPhCSY",
        "colab_type": "text"
      },
      "source": [
        "# SMOTE Tomek"
      ]
    },
    {
      "cell_type": "markdown",
      "metadata": {
        "id": "09HTgjSWhCSZ",
        "colab_type": "text"
      },
      "source": [
        "This method combines over sampling using SMOTE and under sampling by Tomek Links."
      ]
    },
    {
      "cell_type": "code",
      "metadata": {
        "id": "I3gcDNTUhCSZ",
        "colab_type": "code",
        "colab": {
          "base_uri": "https://localhost:8080/",
          "height": 190
        },
        "outputId": "461bbb38-c3d3-4c6a-d215-6858ea2c24be"
      },
      "source": [
        "smt = SMOTETomek(random_state=42)\n",
        "X_smt, y_smt = smt.fit_sample(X, y)\n",
        "\n",
        "print('Resampled dataset shape: {}'.format(Counter(y_smt)))\n",
        "\n",
        "X_train_smt, X_test_smt, y_train_smt, y_test_smt = train_test_split(X_smt, y_smt, test_size=0.25, random_state=42)\n",
        "\n",
        "print(X_train_smt.shape, y_train_smt.shape)\n",
        "print(X_test_smt.shape, y_test_smt.shape)"
      ],
      "execution_count": 9,
      "outputs": [
        {
          "output_type": "stream",
          "text": [
            "/usr/local/lib/python3.6/dist-packages/sklearn/utils/deprecation.py:87: FutureWarning: Function safe_indexing is deprecated; safe_indexing is deprecated in version 0.22 and will be removed in version 0.24.\n",
            "  warnings.warn(msg, category=FutureWarning)\n",
            "/usr/local/lib/python3.6/dist-packages/sklearn/utils/deprecation.py:87: FutureWarning: Function safe_indexing is deprecated; safe_indexing is deprecated in version 0.22 and will be removed in version 0.24.\n",
            "  warnings.warn(msg, category=FutureWarning)\n",
            "/usr/local/lib/python3.6/dist-packages/sklearn/utils/deprecation.py:87: FutureWarning: Function safe_indexing is deprecated; safe_indexing is deprecated in version 0.22 and will be removed in version 0.24.\n",
            "  warnings.warn(msg, category=FutureWarning)\n"
          ],
          "name": "stderr"
        },
        {
          "output_type": "stream",
          "text": [
            "Resampled dataset shape: Counter({'Poor': 489457, 'Fair': 466662, 'Good': 464402})\n",
            "(1065390, 28) (1065390,)\n",
            "(355131, 28) (355131,)\n"
          ],
          "name": "stdout"
        }
      ]
    },
    {
      "cell_type": "code",
      "metadata": {
        "id": "ICZACneHhCSd",
        "colab_type": "code",
        "colab": {
          "base_uri": "https://localhost:8080/",
          "height": 425
        },
        "outputId": "8496fd75-9792-4eb4-fcc5-1157be282204"
      },
      "source": [
        "logreg = LogisticRegression(random_state=42)\n",
        "logreg.fit(X_train_smt, y_train_smt)\n",
        "y_pred = logreg.predict(X_test_smt)\n",
        "    \n",
        "print('Logistic Regression \\n')\n",
        "    \n",
        "# accuracy scores\n",
        "print('Accuracy Score, Training Set: ', logreg.score(X_train_smt, y_train_smt))\n",
        "print('Accuracy Score, Test Set: ', logreg.score(X_test_smt, y_test_smt))\n",
        "    \n",
        "# classification report\n",
        "print('Classification Report \\n')\n",
        "print(classification_report(y_test_smt, y_pred))"
      ],
      "execution_count": 10,
      "outputs": [
        {
          "output_type": "stream",
          "text": [
            "/usr/local/lib/python3.6/dist-packages/sklearn/linear_model/_logistic.py:940: ConvergenceWarning: lbfgs failed to converge (status=1):\n",
            "STOP: TOTAL NO. of ITERATIONS REACHED LIMIT.\n",
            "\n",
            "Increase the number of iterations (max_iter) or scale the data as shown in:\n",
            "    https://scikit-learn.org/stable/modules/preprocessing.html\n",
            "Please also refer to the documentation for alternative solver options:\n",
            "    https://scikit-learn.org/stable/modules/linear_model.html#logistic-regression\n",
            "  extra_warning_msg=_LOGISTIC_SOLVER_CONVERGENCE_MSG)\n"
          ],
          "name": "stderr"
        },
        {
          "output_type": "stream",
          "text": [
            "Logistic Regression \n",
            "\n",
            "Accuracy Score, Training Set:  0.4228282600737758\n",
            "Accuracy Score, Test Set:  0.42106433963804907\n",
            "Classification Report \n",
            "\n",
            "              precision    recall  f1-score   support\n",
            "\n",
            "        Fair       0.40      0.17      0.24    117418\n",
            "        Good       0.42      0.51      0.46    115710\n",
            "        Poor       0.43      0.58      0.49    122003\n",
            "\n",
            "    accuracy                           0.42    355131\n",
            "   macro avg       0.42      0.42      0.40    355131\n",
            "weighted avg       0.42      0.42      0.40    355131\n",
            "\n"
          ],
          "name": "stdout"
        }
      ]
    },
    {
      "cell_type": "code",
      "metadata": {
        "id": "JU6nFVvBhCSg",
        "colab_type": "code",
        "colab": {
          "base_uri": "https://localhost:8080/",
          "height": 289
        },
        "outputId": "76b700d2-9923-472b-bf9d-742abc2171ce"
      },
      "source": [
        "# k-nearest neighbors\n",
        "knn = KNeighborsClassifier(n_neighbors=15)\n",
        "knn.fit(X_train_smt, y_train_smt)\n",
        "y_pred = knn.predict(X_test_smt)\n",
        "    \n",
        "print('KNN Classifier \\n')\n",
        "    \n",
        "# accuracy scores\n",
        "print('Accuracy Score, Training Set: ', knn.score(X_train_smt, y_train_smt))\n",
        "print('Accuracy Score, Test Set: ', knn.score(X_test_smt, y_test_smt))\n",
        "\n",
        "# classificatin report\n",
        "print('Classification Report \\n')\n",
        "print(classification_report(y_test_smt, y_pred))"
      ],
      "execution_count": 11,
      "outputs": [
        {
          "output_type": "stream",
          "text": [
            "KNN Classifier \n",
            "\n",
            "Accuracy Score, Training Set:  0.7385079642196755\n",
            "Accuracy Score, Test Set:  0.6971906141677296\n",
            "Classification Report \n",
            "\n",
            "              precision    recall  f1-score   support\n",
            "\n",
            "        Fair       0.65      0.71      0.68    117418\n",
            "        Good       0.70      0.58      0.63    115710\n",
            "        Poor       0.74      0.80      0.77    122003\n",
            "\n",
            "    accuracy                           0.70    355131\n",
            "   macro avg       0.70      0.70      0.69    355131\n",
            "weighted avg       0.70      0.70      0.69    355131\n",
            "\n"
          ],
          "name": "stdout"
        }
      ]
    },
    {
      "cell_type": "code",
      "metadata": {
        "id": "OzGTJTHEhCSl",
        "colab_type": "code",
        "colab": {
          "base_uri": "https://localhost:8080/",
          "height": 289
        },
        "outputId": "0dd8c3a3-c306-4915-8732-21fa5cc54aa2"
      },
      "source": [
        "# decision tree classifier\n",
        "decision_tree = DecisionTreeClassifier(random_state=42)\n",
        "decision_tree.fit(X_train_smt, y_train_smt)\n",
        "y_pred = decision_tree.predict(X_test_smt)\n",
        "    \n",
        "print('Decision Tree Classifier \\n')\n",
        "    \n",
        "# accuracy scores\n",
        "print('Accuracy Score, Training Set:', decision_tree.score(X_train_smt, y_train_smt))\n",
        "print('Accuracy Score, Test Set:', decision_tree.score(X_test_smt, y_test_smt))\n",
        "\n",
        "# classification report\n",
        "print('Classification Report \\n')\n",
        "print(classification_report(y_test_smt, y_pred))"
      ],
      "execution_count": 12,
      "outputs": [
        {
          "output_type": "stream",
          "text": [
            "Decision Tree Classifier \n",
            "\n",
            "Accuracy Score, Training Set: 0.9999774730380424\n",
            "Accuracy Score, Test Set: 0.754707417826098\n",
            "Classification Report \n",
            "\n",
            "              precision    recall  f1-score   support\n",
            "\n",
            "        Fair       0.73      0.73      0.73    117418\n",
            "        Good       0.73      0.71      0.72    115710\n",
            "        Poor       0.81      0.82      0.81    122003\n",
            "\n",
            "    accuracy                           0.75    355131\n",
            "   macro avg       0.75      0.75      0.75    355131\n",
            "weighted avg       0.75      0.75      0.75    355131\n",
            "\n"
          ],
          "name": "stdout"
        }
      ]
    },
    {
      "cell_type": "code",
      "metadata": {
        "id": "t1TYBZkUhCSo",
        "colab_type": "code",
        "colab": {
          "base_uri": "https://localhost:8080/",
          "height": 289
        },
        "outputId": "039e7d7f-d67a-48d3-b8cb-5f8539c35dda"
      },
      "source": [
        "# random forest classifier\n",
        "rf = RandomForestClassifier(random_state=42)\n",
        "rf.fit(X_train_smt, y_train_smt)\n",
        "y_pred = rf.predict(X_test_smt)\n",
        "    \n",
        "print('Random Forest Classifier \\n')\n",
        "    \n",
        "# accuracy scores\n",
        "print('Accuracy Score, Training Set:', rf.score(X_train_smt, y_train_smt))\n",
        "print('Accuracy Score, Test Set:', rf.score(X_test_smt, y_test_smt))\n",
        "    \n",
        "# classification report\n",
        "print('Classification Report \\n')\n",
        "print(classification_report(y_test_smt, y_pred))"
      ],
      "execution_count": 13,
      "outputs": [
        {
          "output_type": "stream",
          "text": [
            "Random Forest Classifier \n",
            "\n",
            "Accuracy Score, Training Set: 0.9999680868038934\n",
            "Accuracy Score, Test Set: 0.8313354790204178\n",
            "Classification Report \n",
            "\n",
            "              precision    recall  f1-score   support\n",
            "\n",
            "        Fair       0.81      0.81      0.81    117418\n",
            "        Good       0.81      0.80      0.80    115710\n",
            "        Poor       0.87      0.89      0.88    122003\n",
            "\n",
            "    accuracy                           0.83    355131\n",
            "   macro avg       0.83      0.83      0.83    355131\n",
            "weighted avg       0.83      0.83      0.83    355131\n",
            "\n"
          ],
          "name": "stdout"
        }
      ]
    },
    {
      "cell_type": "markdown",
      "metadata": {
        "id": "GyFQJgmzhCSw",
        "colab_type": "text"
      },
      "source": [
        "# SMOTE ENN"
      ]
    },
    {
      "cell_type": "markdown",
      "metadata": {
        "id": "LAn5Bu6HhCSw",
        "colab_type": "text"
      },
      "source": [
        "This method uses a combination of SMOTE (Synthetic Minority Over-sampling Technique) over sampling and under sampling using Edited Nearest Neighbors."
      ]
    },
    {
      "cell_type": "code",
      "metadata": {
        "id": "H4jNrimfhCSx",
        "colab_type": "code",
        "colab": {
          "base_uri": "https://localhost:8080/",
          "height": 292
        },
        "outputId": "e6fe268e-7360-48df-9510-3555526a284b"
      },
      "source": [
        "sme = SMOTEENN(random_state=42)\n",
        "X_senn, y_senn = sme.fit_resample(X, y)\n",
        "\n",
        "print('Resampled dataset shape: {}'.format(Counter(y_senn)))\n",
        "\n",
        "X_train_senn, X_test_senn, y_train_senn, y_test_senn = train_test_split(X_smt, y_smt, test_size=0.25, random_state=42)\n",
        "\n",
        "print(X_train_senn.shape, y_train_senn.shape)\n",
        "print(X_test_senn.shape, y_test_senn.shape)"
      ],
      "execution_count": 14,
      "outputs": [
        {
          "output_type": "stream",
          "text": [
            "/usr/local/lib/python3.6/dist-packages/sklearn/utils/deprecation.py:87: FutureWarning: Function safe_indexing is deprecated; safe_indexing is deprecated in version 0.22 and will be removed in version 0.24.\n",
            "  warnings.warn(msg, category=FutureWarning)\n",
            "/usr/local/lib/python3.6/dist-packages/sklearn/utils/deprecation.py:87: FutureWarning: Function safe_indexing is deprecated; safe_indexing is deprecated in version 0.22 and will be removed in version 0.24.\n",
            "  warnings.warn(msg, category=FutureWarning)\n",
            "/usr/local/lib/python3.6/dist-packages/sklearn/utils/deprecation.py:87: FutureWarning: Function safe_indexing is deprecated; safe_indexing is deprecated in version 0.22 and will be removed in version 0.24.\n",
            "  warnings.warn(msg, category=FutureWarning)\n",
            "/usr/local/lib/python3.6/dist-packages/sklearn/utils/deprecation.py:87: FutureWarning: Function safe_indexing is deprecated; safe_indexing is deprecated in version 0.22 and will be removed in version 0.24.\n",
            "  warnings.warn(msg, category=FutureWarning)\n",
            "/usr/local/lib/python3.6/dist-packages/sklearn/utils/deprecation.py:87: FutureWarning: Function safe_indexing is deprecated; safe_indexing is deprecated in version 0.22 and will be removed in version 0.24.\n",
            "  warnings.warn(msg, category=FutureWarning)\n",
            "/usr/local/lib/python3.6/dist-packages/sklearn/utils/deprecation.py:87: FutureWarning: Function safe_indexing is deprecated; safe_indexing is deprecated in version 0.22 and will be removed in version 0.24.\n",
            "  warnings.warn(msg, category=FutureWarning)\n"
          ],
          "name": "stderr"
        },
        {
          "output_type": "stream",
          "text": [
            "Resampled dataset shape: Counter({'Poor': 336884, 'Fair': 258967, 'Good': 236591})\n",
            "(1065390, 28) (1065390,)\n",
            "(355131, 28) (355131,)\n"
          ],
          "name": "stdout"
        }
      ]
    },
    {
      "cell_type": "code",
      "metadata": {
        "id": "XYbzptV8hCS0",
        "colab_type": "code",
        "colab": {
          "base_uri": "https://localhost:8080/",
          "height": 425
        },
        "outputId": "2d23c1bf-2f0b-498e-b030-8b810aff33fd"
      },
      "source": [
        "# logistic regression\n",
        "logreg = LogisticRegression(random_state=42)\n",
        "logreg.fit(X_train_senn, y_train_senn)\n",
        "y_pred = logreg.predict(X_test_senn)\n",
        "    \n",
        "print('Logistic Regression \\n')\n",
        "    \n",
        "# accuracy scores\n",
        "print('Accuracy Score, Training Set: ', logreg.score(X_train_senn, y_train_senn))\n",
        "print('Accuracy Score, Test Set: ', logreg.score(X_test_senn, y_test_senn))\n",
        "    \n",
        "# classification report\n",
        "print('Classification Report \\n')\n",
        "print(classification_report(y_test_senn, y_pred))"
      ],
      "execution_count": 15,
      "outputs": [
        {
          "output_type": "stream",
          "text": [
            "/usr/local/lib/python3.6/dist-packages/sklearn/linear_model/_logistic.py:940: ConvergenceWarning: lbfgs failed to converge (status=1):\n",
            "STOP: TOTAL NO. of ITERATIONS REACHED LIMIT.\n",
            "\n",
            "Increase the number of iterations (max_iter) or scale the data as shown in:\n",
            "    https://scikit-learn.org/stable/modules/preprocessing.html\n",
            "Please also refer to the documentation for alternative solver options:\n",
            "    https://scikit-learn.org/stable/modules/linear_model.html#logistic-regression\n",
            "  extra_warning_msg=_LOGISTIC_SOLVER_CONVERGENCE_MSG)\n"
          ],
          "name": "stderr"
        },
        {
          "output_type": "stream",
          "text": [
            "Logistic Regression \n",
            "\n",
            "Accuracy Score, Training Set:  0.4228282600737758\n",
            "Accuracy Score, Test Set:  0.42106433963804907\n",
            "Classification Report \n",
            "\n",
            "              precision    recall  f1-score   support\n",
            "\n",
            "        Fair       0.40      0.17      0.24    117418\n",
            "        Good       0.42      0.51      0.46    115710\n",
            "        Poor       0.43      0.58      0.49    122003\n",
            "\n",
            "    accuracy                           0.42    355131\n",
            "   macro avg       0.42      0.42      0.40    355131\n",
            "weighted avg       0.42      0.42      0.40    355131\n",
            "\n"
          ],
          "name": "stdout"
        }
      ]
    },
    {
      "cell_type": "code",
      "metadata": {
        "id": "vqC9pCVqhCS3",
        "colab_type": "code",
        "colab": {
          "base_uri": "https://localhost:8080/",
          "height": 289
        },
        "outputId": "83d72ae9-a585-4fac-cccf-33543da0b4cb"
      },
      "source": [
        "# k-nearest neighbors\n",
        "knn = KNeighborsClassifier(n_neighbors=15)\n",
        "knn.fit(X_train_senn, y_train_senn)\n",
        "y_pred = knn.predict(X_test_senn)\n",
        "    \n",
        "print('KNN Classifier \\n')\n",
        "    \n",
        "# accuracy scores\n",
        "print('Accuracy Score, Training Set: ', knn.score(X_train_senn, y_train_senn))\n",
        "print('Accuracy Score, Test Set: ', knn.score(X_test_senn, y_test_senn))\n",
        "\n",
        "# classificatin report\n",
        "print('Classification Report \\n')\n",
        "print(classification_report(y_test_senn, y_pred))"
      ],
      "execution_count": 16,
      "outputs": [
        {
          "output_type": "stream",
          "text": [
            "KNN Classifier \n",
            "\n",
            "Accuracy Score, Training Set:  0.7385079642196755\n",
            "Accuracy Score, Test Set:  0.6971906141677296\n",
            "Classification Report \n",
            "\n",
            "              precision    recall  f1-score   support\n",
            "\n",
            "        Fair       0.65      0.71      0.68    117418\n",
            "        Good       0.70      0.58      0.63    115710\n",
            "        Poor       0.74      0.80      0.77    122003\n",
            "\n",
            "    accuracy                           0.70    355131\n",
            "   macro avg       0.70      0.70      0.69    355131\n",
            "weighted avg       0.70      0.70      0.69    355131\n",
            "\n"
          ],
          "name": "stdout"
        }
      ]
    },
    {
      "cell_type": "code",
      "metadata": {
        "id": "btMdYxpOhCS7",
        "colab_type": "code",
        "colab": {
          "base_uri": "https://localhost:8080/",
          "height": 289
        },
        "outputId": "6f346e18-abe0-4f56-9562-2eff5dc3da93"
      },
      "source": [
        "# decision tree classifier\n",
        "decision_tree = DecisionTreeClassifier(random_state=42)\n",
        "decision_tree.fit(X_train_senn, y_train_senn)\n",
        "y_pred = decision_tree.predict(X_test_senn)\n",
        "    \n",
        "print('Decision Tree Classifier \\n')\n",
        "    \n",
        "# accuracy scores\n",
        "print('Accuracy Score, Training Set:', decision_tree.score(X_train_senn, y_train_senn))\n",
        "print('Accuracy Score, Test Set:', decision_tree.score(X_test_senn, y_test_senn))\n",
        "    \n",
        "# classification report\n",
        "print('Classification Report \\n')\n",
        "print(classification_report(y_test_senn, y_pred))"
      ],
      "execution_count": 17,
      "outputs": [
        {
          "output_type": "stream",
          "text": [
            "Decision Tree Classifier \n",
            "\n",
            "Accuracy Score, Training Set: 0.9999774730380424\n",
            "Accuracy Score, Test Set: 0.754707417826098\n",
            "Classification Report \n",
            "\n",
            "              precision    recall  f1-score   support\n",
            "\n",
            "        Fair       0.73      0.73      0.73    117418\n",
            "        Good       0.73      0.71      0.72    115710\n",
            "        Poor       0.81      0.82      0.81    122003\n",
            "\n",
            "    accuracy                           0.75    355131\n",
            "   macro avg       0.75      0.75      0.75    355131\n",
            "weighted avg       0.75      0.75      0.75    355131\n",
            "\n"
          ],
          "name": "stdout"
        }
      ]
    },
    {
      "cell_type": "code",
      "metadata": {
        "id": "KjpxXA3qhCS_",
        "colab_type": "code",
        "colab": {
          "base_uri": "https://localhost:8080/",
          "height": 289
        },
        "outputId": "701927ce-3735-4631-9a71-f2084c3c993a"
      },
      "source": [
        "# random forest classifier\n",
        "rf = RandomForestClassifier(random_state=42)\n",
        "rf.fit(X_train_senn, y_train_senn)\n",
        "y_pred = rf.predict(X_test_senn)\n",
        "    \n",
        "print('Random Forest Classifier \\n')\n",
        "    \n",
        "# accuracy scores\n",
        "print('Accuracy Score, Training Set:', rf.score(X_train_senn, y_train_senn))\n",
        "print('Accuracy Score, Test Set:', rf.score(X_test_senn, y_test_senn))\n",
        "    \n",
        "# classification report\n",
        "print('Classification Report \\n')\n",
        "print(classification_report(y_test_senn, y_pred))"
      ],
      "execution_count": 18,
      "outputs": [
        {
          "output_type": "stream",
          "text": [
            "Random Forest Classifier \n",
            "\n",
            "Accuracy Score, Training Set: 0.9999680868038934\n",
            "Accuracy Score, Test Set: 0.8313354790204178\n",
            "Classification Report \n",
            "\n",
            "              precision    recall  f1-score   support\n",
            "\n",
            "        Fair       0.81      0.81      0.81    117418\n",
            "        Good       0.81      0.80      0.80    115710\n",
            "        Poor       0.87      0.89      0.88    122003\n",
            "\n",
            "    accuracy                           0.83    355131\n",
            "   macro avg       0.83      0.83      0.83    355131\n",
            "weighted avg       0.83      0.83      0.83    355131\n",
            "\n"
          ],
          "name": "stdout"
        }
      ]
    },
    {
      "cell_type": "code",
      "metadata": {
        "id": "bEbVZGDhhCTF",
        "colab_type": "code",
        "colab": {}
      },
      "source": [
        ""
      ],
      "execution_count": 18,
      "outputs": []
    }
  ]
}