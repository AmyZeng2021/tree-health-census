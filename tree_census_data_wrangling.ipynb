{
 "cells": [
  {
   "cell_type": "markdown",
   "metadata": {},
   "source": [
    "# Overview"
   ]
  },
  {
   "cell_type": "markdown",
   "metadata": {},
   "source": [
    "The [2015 Tree Census](https://catalog.data.gov/dataset/2015-street-tree-census-tree-data) dataset for New York City is collected by volunteers and staff members from [NYC Parks & Rec](https://data.cityofnewyork.us/Environment/2015-Street-Tree-Census-Tree-Data/uvpi-gqnh). The goal here is to look for and fix any duplicates, outliers, and extraneous columns and rows. Once the data is cleaned, we can create visualizations and build machine learning models."
   ]
  },
  {
   "cell_type": "code",
   "execution_count": 1,
   "metadata": {},
   "outputs": [],
   "source": [
    "import pandas as pd\n",
    "import numpy as np\n",
    "from numpy.random import seed\n",
    "import matplotlib.pyplot as plt\n",
    "import seaborn as sns\n",
    "\n",
    "sns.set(style='darkgrid')"
   ]
  },
  {
   "cell_type": "code",
   "execution_count": 2,
   "metadata": {},
   "outputs": [],
   "source": [
    "# import data\n",
    "data = pd.read_csv('2015-tree-census.csv')\n",
    "\n",
    "tree = data.copy() # save a copy"
   ]
  },
  {
   "cell_type": "code",
   "execution_count": 3,
   "metadata": {},
   "outputs": [
    {
     "data": {
      "text/html": [
       "<div>\n",
       "<style scoped>\n",
       "    .dataframe tbody tr th:only-of-type {\n",
       "        vertical-align: middle;\n",
       "    }\n",
       "\n",
       "    .dataframe tbody tr th {\n",
       "        vertical-align: top;\n",
       "    }\n",
       "\n",
       "    .dataframe thead th {\n",
       "        text-align: right;\n",
       "    }\n",
       "</style>\n",
       "<table border=\"1\" class=\"dataframe\">\n",
       "  <thead>\n",
       "    <tr style=\"text-align: right;\">\n",
       "      <th></th>\n",
       "      <th>tree_id</th>\n",
       "      <th>block_id</th>\n",
       "      <th>created_at</th>\n",
       "      <th>tree_dbh</th>\n",
       "      <th>stump_diam</th>\n",
       "      <th>curb_loc</th>\n",
       "      <th>status</th>\n",
       "      <th>health</th>\n",
       "      <th>spc_latin</th>\n",
       "      <th>spc_common</th>\n",
       "      <th>...</th>\n",
       "      <th>boro_ct</th>\n",
       "      <th>state</th>\n",
       "      <th>latitude</th>\n",
       "      <th>longitude</th>\n",
       "      <th>x_sp</th>\n",
       "      <th>y_sp</th>\n",
       "      <th>council district</th>\n",
       "      <th>census tract</th>\n",
       "      <th>bin</th>\n",
       "      <th>bbl</th>\n",
       "    </tr>\n",
       "  </thead>\n",
       "  <tbody>\n",
       "    <tr>\n",
       "      <th>0</th>\n",
       "      <td>180683</td>\n",
       "      <td>348711</td>\n",
       "      <td>08/27/2015</td>\n",
       "      <td>3</td>\n",
       "      <td>0</td>\n",
       "      <td>OnCurb</td>\n",
       "      <td>Alive</td>\n",
       "      <td>Fair</td>\n",
       "      <td>Acer rubrum</td>\n",
       "      <td>red maple</td>\n",
       "      <td>...</td>\n",
       "      <td>4073900</td>\n",
       "      <td>New York</td>\n",
       "      <td>40.723092</td>\n",
       "      <td>-73.844215</td>\n",
       "      <td>1027431.148</td>\n",
       "      <td>202756.7687</td>\n",
       "      <td>29.0</td>\n",
       "      <td>739.0</td>\n",
       "      <td>4052307.0</td>\n",
       "      <td>4.022210e+09</td>\n",
       "    </tr>\n",
       "    <tr>\n",
       "      <th>1</th>\n",
       "      <td>200540</td>\n",
       "      <td>315986</td>\n",
       "      <td>09/03/2015</td>\n",
       "      <td>21</td>\n",
       "      <td>0</td>\n",
       "      <td>OnCurb</td>\n",
       "      <td>Alive</td>\n",
       "      <td>Fair</td>\n",
       "      <td>Quercus palustris</td>\n",
       "      <td>pin oak</td>\n",
       "      <td>...</td>\n",
       "      <td>4097300</td>\n",
       "      <td>New York</td>\n",
       "      <td>40.794111</td>\n",
       "      <td>-73.818679</td>\n",
       "      <td>1034455.701</td>\n",
       "      <td>228644.8374</td>\n",
       "      <td>19.0</td>\n",
       "      <td>973.0</td>\n",
       "      <td>4101931.0</td>\n",
       "      <td>4.044750e+09</td>\n",
       "    </tr>\n",
       "    <tr>\n",
       "      <th>2</th>\n",
       "      <td>204026</td>\n",
       "      <td>218365</td>\n",
       "      <td>09/05/2015</td>\n",
       "      <td>3</td>\n",
       "      <td>0</td>\n",
       "      <td>OnCurb</td>\n",
       "      <td>Alive</td>\n",
       "      <td>Good</td>\n",
       "      <td>Gleditsia triacanthos var. inermis</td>\n",
       "      <td>honeylocust</td>\n",
       "      <td>...</td>\n",
       "      <td>3044900</td>\n",
       "      <td>New York</td>\n",
       "      <td>40.717581</td>\n",
       "      <td>-73.936608</td>\n",
       "      <td>1001822.831</td>\n",
       "      <td>200716.8913</td>\n",
       "      <td>34.0</td>\n",
       "      <td>449.0</td>\n",
       "      <td>3338310.0</td>\n",
       "      <td>3.028870e+09</td>\n",
       "    </tr>\n",
       "    <tr>\n",
       "      <th>3</th>\n",
       "      <td>204337</td>\n",
       "      <td>217969</td>\n",
       "      <td>09/05/2015</td>\n",
       "      <td>10</td>\n",
       "      <td>0</td>\n",
       "      <td>OnCurb</td>\n",
       "      <td>Alive</td>\n",
       "      <td>Good</td>\n",
       "      <td>Gleditsia triacanthos var. inermis</td>\n",
       "      <td>honeylocust</td>\n",
       "      <td>...</td>\n",
       "      <td>3044900</td>\n",
       "      <td>New York</td>\n",
       "      <td>40.713537</td>\n",
       "      <td>-73.934456</td>\n",
       "      <td>1002420.358</td>\n",
       "      <td>199244.2531</td>\n",
       "      <td>34.0</td>\n",
       "      <td>449.0</td>\n",
       "      <td>3338342.0</td>\n",
       "      <td>3.029250e+09</td>\n",
       "    </tr>\n",
       "    <tr>\n",
       "      <th>4</th>\n",
       "      <td>189565</td>\n",
       "      <td>223043</td>\n",
       "      <td>08/30/2015</td>\n",
       "      <td>21</td>\n",
       "      <td>0</td>\n",
       "      <td>OnCurb</td>\n",
       "      <td>Alive</td>\n",
       "      <td>Good</td>\n",
       "      <td>Tilia americana</td>\n",
       "      <td>American linden</td>\n",
       "      <td>...</td>\n",
       "      <td>3016500</td>\n",
       "      <td>New York</td>\n",
       "      <td>40.666778</td>\n",
       "      <td>-73.975979</td>\n",
       "      <td>990913.775</td>\n",
       "      <td>182202.4260</td>\n",
       "      <td>39.0</td>\n",
       "      <td>165.0</td>\n",
       "      <td>3025654.0</td>\n",
       "      <td>3.010850e+09</td>\n",
       "    </tr>\n",
       "  </tbody>\n",
       "</table>\n",
       "<p>5 rows × 45 columns</p>\n",
       "</div>"
      ],
      "text/plain": [
       "   tree_id  block_id  created_at  tree_dbh  stump_diam curb_loc status health  \\\n",
       "0   180683    348711  08/27/2015         3           0   OnCurb  Alive   Fair   \n",
       "1   200540    315986  09/03/2015        21           0   OnCurb  Alive   Fair   \n",
       "2   204026    218365  09/05/2015         3           0   OnCurb  Alive   Good   \n",
       "3   204337    217969  09/05/2015        10           0   OnCurb  Alive   Good   \n",
       "4   189565    223043  08/30/2015        21           0   OnCurb  Alive   Good   \n",
       "\n",
       "                            spc_latin       spc_common  ...  boro_ct  \\\n",
       "0                         Acer rubrum        red maple  ...  4073900   \n",
       "1                   Quercus palustris          pin oak  ...  4097300   \n",
       "2  Gleditsia triacanthos var. inermis      honeylocust  ...  3044900   \n",
       "3  Gleditsia triacanthos var. inermis      honeylocust  ...  3044900   \n",
       "4                     Tilia americana  American linden  ...  3016500   \n",
       "\n",
       "      state   latitude  longitude         x_sp         y_sp council district  \\\n",
       "0  New York  40.723092 -73.844215  1027431.148  202756.7687             29.0   \n",
       "1  New York  40.794111 -73.818679  1034455.701  228644.8374             19.0   \n",
       "2  New York  40.717581 -73.936608  1001822.831  200716.8913             34.0   \n",
       "3  New York  40.713537 -73.934456  1002420.358  199244.2531             34.0   \n",
       "4  New York  40.666778 -73.975979   990913.775  182202.4260             39.0   \n",
       "\n",
       "  census tract        bin           bbl  \n",
       "0        739.0  4052307.0  4.022210e+09  \n",
       "1        973.0  4101931.0  4.044750e+09  \n",
       "2        449.0  3338310.0  3.028870e+09  \n",
       "3        449.0  3338342.0  3.029250e+09  \n",
       "4        165.0  3025654.0  3.010850e+09  \n",
       "\n",
       "[5 rows x 45 columns]"
      ]
     },
     "execution_count": 3,
     "metadata": {},
     "output_type": "execute_result"
    }
   ],
   "source": [
    "tree.head()"
   ]
  },
  {
   "cell_type": "code",
   "execution_count": 4,
   "metadata": {},
   "outputs": [
    {
     "data": {
      "text/plain": [
       "Index(['tree_id', 'block_id', 'created_at', 'tree_dbh', 'stump_diam',\n",
       "       'curb_loc', 'status', 'health', 'spc_latin', 'spc_common', 'steward',\n",
       "       'guards', 'sidewalk', 'user_type', 'problems', 'root_stone',\n",
       "       'root_grate', 'root_other', 'trunk_wire', 'trnk_light', 'trnk_other',\n",
       "       'brch_light', 'brch_shoe', 'brch_other', 'address', 'postcode',\n",
       "       'zip_city', 'community board', 'borocode', 'borough', 'cncldist',\n",
       "       'st_assem', 'st_senate', 'nta', 'nta_name', 'boro_ct', 'state',\n",
       "       'latitude', 'longitude', 'x_sp', 'y_sp', 'council district',\n",
       "       'census tract', 'bin', 'bbl'],\n",
       "      dtype='object')"
      ]
     },
     "execution_count": 4,
     "metadata": {},
     "output_type": "execute_result"
    }
   ],
   "source": [
    "tree.columns"
   ]
  },
  {
   "cell_type": "markdown",
   "metadata": {},
   "source": [
    "More information on what each column name stands for:\n",
    "\n",
    "<table>\n",
    "<tr>\n",
    "<th>Column Name</th>\n",
    "<th>Description</th>\n",
    "<th>Data Type</th>\n",
    "</tr>\n",
    "\n",
    "<tr>\n",
    "<td>tree_id</td>\n",
    "<td>Unique identification number for each tree point.</td>\n",
    "<td>Number</td>\n",
    "</tr>\n",
    "\n",
    "<tr>\n",
    "<td>block_id</td>\n",
    "<td>Identifier linking each tree to the block in the blockface table/shapefile that it is mapped on.</td>\n",
    "<td>Number</td>\n",
    "</tr>\n",
    "\n",
    "<tr>\n",
    "<td>created_at</td>\n",
    "<td>The date tree points were collected in the census software.</td>\n",
    "<td>Date & Time</td>\n",
    "</tr>\n",
    "\n",
    "<tr>\n",
    "<td>tree_dbh</td>\t\n",
    "<td>Diameter of the tree, measured at approximately 54\" / 137cm above the ground. Data was collected for both living and dead trees; for stumps, use stump_diam</td>\n",
    "<td>Number</td>\n",
    "</tr>\n",
    "\n",
    "<tr>\n",
    "<td>stump_diam</td>\n",
    "<td>Diameter of stump measured through the center, rounded to the nearest inch.</td>\n",
    "<td>Number</td>\n",
    "</tr>\n",
    "\n",
    "<tr>\n",
    "<td>curb_loc</td>\n",
    "<td>Location of tree bed in relationship to the curb; trees are either along the curb (OnCurb) or offset from the curb (OffsetFromCurb)</td>\n",
    "<td>Plain Text</td>\n",
    "</tr>\n",
    "\n",
    "<tr>\n",
    "<td>status</td>\n",
    "<td>Indicates whether the tree is alive, standing dead, or a stump.</td>\n",
    "<td>Plain Text</td>\n",
    "</tr>\n",
    "\n",
    "<tr>\n",
    "<td>health</td>\n",
    "<td>Indicates the user's perception of tree health.</td>\n",
    "<td>Plain Text</td>\n",
    "</tr>\n",
    "\n",
    "<tr>\n",
    "<td>spc_latin</td>\n",
    "<td>Scientific name for species, e.g. \"Acer rubrum\"</td>\n",
    "<td>Plain Text</td>\n",
    "</tr>\n",
    "\n",
    "<tr>\n",
    "<td>spc_common</td>\n",
    "<td>Common name for species, e.g. \"red maple\"</td>\n",
    "<td>Plain Text</td>\n",
    "</tr>\n",
    "\n",
    "<tr>\n",
    "<td>steward</td>\n",
    "<td>Indicates the number of unique signs of stewardship observed for this tree. Not recorded for stumps or dead trees.</td>\n",
    "<td>Plain Text</td>\n",
    "</tr>\n",
    "\n",
    "<tr>\n",
    "<td>guards</td>\n",
    "<td>Indicates whether a guard is present, and if the user felt it was a helpful or harmful guard. Not recorded for dead trees and stumps.</td>\n",
    "<td>Plain Text</td>\n",
    "</tr>\n",
    "\n",
    "<tr>\n",
    "<td>sidewalk</td>\n",
    "<td>Indicates whether one of the sidewalk flags immediately adjacent to the tree was damaged, cracked, or lifted. Not recorded for dead trees and stumps.</td>\n",
    "<td>Plain Text</td>\n",
    "</tr>\n",
    "\n",
    "<tr>\n",
    "<td>user_type</td>\n",
    "<td>This field describes the category of user who collected this tree point's data.</td>\n",
    "<td>Plain Text</td>\n",
    "</tr>\n",
    "\n",
    "<tr>\n",
    "<td>problems</td>\n",
    "<td></td>\n",
    "<td>Plain Text</td>\n",
    "</tr>\n",
    "\n",
    "<tr>\n",
    "<td>root_stone</td>\n",
    "<td>Indicates the presence of a root problem caused by paving stones in tree bed</td>\n",
    "<td>Plain Text</td>\n",
    "</tr>\n",
    "\n",
    "<tr>\n",
    "<td>root_grate</td>\n",
    "<td>Indicates the presence of a root problem caused by metal grates in tree bed</td>\n",
    "<td>Plain Text</td>\n",
    "</tr>\n",
    "\n",
    "<tr>\n",
    "<td>root_other</td>\n",
    "<td>Indicates the presence of other root problems</td>\n",
    "<td>Plain Text</td>\n",
    "</tr>\n",
    "\n",
    "<tr>\n",
    "<td>trunk_wire</td>\n",
    "<td>Indicates the presence of a trunk problem caused by wires or rope wrapped around the trunk</td>\n",
    "<td>Plain Text</td>\n",
    "</tr>\n",
    "\n",
    "<tr>\n",
    "<td>trnk_light</td>\n",
    "<td>Indicates the presence of a trunk problem caused by lighting installed on the tree</td>\n",
    "<td>Plain Text</td>\n",
    "</tr>\n",
    "\n",
    "<tr>\n",
    "<td>trnk_other</td>\n",
    "<td>Indicates the presence of other trunk problems</td>\n",
    "<td>Plain Text</td>\n",
    "</tr>\n",
    "\n",
    "<tr>\n",
    "<td>brch_light</td>\n",
    "<td>Indicates the presence of a branch problem caused by lights (usually string lights) or wires in the branches</td>\n",
    "<td>Plain Text</td>\n",
    "</tr>\n",
    "\n",
    "<tr>\n",
    "<td>brch_shoe</td>\n",
    "<td>Indicates the presence of a branch problem caused by sneakers in the branches</td>\n",
    "<td>Plain Text</td>\n",
    "</tr>\n",
    "\n",
    "<tr>\n",
    "<td>brch_other</td>\n",
    "<td>Indicates the presence of other branch problems</td>\n",
    "<td>Plain Text</td>\n",
    "</tr>\n",
    "\n",
    "<tr>\n",
    "<td>address</td>\n",
    "<td>Nearest estimated address to tree</td>\n",
    "<td>Plain Text</td>\n",
    "</tr>\n",
    "\n",
    "<tr>\n",
    "<td>postcode</td>\n",
    "<td>Five-digit zipcode in which tree is located</td>\n",
    "<td>Number</td>\n",
    "</tr>\n",
    "\n",
    "<tr>\n",
    "<td>zip_city</td>\n",
    "<td>City as derived from zipcode. This is often (but not always) the same as borough.</td>\n",
    "<td>Plain Text</td>\n",
    "</tr>\n",
    "\n",
    "<tr>\n",
    "<td>community board</td>\n",
    "<td>Community board in which tree point is located</td>\n",
    "<td>Number</td>\n",
    "</tr>\n",
    "\n",
    "<tr>\n",
    "<td>borocode</td>\n",
    "<td>Code for borough in which tree point is located: 1 (Manhattan), 2 (Bronx), 3 (Brooklyn), 4 (Queens), 5 (Staten Island)</td>\n",
    "<td>Number</td>\n",
    "</tr>\n",
    "\n",
    "<tr>\n",
    "<td>borough</td>\n",
    "<td>Name of borough in which tree point is located</td>\n",
    "<td>Plain Text</td>\n",
    "</tr>\n",
    "\n",
    "<tr>\n",
    "<td>cncldist</td>\n",
    "<td>Council district in which tree point is located</td>\n",
    "<td>Number</td>\n",
    "</tr>\n",
    "\n",
    "<tr>\n",
    "<td>st_assem</td>\n",
    "<td>State Assembly District in which tree point is located</td>\n",
    "<td>Number</td>\n",
    "</tr>\n",
    "\n",
    "<tr>\n",
    "<td>st_senate</td>\n",
    "<td>State Senate District in which tree point is located</td>\n",
    "<td>Number</td>\n",
    "</tr>\n",
    "\n",
    "<tr>\n",
    "<td>nta</td>\n",
    "<td>This is the NTA Code corresponding to the neighborhood tabulation area from the 2010 US Census that the tree point falls into.</td>\n",
    "<td>Plain Text</td>\n",
    "</tr>\n",
    "\n",
    "<tr>\n",
    "<td>nta_name</td>\n",
    "<td>This is the NTA name corresponding to the neighborhood tabulation area from the 2010 US Census that the tree point falls into.</td>\n",
    "<td>Plain Text</td>\n",
    "</tr>\n",
    "\n",
    "<tr>\n",
    "<td>boro_ct</td>\n",
    "<td>This is the boro_ct identifyer for the census tract that the tree point falls into.</td>\n",
    "<td>Number</td>\n",
    "</tr>\n",
    "\n",
    "<tr>\n",
    "<td>state</td>\n",
    "<td>All features given value 'New York'</td>\n",
    "<td>Plain Text</td>\n",
    "</tr>\n",
    "\n",
    "<tr>\n",
    "<td>latitude</td>\n",
    "<td>Latitude of point, in decimal degrees</td>\n",
    "<td>Number</td>\n",
    "</tr>\n",
    "\n",
    "<tr>\n",
    "<td>longitude</td>\n",
    "<td>Longitude of point, in decimal degrees</td>\n",
    "<td>Number</td>\n",
    "</tr>\n",
    "\n",
    "<tr>\n",
    "<td>x_sp</td>\n",
    "<td>X coordinate, in state plane. Units are feet.</td>\n",
    "<td>Number</td>\n",
    "</tr>\n",
    "\n",
    "<tr>\n",
    "<td>y_sp</td>\n",
    "<td>Y coordinate, in state plane. Units are feet</td>\n",
    "<td>Number</td>\n",
    "</tr>\n",
    "\n",
    "<tr>\n",
    "<td>council district</td>\n",
    "<td></td>\n",
    "<td>Number</td>\n",
    "</tr>\n",
    "\n",
    "<tr>\n",
    "<td>census tract</td>\t\n",
    "<td></td>\n",
    "<td>Number</td>\n",
    "</tr>\n",
    "\n",
    "<tr>\n",
    "<td>bin</td>\n",
    "<td></td>\n",
    "<td>Number</td>\n",
    "</tr>\n",
    "\n",
    "<tr>\n",
    "<td>bbl</td>\n",
    "<td></td>\n",
    "<td>Number</td>\n",
    "</tr>\n",
    "</table>"
   ]
  },
  {
   "cell_type": "markdown",
   "metadata": {},
   "source": [
    "## remove any duplicates"
   ]
  },
  {
   "cell_type": "code",
   "execution_count": 5,
   "metadata": {},
   "outputs": [
    {
     "data": {
      "text/plain": [
       "(683788, 45)"
      ]
     },
     "execution_count": 5,
     "metadata": {},
     "output_type": "execute_result"
    }
   ],
   "source": [
    "tree = tree.drop_duplicates()\n",
    "\n",
    "tree.shape # no duplicates, no problem!"
   ]
  },
  {
   "cell_type": "markdown",
   "metadata": {},
   "source": [
    "## drop irrelevant columns"
   ]
  },
  {
   "cell_type": "code",
   "execution_count": 6,
   "metadata": {},
   "outputs": [],
   "source": [
    "# columns to keep\n",
    "cols_keep = ['tree_id', 'tree_dbh', 'stump_diam', 'curb_loc', 'status', 'health', 'spc_common', \n",
    "             'steward', 'guards', 'sidewalk', 'problems', 'root_stone', 'root_grate', 'root_other', \n",
    "             'trunk_wire', 'trnk_light', 'trnk_other', 'brch_light', 'brch_shoe', 'brch_other', \n",
    "             'borough', 'longitude', 'latitude']\n",
    "\n",
    "tree = tree[cols_keep]"
   ]
  },
  {
   "cell_type": "markdown",
   "metadata": {},
   "source": [
    "Our goal is to analyze the variables that determine tree health, so the following columns can be dropped: block_id, created_at, user_type, address, postcode, zip_city, community board, borocode, cncldist, st_assem, st_senate, nta, nta_name, boro_ct, state, x_sp, y_sp, council district, census tract, bin, and bbl. These columns contain various types of location data, which we already have in borough and latitude and longitude."
   ]
  },
  {
   "cell_type": "code",
   "execution_count": 7,
   "metadata": {},
   "outputs": [
    {
     "name": "stdout",
     "output_type": "stream",
     "text": [
      "<class 'pandas.core.frame.DataFrame'>\n",
      "Int64Index: 683788 entries, 0 to 683787\n",
      "Data columns (total 23 columns):\n",
      "tree_id       683788 non-null int64\n",
      "tree_dbh      683788 non-null int64\n",
      "stump_diam    683788 non-null int64\n",
      "curb_loc      683788 non-null object\n",
      "status        683788 non-null object\n",
      "health        652172 non-null object\n",
      "spc_common    652169 non-null object\n",
      "steward       652173 non-null object\n",
      "guards        652172 non-null object\n",
      "sidewalk      652172 non-null object\n",
      "problems      652124 non-null object\n",
      "root_stone    683788 non-null object\n",
      "root_grate    683788 non-null object\n",
      "root_other    683788 non-null object\n",
      "trunk_wire    683788 non-null object\n",
      "trnk_light    683788 non-null object\n",
      "trnk_other    683788 non-null object\n",
      "brch_light    683788 non-null object\n",
      "brch_shoe     683788 non-null object\n",
      "brch_other    683788 non-null object\n",
      "borough       683788 non-null object\n",
      "longitude     683788 non-null float64\n",
      "latitude      683788 non-null float64\n",
      "dtypes: float64(2), int64(3), object(18)\n",
      "memory usage: 125.2+ MB\n"
     ]
    }
   ],
   "source": [
    "tree.info()"
   ]
  },
  {
   "cell_type": "markdown",
   "metadata": {},
   "source": [
    "## addressing missing data"
   ]
  },
  {
   "cell_type": "code",
   "execution_count": 8,
   "metadata": {},
   "outputs": [
    {
     "data": {
      "text/plain": [
       "tree_id           0\n",
       "tree_dbh          0\n",
       "stump_diam        0\n",
       "curb_loc          0\n",
       "status            0\n",
       "health        31616\n",
       "spc_common    31619\n",
       "steward       31615\n",
       "guards        31616\n",
       "sidewalk      31616\n",
       "problems      31664\n",
       "root_stone        0\n",
       "root_grate        0\n",
       "root_other        0\n",
       "trunk_wire        0\n",
       "trnk_light        0\n",
       "trnk_other        0\n",
       "brch_light        0\n",
       "brch_shoe         0\n",
       "brch_other        0\n",
       "borough           0\n",
       "longitude         0\n",
       "latitude          0\n",
       "dtype: int64"
      ]
     },
     "execution_count": 8,
     "metadata": {},
     "output_type": "execute_result"
    }
   ],
   "source": [
    "tree.isnull().sum() # six columns contain missing data"
   ]
  },
  {
   "cell_type": "markdown",
   "metadata": {},
   "source": [
    "Six columns are missing data. Perhaps it is because the tree is listed as Stump or Dead under status, so the health field is left blank."
   ]
  },
  {
   "cell_type": "code",
   "execution_count": 9,
   "metadata": {},
   "outputs": [
    {
     "data": {
      "text/plain": [
       "Alive    652173\n",
       "Stump     17654\n",
       "Dead      13961\n",
       "Name: status, dtype: int64"
      ]
     },
     "execution_count": 9,
     "metadata": {},
     "output_type": "execute_result"
    }
   ],
   "source": [
    "# find trees by status\n",
    "tree.status.value_counts(dropna=False)"
   ]
  },
  {
   "cell_type": "code",
   "execution_count": 10,
   "metadata": {},
   "outputs": [
    {
     "data": {
      "text/plain": [
       "Good    528850\n",
       "Fair     96504\n",
       "NaN      31616\n",
       "Poor     26818\n",
       "Name: health, dtype: int64"
      ]
     },
     "execution_count": 10,
     "metadata": {},
     "output_type": "execute_result"
    }
   ],
   "source": [
    "# compare status numbers to health numbers - Dead and Stump is roughly equal to NaN\n",
    "tree.health.value_counts(dropna=False)"
   ]
  },
  {
   "cell_type": "markdown",
   "metadata": {},
   "source": [
    "Since 31,616 rows lack health data and 31,615 rows are classified as Stump or Dead, they are likely all the same rows. We can remove them from our dataset since we are focused on living trees."
   ]
  },
  {
   "cell_type": "code",
   "execution_count": 11,
   "metadata": {},
   "outputs": [
    {
     "data": {
      "text/html": [
       "<div>\n",
       "<style scoped>\n",
       "    .dataframe tbody tr th:only-of-type {\n",
       "        vertical-align: middle;\n",
       "    }\n",
       "\n",
       "    .dataframe tbody tr th {\n",
       "        vertical-align: top;\n",
       "    }\n",
       "\n",
       "    .dataframe thead th {\n",
       "        text-align: right;\n",
       "    }\n",
       "</style>\n",
       "<table border=\"1\" class=\"dataframe\">\n",
       "  <thead>\n",
       "    <tr style=\"text-align: right;\">\n",
       "      <th></th>\n",
       "      <th>tree_id</th>\n",
       "      <th>tree_dbh</th>\n",
       "      <th>stump_diam</th>\n",
       "      <th>curb_loc</th>\n",
       "      <th>status</th>\n",
       "      <th>health</th>\n",
       "      <th>spc_common</th>\n",
       "      <th>steward</th>\n",
       "      <th>guards</th>\n",
       "      <th>sidewalk</th>\n",
       "      <th>...</th>\n",
       "      <th>root_other</th>\n",
       "      <th>trunk_wire</th>\n",
       "      <th>trnk_light</th>\n",
       "      <th>trnk_other</th>\n",
       "      <th>brch_light</th>\n",
       "      <th>brch_shoe</th>\n",
       "      <th>brch_other</th>\n",
       "      <th>borough</th>\n",
       "      <th>longitude</th>\n",
       "      <th>latitude</th>\n",
       "    </tr>\n",
       "  </thead>\n",
       "  <tbody>\n",
       "    <tr>\n",
       "      <th>32864</th>\n",
       "      <td>245041</td>\n",
       "      <td>16</td>\n",
       "      <td>0</td>\n",
       "      <td>OnCurb</td>\n",
       "      <td>Alive</td>\n",
       "      <td>NaN</td>\n",
       "      <td>green ash</td>\n",
       "      <td>None</td>\n",
       "      <td>None</td>\n",
       "      <td>Damage</td>\n",
       "      <td>...</td>\n",
       "      <td>No</td>\n",
       "      <td>No</td>\n",
       "      <td>No</td>\n",
       "      <td>No</td>\n",
       "      <td>No</td>\n",
       "      <td>No</td>\n",
       "      <td>No</td>\n",
       "      <td>Staten Island</td>\n",
       "      <td>-74.216412</td>\n",
       "      <td>40.548597</td>\n",
       "    </tr>\n",
       "  </tbody>\n",
       "</table>\n",
       "<p>1 rows × 23 columns</p>\n",
       "</div>"
      ],
      "text/plain": [
       "       tree_id  tree_dbh  stump_diam curb_loc status health spc_common  \\\n",
       "32864   245041        16           0   OnCurb  Alive    NaN  green ash   \n",
       "\n",
       "      steward guards sidewalk  ... root_other trunk_wire trnk_light  \\\n",
       "32864    None   None   Damage  ...         No         No         No   \n",
       "\n",
       "      trnk_other brch_light brch_shoe brch_other        borough  longitude  \\\n",
       "32864         No         No        No         No  Staten Island -74.216412   \n",
       "\n",
       "        latitude  \n",
       "32864  40.548597  \n",
       "\n",
       "[1 rows x 23 columns]"
      ]
     },
     "execution_count": 11,
     "metadata": {},
     "output_type": "execute_result"
    }
   ],
   "source": [
    "# any trees that are alive but lack a health status? - Yep, one tree\n",
    "tree[(tree.health.isnull()) & (tree.status == 'Alive')]"
   ]
  },
  {
   "cell_type": "code",
   "execution_count": 12,
   "metadata": {},
   "outputs": [],
   "source": [
    "# drop row\n",
    "tree.drop(tree.index[32864], inplace=True)"
   ]
  },
  {
   "cell_type": "markdown",
   "metadata": {},
   "source": [
    "Due to the robust nature of the dataset, we can remove rows without disrupting the results and remaining data but will do so with caution."
   ]
  },
  {
   "cell_type": "code",
   "execution_count": 13,
   "metadata": {},
   "outputs": [],
   "source": [
    "# remove rows without health statuses\n",
    "tree = tree[pd.notnull(tree['health'])]"
   ]
  },
  {
   "cell_type": "code",
   "execution_count": 14,
   "metadata": {},
   "outputs": [
    {
     "data": {
      "text/plain": [
       "(652172, 23)"
      ]
     },
     "execution_count": 14,
     "metadata": {},
     "output_type": "execute_result"
    }
   ],
   "source": [
    "tree.shape"
   ]
  },
  {
   "cell_type": "code",
   "execution_count": 15,
   "metadata": {},
   "outputs": [
    {
     "data": {
      "text/plain": [
       "tree_id        0\n",
       "tree_dbh       0\n",
       "stump_diam     0\n",
       "curb_loc       0\n",
       "status         0\n",
       "health         0\n",
       "spc_common     5\n",
       "steward        0\n",
       "guards         1\n",
       "sidewalk       1\n",
       "problems      49\n",
       "root_stone     0\n",
       "root_grate     0\n",
       "root_other     0\n",
       "trunk_wire     0\n",
       "trnk_light     0\n",
       "trnk_other     0\n",
       "brch_light     0\n",
       "brch_shoe      0\n",
       "brch_other     0\n",
       "borough        0\n",
       "longitude      0\n",
       "latitude       0\n",
       "dtype: int64"
      ]
     },
     "execution_count": 15,
     "metadata": {},
     "output_type": "execute_result"
    }
   ],
   "source": [
    "tree.isnull().sum()"
   ]
  },
  {
   "cell_type": "markdown",
   "metadata": {},
   "source": [
    "The 'stump_diam' / stump diameter and 'status' columns can be removed since we are only interested in working with trees that are alive."
   ]
  },
  {
   "cell_type": "code",
   "execution_count": 16,
   "metadata": {},
   "outputs": [],
   "source": [
    "# removing the column 'stump_diam' since all trees that are 'Alive' have a diameter of 0\n",
    "tree.drop(columns='stump_diam', inplace=True)"
   ]
  },
  {
   "cell_type": "code",
   "execution_count": 17,
   "metadata": {},
   "outputs": [],
   "source": [
    "# remove the 'status' column too since all trees are 'Alive'\n",
    "tree.drop(columns='status', inplace=True)"
   ]
  },
  {
   "cell_type": "code",
   "execution_count": 18,
   "metadata": {},
   "outputs": [
    {
     "data": {
      "text/plain": [
       "tree_id        0\n",
       "tree_dbh       0\n",
       "curb_loc       0\n",
       "health         0\n",
       "spc_common     5\n",
       "steward        0\n",
       "guards         1\n",
       "sidewalk       1\n",
       "problems      49\n",
       "root_stone     0\n",
       "root_grate     0\n",
       "root_other     0\n",
       "trunk_wire     0\n",
       "trnk_light     0\n",
       "trnk_other     0\n",
       "brch_light     0\n",
       "brch_shoe      0\n",
       "brch_other     0\n",
       "borough        0\n",
       "longitude      0\n",
       "latitude       0\n",
       "dtype: int64"
      ]
     },
     "execution_count": 18,
     "metadata": {},
     "output_type": "execute_result"
    }
   ],
   "source": [
    "# check for null values again\n",
    "tree.isnull().sum()"
   ]
  },
  {
   "cell_type": "markdown",
   "metadata": {},
   "source": [
    "Now, the majority of columns no longer contain missing data. For the remaining rows with missing data, we are going to remove them from the dataset since it is impossible to figure out the type, guardship, sidewalk, and problems of a tree from the data. Once again, we are working with a large dataset so removing these rows will not impact our data in a major way."
   ]
  },
  {
   "cell_type": "code",
   "execution_count": 19,
   "metadata": {},
   "outputs": [
    {
     "data": {
      "text/plain": [
       "tree_id       0\n",
       "tree_dbh      0\n",
       "curb_loc      0\n",
       "health        0\n",
       "spc_common    0\n",
       "steward       0\n",
       "guards        0\n",
       "sidewalk      0\n",
       "problems      0\n",
       "root_stone    0\n",
       "root_grate    0\n",
       "root_other    0\n",
       "trunk_wire    0\n",
       "trnk_light    0\n",
       "trnk_other    0\n",
       "brch_light    0\n",
       "brch_shoe     0\n",
       "brch_other    0\n",
       "borough       0\n",
       "longitude     0\n",
       "latitude      0\n",
       "dtype: int64"
      ]
     },
     "execution_count": 19,
     "metadata": {},
     "output_type": "execute_result"
    }
   ],
   "source": [
    "# drop rows where data is missing\n",
    "tree = tree.dropna()\n",
    "\n",
    "# final check for missing values \n",
    "tree.isnull().sum()"
   ]
  },
  {
   "cell_type": "code",
   "execution_count": 20,
   "metadata": {},
   "outputs": [
    {
     "data": {
      "text/plain": [
       "(652118, 21)"
      ]
     },
     "execution_count": 20,
     "metadata": {},
     "output_type": "execute_result"
    }
   ],
   "source": [
    "tree.shape"
   ]
  },
  {
   "cell_type": "code",
   "execution_count": 21,
   "metadata": {},
   "outputs": [
    {
     "data": {
      "text/html": [
       "<div>\n",
       "<style scoped>\n",
       "    .dataframe tbody tr th:only-of-type {\n",
       "        vertical-align: middle;\n",
       "    }\n",
       "\n",
       "    .dataframe tbody tr th {\n",
       "        vertical-align: top;\n",
       "    }\n",
       "\n",
       "    .dataframe thead th {\n",
       "        text-align: right;\n",
       "    }\n",
       "</style>\n",
       "<table border=\"1\" class=\"dataframe\">\n",
       "  <thead>\n",
       "    <tr style=\"text-align: right;\">\n",
       "      <th></th>\n",
       "      <th>tree_id</th>\n",
       "      <th>tree_dbh</th>\n",
       "      <th>curb_loc</th>\n",
       "      <th>health</th>\n",
       "      <th>spc_common</th>\n",
       "      <th>steward</th>\n",
       "      <th>guards</th>\n",
       "      <th>sidewalk</th>\n",
       "      <th>problems</th>\n",
       "      <th>root_stone</th>\n",
       "      <th>...</th>\n",
       "      <th>root_other</th>\n",
       "      <th>trunk_wire</th>\n",
       "      <th>trnk_light</th>\n",
       "      <th>trnk_other</th>\n",
       "      <th>brch_light</th>\n",
       "      <th>brch_shoe</th>\n",
       "      <th>brch_other</th>\n",
       "      <th>borough</th>\n",
       "      <th>longitude</th>\n",
       "      <th>latitude</th>\n",
       "    </tr>\n",
       "  </thead>\n",
       "  <tbody>\n",
       "    <tr>\n",
       "      <th>0</th>\n",
       "      <td>180683</td>\n",
       "      <td>3</td>\n",
       "      <td>OnCurb</td>\n",
       "      <td>Fair</td>\n",
       "      <td>red maple</td>\n",
       "      <td>None</td>\n",
       "      <td>None</td>\n",
       "      <td>NoDamage</td>\n",
       "      <td>None</td>\n",
       "      <td>No</td>\n",
       "      <td>...</td>\n",
       "      <td>No</td>\n",
       "      <td>No</td>\n",
       "      <td>No</td>\n",
       "      <td>No</td>\n",
       "      <td>No</td>\n",
       "      <td>No</td>\n",
       "      <td>No</td>\n",
       "      <td>Queens</td>\n",
       "      <td>-73.844215</td>\n",
       "      <td>40.723092</td>\n",
       "    </tr>\n",
       "    <tr>\n",
       "      <th>1</th>\n",
       "      <td>200540</td>\n",
       "      <td>21</td>\n",
       "      <td>OnCurb</td>\n",
       "      <td>Fair</td>\n",
       "      <td>pin oak</td>\n",
       "      <td>None</td>\n",
       "      <td>None</td>\n",
       "      <td>Damage</td>\n",
       "      <td>Stones</td>\n",
       "      <td>Yes</td>\n",
       "      <td>...</td>\n",
       "      <td>No</td>\n",
       "      <td>No</td>\n",
       "      <td>No</td>\n",
       "      <td>No</td>\n",
       "      <td>No</td>\n",
       "      <td>No</td>\n",
       "      <td>No</td>\n",
       "      <td>Queens</td>\n",
       "      <td>-73.818679</td>\n",
       "      <td>40.794111</td>\n",
       "    </tr>\n",
       "    <tr>\n",
       "      <th>2</th>\n",
       "      <td>204026</td>\n",
       "      <td>3</td>\n",
       "      <td>OnCurb</td>\n",
       "      <td>Good</td>\n",
       "      <td>honeylocust</td>\n",
       "      <td>1or2</td>\n",
       "      <td>None</td>\n",
       "      <td>Damage</td>\n",
       "      <td>None</td>\n",
       "      <td>No</td>\n",
       "      <td>...</td>\n",
       "      <td>No</td>\n",
       "      <td>No</td>\n",
       "      <td>No</td>\n",
       "      <td>No</td>\n",
       "      <td>No</td>\n",
       "      <td>No</td>\n",
       "      <td>No</td>\n",
       "      <td>Brooklyn</td>\n",
       "      <td>-73.936608</td>\n",
       "      <td>40.717581</td>\n",
       "    </tr>\n",
       "    <tr>\n",
       "      <th>3</th>\n",
       "      <td>204337</td>\n",
       "      <td>10</td>\n",
       "      <td>OnCurb</td>\n",
       "      <td>Good</td>\n",
       "      <td>honeylocust</td>\n",
       "      <td>None</td>\n",
       "      <td>None</td>\n",
       "      <td>Damage</td>\n",
       "      <td>Stones</td>\n",
       "      <td>Yes</td>\n",
       "      <td>...</td>\n",
       "      <td>No</td>\n",
       "      <td>No</td>\n",
       "      <td>No</td>\n",
       "      <td>No</td>\n",
       "      <td>No</td>\n",
       "      <td>No</td>\n",
       "      <td>No</td>\n",
       "      <td>Brooklyn</td>\n",
       "      <td>-73.934456</td>\n",
       "      <td>40.713537</td>\n",
       "    </tr>\n",
       "    <tr>\n",
       "      <th>4</th>\n",
       "      <td>189565</td>\n",
       "      <td>21</td>\n",
       "      <td>OnCurb</td>\n",
       "      <td>Good</td>\n",
       "      <td>American linden</td>\n",
       "      <td>None</td>\n",
       "      <td>None</td>\n",
       "      <td>Damage</td>\n",
       "      <td>Stones</td>\n",
       "      <td>Yes</td>\n",
       "      <td>...</td>\n",
       "      <td>No</td>\n",
       "      <td>No</td>\n",
       "      <td>No</td>\n",
       "      <td>No</td>\n",
       "      <td>No</td>\n",
       "      <td>No</td>\n",
       "      <td>No</td>\n",
       "      <td>Brooklyn</td>\n",
       "      <td>-73.975979</td>\n",
       "      <td>40.666778</td>\n",
       "    </tr>\n",
       "  </tbody>\n",
       "</table>\n",
       "<p>5 rows × 21 columns</p>\n",
       "</div>"
      ],
      "text/plain": [
       "   tree_id  tree_dbh curb_loc health       spc_common steward guards  \\\n",
       "0   180683         3   OnCurb   Fair        red maple    None   None   \n",
       "1   200540        21   OnCurb   Fair          pin oak    None   None   \n",
       "2   204026         3   OnCurb   Good      honeylocust    1or2   None   \n",
       "3   204337        10   OnCurb   Good      honeylocust    None   None   \n",
       "4   189565        21   OnCurb   Good  American linden    None   None   \n",
       "\n",
       "   sidewalk problems root_stone  ... root_other trunk_wire trnk_light  \\\n",
       "0  NoDamage     None         No  ...         No         No         No   \n",
       "1    Damage   Stones        Yes  ...         No         No         No   \n",
       "2    Damage     None         No  ...         No         No         No   \n",
       "3    Damage   Stones        Yes  ...         No         No         No   \n",
       "4    Damage   Stones        Yes  ...         No         No         No   \n",
       "\n",
       "  trnk_other brch_light brch_shoe brch_other   borough  longitude   latitude  \n",
       "0         No         No        No         No    Queens -73.844215  40.723092  \n",
       "1         No         No        No         No    Queens -73.818679  40.794111  \n",
       "2         No         No        No         No  Brooklyn -73.936608  40.717581  \n",
       "3         No         No        No         No  Brooklyn -73.934456  40.713537  \n",
       "4         No         No        No         No  Brooklyn -73.975979  40.666778  \n",
       "\n",
       "[5 rows x 21 columns]"
      ]
     },
     "execution_count": 21,
     "metadata": {},
     "output_type": "execute_result"
    }
   ],
   "source": [
    "tree.head()"
   ]
  },
  {
   "cell_type": "markdown",
   "metadata": {},
   "source": [
    "## Analyzing the Distribution of Tree Diameters"
   ]
  },
  {
   "cell_type": "markdown",
   "metadata": {},
   "source": [
    "The tree_dbh column contains the diameter of the tree in inches, 'measured at approximately 54\" / 137 cm above the ground.' For more information, visit the [NYC Street Map](https://tree-map.nycgovparks.org/tree-map)."
   ]
  },
  {
   "cell_type": "code",
   "execution_count": 22,
   "metadata": {},
   "outputs": [
    {
     "data": {
      "image/png": "[encoded data removed]",
      "text/plain": [
       "<Figure size 720x360 with 1 Axes>"
      ]
     },
     "metadata": {},
     "output_type": "display_data"
    }
   ],
   "source": [
    "# distribution plot\n",
    "plt.figure(figsize=(10, 5))\n",
    "\n",
    "tree.tree_dbh.plot(kind='hist', bins=80, color='violet', edgecolor='black')\n",
    "plt.title('Tree Diameter in Inches')\n",
    "plt.xlabel('Diameter (in)')\n",
    "plt.ylabel('Trees')\n",
    "plt.show()"
   ]
  },
  {
   "cell_type": "code",
   "execution_count": 23,
   "metadata": {},
   "outputs": [
    {
     "data": {
      "text/plain": [
       "count    652118.000000\n",
       "mean         11.709684\n",
       "std           8.634257\n",
       "min           0.000000\n",
       "25%           5.000000\n",
       "50%          10.000000\n",
       "75%          16.000000\n",
       "max         425.000000\n",
       "Name: tree_dbh, dtype: float64"
      ]
     },
     "execution_count": 23,
     "metadata": {},
     "output_type": "execute_result"
    }
   ],
   "source": [
    "# view stats\n",
    "tree['tree_dbh'].describe()"
   ]
  },
  {
   "cell_type": "markdown",
   "metadata": {},
   "source": [
    "Observe that the numbers greatly skew to the right. Taking a closer look, we see that the maximum diameter is 425 in, or 35.42 feet, which is extreme for trees grown in NYC. The minimum value is 0, which is also not possible if there is a tree planted that is alive and healthy.\n",
    "\n",
    "Before looking into the larger values, let's remove the trees with 0 in as their diameter."
   ]
  },
  {
   "cell_type": "code",
   "execution_count": 24,
   "metadata": {},
   "outputs": [
    {
     "data": {
      "text/plain": [
       "(222, 21)"
      ]
     },
     "execution_count": 24,
     "metadata": {},
     "output_type": "execute_result"
    }
   ],
   "source": [
    "# number of rows that have 0 as the diameteer\n",
    "tree[tree.tree_dbh == 0].shape"
   ]
  },
  {
   "cell_type": "code",
   "execution_count": 25,
   "metadata": {},
   "outputs": [],
   "source": [
    "# remove those rows\n",
    "tree = tree[tree.tree_dbh != 0]"
   ]
  },
  {
   "cell_type": "code",
   "execution_count": 26,
   "metadata": {},
   "outputs": [
    {
     "data": {
      "text/plain": [
       "count    651896.000000\n",
       "mean         11.713672\n",
       "std           8.633022\n",
       "min           1.000000\n",
       "25%           5.000000\n",
       "50%          10.000000\n",
       "75%          16.000000\n",
       "max         425.000000\n",
       "Name: tree_dbh, dtype: float64"
      ]
     },
     "execution_count": 26,
     "metadata": {},
     "output_type": "execute_result"
    }
   ],
   "source": [
    "# updated stats\n",
    "tree.tree_dbh.describe()"
   ]
  },
  {
   "cell_type": "markdown",
   "metadata": {},
   "source": [
    "At the 75th percentile, the diameter is just 16 inches. Let's take a look at how many trees have a diameter between 100-425 inches."
   ]
  },
  {
   "cell_type": "code",
   "execution_count": 27,
   "metadata": {},
   "outputs": [
    {
     "data": {
      "text/html": [
       "<div>\n",
       "<style scoped>\n",
       "    .dataframe tbody tr th:only-of-type {\n",
       "        vertical-align: middle;\n",
       "    }\n",
       "\n",
       "    .dataframe tbody tr th {\n",
       "        vertical-align: top;\n",
       "    }\n",
       "\n",
       "    .dataframe thead th {\n",
       "        text-align: right;\n",
       "    }\n",
       "</style>\n",
       "<table border=\"1\" class=\"dataframe\">\n",
       "  <thead>\n",
       "    <tr style=\"text-align: right;\">\n",
       "      <th></th>\n",
       "      <th>tree_id</th>\n",
       "      <th>tree_dbh</th>\n",
       "      <th>curb_loc</th>\n",
       "      <th>health</th>\n",
       "      <th>spc_common</th>\n",
       "      <th>steward</th>\n",
       "      <th>guards</th>\n",
       "      <th>sidewalk</th>\n",
       "      <th>problems</th>\n",
       "      <th>root_stone</th>\n",
       "      <th>...</th>\n",
       "      <th>root_other</th>\n",
       "      <th>trunk_wire</th>\n",
       "      <th>trnk_light</th>\n",
       "      <th>trnk_other</th>\n",
       "      <th>brch_light</th>\n",
       "      <th>brch_shoe</th>\n",
       "      <th>brch_other</th>\n",
       "      <th>borough</th>\n",
       "      <th>longitude</th>\n",
       "      <th>latitude</th>\n",
       "    </tr>\n",
       "  </thead>\n",
       "  <tbody>\n",
       "    <tr>\n",
       "      <th>2404</th>\n",
       "      <td>168583</td>\n",
       "      <td>425</td>\n",
       "      <td>OnCurb</td>\n",
       "      <td>Good</td>\n",
       "      <td>swamp white oak</td>\n",
       "      <td>1or2</td>\n",
       "      <td>None</td>\n",
       "      <td>Damage</td>\n",
       "      <td>None</td>\n",
       "      <td>No</td>\n",
       "      <td>...</td>\n",
       "      <td>No</td>\n",
       "      <td>No</td>\n",
       "      <td>No</td>\n",
       "      <td>No</td>\n",
       "      <td>No</td>\n",
       "      <td>No</td>\n",
       "      <td>No</td>\n",
       "      <td>Brooklyn</td>\n",
       "      <td>-73.946936</td>\n",
       "      <td>40.672287</td>\n",
       "    </tr>\n",
       "    <tr>\n",
       "      <th>6720</th>\n",
       "      <td>209349</td>\n",
       "      <td>122</td>\n",
       "      <td>OnCurb</td>\n",
       "      <td>Good</td>\n",
       "      <td>pin oak</td>\n",
       "      <td>None</td>\n",
       "      <td>None</td>\n",
       "      <td>Damage</td>\n",
       "      <td>None</td>\n",
       "      <td>No</td>\n",
       "      <td>...</td>\n",
       "      <td>No</td>\n",
       "      <td>No</td>\n",
       "      <td>No</td>\n",
       "      <td>No</td>\n",
       "      <td>No</td>\n",
       "      <td>No</td>\n",
       "      <td>No</td>\n",
       "      <td>Staten Island</td>\n",
       "      <td>-74.115959</td>\n",
       "      <td>40.562379</td>\n",
       "    </tr>\n",
       "    <tr>\n",
       "      <th>10070</th>\n",
       "      <td>215075</td>\n",
       "      <td>169</td>\n",
       "      <td>OnCurb</td>\n",
       "      <td>Good</td>\n",
       "      <td>honeylocust</td>\n",
       "      <td>None</td>\n",
       "      <td>None</td>\n",
       "      <td>NoDamage</td>\n",
       "      <td>None</td>\n",
       "      <td>No</td>\n",
       "      <td>...</td>\n",
       "      <td>No</td>\n",
       "      <td>No</td>\n",
       "      <td>No</td>\n",
       "      <td>No</td>\n",
       "      <td>No</td>\n",
       "      <td>No</td>\n",
       "      <td>No</td>\n",
       "      <td>Bronx</td>\n",
       "      <td>-73.847206</td>\n",
       "      <td>40.894886</td>\n",
       "    </tr>\n",
       "    <tr>\n",
       "      <th>25839</th>\n",
       "      <td>214532</td>\n",
       "      <td>177</td>\n",
       "      <td>OnCurb</td>\n",
       "      <td>Fair</td>\n",
       "      <td>black locust</td>\n",
       "      <td>1or2</td>\n",
       "      <td>None</td>\n",
       "      <td>NoDamage</td>\n",
       "      <td>None</td>\n",
       "      <td>No</td>\n",
       "      <td>...</td>\n",
       "      <td>No</td>\n",
       "      <td>No</td>\n",
       "      <td>No</td>\n",
       "      <td>No</td>\n",
       "      <td>No</td>\n",
       "      <td>No</td>\n",
       "      <td>No</td>\n",
       "      <td>Queens</td>\n",
       "      <td>-73.762585</td>\n",
       "      <td>40.766343</td>\n",
       "    </tr>\n",
       "    <tr>\n",
       "      <th>29952</th>\n",
       "      <td>214534</td>\n",
       "      <td>282</td>\n",
       "      <td>OnCurb</td>\n",
       "      <td>Good</td>\n",
       "      <td>London planetree</td>\n",
       "      <td>1or2</td>\n",
       "      <td>None</td>\n",
       "      <td>NoDamage</td>\n",
       "      <td>None</td>\n",
       "      <td>No</td>\n",
       "      <td>...</td>\n",
       "      <td>No</td>\n",
       "      <td>No</td>\n",
       "      <td>No</td>\n",
       "      <td>No</td>\n",
       "      <td>No</td>\n",
       "      <td>No</td>\n",
       "      <td>No</td>\n",
       "      <td>Queens</td>\n",
       "      <td>-73.762538</td>\n",
       "      <td>40.766147</td>\n",
       "    </tr>\n",
       "    <tr>\n",
       "      <th>40844</th>\n",
       "      <td>220376</td>\n",
       "      <td>110</td>\n",
       "      <td>OnCurb</td>\n",
       "      <td>Poor</td>\n",
       "      <td>Norway maple</td>\n",
       "      <td>None</td>\n",
       "      <td>None</td>\n",
       "      <td>Damage</td>\n",
       "      <td>Stones,RootOther,BranchLights,BranchOther</td>\n",
       "      <td>Yes</td>\n",
       "      <td>...</td>\n",
       "      <td>Yes</td>\n",
       "      <td>No</td>\n",
       "      <td>No</td>\n",
       "      <td>No</td>\n",
       "      <td>Yes</td>\n",
       "      <td>No</td>\n",
       "      <td>Yes</td>\n",
       "      <td>Queens</td>\n",
       "      <td>-73.915831</td>\n",
       "      <td>40.709002</td>\n",
       "    </tr>\n",
       "    <tr>\n",
       "      <th>79155</th>\n",
       "      <td>287234</td>\n",
       "      <td>234</td>\n",
       "      <td>OnCurb</td>\n",
       "      <td>Good</td>\n",
       "      <td>Callery pear</td>\n",
       "      <td>None</td>\n",
       "      <td>None</td>\n",
       "      <td>NoDamage</td>\n",
       "      <td>None</td>\n",
       "      <td>No</td>\n",
       "      <td>...</td>\n",
       "      <td>No</td>\n",
       "      <td>No</td>\n",
       "      <td>No</td>\n",
       "      <td>No</td>\n",
       "      <td>No</td>\n",
       "      <td>No</td>\n",
       "      <td>No</td>\n",
       "      <td>Staten Island</td>\n",
       "      <td>-74.104353</td>\n",
       "      <td>40.632165</td>\n",
       "    </tr>\n",
       "    <tr>\n",
       "      <th>81735</th>\n",
       "      <td>244676</td>\n",
       "      <td>120</td>\n",
       "      <td>OnCurb</td>\n",
       "      <td>Good</td>\n",
       "      <td>Callery pear</td>\n",
       "      <td>None</td>\n",
       "      <td>None</td>\n",
       "      <td>NoDamage</td>\n",
       "      <td>BranchLights</td>\n",
       "      <td>No</td>\n",
       "      <td>...</td>\n",
       "      <td>No</td>\n",
       "      <td>No</td>\n",
       "      <td>No</td>\n",
       "      <td>No</td>\n",
       "      <td>Yes</td>\n",
       "      <td>No</td>\n",
       "      <td>No</td>\n",
       "      <td>Queens</td>\n",
       "      <td>-73.760941</td>\n",
       "      <td>40.665536</td>\n",
       "    </tr>\n",
       "    <tr>\n",
       "      <th>83538</th>\n",
       "      <td>278078</td>\n",
       "      <td>255</td>\n",
       "      <td>OnCurb</td>\n",
       "      <td>Good</td>\n",
       "      <td>London planetree</td>\n",
       "      <td>None</td>\n",
       "      <td>None</td>\n",
       "      <td>Damage</td>\n",
       "      <td>Stones,WiresRope,BranchLights</td>\n",
       "      <td>Yes</td>\n",
       "      <td>...</td>\n",
       "      <td>No</td>\n",
       "      <td>Yes</td>\n",
       "      <td>No</td>\n",
       "      <td>No</td>\n",
       "      <td>Yes</td>\n",
       "      <td>No</td>\n",
       "      <td>No</td>\n",
       "      <td>Staten Island</td>\n",
       "      <td>-74.104362</td>\n",
       "      <td>40.627198</td>\n",
       "    </tr>\n",
       "    <tr>\n",
       "      <th>100285</th>\n",
       "      <td>304388</td>\n",
       "      <td>228</td>\n",
       "      <td>OnCurb</td>\n",
       "      <td>Fair</td>\n",
       "      <td>Callery pear</td>\n",
       "      <td>None</td>\n",
       "      <td>None</td>\n",
       "      <td>NoDamage</td>\n",
       "      <td>BranchOther</td>\n",
       "      <td>No</td>\n",
       "      <td>...</td>\n",
       "      <td>No</td>\n",
       "      <td>No</td>\n",
       "      <td>No</td>\n",
       "      <td>No</td>\n",
       "      <td>No</td>\n",
       "      <td>No</td>\n",
       "      <td>Yes</td>\n",
       "      <td>Manhattan</td>\n",
       "      <td>-73.948116</td>\n",
       "      <td>40.802178</td>\n",
       "    </tr>\n",
       "  </tbody>\n",
       "</table>\n",
       "<p>10 rows × 21 columns</p>\n",
       "</div>"
      ],
      "text/plain": [
       "        tree_id  tree_dbh curb_loc health        spc_common steward guards  \\\n",
       "2404     168583       425   OnCurb   Good   swamp white oak    1or2   None   \n",
       "6720     209349       122   OnCurb   Good           pin oak    None   None   \n",
       "10070    215075       169   OnCurb   Good       honeylocust    None   None   \n",
       "25839    214532       177   OnCurb   Fair      black locust    1or2   None   \n",
       "29952    214534       282   OnCurb   Good  London planetree    1or2   None   \n",
       "40844    220376       110   OnCurb   Poor      Norway maple    None   None   \n",
       "79155    287234       234   OnCurb   Good      Callery pear    None   None   \n",
       "81735    244676       120   OnCurb   Good      Callery pear    None   None   \n",
       "83538    278078       255   OnCurb   Good  London planetree    None   None   \n",
       "100285   304388       228   OnCurb   Fair      Callery pear    None   None   \n",
       "\n",
       "        sidewalk                                   problems root_stone  ...  \\\n",
       "2404      Damage                                       None         No  ...   \n",
       "6720      Damage                                       None         No  ...   \n",
       "10070   NoDamage                                       None         No  ...   \n",
       "25839   NoDamage                                       None         No  ...   \n",
       "29952   NoDamage                                       None         No  ...   \n",
       "40844     Damage  Stones,RootOther,BranchLights,BranchOther        Yes  ...   \n",
       "79155   NoDamage                                       None         No  ...   \n",
       "81735   NoDamage                               BranchLights         No  ...   \n",
       "83538     Damage              Stones,WiresRope,BranchLights        Yes  ...   \n",
       "100285  NoDamage                                BranchOther         No  ...   \n",
       "\n",
       "       root_other trunk_wire trnk_light trnk_other brch_light brch_shoe  \\\n",
       "2404           No         No         No         No         No        No   \n",
       "6720           No         No         No         No         No        No   \n",
       "10070          No         No         No         No         No        No   \n",
       "25839          No         No         No         No         No        No   \n",
       "29952          No         No         No         No         No        No   \n",
       "40844         Yes         No         No         No        Yes        No   \n",
       "79155          No         No         No         No         No        No   \n",
       "81735          No         No         No         No        Yes        No   \n",
       "83538          No        Yes         No         No        Yes        No   \n",
       "100285         No         No         No         No         No        No   \n",
       "\n",
       "       brch_other        borough  longitude   latitude  \n",
       "2404           No       Brooklyn -73.946936  40.672287  \n",
       "6720           No  Staten Island -74.115959  40.562379  \n",
       "10070          No          Bronx -73.847206  40.894886  \n",
       "25839          No         Queens -73.762585  40.766343  \n",
       "29952          No         Queens -73.762538  40.766147  \n",
       "40844         Yes         Queens -73.915831  40.709002  \n",
       "79155          No  Staten Island -74.104353  40.632165  \n",
       "81735          No         Queens -73.760941  40.665536  \n",
       "83538          No  Staten Island -74.104362  40.627198  \n",
       "100285        Yes      Manhattan -73.948116  40.802178  \n",
       "\n",
       "[10 rows x 21 columns]"
      ]
     },
     "execution_count": 27,
     "metadata": {},
     "output_type": "execute_result"
    }
   ],
   "source": [
    "tree[tree.tree_dbh > 100].head(10)"
   ]
  },
  {
   "cell_type": "code",
   "execution_count": 28,
   "metadata": {},
   "outputs": [
    {
     "data": {
      "text/plain": [
       "(67, 21)"
      ]
     },
     "execution_count": 28,
     "metadata": {},
     "output_type": "execute_result"
    }
   ],
   "source": [
    "tree[tree.tree_dbh > 100].shape"
   ]
  },
  {
   "cell_type": "markdown",
   "metadata": {},
   "source": [
    "Only 67 trees have a diameter over 100 inches. We can remove them from our dataset since they make up less than 0.1% of the population."
   ]
  },
  {
   "cell_type": "code",
   "execution_count": 29,
   "metadata": {},
   "outputs": [
    {
     "data": {
      "text/plain": [
       "count    651829.000000\n",
       "mean         11.696164\n",
       "std           8.428281\n",
       "min           1.000000\n",
       "25%           5.000000\n",
       "50%          10.000000\n",
       "75%          16.000000\n",
       "max         100.000000\n",
       "Name: tree_dbh, dtype: float64"
      ]
     },
     "execution_count": 29,
     "metadata": {},
     "output_type": "execute_result"
    }
   ],
   "source": [
    "# remove trees\n",
    "tree = tree[tree.tree_dbh < 101]\n",
    "\n",
    "# updated stats\n",
    "tree.tree_dbh.describe()"
   ]
  },
  {
   "cell_type": "code",
   "execution_count": 30,
   "metadata": {
    "scrolled": true
   },
   "outputs": [
    {
     "data": {
      "image/png": "[encoded data removed]",
      "text/plain": [
       "<Figure size 720x360 with 1 Axes>"
      ]
     },
     "metadata": {},
     "output_type": "display_data"
    }
   ],
   "source": [
    "# updated distributions\n",
    "plt.figure(figsize=(10, 5))\n",
    "\n",
    "tree.tree_dbh.plot(kind='hist', bins=50, color='skyblue', edgecolor='k')\n",
    "plt.title('Tree Diameter in Inches')\n",
    "plt.xlabel('Diameter (inches)')\n",
    "plt.ylabel('Trees')\n",
    "plt.show()"
   ]
  },
  {
   "cell_type": "markdown",
   "metadata": {},
   "source": [
    "The data is still skewed to the right. It appears that the majority of trees have a diameter of less than 60 in.\n",
    "\n",
    "Let's take a look at how many trees have a diameter between 50 and 100 inches."
   ]
  },
  {
   "cell_type": "code",
   "execution_count": 31,
   "metadata": {},
   "outputs": [
    {
     "data": {
      "text/plain": [
       "(294, 21)"
      ]
     },
     "execution_count": 31,
     "metadata": {},
     "output_type": "execute_result"
    }
   ],
   "source": [
    "tree[tree.tree_dbh > 50].shape"
   ]
  },
  {
   "cell_type": "markdown",
   "metadata": {},
   "source": [
    "A very small number of trees, less than 0.1% of the population, have a diameter between 50 and 100 inches, so it's safe to remove them from the dataset without disturbing the rest of the data."
   ]
  },
  {
   "cell_type": "code",
   "execution_count": 32,
   "metadata": {},
   "outputs": [],
   "source": [
    "tree = tree[tree.tree_dbh < 51]"
   ]
  },
  {
   "cell_type": "code",
   "execution_count": 33,
   "metadata": {},
   "outputs": [
    {
     "data": {
      "image/png": "[encoded data removed]",
      "text/plain": [
       "<Figure size 720x360 with 1 Axes>"
      ]
     },
     "metadata": {},
     "output_type": "display_data"
    }
   ],
   "source": [
    "# updated plot\n",
    "plt.figure(figsize=(10, 5))\n",
    "\n",
    "tree.tree_dbh.plot(kind='hist', color='green', edgecolor='white', bins=50)\n",
    "plt.xlabel('Diameter (inches)')\n",
    "plt.ylabel('Number of Trees')\n",
    "plt.title('Diameters in Inches')\n",
    "plt.show()"
   ]
  },
  {
   "cell_type": "code",
   "execution_count": 34,
   "metadata": {},
   "outputs": [
    {
     "data": {
      "text/plain": [
       "count    651535.000000\n",
       "mean         11.674665\n",
       "std           8.366295\n",
       "min           1.000000\n",
       "25%           5.000000\n",
       "50%          10.000000\n",
       "75%          16.000000\n",
       "max          50.000000\n",
       "Name: tree_dbh, dtype: float64"
      ]
     },
     "execution_count": 34,
     "metadata": {},
     "output_type": "execute_result"
    }
   ],
   "source": [
    "# updated stats\n",
    "tree.tree_dbh.describe()"
   ]
  },
  {
   "cell_type": "markdown",
   "metadata": {},
   "source": [
    "Now that we have a clean dataset, we can proceed to analyze and visualization our data."
   ]
  },
  {
   "cell_type": "code",
   "execution_count": 35,
   "metadata": {},
   "outputs": [
    {
     "name": "stdout",
     "output_type": "stream",
     "text": [
      "<class 'pandas.core.frame.DataFrame'>\n",
      "Int64Index: 651535 entries, 0 to 683787\n",
      "Data columns (total 21 columns):\n",
      "tree_id       651535 non-null int64\n",
      "tree_dbh      651535 non-null int64\n",
      "curb_loc      651535 non-null object\n",
      "health        651535 non-null object\n",
      "spc_common    651535 non-null object\n",
      "steward       651535 non-null object\n",
      "guards        651535 non-null object\n",
      "sidewalk      651535 non-null object\n",
      "problems      651535 non-null object\n",
      "root_stone    651535 non-null object\n",
      "root_grate    651535 non-null object\n",
      "root_other    651535 non-null object\n",
      "trunk_wire    651535 non-null object\n",
      "trnk_light    651535 non-null object\n",
      "trnk_other    651535 non-null object\n",
      "brch_light    651535 non-null object\n",
      "brch_shoe     651535 non-null object\n",
      "brch_other    651535 non-null object\n",
      "borough       651535 non-null object\n",
      "longitude     651535 non-null float64\n",
      "latitude      651535 non-null float64\n",
      "dtypes: float64(2), int64(2), object(17)\n",
      "memory usage: 109.4+ MB\n"
     ]
    }
   ],
   "source": [
    "tree.info()"
   ]
  },
  {
   "cell_type": "code",
   "execution_count": 36,
   "metadata": {},
   "outputs": [],
   "source": [
    "# save cleaned dataset to new file\n",
    "# tree.to_csv('tree_census_cleaned.csv')"
   ]
  }
 ],
 "metadata": {
  "kernelspec": {
   "display_name": "conda_python3",
   "language": "python",
   "name": "conda_python3"
  },
  "language_info": {
   "codemirror_mode": {
    "name": "ipython",
    "version": 3
   },
   "file_extension": ".py",
   "mimetype": "text/x-python",
   "name": "python",
   "nbconvert_exporter": "python",
   "pygments_lexer": "ipython3",
   "version": "3.6.5"
  }
 },
 "nbformat": 4,
 "nbformat_minor": 2
}
