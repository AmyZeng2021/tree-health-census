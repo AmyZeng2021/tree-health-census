{
 "cells": [
  {
   "cell_type": "markdown",
   "metadata": {},
   "source": [
    "# General Overview - Statistical Analysis"
   ]
  },
  {
   "cell_type": "markdown",
   "metadata": {},
   "source": [
    "- Are there variables that are particularly significant in terms of explaining the answer to your project question?\n",
    "- Are there significant differences between subgroups in your data that may be relevant to your project aim?\n",
    "- Are there strong correlations between pairs of independent variables or between an independent and a dependent variable?\n",
    "- What are the most appropriate tests to use to analyze these relationships?\n",
    "\n",
    "Use chi square test for categorical variables.\n",
    "\n",
    "Some categorical variables are nominal attributes, meaning that the variables in each column are independent of each other (i.e. no sense of order). Others are binary and have only two answer choices: Yes and No.\n",
    "\n",
    "Using Label Encoder or One-Hot Encoder can impact our model results. We can try to use both in order to determine which encoder is the more accurate one."
   ]
  },
  {
   "cell_type": "code",
   "execution_count": 40,
   "metadata": {},
   "outputs": [],
   "source": [
    "import pandas as pd\n",
    "import numpy as np\n",
    "import matplotlib.pyplot as plt\n",
    "import seaborn as sns\n",
    "\n",
    "from scipy import stats\n",
    "from scipy.stats import norm, t, chisquare\n",
    "from numpy.random import seed\n",
    "from sklearn.preprocessing import LabelEncoder, OneHotEncoder"
   ]
  },
  {
   "cell_type": "code",
   "execution_count": 41,
   "metadata": {},
   "outputs": [],
   "source": [
    "data = pd.read_csv('tree_census_stat_ready.csv', index_col=0, encoding='utf-8') # import data\n",
    "tree = data.copy() # save a copy of data as tree"
   ]
  },
  {
   "cell_type": "code",
   "execution_count": 42,
   "metadata": {},
   "outputs": [
    {
     "name": "stdout",
     "output_type": "stream",
     "text": [
      "<class 'pandas.core.frame.DataFrame'>\n",
      "Int64Index: 651535 entries, 0 to 683787\n",
      "Data columns (total 22 columns):\n",
      "tree_id         651535 non-null int64\n",
      "tree_dbh        651535 non-null int64\n",
      "curb_loc        651535 non-null object\n",
      "health          651535 non-null object\n",
      "spc_common      651535 non-null object\n",
      "steward         651535 non-null object\n",
      "guards          651535 non-null object\n",
      "sidewalk        651535 non-null object\n",
      "problems        651535 non-null object\n",
      "root_stone      651535 non-null object\n",
      "root_grate      651535 non-null object\n",
      "root_other      651535 non-null object\n",
      "trunk_wire      651535 non-null object\n",
      "trnk_light      651535 non-null object\n",
      "trnk_other      651535 non-null object\n",
      "brch_light      651535 non-null object\n",
      "brch_shoe       651535 non-null object\n",
      "brch_other      651535 non-null object\n",
      "borough         651535 non-null object\n",
      "longitude       651535 non-null float64\n",
      "latitude        651535 non-null float64\n",
      "num_problems    651535 non-null int64\n",
      "dtypes: float64(2), int64(3), object(17)\n",
      "memory usage: 114.3+ MB\n"
     ]
    }
   ],
   "source": [
    "tree.info()"
   ]
  },
  {
   "cell_type": "code",
   "execution_count": 43,
   "metadata": {},
   "outputs": [
    {
     "data": {
      "text/html": [
       "<div>\n",
       "<style scoped>\n",
       "    .dataframe tbody tr th:only-of-type {\n",
       "        vertical-align: middle;\n",
       "    }\n",
       "\n",
       "    .dataframe tbody tr th {\n",
       "        vertical-align: top;\n",
       "    }\n",
       "\n",
       "    .dataframe thead th {\n",
       "        text-align: right;\n",
       "    }\n",
       "</style>\n",
       "<table border=\"1\" class=\"dataframe\">\n",
       "  <thead>\n",
       "    <tr style=\"text-align: right;\">\n",
       "      <th></th>\n",
       "      <th>tree_id</th>\n",
       "      <th>tree_dbh</th>\n",
       "      <th>curb_loc</th>\n",
       "      <th>health</th>\n",
       "      <th>spc_common</th>\n",
       "      <th>steward</th>\n",
       "      <th>guards</th>\n",
       "      <th>sidewalk</th>\n",
       "      <th>problems</th>\n",
       "      <th>root_stone</th>\n",
       "      <th>...</th>\n",
       "      <th>trunk_wire</th>\n",
       "      <th>trnk_light</th>\n",
       "      <th>trnk_other</th>\n",
       "      <th>brch_light</th>\n",
       "      <th>brch_shoe</th>\n",
       "      <th>brch_other</th>\n",
       "      <th>borough</th>\n",
       "      <th>longitude</th>\n",
       "      <th>latitude</th>\n",
       "      <th>num_problems</th>\n",
       "    </tr>\n",
       "  </thead>\n",
       "  <tbody>\n",
       "    <tr>\n",
       "      <th>0</th>\n",
       "      <td>180683</td>\n",
       "      <td>3</td>\n",
       "      <td>OnCurb</td>\n",
       "      <td>Fair</td>\n",
       "      <td>red maple</td>\n",
       "      <td>None</td>\n",
       "      <td>None</td>\n",
       "      <td>NoDamage</td>\n",
       "      <td>None</td>\n",
       "      <td>No</td>\n",
       "      <td>...</td>\n",
       "      <td>No</td>\n",
       "      <td>No</td>\n",
       "      <td>No</td>\n",
       "      <td>No</td>\n",
       "      <td>No</td>\n",
       "      <td>No</td>\n",
       "      <td>Queens</td>\n",
       "      <td>-73.844215</td>\n",
       "      <td>40.723092</td>\n",
       "      <td>0</td>\n",
       "    </tr>\n",
       "    <tr>\n",
       "      <th>1</th>\n",
       "      <td>200540</td>\n",
       "      <td>21</td>\n",
       "      <td>OnCurb</td>\n",
       "      <td>Fair</td>\n",
       "      <td>pin oak</td>\n",
       "      <td>None</td>\n",
       "      <td>None</td>\n",
       "      <td>Damage</td>\n",
       "      <td>Stones</td>\n",
       "      <td>Yes</td>\n",
       "      <td>...</td>\n",
       "      <td>No</td>\n",
       "      <td>No</td>\n",
       "      <td>No</td>\n",
       "      <td>No</td>\n",
       "      <td>No</td>\n",
       "      <td>No</td>\n",
       "      <td>Queens</td>\n",
       "      <td>-73.818679</td>\n",
       "      <td>40.794111</td>\n",
       "      <td>1</td>\n",
       "    </tr>\n",
       "    <tr>\n",
       "      <th>2</th>\n",
       "      <td>204026</td>\n",
       "      <td>3</td>\n",
       "      <td>OnCurb</td>\n",
       "      <td>Good</td>\n",
       "      <td>honeylocust</td>\n",
       "      <td>1or2</td>\n",
       "      <td>None</td>\n",
       "      <td>Damage</td>\n",
       "      <td>None</td>\n",
       "      <td>No</td>\n",
       "      <td>...</td>\n",
       "      <td>No</td>\n",
       "      <td>No</td>\n",
       "      <td>No</td>\n",
       "      <td>No</td>\n",
       "      <td>No</td>\n",
       "      <td>No</td>\n",
       "      <td>Brooklyn</td>\n",
       "      <td>-73.936608</td>\n",
       "      <td>40.717581</td>\n",
       "      <td>0</td>\n",
       "    </tr>\n",
       "    <tr>\n",
       "      <th>3</th>\n",
       "      <td>204337</td>\n",
       "      <td>10</td>\n",
       "      <td>OnCurb</td>\n",
       "      <td>Good</td>\n",
       "      <td>honeylocust</td>\n",
       "      <td>None</td>\n",
       "      <td>None</td>\n",
       "      <td>Damage</td>\n",
       "      <td>Stones</td>\n",
       "      <td>Yes</td>\n",
       "      <td>...</td>\n",
       "      <td>No</td>\n",
       "      <td>No</td>\n",
       "      <td>No</td>\n",
       "      <td>No</td>\n",
       "      <td>No</td>\n",
       "      <td>No</td>\n",
       "      <td>Brooklyn</td>\n",
       "      <td>-73.934456</td>\n",
       "      <td>40.713537</td>\n",
       "      <td>1</td>\n",
       "    </tr>\n",
       "    <tr>\n",
       "      <th>4</th>\n",
       "      <td>189565</td>\n",
       "      <td>21</td>\n",
       "      <td>OnCurb</td>\n",
       "      <td>Good</td>\n",
       "      <td>American linden</td>\n",
       "      <td>None</td>\n",
       "      <td>None</td>\n",
       "      <td>Damage</td>\n",
       "      <td>Stones</td>\n",
       "      <td>Yes</td>\n",
       "      <td>...</td>\n",
       "      <td>No</td>\n",
       "      <td>No</td>\n",
       "      <td>No</td>\n",
       "      <td>No</td>\n",
       "      <td>No</td>\n",
       "      <td>No</td>\n",
       "      <td>Brooklyn</td>\n",
       "      <td>-73.975979</td>\n",
       "      <td>40.666778</td>\n",
       "      <td>1</td>\n",
       "    </tr>\n",
       "  </tbody>\n",
       "</table>\n",
       "<p>5 rows × 22 columns</p>\n",
       "</div>"
      ],
      "text/plain": [
       "   tree_id  tree_dbh curb_loc health       spc_common steward guards  \\\n",
       "0   180683         3   OnCurb   Fair        red maple    None   None   \n",
       "1   200540        21   OnCurb   Fair          pin oak    None   None   \n",
       "2   204026         3   OnCurb   Good      honeylocust    1or2   None   \n",
       "3   204337        10   OnCurb   Good      honeylocust    None   None   \n",
       "4   189565        21   OnCurb   Good  American linden    None   None   \n",
       "\n",
       "   sidewalk problems root_stone  ... trunk_wire trnk_light trnk_other  \\\n",
       "0  NoDamage     None         No  ...         No         No         No   \n",
       "1    Damage   Stones        Yes  ...         No         No         No   \n",
       "2    Damage     None         No  ...         No         No         No   \n",
       "3    Damage   Stones        Yes  ...         No         No         No   \n",
       "4    Damage   Stones        Yes  ...         No         No         No   \n",
       "\n",
       "  brch_light brch_shoe brch_other   borough  longitude   latitude  \\\n",
       "0         No        No         No    Queens -73.844215  40.723092   \n",
       "1         No        No         No    Queens -73.818679  40.794111   \n",
       "2         No        No         No  Brooklyn -73.936608  40.717581   \n",
       "3         No        No         No  Brooklyn -73.934456  40.713537   \n",
       "4         No        No         No  Brooklyn -73.975979  40.666778   \n",
       "\n",
       "   num_problems  \n",
       "0             0  \n",
       "1             1  \n",
       "2             0  \n",
       "3             1  \n",
       "4             1  \n",
       "\n",
       "[5 rows x 22 columns]"
      ]
     },
     "execution_count": 43,
     "metadata": {},
     "output_type": "execute_result"
    }
   ],
   "source": [
    "# looking at sample data\n",
    "\n",
    "tree.head()"
   ]
  },
  {
   "cell_type": "markdown",
   "metadata": {},
   "source": [
    "The problems column is reflected in the adjacent 9 columns so we are removing it from our dataset along with longitude and latitude since they are used to map the location of the trees. We do not need the latitude and longitude columns either since they are used to map the location of the tree, see data storytelling for the maps. Finally, we are removing tree_id since the trees are identified using their index number."
   ]
  },
  {
   "cell_type": "code",
   "execution_count": 44,
   "metadata": {},
   "outputs": [],
   "source": [
    "col_remove = ['tree_id', 'problems', 'longitude', 'latitude'] # columns to remove\n",
    "\n",
    "tree = tree.drop(col_remove, axis=1)"
   ]
  },
  {
   "cell_type": "code",
   "execution_count": 45,
   "metadata": {},
   "outputs": [
    {
     "data": {
      "text/html": [
       "<div>\n",
       "<style scoped>\n",
       "    .dataframe tbody tr th:only-of-type {\n",
       "        vertical-align: middle;\n",
       "    }\n",
       "\n",
       "    .dataframe tbody tr th {\n",
       "        vertical-align: top;\n",
       "    }\n",
       "\n",
       "    .dataframe thead th {\n",
       "        text-align: right;\n",
       "    }\n",
       "</style>\n",
       "<table border=\"1\" class=\"dataframe\">\n",
       "  <thead>\n",
       "    <tr style=\"text-align: right;\">\n",
       "      <th></th>\n",
       "      <th>tree_dbh</th>\n",
       "      <th>curb_loc</th>\n",
       "      <th>health</th>\n",
       "      <th>spc_common</th>\n",
       "      <th>steward</th>\n",
       "      <th>guards</th>\n",
       "      <th>sidewalk</th>\n",
       "      <th>root_stone</th>\n",
       "      <th>root_grate</th>\n",
       "      <th>root_other</th>\n",
       "      <th>trunk_wire</th>\n",
       "      <th>trnk_light</th>\n",
       "      <th>trnk_other</th>\n",
       "      <th>brch_light</th>\n",
       "      <th>brch_shoe</th>\n",
       "      <th>brch_other</th>\n",
       "      <th>borough</th>\n",
       "      <th>num_problems</th>\n",
       "    </tr>\n",
       "  </thead>\n",
       "  <tbody>\n",
       "    <tr>\n",
       "      <th>0</th>\n",
       "      <td>3</td>\n",
       "      <td>OnCurb</td>\n",
       "      <td>Fair</td>\n",
       "      <td>red maple</td>\n",
       "      <td>None</td>\n",
       "      <td>None</td>\n",
       "      <td>NoDamage</td>\n",
       "      <td>No</td>\n",
       "      <td>No</td>\n",
       "      <td>No</td>\n",
       "      <td>No</td>\n",
       "      <td>No</td>\n",
       "      <td>No</td>\n",
       "      <td>No</td>\n",
       "      <td>No</td>\n",
       "      <td>No</td>\n",
       "      <td>Queens</td>\n",
       "      <td>0</td>\n",
       "    </tr>\n",
       "    <tr>\n",
       "      <th>1</th>\n",
       "      <td>21</td>\n",
       "      <td>OnCurb</td>\n",
       "      <td>Fair</td>\n",
       "      <td>pin oak</td>\n",
       "      <td>None</td>\n",
       "      <td>None</td>\n",
       "      <td>Damage</td>\n",
       "      <td>Yes</td>\n",
       "      <td>No</td>\n",
       "      <td>No</td>\n",
       "      <td>No</td>\n",
       "      <td>No</td>\n",
       "      <td>No</td>\n",
       "      <td>No</td>\n",
       "      <td>No</td>\n",
       "      <td>No</td>\n",
       "      <td>Queens</td>\n",
       "      <td>1</td>\n",
       "    </tr>\n",
       "    <tr>\n",
       "      <th>2</th>\n",
       "      <td>3</td>\n",
       "      <td>OnCurb</td>\n",
       "      <td>Good</td>\n",
       "      <td>honeylocust</td>\n",
       "      <td>1or2</td>\n",
       "      <td>None</td>\n",
       "      <td>Damage</td>\n",
       "      <td>No</td>\n",
       "      <td>No</td>\n",
       "      <td>No</td>\n",
       "      <td>No</td>\n",
       "      <td>No</td>\n",
       "      <td>No</td>\n",
       "      <td>No</td>\n",
       "      <td>No</td>\n",
       "      <td>No</td>\n",
       "      <td>Brooklyn</td>\n",
       "      <td>0</td>\n",
       "    </tr>\n",
       "    <tr>\n",
       "      <th>3</th>\n",
       "      <td>10</td>\n",
       "      <td>OnCurb</td>\n",
       "      <td>Good</td>\n",
       "      <td>honeylocust</td>\n",
       "      <td>None</td>\n",
       "      <td>None</td>\n",
       "      <td>Damage</td>\n",
       "      <td>Yes</td>\n",
       "      <td>No</td>\n",
       "      <td>No</td>\n",
       "      <td>No</td>\n",
       "      <td>No</td>\n",
       "      <td>No</td>\n",
       "      <td>No</td>\n",
       "      <td>No</td>\n",
       "      <td>No</td>\n",
       "      <td>Brooklyn</td>\n",
       "      <td>1</td>\n",
       "    </tr>\n",
       "    <tr>\n",
       "      <th>4</th>\n",
       "      <td>21</td>\n",
       "      <td>OnCurb</td>\n",
       "      <td>Good</td>\n",
       "      <td>American linden</td>\n",
       "      <td>None</td>\n",
       "      <td>None</td>\n",
       "      <td>Damage</td>\n",
       "      <td>Yes</td>\n",
       "      <td>No</td>\n",
       "      <td>No</td>\n",
       "      <td>No</td>\n",
       "      <td>No</td>\n",
       "      <td>No</td>\n",
       "      <td>No</td>\n",
       "      <td>No</td>\n",
       "      <td>No</td>\n",
       "      <td>Brooklyn</td>\n",
       "      <td>1</td>\n",
       "    </tr>\n",
       "    <tr>\n",
       "      <th>5</th>\n",
       "      <td>11</td>\n",
       "      <td>OnCurb</td>\n",
       "      <td>Good</td>\n",
       "      <td>honeylocust</td>\n",
       "      <td>1or2</td>\n",
       "      <td>Helpful</td>\n",
       "      <td>NoDamage</td>\n",
       "      <td>No</td>\n",
       "      <td>No</td>\n",
       "      <td>No</td>\n",
       "      <td>No</td>\n",
       "      <td>No</td>\n",
       "      <td>No</td>\n",
       "      <td>No</td>\n",
       "      <td>No</td>\n",
       "      <td>No</td>\n",
       "      <td>Manhattan</td>\n",
       "      <td>0</td>\n",
       "    </tr>\n",
       "    <tr>\n",
       "      <th>6</th>\n",
       "      <td>11</td>\n",
       "      <td>OnCurb</td>\n",
       "      <td>Good</td>\n",
       "      <td>honeylocust</td>\n",
       "      <td>1or2</td>\n",
       "      <td>Helpful</td>\n",
       "      <td>NoDamage</td>\n",
       "      <td>No</td>\n",
       "      <td>No</td>\n",
       "      <td>No</td>\n",
       "      <td>No</td>\n",
       "      <td>No</td>\n",
       "      <td>No</td>\n",
       "      <td>No</td>\n",
       "      <td>No</td>\n",
       "      <td>No</td>\n",
       "      <td>Manhattan</td>\n",
       "      <td>0</td>\n",
       "    </tr>\n",
       "    <tr>\n",
       "      <th>7</th>\n",
       "      <td>9</td>\n",
       "      <td>OnCurb</td>\n",
       "      <td>Good</td>\n",
       "      <td>American linden</td>\n",
       "      <td>None</td>\n",
       "      <td>None</td>\n",
       "      <td>NoDamage</td>\n",
       "      <td>No</td>\n",
       "      <td>Yes</td>\n",
       "      <td>No</td>\n",
       "      <td>No</td>\n",
       "      <td>No</td>\n",
       "      <td>No</td>\n",
       "      <td>No</td>\n",
       "      <td>No</td>\n",
       "      <td>No</td>\n",
       "      <td>Manhattan</td>\n",
       "      <td>1</td>\n",
       "    </tr>\n",
       "    <tr>\n",
       "      <th>8</th>\n",
       "      <td>6</td>\n",
       "      <td>OnCurb</td>\n",
       "      <td>Good</td>\n",
       "      <td>honeylocust</td>\n",
       "      <td>None</td>\n",
       "      <td>None</td>\n",
       "      <td>NoDamage</td>\n",
       "      <td>No</td>\n",
       "      <td>No</td>\n",
       "      <td>No</td>\n",
       "      <td>No</td>\n",
       "      <td>No</td>\n",
       "      <td>No</td>\n",
       "      <td>No</td>\n",
       "      <td>No</td>\n",
       "      <td>No</td>\n",
       "      <td>Staten Island</td>\n",
       "      <td>0</td>\n",
       "    </tr>\n",
       "    <tr>\n",
       "      <th>9</th>\n",
       "      <td>21</td>\n",
       "      <td>OffsetFromCurb</td>\n",
       "      <td>Fair</td>\n",
       "      <td>London planetree</td>\n",
       "      <td>None</td>\n",
       "      <td>None</td>\n",
       "      <td>NoDamage</td>\n",
       "      <td>No</td>\n",
       "      <td>No</td>\n",
       "      <td>No</td>\n",
       "      <td>No</td>\n",
       "      <td>No</td>\n",
       "      <td>No</td>\n",
       "      <td>No</td>\n",
       "      <td>No</td>\n",
       "      <td>No</td>\n",
       "      <td>Brooklyn</td>\n",
       "      <td>0</td>\n",
       "    </tr>\n",
       "  </tbody>\n",
       "</table>\n",
       "</div>"
      ],
      "text/plain": [
       "   tree_dbh        curb_loc health        spc_common steward   guards  \\\n",
       "0         3          OnCurb   Fair         red maple    None     None   \n",
       "1        21          OnCurb   Fair           pin oak    None     None   \n",
       "2         3          OnCurb   Good       honeylocust    1or2     None   \n",
       "3        10          OnCurb   Good       honeylocust    None     None   \n",
       "4        21          OnCurb   Good   American linden    None     None   \n",
       "5        11          OnCurb   Good       honeylocust    1or2  Helpful   \n",
       "6        11          OnCurb   Good       honeylocust    1or2  Helpful   \n",
       "7         9          OnCurb   Good   American linden    None     None   \n",
       "8         6          OnCurb   Good       honeylocust    None     None   \n",
       "9        21  OffsetFromCurb   Fair  London planetree    None     None   \n",
       "\n",
       "   sidewalk root_stone root_grate root_other trunk_wire trnk_light trnk_other  \\\n",
       "0  NoDamage         No         No         No         No         No         No   \n",
       "1    Damage        Yes         No         No         No         No         No   \n",
       "2    Damage         No         No         No         No         No         No   \n",
       "3    Damage        Yes         No         No         No         No         No   \n",
       "4    Damage        Yes         No         No         No         No         No   \n",
       "5  NoDamage         No         No         No         No         No         No   \n",
       "6  NoDamage         No         No         No         No         No         No   \n",
       "7  NoDamage         No        Yes         No         No         No         No   \n",
       "8  NoDamage         No         No         No         No         No         No   \n",
       "9  NoDamage         No         No         No         No         No         No   \n",
       "\n",
       "  brch_light brch_shoe brch_other        borough  num_problems  \n",
       "0         No        No         No         Queens             0  \n",
       "1         No        No         No         Queens             1  \n",
       "2         No        No         No       Brooklyn             0  \n",
       "3         No        No         No       Brooklyn             1  \n",
       "4         No        No         No       Brooklyn             1  \n",
       "5         No        No         No      Manhattan             0  \n",
       "6         No        No         No      Manhattan             0  \n",
       "7         No        No         No      Manhattan             1  \n",
       "8         No        No         No  Staten Island             0  \n",
       "9         No        No         No       Brooklyn             0  "
      ]
     },
     "execution_count": 45,
     "metadata": {},
     "output_type": "execute_result"
    }
   ],
   "source": [
    "# cleaned up dataset\n",
    "\n",
    "tree.head(10)"
   ]
  },
  {
   "cell_type": "markdown",
   "metadata": {},
   "source": [
    "## Statistical Testing - Chi-Square Test for Association"
   ]
  },
  {
   "cell_type": "markdown",
   "metadata": {},
   "source": [
    "We are interested in discovering if there is a relationship between two categorical variables and for that, we will use the chi square test for association."
   ]
  },
  {
   "cell_type": "markdown",
   "metadata": {},
   "source": [
    "### Curb Location (curb_loc) vs Health"
   ]
  },
  {
   "cell_type": "code",
   "execution_count": 46,
   "metadata": {},
   "outputs": [
    {
     "name": "stdout",
     "output_type": "stream",
     "text": [
      "health           Fair    Good   Poor\n",
      "curb_loc                            \n",
      "OffsetFromCurb   4022   20814    963\n",
      "OnCurb          92405  507513  25818\n"
     ]
    }
   ],
   "source": [
    "# Null Hypothesis: There is no relationship between health and curb_loc.\n",
    "# Alternate Hypothesis: There is a relationship between health and curb_loc.\n",
    "# p-value: 0.05\n",
    "\n",
    "# using the crosstab function\n",
    "\n",
    "curb_loc_table = pd.crosstab(tree.curb_loc, [tree.health])\n",
    "print(curb_loc_table)"
   ]
  },
  {
   "cell_type": "code",
   "execution_count": 47,
   "metadata": {},
   "outputs": [
    {
     "name": "stdout",
     "output_type": "stream",
     "text": [
      "Offset From Curb Total:  25799\n",
      "On Curb Total:  625736\n",
      "Good Total:  528327\n",
      "Fair Total:  96427\n",
      "Poor Total:  26781\n",
      "Grand Total:  651535\n"
     ]
    }
   ],
   "source": [
    "# calcuate expected values\n",
    "\n",
    "offset_total = len(tree[tree.curb_loc == 'OffsetFromCurb'])\n",
    "oncurb_total = len(tree[tree.curb_loc == 'OnCurb'])\n",
    "good_total = len(tree[tree.health == 'Good'])\n",
    "fair_total = len(tree[tree.health == 'Fair'])\n",
    "poor_total = len(tree[tree.health == 'Poor'])\n",
    "grand_total = len(tree)\n",
    "\n",
    "print('Offset From Curb Total: ', offset_total)\n",
    "print('On Curb Total: ', oncurb_total)\n",
    "print('Good Total: ', good_total)\n",
    "print('Fair Total: ', fair_total)\n",
    "print('Poor Total: ', poor_total)\n",
    "print('Grand Total: ', grand_total)\n",
    "\n",
    "offset_good = (offset_total * good_total) / grand_total\n",
    "offset_fair = (offset_total * fair_total) / grand_total\n",
    "offset_poor = (offset_total * poor_total) / grand_total\n",
    "oncurb_good = (oncurb_total * good_total) / grand_total\n",
    "oncurb_fair = (oncurb_total * fair_total) / grand_total\n",
    "oncurb_poor = (oncurb_total * poor_total) / grand_total"
   ]
  },
  {
   "cell_type": "code",
   "execution_count": 48,
   "metadata": {},
   "outputs": [
    {
     "name": "stdout",
     "output_type": "stream",
     "text": [
      "Chi-squared Value:  21.208951781289166\n"
     ]
    }
   ],
   "source": [
    "# calculate chi-square values using observed and expected values\n",
    "\n",
    "observed = [20814, 4022, 963, 507513, 92405, 25818] # offset good, fair, poor, oncurb good, fair, poor\n",
    "expected = [offset_good, offset_fair, offset_poor, oncurb_good, oncurb_fair, oncurb_poor]\n",
    "\n",
    "values = []\n",
    "\n",
    "for e, o in enumerate(observed):\n",
    "    sig = (o - expected[e])**2 / expected[e]\n",
    "    values.append(sig)\n",
    "    \n",
    "chisq_curb_loc = sum(values)\n",
    "print('Chi-squared Value: ', chisq_curb_loc)"
   ]
  },
  {
   "cell_type": "markdown",
   "metadata": {},
   "source": [
    "Next, we find a p-value associated with the chi-squared value that tells us if the difference between the observed and associated values are statistically significant."
   ]
  },
  {
   "cell_type": "code",
   "execution_count": 49,
   "metadata": {},
   "outputs": [
    {
     "name": "stdout",
     "output_type": "stream",
     "text": [
      "Chi-squared Value:  21.208951781289166\n",
      "Curb_loc p-value:  0.0007396291269688524\n"
     ]
    }
   ],
   "source": [
    "# using chisquare\n",
    "\n",
    "observed = np.array([20814, 4022, 963, 507513, 92405, 25818]) # offset good, fair, poor, oncurb good, fair, poor\n",
    "expected = np.array([offset_good, offset_fair, offset_poor, oncurb_good, oncurb_fair, oncurb_poor])\n",
    "\n",
    "chisquare_value, pvalue = chisquare(observed, expected)\n",
    "\n",
    "print('Chi-squared Value: ', chisquare_value) # confirmed!\n",
    "print('Curb_loc p-value: ', pvalue)"
   ]
  },
  {
   "cell_type": "markdown",
   "metadata": {},
   "source": [
    "The calculated p-value of 0.0007 tells us that we can reject the null hypothesis and accept the alternate hypothesis that there is a relationship between the curb location and tree health."
   ]
  },
  {
   "cell_type": "markdown",
   "metadata": {},
   "source": [
    "### Stewardship vs Health"
   ]
  },
  {
   "cell_type": "code",
   "execution_count": 50,
   "metadata": {},
   "outputs": [
    {
     "name": "stdout",
     "output_type": "stream",
     "text": [
      "health    Fair    Good   Poor\n",
      "steward                      \n",
      "1or2     21883  115231   6276\n",
      "3or4      2829   15594    747\n",
      "4orMore    200    1360     49\n",
      "None     71515  396142  19709\n"
     ]
    }
   ],
   "source": [
    "# Null Hypothesis: There is no relationship between health and steward.\n",
    "# Alternate Hypothesis: There is a relationship between health and steward.\n",
    "# p-value: 0.05\n",
    "\n",
    "# using the crosstab function\n",
    "\n",
    "steward_table = pd.crosstab(tree.steward, [tree.health])\n",
    "print(steward_table)"
   ]
  },
  {
   "cell_type": "code",
   "execution_count": 51,
   "metadata": {},
   "outputs": [
    {
     "name": "stdout",
     "output_type": "stream",
     "text": [
      "Chi-square Value:  82.64204316499212\n",
      "Steward p-value:  1.0158580809907348e-15\n"
     ]
    }
   ],
   "source": [
    "# using a shortcut, chi2_contingency\n",
    "\n",
    "from scipy.stats import chi2_contingency\n",
    "\n",
    "chisq_value, pvalue, df, expected = chi2_contingency(steward_table)\n",
    "\n",
    "print('Chi-square Value: ', chisq_value)\n",
    "print('Steward p-value: ', pvalue) # safe to reject the null hypothesis"
   ]
  },
  {
   "cell_type": "markdown",
   "metadata": {},
   "source": [
    "### Guards vs Health"
   ]
  },
  {
   "cell_type": "code",
   "execution_count": 52,
   "metadata": {},
   "outputs": [
    {
     "name": "stdout",
     "output_type": "stream",
     "text": [
      "health    Fair    Good   Poor\n",
      "guards                       \n",
      "Harmful   3836   15313   1091\n",
      "Helpful   7159   42602   2061\n",
      "None     84057  464503  23169\n",
      "Unsure    1375    5909    460\n"
     ]
    }
   ],
   "source": [
    "# Null Hypothesis: There is no relationship between health and guards.\n",
    "# Alternate Hypothesis: There is a relationship between health and guards.\n",
    "# p-value: 0.05\n",
    "\n",
    "guard_table = pd.crosstab(tree.guards, [tree.health])\n",
    "print(guard_table)"
   ]
  },
  {
   "cell_type": "code",
   "execution_count": 53,
   "metadata": {},
   "outputs": [
    {
     "name": "stdout",
     "output_type": "stream",
     "text": [
      "Chi-square Value:  82.64204316499212\n",
      "Guard p-value:  1.0158580809907348e-15\n"
     ]
    }
   ],
   "source": [
    "chisq_value, pvalue, df, expected = chi2_contingency(steward_table)\n",
    "\n",
    "print('Chi-square Value: ', chisq_value)\n",
    "print('Guard p-value: ', pvalue) # safe to reject the null hypothesis"
   ]
  },
  {
   "cell_type": "markdown",
   "metadata": {},
   "source": [
    "### Sidewalks vs Health"
   ]
  },
  {
   "cell_type": "code",
   "execution_count": 54,
   "metadata": {},
   "outputs": [
    {
     "name": "stdout",
     "output_type": "stream",
     "text": [
      "health     Fair    Good   Poor\n",
      "sidewalk                      \n",
      "Damage    28676  151750   6593\n",
      "NoDamage  67751  376577  20188\n"
     ]
    }
   ],
   "source": [
    "# Null Hypothesis: There is no relationship between health and sidewalks.\n",
    "# Alternate Hypothesis: There is a relationship between health and sidewalks.\n",
    "# p-value: 0.05\n",
    "\n",
    "sidewalk_table = pd.crosstab(tree.sidewalk, [tree.health])\n",
    "print(sidewalk_table)"
   ]
  },
  {
   "cell_type": "code",
   "execution_count": 55,
   "metadata": {},
   "outputs": [
    {
     "name": "stdout",
     "output_type": "stream",
     "text": [
      "Chi-square Value:  268.98082116629007\n",
      "Guard p-value:  3.9044225721239635e-59\n"
     ]
    }
   ],
   "source": [
    "chisq_value, pvalue, df, expected = chi2_contingency(sidewalk_table)\n",
    "\n",
    "print('Chi-square Value: ', chisq_value)\n",
    "print('Guard p-value: ', pvalue) # safe to reject the null hypothesis"
   ]
  },
  {
   "cell_type": "markdown",
   "metadata": {},
   "source": [
    "### Borough vs Health"
   ]
  },
  {
   "cell_type": "code",
   "execution_count": 56,
   "metadata": {},
   "outputs": [
    {
     "name": "stdout",
     "output_type": "stream",
     "text": [
      "health          Fair    Good  Poor\n",
      "borough                           \n",
      "Bronx          10879   66546  3092\n",
      "Brooklyn       25060  138119  6454\n",
      "Manhattan      11456   47338  3607\n",
      "Queens         34512  193789  9401\n",
      "Staten Island  14520   82535  4227\n"
     ]
    }
   ],
   "source": [
    "# Null Hypothesis: There is no relationship between health and borough.\n",
    "# Alternate Hypothesis: There is a relationship between health and borough.\n",
    "# p-value: 0.05\n",
    "\n",
    "borough_table = pd.crosstab(tree.borough, [tree.health])\n",
    "print(borough_table)"
   ]
  },
  {
   "cell_type": "code",
   "execution_count": 57,
   "metadata": {},
   "outputs": [
    {
     "name": "stdout",
     "output_type": "stream",
     "text": [
      "Chi-square Value:  1387.3756826254964\n",
      "Borough p-value:  3.0368189425788952e-294\n"
     ]
    }
   ],
   "source": [
    "chisq_value, pvalue, df, expected = chi2_contingency(borough_table)\n",
    "\n",
    "print('Chi-square Value: ', chisq_value)\n",
    "print('Borough p-value: ', pvalue) # very safe to reject the null hypothesis"
   ]
  },
  {
   "cell_type": "markdown",
   "metadata": {},
   "source": [
    "### root_stone, root_grate, root_other, trunk_wire, trnk_light, trnk_other, brch_light, brch_shoe, brch_other"
   ]
  },
  {
   "cell_type": "code",
   "execution_count": 58,
   "metadata": {},
   "outputs": [],
   "source": [
    "# these 9 columns are similar to each other (binaries) so we are creating a function to handle all of them at once\n",
    "\n",
    "root_trunk_branch = ['root_stone', 'root_grate', 'root_other', 'trunk_wire', 'trnk_light', 'trnk_other', 'brch_light', 'brch_shoe', 'brch_other']\n",
    "\n",
    "rt_tk_bh_values = []\n",
    "\n",
    "for x in root_trunk_branch:\n",
    "    table = pd.crosstab(tree[x], [tree.health])\n",
    "    chisq_value, pvalue, df, expected = chi2_contingency(table)\n",
    "    rt_tk_bh_values.extend(('Chi-square: ', chisq_value, 'p-value: ', pvalue))"
   ]
  },
  {
   "cell_type": "code",
   "execution_count": 59,
   "metadata": {},
   "outputs": [
    {
     "data": {
      "text/plain": [
       "['Chi-square: ',\n",
       " 602.1719849387213,\n",
       " 'p-value: ',\n",
       " 1.7378604199012528e-131,\n",
       " 'Chi-square: ',\n",
       " 356.68976230775087,\n",
       " 'p-value: ',\n",
       " 3.5140039001739447e-78,\n",
       " 'Chi-square: ',\n",
       " 1928.3000460610629,\n",
       " 'p-value: ',\n",
       " 0.0,\n",
       " 'Chi-square: ',\n",
       " 511.1079115744369,\n",
       " 'p-value: ',\n",
       " 1.0335397233161574e-111,\n",
       " 'Chi-square: ',\n",
       " 42.65188376759023,\n",
       " 'p-value: ',\n",
       " 5.473449537752943e-10,\n",
       " 'Chi-square: ',\n",
       " 11787.16656714847,\n",
       " 'p-value: ',\n",
       " 0.0,\n",
       " 'Chi-square: ',\n",
       " 410.2875656415676,\n",
       " 'p-value: ',\n",
       " 8.07582918010992e-90,\n",
       " 'Chi-square: ',\n",
       " 35.43604272124426,\n",
       " 'p-value: ',\n",
       " 2.01911517512005e-08,\n",
       " 'Chi-square: ',\n",
       " 15111.455650416505,\n",
       " 'p-value: ',\n",
       " 0.0]"
      ]
     },
     "metadata": {},
     "output_type": "display_data"
    }
   ],
   "source": [
    "display(rt_tk_bh_values)"
   ]
  },
  {
   "cell_type": "markdown",
   "metadata": {},
   "source": [
    "The p-values all show that there is statistical significance between each of the nine columns and tree health."
   ]
  },
  {
   "cell_type": "markdown",
   "metadata": {},
   "source": [
    "## Analyzing Diameter Distributions"
   ]
  },
  {
   "cell_type": "markdown",
   "metadata": {},
   "source": [
    "Most of our data consists of categorical variables, only two columns, tree_dbh and num_problems, consist of numerical variables. Let's take a look at the distribution of tree_dbh, tree diameters in inches."
   ]
  },
  {
   "cell_type": "code",
   "execution_count": 60,
   "metadata": {},
   "outputs": [
    {
     "data": {
      "image/png": "[encoded data removed]",
      "text/plain": [
       "<Figure size 1440x576 with 1 Axes>"
      ]
     },
     "metadata": {
      "needs_background": "light"
     },
     "output_type": "display_data"
    }
   ],
   "source": [
    "plt.figure(figsize=(20, 8))\n",
    "tree.tree_dbh.hist(bins=50)\n",
    "plt.xlabel('Diameter in inches')\n",
    "plt.ylabel('Tree Count')\n",
    "plt.title('Distribution of Tree Diameters')\n",
    "plt.axvline(np.mean(tree.tree_dbh), color='r', label='mean')\n",
    "plt.axvline(np.median(tree.tree_dbh), color='k', label='median')\n",
    "plt.legend()\n",
    "plt.show()"
   ]
  },
  {
   "cell_type": "code",
   "execution_count": 61,
   "metadata": {},
   "outputs": [
    {
     "name": "stdout",
     "output_type": "stream",
     "text": [
      "Mean Value:  11.674665213687677\n",
      "Median Value:  10.0\n"
     ]
    }
   ],
   "source": [
    "# printing the mean and median\n",
    "\n",
    "print('Mean Value: ', np.mean(tree.tree_dbh))\n",
    "print('Median Value: ', np.median(tree.tree_dbh))"
   ]
  },
  {
   "cell_type": "code",
   "execution_count": 62,
   "metadata": {},
   "outputs": [
    {
     "data": {
      "image/png": "[encoded data removed]",
      "text/plain": [
       "<Figure size 864x360 with 1 Axes>"
      ]
     },
     "metadata": {
      "needs_background": "light"
     },
     "output_type": "display_data"
    }
   ],
   "source": [
    "# take the log of tree_dbh\n",
    "\n",
    "dbh_log = np.log(tree.tree_dbh)\n",
    "\n",
    "plt.figure(figsize=(12, 5))\n",
    "dbh_log.hist()\n",
    "plt.title('Distribution of Tree Diameters in Inches (log)')\n",
    "plt.axvline(np.mean(dbh_log), color='r', label='mean')\n",
    "plt.axvline(np.median(dbh_log), color='k', label='median')\n",
    "plt.legend()\n",
    "plt.show() # the distribution appears closer to normal after taking the log"
   ]
  },
  {
   "cell_type": "markdown",
   "metadata": {},
   "source": [
    "Taking the log of the diameters, the distribution is slightly skewed to the left but is closer to a normal distribution than previously."
   ]
  },
  {
   "cell_type": "markdown",
   "metadata": {},
   "source": [
    "Since we want to locate the true mean, we will calculate the 95% confidence interval."
   ]
  },
  {
   "cell_type": "code",
   "execution_count": 63,
   "metadata": {},
   "outputs": [
    {
     "name": "stdout",
     "output_type": "stream",
     "text": [
      "Mean Value:  11.674665213687677\n",
      "Lower Interval:  11.65435006469371\n",
      "Upper Interval:  11.694980362681642\n"
     ]
    }
   ],
   "source": [
    "# isolate diameters\n",
    "\n",
    "diam = tree.tree_dbh\n",
    "\n",
    "# 95% confidence interval, z score = 1.96\n",
    "\n",
    "margin = (1.96 * np.std(diam)) / np.sqrt(len(diam))\n",
    "\n",
    "lower = np.mean(diam) - margin\n",
    "upper = np.mean(diam) + margin\n",
    "\n",
    "print('Mean Value: ', np.mean(diam))\n",
    "print('Lower Interval: ', lower)\n",
    "print('Upper Interval: ', upper)"
   ]
  },
  {
   "cell_type": "code",
   "execution_count": 64,
   "metadata": {},
   "outputs": [
    {
     "data": {
      "text/plain": [
       "array([ 2., 32.])"
      ]
     },
     "execution_count": 64,
     "metadata": {},
     "output_type": "execute_result"
    }
   ],
   "source": [
    "np.percentile(diam, [2.5, 97.5]) # 95% of values are between 2 and 32"
   ]
  },
  {
   "cell_type": "code",
   "execution_count": 65,
   "metadata": {},
   "outputs": [],
   "source": [
    "# look into the correlation, tree diameters can explain the health of a tree"
   ]
  },
  {
   "cell_type": "code",
   "execution_count": 66,
   "metadata": {},
   "outputs": [],
   "source": [
    "## Null Hypothesis: There is no correlation between the diameter of a tree and its health. (Is not an indicator)\n",
    "## Alternate: The tree's diameter is an indicator of its health.\n",
    "\n",
    "## Is this by chance or does diameter have an influence on health?"
   ]
  },
  {
   "cell_type": "code",
   "execution_count": null,
   "metadata": {},
   "outputs": [],
   "source": []
  },
  {
   "cell_type": "markdown",
   "metadata": {},
   "source": [
    "## Analyzing Problems Distribution"
   ]
  },
  {
   "cell_type": "code",
   "execution_count": 67,
   "metadata": {},
   "outputs": [
    {
     "data": {
      "text/plain": [
       "0    425892\n",
       "1    162408\n",
       "2     47714\n",
       "3     12700\n",
       "4      2520\n",
       "5       248\n",
       "6        49\n",
       "7         2\n",
       "9         1\n",
       "8         1\n",
       "Name: num_problems, dtype: int64"
      ]
     },
     "execution_count": 67,
     "metadata": {},
     "output_type": "execute_result"
    }
   ],
   "source": [
    "tree.num_problems.value_counts()"
   ]
  },
  {
   "cell_type": "code",
   "execution_count": null,
   "metadata": {},
   "outputs": [],
   "source": []
  },
  {
   "cell_type": "code",
   "execution_count": null,
   "metadata": {},
   "outputs": [],
   "source": []
  },
  {
   "cell_type": "code",
   "execution_count": null,
   "metadata": {},
   "outputs": [],
   "source": []
  },
  {
   "cell_type": "code",
   "execution_count": null,
   "metadata": {},
   "outputs": [],
   "source": []
  },
  {
   "cell_type": "code",
   "execution_count": null,
   "metadata": {},
   "outputs": [],
   "source": []
  },
  {
   "cell_type": "markdown",
   "metadata": {},
   "source": [
    "## Encoding Categorical Data"
   ]
  },
  {
   "cell_type": "markdown",
   "metadata": {},
   "source": [
    "### root_stone, root_grate, root_other, trunk_wire, trnk_light, trnk_other, brch_light, brch_shoe, brch_other"
   ]
  },
  {
   "cell_type": "markdown",
   "metadata": {},
   "source": [
    "We'll start by looking at the root, trunk, and branch columns. Since each of these columns contain simple Yes or No options, we create a new column with labels indicating **0 for No and 1 for Yes**."
   ]
  },
  {
   "cell_type": "code",
   "execution_count": 68,
   "metadata": {},
   "outputs": [],
   "source": [
    "# transform and map root_stone\n",
    "\n",
    "rs_le = LabelEncoder()\n",
    "rs_labels = rs_le.fit_transform(tree.root_stone)\n",
    "tree['root_stone_labels'] = rs_labels"
   ]
  },
  {
   "cell_type": "code",
   "execution_count": 69,
   "metadata": {},
   "outputs": [],
   "source": [
    "# function to transform and map remaining columns\n",
    "\n",
    "cols_transform = ['root_grate', 'root_other', 'trunk_wire', 'trnk_light', 'trnk_other', 'brch_light', 'brch_shoe', 'brch_other']\n",
    "\n",
    "for x in cols_transform:\n",
    "    tree[x + '_labels'] = LabelEncoder().fit_transform(tree[x])"
   ]
  },
  {
   "cell_type": "code",
   "execution_count": 70,
   "metadata": {},
   "outputs": [
    {
     "data": {
      "text/html": [
       "<div>\n",
       "<style scoped>\n",
       "    .dataframe tbody tr th:only-of-type {\n",
       "        vertical-align: middle;\n",
       "    }\n",
       "\n",
       "    .dataframe tbody tr th {\n",
       "        vertical-align: top;\n",
       "    }\n",
       "\n",
       "    .dataframe thead th {\n",
       "        text-align: right;\n",
       "    }\n",
       "</style>\n",
       "<table border=\"1\" class=\"dataframe\">\n",
       "  <thead>\n",
       "    <tr style=\"text-align: right;\">\n",
       "      <th></th>\n",
       "      <th>root_stone</th>\n",
       "      <th>root_stone_labels</th>\n",
       "      <th>root_grate</th>\n",
       "      <th>root_grate_labels</th>\n",
       "      <th>root_other</th>\n",
       "      <th>root_other_labels</th>\n",
       "      <th>trunk_wire</th>\n",
       "      <th>trunk_wire_labels</th>\n",
       "      <th>trnk_light</th>\n",
       "      <th>trnk_light_labels</th>\n",
       "      <th>trnk_other</th>\n",
       "      <th>trnk_other_labels</th>\n",
       "      <th>brch_light</th>\n",
       "      <th>brch_light_labels</th>\n",
       "      <th>brch_shoe</th>\n",
       "      <th>brch_shoe_labels</th>\n",
       "      <th>brch_other</th>\n",
       "      <th>brch_other_labels</th>\n",
       "    </tr>\n",
       "  </thead>\n",
       "  <tbody>\n",
       "    <tr>\n",
       "      <th>0</th>\n",
       "      <td>No</td>\n",
       "      <td>0</td>\n",
       "      <td>No</td>\n",
       "      <td>0</td>\n",
       "      <td>No</td>\n",
       "      <td>0</td>\n",
       "      <td>No</td>\n",
       "      <td>0</td>\n",
       "      <td>No</td>\n",
       "      <td>0</td>\n",
       "      <td>No</td>\n",
       "      <td>0</td>\n",
       "      <td>No</td>\n",
       "      <td>0</td>\n",
       "      <td>No</td>\n",
       "      <td>0</td>\n",
       "      <td>No</td>\n",
       "      <td>0</td>\n",
       "    </tr>\n",
       "    <tr>\n",
       "      <th>1</th>\n",
       "      <td>Yes</td>\n",
       "      <td>1</td>\n",
       "      <td>No</td>\n",
       "      <td>0</td>\n",
       "      <td>No</td>\n",
       "      <td>0</td>\n",
       "      <td>No</td>\n",
       "      <td>0</td>\n",
       "      <td>No</td>\n",
       "      <td>0</td>\n",
       "      <td>No</td>\n",
       "      <td>0</td>\n",
       "      <td>No</td>\n",
       "      <td>0</td>\n",
       "      <td>No</td>\n",
       "      <td>0</td>\n",
       "      <td>No</td>\n",
       "      <td>0</td>\n",
       "    </tr>\n",
       "    <tr>\n",
       "      <th>2</th>\n",
       "      <td>No</td>\n",
       "      <td>0</td>\n",
       "      <td>No</td>\n",
       "      <td>0</td>\n",
       "      <td>No</td>\n",
       "      <td>0</td>\n",
       "      <td>No</td>\n",
       "      <td>0</td>\n",
       "      <td>No</td>\n",
       "      <td>0</td>\n",
       "      <td>No</td>\n",
       "      <td>0</td>\n",
       "      <td>No</td>\n",
       "      <td>0</td>\n",
       "      <td>No</td>\n",
       "      <td>0</td>\n",
       "      <td>No</td>\n",
       "      <td>0</td>\n",
       "    </tr>\n",
       "    <tr>\n",
       "      <th>3</th>\n",
       "      <td>Yes</td>\n",
       "      <td>1</td>\n",
       "      <td>No</td>\n",
       "      <td>0</td>\n",
       "      <td>No</td>\n",
       "      <td>0</td>\n",
       "      <td>No</td>\n",
       "      <td>0</td>\n",
       "      <td>No</td>\n",
       "      <td>0</td>\n",
       "      <td>No</td>\n",
       "      <td>0</td>\n",
       "      <td>No</td>\n",
       "      <td>0</td>\n",
       "      <td>No</td>\n",
       "      <td>0</td>\n",
       "      <td>No</td>\n",
       "      <td>0</td>\n",
       "    </tr>\n",
       "    <tr>\n",
       "      <th>4</th>\n",
       "      <td>Yes</td>\n",
       "      <td>1</td>\n",
       "      <td>No</td>\n",
       "      <td>0</td>\n",
       "      <td>No</td>\n",
       "      <td>0</td>\n",
       "      <td>No</td>\n",
       "      <td>0</td>\n",
       "      <td>No</td>\n",
       "      <td>0</td>\n",
       "      <td>No</td>\n",
       "      <td>0</td>\n",
       "      <td>No</td>\n",
       "      <td>0</td>\n",
       "      <td>No</td>\n",
       "      <td>0</td>\n",
       "      <td>No</td>\n",
       "      <td>0</td>\n",
       "    </tr>\n",
       "  </tbody>\n",
       "</table>\n",
       "</div>"
      ],
      "text/plain": [
       "  root_stone  root_stone_labels root_grate  root_grate_labels root_other  \\\n",
       "0         No                  0         No                  0         No   \n",
       "1        Yes                  1         No                  0         No   \n",
       "2         No                  0         No                  0         No   \n",
       "3        Yes                  1         No                  0         No   \n",
       "4        Yes                  1         No                  0         No   \n",
       "\n",
       "   root_other_labels trunk_wire  trunk_wire_labels trnk_light  \\\n",
       "0                  0         No                  0         No   \n",
       "1                  0         No                  0         No   \n",
       "2                  0         No                  0         No   \n",
       "3                  0         No                  0         No   \n",
       "4                  0         No                  0         No   \n",
       "\n",
       "   trnk_light_labels trnk_other  trnk_other_labels brch_light  \\\n",
       "0                  0         No                  0         No   \n",
       "1                  0         No                  0         No   \n",
       "2                  0         No                  0         No   \n",
       "3                  0         No                  0         No   \n",
       "4                  0         No                  0         No   \n",
       "\n",
       "   brch_light_labels brch_shoe  brch_shoe_labels brch_other  brch_other_labels  \n",
       "0                  0        No                 0         No                  0  \n",
       "1                  0        No                 0         No                  0  \n",
       "2                  0        No                 0         No                  0  \n",
       "3                  0        No                 0         No                  0  \n",
       "4                  0        No                 0         No                  0  "
      ]
     },
     "execution_count": 70,
     "metadata": {},
     "output_type": "execute_result"
    }
   ],
   "source": [
    "# display columns with labels\n",
    "\n",
    "## remove original columns, keep the _labels\n",
    "\n",
    "tree[['root_stone', 'root_stone_labels', 'root_grate', 'root_grate_labels', 'root_other', 'root_other_labels', 'trunk_wire', 'trunk_wire_labels', 'trnk_light', 'trnk_light_labels', 'trnk_other', 'trnk_other_labels', 'brch_light', 'brch_light_labels', 'brch_shoe', 'brch_shoe_labels', 'brch_other', 'brch_other_labels']].head()"
   ]
  },
  {
   "cell_type": "code",
   "execution_count": 71,
   "metadata": {},
   "outputs": [
    {
     "data": {
      "text/html": [
       "<div>\n",
       "<style scoped>\n",
       "    .dataframe tbody tr th:only-of-type {\n",
       "        vertical-align: middle;\n",
       "    }\n",
       "\n",
       "    .dataframe tbody tr th {\n",
       "        vertical-align: top;\n",
       "    }\n",
       "\n",
       "    .dataframe thead th {\n",
       "        text-align: right;\n",
       "    }\n",
       "</style>\n",
       "<table border=\"1\" class=\"dataframe\">\n",
       "  <thead>\n",
       "    <tr style=\"text-align: right;\">\n",
       "      <th></th>\n",
       "      <th>tree_dbh</th>\n",
       "      <th>curb_loc</th>\n",
       "      <th>health</th>\n",
       "      <th>spc_common</th>\n",
       "      <th>steward</th>\n",
       "      <th>guards</th>\n",
       "      <th>sidewalk</th>\n",
       "      <th>root_stone</th>\n",
       "      <th>root_grate</th>\n",
       "      <th>root_other</th>\n",
       "      <th>...</th>\n",
       "      <th>num_problems</th>\n",
       "      <th>root_stone_labels</th>\n",
       "      <th>root_grate_labels</th>\n",
       "      <th>root_other_labels</th>\n",
       "      <th>trunk_wire_labels</th>\n",
       "      <th>trnk_light_labels</th>\n",
       "      <th>trnk_other_labels</th>\n",
       "      <th>brch_light_labels</th>\n",
       "      <th>brch_shoe_labels</th>\n",
       "      <th>brch_other_labels</th>\n",
       "    </tr>\n",
       "  </thead>\n",
       "  <tbody>\n",
       "    <tr>\n",
       "      <th>0</th>\n",
       "      <td>3</td>\n",
       "      <td>OnCurb</td>\n",
       "      <td>Fair</td>\n",
       "      <td>red maple</td>\n",
       "      <td>None</td>\n",
       "      <td>None</td>\n",
       "      <td>NoDamage</td>\n",
       "      <td>No</td>\n",
       "      <td>No</td>\n",
       "      <td>No</td>\n",
       "      <td>...</td>\n",
       "      <td>0</td>\n",
       "      <td>0</td>\n",
       "      <td>0</td>\n",
       "      <td>0</td>\n",
       "      <td>0</td>\n",
       "      <td>0</td>\n",
       "      <td>0</td>\n",
       "      <td>0</td>\n",
       "      <td>0</td>\n",
       "      <td>0</td>\n",
       "    </tr>\n",
       "    <tr>\n",
       "      <th>1</th>\n",
       "      <td>21</td>\n",
       "      <td>OnCurb</td>\n",
       "      <td>Fair</td>\n",
       "      <td>pin oak</td>\n",
       "      <td>None</td>\n",
       "      <td>None</td>\n",
       "      <td>Damage</td>\n",
       "      <td>Yes</td>\n",
       "      <td>No</td>\n",
       "      <td>No</td>\n",
       "      <td>...</td>\n",
       "      <td>1</td>\n",
       "      <td>1</td>\n",
       "      <td>0</td>\n",
       "      <td>0</td>\n",
       "      <td>0</td>\n",
       "      <td>0</td>\n",
       "      <td>0</td>\n",
       "      <td>0</td>\n",
       "      <td>0</td>\n",
       "      <td>0</td>\n",
       "    </tr>\n",
       "    <tr>\n",
       "      <th>2</th>\n",
       "      <td>3</td>\n",
       "      <td>OnCurb</td>\n",
       "      <td>Good</td>\n",
       "      <td>honeylocust</td>\n",
       "      <td>1or2</td>\n",
       "      <td>None</td>\n",
       "      <td>Damage</td>\n",
       "      <td>No</td>\n",
       "      <td>No</td>\n",
       "      <td>No</td>\n",
       "      <td>...</td>\n",
       "      <td>0</td>\n",
       "      <td>0</td>\n",
       "      <td>0</td>\n",
       "      <td>0</td>\n",
       "      <td>0</td>\n",
       "      <td>0</td>\n",
       "      <td>0</td>\n",
       "      <td>0</td>\n",
       "      <td>0</td>\n",
       "      <td>0</td>\n",
       "    </tr>\n",
       "    <tr>\n",
       "      <th>3</th>\n",
       "      <td>10</td>\n",
       "      <td>OnCurb</td>\n",
       "      <td>Good</td>\n",
       "      <td>honeylocust</td>\n",
       "      <td>None</td>\n",
       "      <td>None</td>\n",
       "      <td>Damage</td>\n",
       "      <td>Yes</td>\n",
       "      <td>No</td>\n",
       "      <td>No</td>\n",
       "      <td>...</td>\n",
       "      <td>1</td>\n",
       "      <td>1</td>\n",
       "      <td>0</td>\n",
       "      <td>0</td>\n",
       "      <td>0</td>\n",
       "      <td>0</td>\n",
       "      <td>0</td>\n",
       "      <td>0</td>\n",
       "      <td>0</td>\n",
       "      <td>0</td>\n",
       "    </tr>\n",
       "    <tr>\n",
       "      <th>4</th>\n",
       "      <td>21</td>\n",
       "      <td>OnCurb</td>\n",
       "      <td>Good</td>\n",
       "      <td>American linden</td>\n",
       "      <td>None</td>\n",
       "      <td>None</td>\n",
       "      <td>Damage</td>\n",
       "      <td>Yes</td>\n",
       "      <td>No</td>\n",
       "      <td>No</td>\n",
       "      <td>...</td>\n",
       "      <td>1</td>\n",
       "      <td>1</td>\n",
       "      <td>0</td>\n",
       "      <td>0</td>\n",
       "      <td>0</td>\n",
       "      <td>0</td>\n",
       "      <td>0</td>\n",
       "      <td>0</td>\n",
       "      <td>0</td>\n",
       "      <td>0</td>\n",
       "    </tr>\n",
       "  </tbody>\n",
       "</table>\n",
       "<p>5 rows × 27 columns</p>\n",
       "</div>"
      ],
      "text/plain": [
       "   tree_dbh curb_loc health       spc_common steward guards  sidewalk  \\\n",
       "0         3   OnCurb   Fair        red maple    None   None  NoDamage   \n",
       "1        21   OnCurb   Fair          pin oak    None   None    Damage   \n",
       "2         3   OnCurb   Good      honeylocust    1or2   None    Damage   \n",
       "3        10   OnCurb   Good      honeylocust    None   None    Damage   \n",
       "4        21   OnCurb   Good  American linden    None   None    Damage   \n",
       "\n",
       "  root_stone root_grate root_other  ... num_problems root_stone_labels  \\\n",
       "0         No         No         No  ...            0                 0   \n",
       "1        Yes         No         No  ...            1                 1   \n",
       "2         No         No         No  ...            0                 0   \n",
       "3        Yes         No         No  ...            1                 1   \n",
       "4        Yes         No         No  ...            1                 1   \n",
       "\n",
       "  root_grate_labels root_other_labels trunk_wire_labels trnk_light_labels  \\\n",
       "0                 0                 0                 0                 0   \n",
       "1                 0                 0                 0                 0   \n",
       "2                 0                 0                 0                 0   \n",
       "3                 0                 0                 0                 0   \n",
       "4                 0                 0                 0                 0   \n",
       "\n",
       "  trnk_other_labels  brch_light_labels  brch_shoe_labels  brch_other_labels  \n",
       "0                 0                  0                 0                  0  \n",
       "1                 0                  0                 0                  0  \n",
       "2                 0                  0                 0                  0  \n",
       "3                 0                  0                 0                  0  \n",
       "4                 0                  0                 0                  0  \n",
       "\n",
       "[5 rows x 27 columns]"
      ]
     },
     "execution_count": 71,
     "metadata": {},
     "output_type": "execute_result"
    }
   ],
   "source": [
    "# overall view\n",
    "\n",
    "tree.head()"
   ]
  },
  {
   "cell_type": "markdown",
   "metadata": {},
   "source": [
    "Next, we use the label encoder for the other columns."
   ]
  },
  {
   "cell_type": "markdown",
   "metadata": {},
   "source": [
    "### Curb Location (curb_loc), Stewards, Guards, Sidewalk, and Borough"
   ]
  },
  {
   "cell_type": "code",
   "execution_count": 72,
   "metadata": {},
   "outputs": [],
   "source": [
    "## use the same encoder for all categorical variables"
   ]
  },
  {
   "cell_type": "markdown",
   "metadata": {},
   "source": [
    "We assign a numerical value for each categorical answer and display the mapping."
   ]
  },
  {
   "cell_type": "code",
   "execution_count": 73,
   "metadata": {},
   "outputs": [],
   "source": [
    "cols_encode = ['curb_loc', 'steward', 'guards', 'sidewalk', 'borough', 'health']\n",
    "\n",
    "# for x in cols_encode:\n",
    "#     tree[x + '_labels'] = LabelEncoder().fit_transform(tree[x])\n",
    "\n",
    "cat_mapping = []\n",
    "\n",
    "for x in cols_encode:\n",
    "    lencode = LabelEncoder()\n",
    "    tree[x + '_labels'] = lencode.fit_transform(tree[x])\n",
    "    mapped = {index: label for index, label in enumerate(lencode.classes_)}\n",
    "    cat_mapping.extend(('Column Name: ' + x, mapped)) # added 'Column Name' for reference purposess"
   ]
  },
  {
   "cell_type": "code",
   "execution_count": 74,
   "metadata": {},
   "outputs": [
    {
     "data": {
      "text/plain": [
       "['Column Name: curb_loc',\n",
       " {0: 'OffsetFromCurb', 1: 'OnCurb'},\n",
       " 'Column Name: steward',\n",
       " {0: '1or2', 1: '3or4', 2: '4orMore', 3: 'None'},\n",
       " 'Column Name: guards',\n",
       " {0: 'Harmful', 1: 'Helpful', 2: 'None', 3: 'Unsure'},\n",
       " 'Column Name: sidewalk',\n",
       " {0: 'Damage', 1: 'NoDamage'},\n",
       " 'Column Name: borough',\n",
       " {0: 'Bronx', 1: 'Brooklyn', 2: 'Manhattan', 3: 'Queens', 4: 'Staten Island'},\n",
       " 'Column Name: health',\n",
       " {0: 'Fair', 1: 'Good', 2: 'Poor'}]"
      ]
     },
     "metadata": {},
     "output_type": "display_data"
    }
   ],
   "source": [
    "display(cat_mapping)\n",
    "\n",
    "## these variables are nominal, but should they still be assigned to a certain number? Could some be ordinal?\n",
    "## Ex. for health, should poor be assigned 0 instead of 2?\n",
    "\n",
    "## borough variables are not in any order, they do not have different weights based on which borough they are in\n",
    "## consider rearranging depending on which borough has the most trees?"
   ]
  },
  {
   "cell_type": "code",
   "execution_count": 75,
   "metadata": {},
   "outputs": [
    {
     "data": {
      "text/plain": [
       "OnCurb            625736\n",
       "OffsetFromCurb     25799\n",
       "Name: curb_loc, dtype: int64"
      ]
     },
     "execution_count": 75,
     "metadata": {},
     "output_type": "execute_result"
    }
   ],
   "source": [
    "tree.curb_loc.value_counts()"
   ]
  },
  {
   "cell_type": "code",
   "execution_count": 76,
   "metadata": {},
   "outputs": [
    {
     "data": {
      "text/html": [
       "<div>\n",
       "<style scoped>\n",
       "    .dataframe tbody tr th:only-of-type {\n",
       "        vertical-align: middle;\n",
       "    }\n",
       "\n",
       "    .dataframe tbody tr th {\n",
       "        vertical-align: top;\n",
       "    }\n",
       "\n",
       "    .dataframe thead th {\n",
       "        text-align: right;\n",
       "    }\n",
       "</style>\n",
       "<table border=\"1\" class=\"dataframe\">\n",
       "  <thead>\n",
       "    <tr style=\"text-align: right;\">\n",
       "      <th></th>\n",
       "      <th>health</th>\n",
       "      <th>health_labels</th>\n",
       "      <th>curb_loc</th>\n",
       "      <th>curb_loc_labels</th>\n",
       "      <th>steward</th>\n",
       "      <th>steward_labels</th>\n",
       "      <th>guards</th>\n",
       "      <th>guards_labels</th>\n",
       "      <th>sidewalk</th>\n",
       "      <th>sidewalk_labels</th>\n",
       "      <th>borough</th>\n",
       "      <th>borough_labels</th>\n",
       "    </tr>\n",
       "  </thead>\n",
       "  <tbody>\n",
       "    <tr>\n",
       "      <th>0</th>\n",
       "      <td>Fair</td>\n",
       "      <td>0</td>\n",
       "      <td>OnCurb</td>\n",
       "      <td>1</td>\n",
       "      <td>None</td>\n",
       "      <td>3</td>\n",
       "      <td>None</td>\n",
       "      <td>2</td>\n",
       "      <td>NoDamage</td>\n",
       "      <td>1</td>\n",
       "      <td>Queens</td>\n",
       "      <td>3</td>\n",
       "    </tr>\n",
       "    <tr>\n",
       "      <th>1</th>\n",
       "      <td>Fair</td>\n",
       "      <td>0</td>\n",
       "      <td>OnCurb</td>\n",
       "      <td>1</td>\n",
       "      <td>None</td>\n",
       "      <td>3</td>\n",
       "      <td>None</td>\n",
       "      <td>2</td>\n",
       "      <td>Damage</td>\n",
       "      <td>0</td>\n",
       "      <td>Queens</td>\n",
       "      <td>3</td>\n",
       "    </tr>\n",
       "    <tr>\n",
       "      <th>2</th>\n",
       "      <td>Good</td>\n",
       "      <td>1</td>\n",
       "      <td>OnCurb</td>\n",
       "      <td>1</td>\n",
       "      <td>1or2</td>\n",
       "      <td>0</td>\n",
       "      <td>None</td>\n",
       "      <td>2</td>\n",
       "      <td>Damage</td>\n",
       "      <td>0</td>\n",
       "      <td>Brooklyn</td>\n",
       "      <td>1</td>\n",
       "    </tr>\n",
       "    <tr>\n",
       "      <th>3</th>\n",
       "      <td>Good</td>\n",
       "      <td>1</td>\n",
       "      <td>OnCurb</td>\n",
       "      <td>1</td>\n",
       "      <td>None</td>\n",
       "      <td>3</td>\n",
       "      <td>None</td>\n",
       "      <td>2</td>\n",
       "      <td>Damage</td>\n",
       "      <td>0</td>\n",
       "      <td>Brooklyn</td>\n",
       "      <td>1</td>\n",
       "    </tr>\n",
       "    <tr>\n",
       "      <th>4</th>\n",
       "      <td>Good</td>\n",
       "      <td>1</td>\n",
       "      <td>OnCurb</td>\n",
       "      <td>1</td>\n",
       "      <td>None</td>\n",
       "      <td>3</td>\n",
       "      <td>None</td>\n",
       "      <td>2</td>\n",
       "      <td>Damage</td>\n",
       "      <td>0</td>\n",
       "      <td>Brooklyn</td>\n",
       "      <td>1</td>\n",
       "    </tr>\n",
       "  </tbody>\n",
       "</table>\n",
       "</div>"
      ],
      "text/plain": [
       "  health  health_labels curb_loc  curb_loc_labels steward  steward_labels  \\\n",
       "0   Fair              0   OnCurb                1    None               3   \n",
       "1   Fair              0   OnCurb                1    None               3   \n",
       "2   Good              1   OnCurb                1    1or2               0   \n",
       "3   Good              1   OnCurb                1    None               3   \n",
       "4   Good              1   OnCurb                1    None               3   \n",
       "\n",
       "  guards  guards_labels  sidewalk  sidewalk_labels   borough  borough_labels  \n",
       "0   None              2  NoDamage                1    Queens               3  \n",
       "1   None              2    Damage                0    Queens               3  \n",
       "2   None              2    Damage                0  Brooklyn               1  \n",
       "3   None              2    Damage                0  Brooklyn               1  \n",
       "4   None              2    Damage                0  Brooklyn               1  "
      ]
     },
     "execution_count": 76,
     "metadata": {},
     "output_type": "execute_result"
    }
   ],
   "source": [
    "# display part of the result\n",
    "\n",
    "tree[['health', 'health_labels', 'curb_loc', 'curb_loc_labels', 'steward', 'steward_labels', 'guards', 'guards_labels', 'sidewalk', 'sidewalk_labels', 'borough', 'borough_labels']].head()"
   ]
  },
  {
   "cell_type": "markdown",
   "metadata": {},
   "source": [
    "### Tree Types (spc_common)"
   ]
  },
  {
   "cell_type": "markdown",
   "metadata": {},
   "source": [
    "There are 132 unique kinds of trees. The number of trees vastly outnumber the answer types for the other columns so we are choosing not to use spc_common as a factor for our model."
   ]
  },
  {
   "cell_type": "code",
   "execution_count": 77,
   "metadata": {},
   "outputs": [
    {
     "name": "stdout",
     "output_type": "stream",
     "text": [
      "Number of unique trees:  132\n"
     ]
    }
   ],
   "source": [
    "print('Number of unique trees: ', len(tree.spc_common.unique()))"
   ]
  },
  {
   "cell_type": "markdown",
   "metadata": {},
   "source": [
    "## Combining the Columns"
   ]
  },
  {
   "cell_type": "code",
   "execution_count": 80,
   "metadata": {},
   "outputs": [
    {
     "data": {
      "text/html": [
       "<div>\n",
       "<style scoped>\n",
       "    .dataframe tbody tr th:only-of-type {\n",
       "        vertical-align: middle;\n",
       "    }\n",
       "\n",
       "    .dataframe tbody tr th {\n",
       "        vertical-align: top;\n",
       "    }\n",
       "\n",
       "    .dataframe thead th {\n",
       "        text-align: right;\n",
       "    }\n",
       "</style>\n",
       "<table border=\"1\" class=\"dataframe\">\n",
       "  <thead>\n",
       "    <tr style=\"text-align: right;\">\n",
       "      <th></th>\n",
       "      <th>health</th>\n",
       "      <th>health_labels</th>\n",
       "      <th>num_problems</th>\n",
       "      <th>tree_dbh</th>\n",
       "      <th>curb_loc</th>\n",
       "      <th>curb_loc_labels</th>\n",
       "      <th>steward</th>\n",
       "      <th>steward_labels</th>\n",
       "      <th>guards</th>\n",
       "      <th>guards_labels</th>\n",
       "      <th>...</th>\n",
       "      <th>trnk_light</th>\n",
       "      <th>trnk_light_labels</th>\n",
       "      <th>trnk_other</th>\n",
       "      <th>trnk_other_labels</th>\n",
       "      <th>brch_light</th>\n",
       "      <th>brch_light_labels</th>\n",
       "      <th>brch_shoe</th>\n",
       "      <th>brch_shoe_labels</th>\n",
       "      <th>brch_other</th>\n",
       "      <th>brch_other_labels</th>\n",
       "    </tr>\n",
       "  </thead>\n",
       "  <tbody>\n",
       "    <tr>\n",
       "      <th>0</th>\n",
       "      <td>Fair</td>\n",
       "      <td>0</td>\n",
       "      <td>0</td>\n",
       "      <td>3</td>\n",
       "      <td>OnCurb</td>\n",
       "      <td>1</td>\n",
       "      <td>None</td>\n",
       "      <td>3</td>\n",
       "      <td>None</td>\n",
       "      <td>2</td>\n",
       "      <td>...</td>\n",
       "      <td>No</td>\n",
       "      <td>0</td>\n",
       "      <td>No</td>\n",
       "      <td>0</td>\n",
       "      <td>No</td>\n",
       "      <td>0</td>\n",
       "      <td>No</td>\n",
       "      <td>0</td>\n",
       "      <td>No</td>\n",
       "      <td>0</td>\n",
       "    </tr>\n",
       "    <tr>\n",
       "      <th>1</th>\n",
       "      <td>Fair</td>\n",
       "      <td>0</td>\n",
       "      <td>1</td>\n",
       "      <td>21</td>\n",
       "      <td>OnCurb</td>\n",
       "      <td>1</td>\n",
       "      <td>None</td>\n",
       "      <td>3</td>\n",
       "      <td>None</td>\n",
       "      <td>2</td>\n",
       "      <td>...</td>\n",
       "      <td>No</td>\n",
       "      <td>0</td>\n",
       "      <td>No</td>\n",
       "      <td>0</td>\n",
       "      <td>No</td>\n",
       "      <td>0</td>\n",
       "      <td>No</td>\n",
       "      <td>0</td>\n",
       "      <td>No</td>\n",
       "      <td>0</td>\n",
       "    </tr>\n",
       "    <tr>\n",
       "      <th>2</th>\n",
       "      <td>Good</td>\n",
       "      <td>1</td>\n",
       "      <td>0</td>\n",
       "      <td>3</td>\n",
       "      <td>OnCurb</td>\n",
       "      <td>1</td>\n",
       "      <td>1or2</td>\n",
       "      <td>0</td>\n",
       "      <td>None</td>\n",
       "      <td>2</td>\n",
       "      <td>...</td>\n",
       "      <td>No</td>\n",
       "      <td>0</td>\n",
       "      <td>No</td>\n",
       "      <td>0</td>\n",
       "      <td>No</td>\n",
       "      <td>0</td>\n",
       "      <td>No</td>\n",
       "      <td>0</td>\n",
       "      <td>No</td>\n",
       "      <td>0</td>\n",
       "    </tr>\n",
       "    <tr>\n",
       "      <th>3</th>\n",
       "      <td>Good</td>\n",
       "      <td>1</td>\n",
       "      <td>1</td>\n",
       "      <td>10</td>\n",
       "      <td>OnCurb</td>\n",
       "      <td>1</td>\n",
       "      <td>None</td>\n",
       "      <td>3</td>\n",
       "      <td>None</td>\n",
       "      <td>2</td>\n",
       "      <td>...</td>\n",
       "      <td>No</td>\n",
       "      <td>0</td>\n",
       "      <td>No</td>\n",
       "      <td>0</td>\n",
       "      <td>No</td>\n",
       "      <td>0</td>\n",
       "      <td>No</td>\n",
       "      <td>0</td>\n",
       "      <td>No</td>\n",
       "      <td>0</td>\n",
       "    </tr>\n",
       "    <tr>\n",
       "      <th>4</th>\n",
       "      <td>Good</td>\n",
       "      <td>1</td>\n",
       "      <td>1</td>\n",
       "      <td>21</td>\n",
       "      <td>OnCurb</td>\n",
       "      <td>1</td>\n",
       "      <td>None</td>\n",
       "      <td>3</td>\n",
       "      <td>None</td>\n",
       "      <td>2</td>\n",
       "      <td>...</td>\n",
       "      <td>No</td>\n",
       "      <td>0</td>\n",
       "      <td>No</td>\n",
       "      <td>0</td>\n",
       "      <td>No</td>\n",
       "      <td>0</td>\n",
       "      <td>No</td>\n",
       "      <td>0</td>\n",
       "      <td>No</td>\n",
       "      <td>0</td>\n",
       "    </tr>\n",
       "    <tr>\n",
       "      <th>5</th>\n",
       "      <td>Good</td>\n",
       "      <td>1</td>\n",
       "      <td>0</td>\n",
       "      <td>11</td>\n",
       "      <td>OnCurb</td>\n",
       "      <td>1</td>\n",
       "      <td>1or2</td>\n",
       "      <td>0</td>\n",
       "      <td>Helpful</td>\n",
       "      <td>1</td>\n",
       "      <td>...</td>\n",
       "      <td>No</td>\n",
       "      <td>0</td>\n",
       "      <td>No</td>\n",
       "      <td>0</td>\n",
       "      <td>No</td>\n",
       "      <td>0</td>\n",
       "      <td>No</td>\n",
       "      <td>0</td>\n",
       "      <td>No</td>\n",
       "      <td>0</td>\n",
       "    </tr>\n",
       "    <tr>\n",
       "      <th>6</th>\n",
       "      <td>Good</td>\n",
       "      <td>1</td>\n",
       "      <td>0</td>\n",
       "      <td>11</td>\n",
       "      <td>OnCurb</td>\n",
       "      <td>1</td>\n",
       "      <td>1or2</td>\n",
       "      <td>0</td>\n",
       "      <td>Helpful</td>\n",
       "      <td>1</td>\n",
       "      <td>...</td>\n",
       "      <td>No</td>\n",
       "      <td>0</td>\n",
       "      <td>No</td>\n",
       "      <td>0</td>\n",
       "      <td>No</td>\n",
       "      <td>0</td>\n",
       "      <td>No</td>\n",
       "      <td>0</td>\n",
       "      <td>No</td>\n",
       "      <td>0</td>\n",
       "    </tr>\n",
       "    <tr>\n",
       "      <th>7</th>\n",
       "      <td>Good</td>\n",
       "      <td>1</td>\n",
       "      <td>1</td>\n",
       "      <td>9</td>\n",
       "      <td>OnCurb</td>\n",
       "      <td>1</td>\n",
       "      <td>None</td>\n",
       "      <td>3</td>\n",
       "      <td>None</td>\n",
       "      <td>2</td>\n",
       "      <td>...</td>\n",
       "      <td>No</td>\n",
       "      <td>0</td>\n",
       "      <td>No</td>\n",
       "      <td>0</td>\n",
       "      <td>No</td>\n",
       "      <td>0</td>\n",
       "      <td>No</td>\n",
       "      <td>0</td>\n",
       "      <td>No</td>\n",
       "      <td>0</td>\n",
       "    </tr>\n",
       "    <tr>\n",
       "      <th>8</th>\n",
       "      <td>Good</td>\n",
       "      <td>1</td>\n",
       "      <td>0</td>\n",
       "      <td>6</td>\n",
       "      <td>OnCurb</td>\n",
       "      <td>1</td>\n",
       "      <td>None</td>\n",
       "      <td>3</td>\n",
       "      <td>None</td>\n",
       "      <td>2</td>\n",
       "      <td>...</td>\n",
       "      <td>No</td>\n",
       "      <td>0</td>\n",
       "      <td>No</td>\n",
       "      <td>0</td>\n",
       "      <td>No</td>\n",
       "      <td>0</td>\n",
       "      <td>No</td>\n",
       "      <td>0</td>\n",
       "      <td>No</td>\n",
       "      <td>0</td>\n",
       "    </tr>\n",
       "    <tr>\n",
       "      <th>9</th>\n",
       "      <td>Fair</td>\n",
       "      <td>0</td>\n",
       "      <td>0</td>\n",
       "      <td>21</td>\n",
       "      <td>OffsetFromCurb</td>\n",
       "      <td>0</td>\n",
       "      <td>None</td>\n",
       "      <td>3</td>\n",
       "      <td>None</td>\n",
       "      <td>2</td>\n",
       "      <td>...</td>\n",
       "      <td>No</td>\n",
       "      <td>0</td>\n",
       "      <td>No</td>\n",
       "      <td>0</td>\n",
       "      <td>No</td>\n",
       "      <td>0</td>\n",
       "      <td>No</td>\n",
       "      <td>0</td>\n",
       "      <td>No</td>\n",
       "      <td>0</td>\n",
       "    </tr>\n",
       "  </tbody>\n",
       "</table>\n",
       "<p>10 rows × 32 columns</p>\n",
       "</div>"
      ],
      "text/plain": [
       "  health  health_labels  num_problems  tree_dbh        curb_loc  \\\n",
       "0   Fair              0             0         3          OnCurb   \n",
       "1   Fair              0             1        21          OnCurb   \n",
       "2   Good              1             0         3          OnCurb   \n",
       "3   Good              1             1        10          OnCurb   \n",
       "4   Good              1             1        21          OnCurb   \n",
       "5   Good              1             0        11          OnCurb   \n",
       "6   Good              1             0        11          OnCurb   \n",
       "7   Good              1             1         9          OnCurb   \n",
       "8   Good              1             0         6          OnCurb   \n",
       "9   Fair              0             0        21  OffsetFromCurb   \n",
       "\n",
       "   curb_loc_labels steward  steward_labels   guards  guards_labels  ...  \\\n",
       "0                1    None               3     None              2  ...   \n",
       "1                1    None               3     None              2  ...   \n",
       "2                1    1or2               0     None              2  ...   \n",
       "3                1    None               3     None              2  ...   \n",
       "4                1    None               3     None              2  ...   \n",
       "5                1    1or2               0  Helpful              1  ...   \n",
       "6                1    1or2               0  Helpful              1  ...   \n",
       "7                1    None               3     None              2  ...   \n",
       "8                1    None               3     None              2  ...   \n",
       "9                0    None               3     None              2  ...   \n",
       "\n",
       "  trnk_light  trnk_light_labels trnk_other  trnk_other_labels brch_light  \\\n",
       "0         No                  0         No                  0         No   \n",
       "1         No                  0         No                  0         No   \n",
       "2         No                  0         No                  0         No   \n",
       "3         No                  0         No                  0         No   \n",
       "4         No                  0         No                  0         No   \n",
       "5         No                  0         No                  0         No   \n",
       "6         No                  0         No                  0         No   \n",
       "7         No                  0         No                  0         No   \n",
       "8         No                  0         No                  0         No   \n",
       "9         No                  0         No                  0         No   \n",
       "\n",
       "   brch_light_labels brch_shoe  brch_shoe_labels brch_other  brch_other_labels  \n",
       "0                  0        No                 0         No                  0  \n",
       "1                  0        No                 0         No                  0  \n",
       "2                  0        No                 0         No                  0  \n",
       "3                  0        No                 0         No                  0  \n",
       "4                  0        No                 0         No                  0  \n",
       "5                  0        No                 0         No                  0  \n",
       "6                  0        No                 0         No                  0  \n",
       "7                  0        No                 0         No                  0  \n",
       "8                  0        No                 0         No                  0  \n",
       "9                  0        No                 0         No                  0  \n",
       "\n",
       "[10 rows x 32 columns]"
      ]
     },
     "execution_count": 80,
     "metadata": {},
     "output_type": "execute_result"
    }
   ],
   "source": [
    "# reorganize the dataset so that label columns are next to their original columns\n",
    "\n",
    "tree_labeled = pd.concat([tree[['health',\n",
    "                               'health_labels',\n",
    "                               'num_problems',\n",
    "                               'tree_dbh', \n",
    "                               'curb_loc', \n",
    "                               'curb_loc_labels', \n",
    "                               'steward', \n",
    "                               'steward_labels', \n",
    "                               'guards', \n",
    "                               'guards_labels', \n",
    "                               'sidewalk', \n",
    "                               'sidewalk_labels', \n",
    "                               'borough', \n",
    "                               'borough_labels',\n",
    "                               'root_stone', \n",
    "                               'root_stone_labels', \n",
    "                               'root_grate', \n",
    "                               'root_grate_labels',\n",
    "                               'root_other', \n",
    "                               'root_other_labels', \n",
    "                               'trunk_wire', \n",
    "                               'trunk_wire_labels', \n",
    "                               'trnk_light', \n",
    "                               'trnk_light_labels', \n",
    "                               'trnk_other', \n",
    "                               'trnk_other_labels', \n",
    "                               'brch_light', \n",
    "                               'brch_light_labels', \n",
    "                               'brch_shoe', \n",
    "                               'brch_shoe_labels', \n",
    "                               'brch_other', \n",
    "                               'brch_other_labels', \n",
    "                              ]]], axis=1)\n",
    "\n",
    "tree_labeled.head(10)"
   ]
  },
  {
   "cell_type": "code",
   "execution_count": 81,
   "metadata": {},
   "outputs": [
    {
     "name": "stdout",
     "output_type": "stream",
     "text": [
      "The dataset has 651535 rows and 32 columns.\n"
     ]
    }
   ],
   "source": [
    "print('The dataset has {} rows and {} columns.'.format(tree_labeled.shape[0], tree_labeled.shape[1]))"
   ]
  },
  {
   "cell_type": "code",
   "execution_count": null,
   "metadata": {},
   "outputs": [],
   "source": []
  }
 ],
 "metadata": {
  "kernelspec": {
   "display_name": "Python 3",
   "language": "python",
   "name": "python3"
  }
 },
 "nbformat": 4,
 "nbformat_minor": 2
}
