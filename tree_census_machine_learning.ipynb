{
  "nbformat": 4,
  "nbformat_minor": 0,
  "metadata": {
    "kernelspec": {
      "name": "python3",
      "display_name": "Python 3"
    },
    "deepnote_execution_queue": [],
    "deepnote_notebook_id": "a4a8ba00-1149-4a96-8bd2-70a88f3f82db",
    "colab": {
      "name": "tree_census_machine_learning.ipynb",
      "provenance": [],
      "collapsed_sections": [],
      "toc_visible": true
    }
  },
  "cells": [
    {
      "cell_type": "markdown",
      "metadata": {
        "cell_id": "00000-c77ac5fd-b7a6-445c-9aaf-78c48e6581a1",
        "id": "iu6OrYFIqQ3B",
        "colab_type": "text"
      },
      "source": [
        "# General Overview - Machine Learning"
      ]
    },
    {
      "cell_type": "markdown",
      "metadata": {
        "cell_id": "00001-f154d49c-e492-44fe-bc31-e68a3b24898e",
        "id": "XCBwVKSsqQ3D",
        "colab_type": "text"
      },
      "source": [
        "The goal of the machine learning model is to accurately predict a tree's health based on the feature variables. This is a classification model. To measure the model's success, we use [classification reports](https://scikit-learn.org/stable/modules/generated/sklearn.metrics.classification_report.html), which displays the precision, recall, and f1-score of the model.\n",
        "\n",
        "We are building with [LogisticRegression](https://scikit-learn.org/stable/modules/generated/sklearn.linear_model.LogisticRegression.html), [KNeighborsClassifier](https://scikit-learn.org/stable/modules/generated/sklearn.neighbors.KNeighborsClassifier.html), [DecisionTreeClassifier](https://scikit-learn.org/stable/modules/generated/sklearn.tree.DecisionTreeClassifier.html), and [RandomForestClassifier](https://scikit-learn.org/stable/modules/generated/sklearn.ensemble.RandomForestClassifier.html). To create balanced classes, we use random oversampler, which replicates samples from the minority classes till they are equal to the majority."
      ]
    },
    {
      "cell_type": "code",
      "metadata": {
        "id": "sNexJd-UHmhO",
        "colab_type": "code",
        "colab": {}
      },
      "source": [
        "# from google.colab import drive\n",
        "# drive.mount('/content/drive')"
      ],
      "execution_count": 15,
      "outputs": []
    },
    {
      "cell_type": "code",
      "metadata": {
        "cell_id": "00002-2d92b0f4-8dec-48a7-a01d-b9d3964fbace",
        "id": "K6PGqRDJqQ3E",
        "colab_type": "code",
        "colab": {
          "base_uri": "https://localhost:8080/",
          "height": 105
        },
        "outputId": "c5a60937-4dcc-4671-a64e-c450759caed3"
      },
      "source": [
        "import numpy as np\n",
        "import pandas as pd\n",
        "import sklearn\n",
        "from sklearn import datasets\n",
        "from sklearn import metrics\n",
        "from collections import Counter\n",
        "\n",
        "from sklearn.model_selection import (StratifiedKFold, cross_val_score, GridSearchCV, train_test_split)\n",
        "from sklearn.metrics import classification_report\n",
        "\n",
        "from sklearn.linear_model import LogisticRegression\n",
        "from sklearn.neighbors import KNeighborsClassifier\n",
        "from sklearn.tree import DecisionTreeClassifier\n",
        "from sklearn.ensemble import RandomForestClassifier\n",
        "\n",
        "import imblearn\n",
        "from imblearn.over_sampling import RandomOverSampler"
      ],
      "execution_count": null,
      "outputs": [
        {
          "output_type": "stream",
          "text": [
            "/usr/local/lib/python3.6/dist-packages/sklearn/externals/six.py:31: FutureWarning: The module is deprecated in version 0.21 and will be removed in version 0.23 since we've dropped support for Python 2.7. Please rely on the official version of six (https://pypi.org/project/six/).\n",
            "  \"(https://pypi.org/project/six/).\", FutureWarning)\n",
            "/usr/local/lib/python3.6/dist-packages/sklearn/utils/deprecation.py:144: FutureWarning: The sklearn.neighbors.base module is  deprecated in version 0.22 and will be removed in version 0.24. The corresponding classes / functions should instead be imported from sklearn.neighbors. Anything that cannot be imported from sklearn.neighbors is now part of the private API.\n",
            "  warnings.warn(message, FutureWarning)\n"
          ],
          "name": "stderr"
        }
      ]
    },
    {
      "cell_type": "code",
      "metadata": {
        "cell_id": "00003-daf49be7-4885-4bc5-8739-3a75dbb32f10",
        "id": "3RRH1-knqQ3J",
        "colab_type": "code",
        "colab": {}
      },
      "source": [
        "np.random.seed(42)"
      ],
      "execution_count": null,
      "outputs": []
    },
    {
      "cell_type": "code",
      "metadata": {
        "cell_id": "00004-0bb2de09-de86-44b7-beac-b5cf2be01c04",
        "id": "yQ6a_vdrqQ3M",
        "colab_type": "code",
        "colab": {}
      },
      "source": [
        "# import data\n",
        "data = pd.read_csv('/content/drive/My Drive/Colab Notebooks/tree_ml.csv', index_col=0)\n",
        "\n",
        "tree = data.copy()"
      ],
      "execution_count": null,
      "outputs": []
    },
    {
      "cell_type": "code",
      "metadata": {
        "cell_id": "00005-4c85b2cb-e7fe-46b5-bfef-123f5dd98a81",
        "id": "H67xW3ITqQ3P",
        "colab_type": "code",
        "colab": {
          "base_uri": "https://localhost:8080/",
          "height": 241
        },
        "outputId": "1156efea-0880-499b-d255-0f7a2dc2a951"
      },
      "source": [
        "tree.head()"
      ],
      "execution_count": null,
      "outputs": [
        {
          "output_type": "execute_result",
          "data": {
            "text/html": [
              "<div>\n",
              "<style scoped>\n",
              "    .dataframe tbody tr th:only-of-type {\n",
              "        vertical-align: middle;\n",
              "    }\n",
              "\n",
              "    .dataframe tbody tr th {\n",
              "        vertical-align: top;\n",
              "    }\n",
              "\n",
              "    .dataframe thead th {\n",
              "        text-align: right;\n",
              "    }\n",
              "</style>\n",
              "<table border=\"1\" class=\"dataframe\">\n",
              "  <thead>\n",
              "    <tr style=\"text-align: right;\">\n",
              "      <th></th>\n",
              "      <th>tree_dbh</th>\n",
              "      <th>curb_loc</th>\n",
              "      <th>health</th>\n",
              "      <th>sidewalk</th>\n",
              "      <th>root_stone</th>\n",
              "      <th>root_grate</th>\n",
              "      <th>root_other</th>\n",
              "      <th>trunk_wire</th>\n",
              "      <th>trnk_light</th>\n",
              "      <th>trnk_other</th>\n",
              "      <th>brch_light</th>\n",
              "      <th>brch_shoe</th>\n",
              "      <th>brch_other</th>\n",
              "      <th>longitude</th>\n",
              "      <th>latitude</th>\n",
              "      <th>num_problems</th>\n",
              "      <th>1or2</th>\n",
              "      <th>3or4</th>\n",
              "      <th>4orMore</th>\n",
              "      <th>Stew_N</th>\n",
              "      <th>Guard_N</th>\n",
              "      <th>Harmful</th>\n",
              "      <th>Helpful</th>\n",
              "      <th>Unsure</th>\n",
              "      <th>Bronx</th>\n",
              "      <th>Brooklyn</th>\n",
              "      <th>Manhattan</th>\n",
              "      <th>Queens</th>\n",
              "      <th>Staten Island</th>\n",
              "    </tr>\n",
              "  </thead>\n",
              "  <tbody>\n",
              "    <tr>\n",
              "      <th>0</th>\n",
              "      <td>3</td>\n",
              "      <td>1</td>\n",
              "      <td>Fair</td>\n",
              "      <td>0</td>\n",
              "      <td>0</td>\n",
              "      <td>0</td>\n",
              "      <td>0</td>\n",
              "      <td>0</td>\n",
              "      <td>0</td>\n",
              "      <td>0</td>\n",
              "      <td>0</td>\n",
              "      <td>0</td>\n",
              "      <td>0</td>\n",
              "      <td>-73.844215</td>\n",
              "      <td>40.723092</td>\n",
              "      <td>0</td>\n",
              "      <td>0</td>\n",
              "      <td>0</td>\n",
              "      <td>0</td>\n",
              "      <td>1</td>\n",
              "      <td>1</td>\n",
              "      <td>0</td>\n",
              "      <td>0</td>\n",
              "      <td>0</td>\n",
              "      <td>0</td>\n",
              "      <td>0</td>\n",
              "      <td>0</td>\n",
              "      <td>1</td>\n",
              "      <td>0</td>\n",
              "    </tr>\n",
              "    <tr>\n",
              "      <th>1</th>\n",
              "      <td>21</td>\n",
              "      <td>1</td>\n",
              "      <td>Fair</td>\n",
              "      <td>1</td>\n",
              "      <td>1</td>\n",
              "      <td>0</td>\n",
              "      <td>0</td>\n",
              "      <td>0</td>\n",
              "      <td>0</td>\n",
              "      <td>0</td>\n",
              "      <td>0</td>\n",
              "      <td>0</td>\n",
              "      <td>0</td>\n",
              "      <td>-73.818679</td>\n",
              "      <td>40.794111</td>\n",
              "      <td>1</td>\n",
              "      <td>0</td>\n",
              "      <td>0</td>\n",
              "      <td>0</td>\n",
              "      <td>1</td>\n",
              "      <td>1</td>\n",
              "      <td>0</td>\n",
              "      <td>0</td>\n",
              "      <td>0</td>\n",
              "      <td>0</td>\n",
              "      <td>0</td>\n",
              "      <td>0</td>\n",
              "      <td>1</td>\n",
              "      <td>0</td>\n",
              "    </tr>\n",
              "    <tr>\n",
              "      <th>2</th>\n",
              "      <td>3</td>\n",
              "      <td>1</td>\n",
              "      <td>Good</td>\n",
              "      <td>1</td>\n",
              "      <td>0</td>\n",
              "      <td>0</td>\n",
              "      <td>0</td>\n",
              "      <td>0</td>\n",
              "      <td>0</td>\n",
              "      <td>0</td>\n",
              "      <td>0</td>\n",
              "      <td>0</td>\n",
              "      <td>0</td>\n",
              "      <td>-73.936608</td>\n",
              "      <td>40.717581</td>\n",
              "      <td>0</td>\n",
              "      <td>1</td>\n",
              "      <td>0</td>\n",
              "      <td>0</td>\n",
              "      <td>0</td>\n",
              "      <td>1</td>\n",
              "      <td>0</td>\n",
              "      <td>0</td>\n",
              "      <td>0</td>\n",
              "      <td>0</td>\n",
              "      <td>1</td>\n",
              "      <td>0</td>\n",
              "      <td>0</td>\n",
              "      <td>0</td>\n",
              "    </tr>\n",
              "    <tr>\n",
              "      <th>3</th>\n",
              "      <td>10</td>\n",
              "      <td>1</td>\n",
              "      <td>Good</td>\n",
              "      <td>1</td>\n",
              "      <td>1</td>\n",
              "      <td>0</td>\n",
              "      <td>0</td>\n",
              "      <td>0</td>\n",
              "      <td>0</td>\n",
              "      <td>0</td>\n",
              "      <td>0</td>\n",
              "      <td>0</td>\n",
              "      <td>0</td>\n",
              "      <td>-73.934456</td>\n",
              "      <td>40.713537</td>\n",
              "      <td>1</td>\n",
              "      <td>0</td>\n",
              "      <td>0</td>\n",
              "      <td>0</td>\n",
              "      <td>1</td>\n",
              "      <td>1</td>\n",
              "      <td>0</td>\n",
              "      <td>0</td>\n",
              "      <td>0</td>\n",
              "      <td>0</td>\n",
              "      <td>1</td>\n",
              "      <td>0</td>\n",
              "      <td>0</td>\n",
              "      <td>0</td>\n",
              "    </tr>\n",
              "    <tr>\n",
              "      <th>4</th>\n",
              "      <td>21</td>\n",
              "      <td>1</td>\n",
              "      <td>Good</td>\n",
              "      <td>1</td>\n",
              "      <td>1</td>\n",
              "      <td>0</td>\n",
              "      <td>0</td>\n",
              "      <td>0</td>\n",
              "      <td>0</td>\n",
              "      <td>0</td>\n",
              "      <td>0</td>\n",
              "      <td>0</td>\n",
              "      <td>0</td>\n",
              "      <td>-73.975979</td>\n",
              "      <td>40.666778</td>\n",
              "      <td>1</td>\n",
              "      <td>0</td>\n",
              "      <td>0</td>\n",
              "      <td>0</td>\n",
              "      <td>1</td>\n",
              "      <td>1</td>\n",
              "      <td>0</td>\n",
              "      <td>0</td>\n",
              "      <td>0</td>\n",
              "      <td>0</td>\n",
              "      <td>1</td>\n",
              "      <td>0</td>\n",
              "      <td>0</td>\n",
              "      <td>0</td>\n",
              "    </tr>\n",
              "  </tbody>\n",
              "</table>\n",
              "</div>"
            ],
            "text/plain": [
              "   tree_dbh  curb_loc health  ...  Manhattan  Queens  Staten Island\n",
              "0         3         1   Fair  ...          0       1              0\n",
              "1        21         1   Fair  ...          0       1              0\n",
              "2         3         1   Good  ...          0       0              0\n",
              "3        10         1   Good  ...          0       0              0\n",
              "4        21         1   Good  ...          0       0              0\n",
              "\n",
              "[5 rows x 29 columns]"
            ]
          },
          "metadata": {
            "tags": []
          },
          "execution_count": 5
        }
      ]
    },
    {
      "cell_type": "code",
      "metadata": {
        "cell_id": "00006-c00229fa-aec2-4bf5-ad53-059be2c70891",
        "id": "QRfeijNUqQ3U",
        "colab_type": "code",
        "colab": {
          "base_uri": "https://localhost:8080/",
          "height": 34
        },
        "outputId": "2d5ad53b-c5e5-4266-9cc7-a351a5ee597d"
      },
      "source": [
        "tree.shape"
      ],
      "execution_count": null,
      "outputs": [
        {
          "output_type": "execute_result",
          "data": {
            "text/plain": [
              "(651535, 29)"
            ]
          },
          "metadata": {
            "tags": []
          },
          "execution_count": 6
        }
      ]
    },
    {
      "cell_type": "markdown",
      "metadata": {
        "cell_id": "00007-4f858412-b699-484a-b1b8-369dea0d5819",
        "id": "xDjuXrE0qQ3X",
        "colab_type": "text"
      },
      "source": [
        "# Modeling"
      ]
    },
    {
      "cell_type": "code",
      "metadata": {
        "cell_id": "00009-8b82c2e4-cce4-49be-b2f6-41960b0226f4",
        "id": "UX_54ViuqQ3Y",
        "colab_type": "code",
        "colab": {
          "base_uri": "https://localhost:8080/",
          "height": 51
        },
        "outputId": "598e6b2d-1305-473e-87ce-f12a10644975"
      },
      "source": [
        "X = tree.drop('health', axis=1)\n",
        "y = tree['health']\n",
        "\n",
        "X_train, X_test, y_train, y_test = train_test_split(X, y, test_size=0.3, random_state=42, stratify=y)\n",
        "\n",
        "print(X_train.shape, y_train.shape)\n",
        "print(X_test.shape, y_test.shape)"
      ],
      "execution_count": null,
      "outputs": [
        {
          "output_type": "stream",
          "text": [
            "(456074, 28) (456074,)\n",
            "(195461, 28) (195461,)\n"
          ],
          "name": "stdout"
        }
      ]
    },
    {
      "cell_type": "markdown",
      "metadata": {
        "id": "NUm5cw_fslI5",
        "colab_type": "text"
      },
      "source": [
        "## Random Over Sampler"
      ]
    },
    {
      "cell_type": "code",
      "metadata": {
        "id": "7Oc0hLFnsjSM",
        "colab_type": "code",
        "colab": {
          "base_uri": "https://localhost:8080/",
          "height": 122
        },
        "outputId": "0b1767a0-7de8-4ef2-951c-5e3906749411"
      },
      "source": [
        "rs = RandomOverSampler(random_state=42)\n",
        "X_rs, y_rs = rs.fit_resample(X, y)\n",
        "\n",
        "print('Resampled dataset:', Counter(y_rs))\n",
        "\n",
        "X_train_rs, X_test_rs, y_train_rs, y_test_rs = train_test_split(X_rs, y_rs, test_size=0.25, random_state=42)\n",
        "\n",
        "print(X_train_rs.shape, y_train_rs.shape)\n",
        "print(X_test_rs.shape, y_test_rs.shape)"
      ],
      "execution_count": null,
      "outputs": [
        {
          "output_type": "stream",
          "text": [
            "/usr/local/lib/python3.6/dist-packages/sklearn/utils/deprecation.py:87: FutureWarning: Function safe_indexing is deprecated; safe_indexing is deprecated in version 0.22 and will be removed in version 0.24.\n",
            "  warnings.warn(msg, category=FutureWarning)\n"
          ],
          "name": "stderr"
        },
        {
          "output_type": "stream",
          "text": [
            "Resampled dataset: Counter({'Fair': 528327, 'Good': 528327, 'Poor': 528327})\n",
            "(1188735, 28) (1188735,)\n",
            "(396246, 28) (396246,)\n"
          ],
          "name": "stdout"
        }
      ]
    },
    {
      "cell_type": "markdown",
      "metadata": {
        "cell_id": "00010-0f847591-c48a-41eb-a7b7-62a91093ec7c",
        "id": "LecCPJ73qQ3f",
        "colab_type": "text"
      },
      "source": [
        "### Logistic Regression"
      ]
    },
    {
      "cell_type": "code",
      "metadata": {
        "scrolled": false,
        "cell_id": "00011-3311b2bf-539a-43d3-beb5-1ba770ad252b",
        "id": "kxRMTM92qQ3g",
        "colab_type": "code",
        "colab": {
          "base_uri": "https://localhost:8080/",
          "height": 411
        },
        "outputId": "b4f4a3cc-0025-479a-ed94-5c2a44738e5b"
      },
      "source": [
        "logreg = LogisticRegression(random_state=42)\n",
        "logreg.fit(X_train_rs, y_train_rs)\n",
        "logreg_pred = logreg.predict(X_test_rs)\n",
        "\n",
        "# accuracy scores\n",
        "print('Accuracy Score, Training Set: ', logreg.score(X_train_rs, y_train_rs))\n",
        "print('Accuracy Score, Test Set: ', logreg.score(X_test_rs, y_test_rs))\n",
        "\n",
        "# classification report\n",
        "print('Classification Report \\n')\n",
        "print(classification_report(y_test_rs, logreg_pred))"
      ],
      "execution_count": null,
      "outputs": [
        {
          "output_type": "stream",
          "text": [
            "/usr/local/lib/python3.6/dist-packages/sklearn/linear_model/_logistic.py:940: ConvergenceWarning: lbfgs failed to converge (status=1):\n",
            "STOP: TOTAL NO. of ITERATIONS REACHED LIMIT.\n",
            "\n",
            "Increase the number of iterations (max_iter) or scale the data as shown in:\n",
            "    https://scikit-learn.org/stable/modules/preprocessing.html\n",
            "Please also refer to the documentation for alternative solver options:\n",
            "    https://scikit-learn.org/stable/modules/linear_model.html#logistic-regression\n",
            "  extra_warning_msg=_LOGISTIC_SOLVER_CONVERGENCE_MSG)\n"
          ],
          "name": "stderr"
        },
        {
          "output_type": "stream",
          "text": [
            "Accuracy Score, Training Set:  0.4163938977147977\n",
            "Accuracy Score, Test Set:  0.41573668882461906\n",
            "Classification Report \n",
            "\n",
            "              precision    recall  f1-score   support\n",
            "\n",
            "        Fair       0.39      0.17      0.24    132500\n",
            "        Good       0.41      0.55      0.47    131527\n",
            "        Poor       0.43      0.53      0.47    132219\n",
            "\n",
            "    accuracy                           0.42    396246\n",
            "   macro avg       0.41      0.42      0.39    396246\n",
            "weighted avg       0.41      0.42      0.39    396246\n",
            "\n"
          ],
          "name": "stdout"
        }
      ]
    },
    {
      "cell_type": "markdown",
      "metadata": {
        "cell_id": "00012-6d772560-f507-45c2-ba9d-40c0c56b6921",
        "id": "FeXvW9u-qQ3j",
        "colab_type": "text"
      },
      "source": [
        "## KNN Classifier"
      ]
    },
    {
      "cell_type": "code",
      "metadata": {
        "cell_id": "00014-960209d6-40bc-49bf-87d8-526205350508",
        "id": "pgaAme7RqQ3k",
        "colab_type": "code",
        "colab": {
          "base_uri": "https://localhost:8080/",
          "height": 85
        },
        "outputId": "ce6c5757-6739-4665-e2f9-2747b2ea4c7d"
      },
      "source": [
        "# GridSearch - this takes a while to run\n",
        "knn = KNeighborsClassifier()\n",
        "parameters = {'n_neighbors': [10, 15]}\n",
        "\n",
        "clf = GridSearchCV(knn, parameters, cv=5, verbose=1, n_jobs=-1)\n",
        "clf.fit(X_rs, y_rs).best_params_"
      ],
      "execution_count": null,
      "outputs": [
        {
          "output_type": "stream",
          "text": [
            "Fitting 5 folds for each of 2 candidates, totalling 10 fits\n"
          ],
          "name": "stdout"
        },
        {
          "output_type": "stream",
          "text": [
            "[Parallel(n_jobs=-1)]: Using backend LokyBackend with 2 concurrent workers.\n",
            "[Parallel(n_jobs=-1)]: Done  10 out of  10 | elapsed: 219.6min finished\n"
          ],
          "name": "stderr"
        },
        {
          "output_type": "execute_result",
          "data": {
            "text/plain": [
              "{'n_neighbors': 10}"
            ]
          },
          "metadata": {
            "tags": []
          },
          "execution_count": 10
        }
      ]
    },
    {
      "cell_type": "code",
      "metadata": {
        "cell_id": "00015-766ad28d-126a-4235-8ce1-b55010d2e81f",
        "id": "9oBUlxvpqQ3n",
        "colab_type": "code",
        "colab": {
          "base_uri": "https://localhost:8080/",
          "height": 255
        },
        "outputId": "3394f509-5723-4b3b-99df-c055b5d8e702"
      },
      "source": [
        "knn = KNeighborsClassifier(n_neighbors=10)\n",
        "knn.fit(X_train_rs, y_train_rs)\n",
        "knn_pred = knn.predict(X_test_rs)\n",
        "\n",
        "# accuracy scoring\n",
        "print('Accuracy Score, Training Set: ', knn.score(X_train_rs, y_train_rs))\n",
        "print('Accuracy Score, Test Set: ', knn.score(X_test_rs, y_test_rs))\n",
        "\n",
        "# classification report\n",
        "print('Classification Report \\n\\n {}'.format(classification_report(y_test_rs, knn_pred)))"
      ],
      "execution_count": null,
      "outputs": [
        {
          "output_type": "stream",
          "text": [
            "Accuracy Score, Training Set:  0.8079832763399748\n",
            "Accuracy Score, Test Set:  0.759207663925945\n",
            "Classification Report \n",
            "\n",
            "               precision    recall  f1-score   support\n",
            "\n",
            "        Fair       0.68      0.77      0.72    132500\n",
            "        Good       0.78      0.51      0.62    131527\n",
            "        Poor       0.82      1.00      0.90    132219\n",
            "\n",
            "    accuracy                           0.76    396246\n",
            "   macro avg       0.76      0.76      0.75    396246\n",
            "weighted avg       0.76      0.76      0.75    396246\n",
            "\n"
          ],
          "name": "stdout"
        }
      ]
    },
    {
      "cell_type": "markdown",
      "metadata": {
        "cell_id": "00016-934fccce-596b-46f3-9bb4-2be5aa382b08",
        "id": "N5Cjhd8-qQ3r",
        "colab_type": "text"
      },
      "source": [
        "## Decision Tree Classifier"
      ]
    },
    {
      "cell_type": "code",
      "metadata": {
        "cell_id": "00017-e74f7359-08a6-4ffb-89eb-fb32a2946638",
        "id": "lK-LTmbSqQ3r",
        "colab_type": "code",
        "colab": {
          "base_uri": "https://localhost:8080/",
          "height": 255
        },
        "outputId": "911ff57f-c8d7-41d3-8d6b-c02427940e4a"
      },
      "source": [
        "decision_tree = DecisionTreeClassifier(random_state=42)\n",
        "decision_tree.fit(X_train_rs, y_train_rs)\n",
        "decision_tree_pred = decision_tree.predict(X_test_rs)\n",
        "\n",
        "# accuracy scores\n",
        "print('Accuracy Score, Training Set:', decision_tree.score(X_train_rs, y_train_rs))\n",
        "print('Accuracy Score, Test Set:', decision_tree.score(X_test_rs, y_test_rs))\n",
        "\n",
        "# classification report\n",
        "print('Classification Report \\n\\n {}'.format(classification_report(y_test_rs, decision_tree_pred)))"
      ],
      "execution_count": null,
      "outputs": [
        {
          "output_type": "stream",
          "text": [
            "Accuracy Score, Training Set: 0.9999882227746302\n",
            "Accuracy Score, Test Set: 0.9386214624248573\n",
            "Classification Report \n",
            "\n",
            "               precision    recall  f1-score   support\n",
            "\n",
            "        Fair       0.88      0.99      0.93    132500\n",
            "        Good       0.99      0.82      0.90    131527\n",
            "        Poor       0.97      1.00      0.98    132219\n",
            "\n",
            "    accuracy                           0.94    396246\n",
            "   macro avg       0.94      0.94      0.94    396246\n",
            "weighted avg       0.94      0.94      0.94    396246\n",
            "\n"
          ],
          "name": "stdout"
        }
      ]
    },
    {
      "cell_type": "markdown",
      "metadata": {
        "cell_id": "00018-2a9670d3-a4c2-46ea-be88-84b9044e9567",
        "id": "C9LsUp1AqQ3w",
        "colab_type": "text"
      },
      "source": [
        "## Random Forest Classifier"
      ]
    },
    {
      "cell_type": "code",
      "metadata": {
        "cell_id": "00019-15ebb411-e04a-49d8-b40f-7c636b50a6a4",
        "id": "S80mLof-qQ3w",
        "colab_type": "code",
        "colab": {
          "base_uri": "https://localhost:8080/",
          "height": 255
        },
        "outputId": "c3bf17ff-2fcf-44cb-c796-2fcfd132b99a"
      },
      "source": [
        "forest = RandomForestClassifier(random_state=42)\n",
        "forest.fit(X_train_rs, y_train_rs)\n",
        "y_pred = forest.predict(X_test_rs)\n",
        "\n",
        "# accuracy scores\n",
        "print('Accuracy Score, Training Set:', forest.score(X_train_rs, y_train_rs))\n",
        "print('Accuracy Score, Test Set:', forest.score(X_test_rs, y_test_rs))\n",
        "\n",
        "# classification report\n",
        "print('Classification Report \\n\\n {}'.format(classification_report(y_test_rs, y_pred)))"
      ],
      "execution_count": null,
      "outputs": [
        {
          "output_type": "stream",
          "text": [
            "Accuracy Score, Training Set: 0.9999747630884932\n",
            "Accuracy Score, Test Set: 0.9533597815498454\n",
            "Classification Report \n",
            "\n",
            "               precision    recall  f1-score   support\n",
            "\n",
            "        Fair       0.90      0.99      0.94    132500\n",
            "        Good       0.99      0.87      0.93    131527\n",
            "        Poor       0.98      1.00      0.99    132219\n",
            "\n",
            "    accuracy                           0.95    396246\n",
            "   macro avg       0.96      0.95      0.95    396246\n",
            "weighted avg       0.96      0.95      0.95    396246\n",
            "\n"
          ],
          "name": "stdout"
        }
      ]
    },
    {
      "cell_type": "code",
      "metadata": {
        "cell_id": "00034-0f08bd86-a13c-4e15-b533-f3c20281fa5e",
        "id": "UNk1pYc6qQ4J",
        "colab_type": "code",
        "colab": {
          "base_uri": "https://localhost:8080/",
          "height": 51
        },
        "outputId": "f8ecc1bd-5ab4-4d38-aba6-9e0808b190f1"
      },
      "source": [
        "# stratified KFold\n",
        "kf = StratifiedKFold(5, shuffle=True, random_state=42)\n",
        "\n",
        "# cross validation\n",
        "forest_score = cross_val_score(forest, X_rs, y_rs, cv=kf)\n",
        "\n",
        "print('Scores: ', forest_score)\n",
        "print(\"Average 5-Fold Scores: {}\".format(np.mean(forest_score)))"
      ],
      "execution_count": null,
      "outputs": [
        {
          "output_type": "stream",
          "text": [
            "Scores:  [0.9566305  0.95656412 0.95652311 0.95593635 0.95709725]\n",
            "Average 5-Fold Scores: 0.9565502677443852\n"
          ],
          "name": "stdout"
        }
      ]
    },
    {
      "cell_type": "code",
      "metadata": {
        "id": "khQivjexJfwg",
        "colab_type": "code",
        "colab": {}
      },
      "source": [
        ""
      ],
      "execution_count": null,
      "outputs": []
    }
  ]
}